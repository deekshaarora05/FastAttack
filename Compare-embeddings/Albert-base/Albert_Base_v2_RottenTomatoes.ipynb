{
  "nbformat": 4,
  "nbformat_minor": 0,
  "metadata": {
    "colab": {
      "name": "albert_base_v2_rottenTomatoes.ipynb",
      "provenance": [],
      "collapsed_sections": []
    },
    "kernelspec": {
      "name": "python3",
      "display_name": "Python 3"
    },
    "language_info": {
      "name": "python"
    },
    "accelerator": "GPU",
    "widgets": {
      "application/vnd.jupyter.widget-state+json": {
        "49652d840bfe4f728d1824141ed2b517": {
          "model_module": "@jupyter-widgets/controls",
          "model_name": "HBoxModel",
          "state": {
            "_view_name": "HBoxView",
            "_dom_classes": [],
            "_model_name": "HBoxModel",
            "_view_module": "@jupyter-widgets/controls",
            "_model_module_version": "1.5.0",
            "_view_count": null,
            "_view_module_version": "1.5.0",
            "box_style": "",
            "layout": "IPY_MODEL_9fd58fd85a294480a76690d33d285273",
            "_model_module": "@jupyter-widgets/controls",
            "children": [
              "IPY_MODEL_753df723a91545fa9f01e2ceedc12dee",
              "IPY_MODEL_1d9eb1f003f14d308d9916a945aec15b"
            ]
          }
        },
        "9fd58fd85a294480a76690d33d285273": {
          "model_module": "@jupyter-widgets/base",
          "model_name": "LayoutModel",
          "state": {
            "_view_name": "LayoutView",
            "grid_template_rows": null,
            "right": null,
            "justify_content": null,
            "_view_module": "@jupyter-widgets/base",
            "overflow": null,
            "_model_module_version": "1.2.0",
            "_view_count": null,
            "flex_flow": null,
            "width": null,
            "min_width": null,
            "border": null,
            "align_items": null,
            "bottom": null,
            "_model_module": "@jupyter-widgets/base",
            "top": null,
            "grid_column": null,
            "overflow_y": null,
            "overflow_x": null,
            "grid_auto_flow": null,
            "grid_area": null,
            "grid_template_columns": null,
            "flex": null,
            "_model_name": "LayoutModel",
            "justify_items": null,
            "grid_row": null,
            "max_height": null,
            "align_content": null,
            "visibility": null,
            "align_self": null,
            "height": null,
            "min_height": null,
            "padding": null,
            "grid_auto_rows": null,
            "grid_gap": null,
            "max_width": null,
            "order": null,
            "_view_module_version": "1.2.0",
            "grid_template_areas": null,
            "object_position": null,
            "object_fit": null,
            "grid_auto_columns": null,
            "margin": null,
            "display": null,
            "left": null
          }
        },
        "753df723a91545fa9f01e2ceedc12dee": {
          "model_module": "@jupyter-widgets/controls",
          "model_name": "FloatProgressModel",
          "state": {
            "_view_name": "ProgressView",
            "style": "IPY_MODEL_af32e10a0d474633aa26b89de481d6ad",
            "_dom_classes": [],
            "description": "Downloading: 100%",
            "_model_name": "FloatProgressModel",
            "bar_style": "success",
            "max": 738,
            "_view_module": "@jupyter-widgets/controls",
            "_model_module_version": "1.5.0",
            "value": 738,
            "_view_count": null,
            "_view_module_version": "1.5.0",
            "orientation": "horizontal",
            "min": 0,
            "description_tooltip": null,
            "_model_module": "@jupyter-widgets/controls",
            "layout": "IPY_MODEL_ae9082177e5a4b8b9e5c958ded4ba769"
          }
        },
        "1d9eb1f003f14d308d9916a945aec15b": {
          "model_module": "@jupyter-widgets/controls",
          "model_name": "HTMLModel",
          "state": {
            "_view_name": "HTMLView",
            "style": "IPY_MODEL_c98f7e14c2e74a199af6541c6a437e9a",
            "_dom_classes": [],
            "description": "",
            "_model_name": "HTMLModel",
            "placeholder": "​",
            "_view_module": "@jupyter-widgets/controls",
            "_model_module_version": "1.5.0",
            "value": " 738/738 [00:02&lt;00:00, 341B/s]",
            "_view_count": null,
            "_view_module_version": "1.5.0",
            "description_tooltip": null,
            "_model_module": "@jupyter-widgets/controls",
            "layout": "IPY_MODEL_b4230f004c6c4605982065fbe7d0c9b1"
          }
        },
        "af32e10a0d474633aa26b89de481d6ad": {
          "model_module": "@jupyter-widgets/controls",
          "model_name": "ProgressStyleModel",
          "state": {
            "_view_name": "StyleView",
            "_model_name": "ProgressStyleModel",
            "description_width": "initial",
            "_view_module": "@jupyter-widgets/base",
            "_model_module_version": "1.5.0",
            "_view_count": null,
            "_view_module_version": "1.2.0",
            "bar_color": null,
            "_model_module": "@jupyter-widgets/controls"
          }
        },
        "ae9082177e5a4b8b9e5c958ded4ba769": {
          "model_module": "@jupyter-widgets/base",
          "model_name": "LayoutModel",
          "state": {
            "_view_name": "LayoutView",
            "grid_template_rows": null,
            "right": null,
            "justify_content": null,
            "_view_module": "@jupyter-widgets/base",
            "overflow": null,
            "_model_module_version": "1.2.0",
            "_view_count": null,
            "flex_flow": null,
            "width": null,
            "min_width": null,
            "border": null,
            "align_items": null,
            "bottom": null,
            "_model_module": "@jupyter-widgets/base",
            "top": null,
            "grid_column": null,
            "overflow_y": null,
            "overflow_x": null,
            "grid_auto_flow": null,
            "grid_area": null,
            "grid_template_columns": null,
            "flex": null,
            "_model_name": "LayoutModel",
            "justify_items": null,
            "grid_row": null,
            "max_height": null,
            "align_content": null,
            "visibility": null,
            "align_self": null,
            "height": null,
            "min_height": null,
            "padding": null,
            "grid_auto_rows": null,
            "grid_gap": null,
            "max_width": null,
            "order": null,
            "_view_module_version": "1.2.0",
            "grid_template_areas": null,
            "object_position": null,
            "object_fit": null,
            "grid_auto_columns": null,
            "margin": null,
            "display": null,
            "left": null
          }
        },
        "c98f7e14c2e74a199af6541c6a437e9a": {
          "model_module": "@jupyter-widgets/controls",
          "model_name": "DescriptionStyleModel",
          "state": {
            "_view_name": "StyleView",
            "_model_name": "DescriptionStyleModel",
            "description_width": "",
            "_view_module": "@jupyter-widgets/base",
            "_model_module_version": "1.5.0",
            "_view_count": null,
            "_view_module_version": "1.2.0",
            "_model_module": "@jupyter-widgets/controls"
          }
        },
        "b4230f004c6c4605982065fbe7d0c9b1": {
          "model_module": "@jupyter-widgets/base",
          "model_name": "LayoutModel",
          "state": {
            "_view_name": "LayoutView",
            "grid_template_rows": null,
            "right": null,
            "justify_content": null,
            "_view_module": "@jupyter-widgets/base",
            "overflow": null,
            "_model_module_version": "1.2.0",
            "_view_count": null,
            "flex_flow": null,
            "width": null,
            "min_width": null,
            "border": null,
            "align_items": null,
            "bottom": null,
            "_model_module": "@jupyter-widgets/base",
            "top": null,
            "grid_column": null,
            "overflow_y": null,
            "overflow_x": null,
            "grid_auto_flow": null,
            "grid_area": null,
            "grid_template_columns": null,
            "flex": null,
            "_model_name": "LayoutModel",
            "justify_items": null,
            "grid_row": null,
            "max_height": null,
            "align_content": null,
            "visibility": null,
            "align_self": null,
            "height": null,
            "min_height": null,
            "padding": null,
            "grid_auto_rows": null,
            "grid_gap": null,
            "max_width": null,
            "order": null,
            "_view_module_version": "1.2.0",
            "grid_template_areas": null,
            "object_position": null,
            "object_fit": null,
            "grid_auto_columns": null,
            "margin": null,
            "display": null,
            "left": null
          }
        },
        "085ee9801f4e451e817be28356e06bc1": {
          "model_module": "@jupyter-widgets/controls",
          "model_name": "HBoxModel",
          "state": {
            "_view_name": "HBoxView",
            "_dom_classes": [],
            "_model_name": "HBoxModel",
            "_view_module": "@jupyter-widgets/controls",
            "_model_module_version": "1.5.0",
            "_view_count": null,
            "_view_module_version": "1.5.0",
            "box_style": "",
            "layout": "IPY_MODEL_7e874ec3e96a449096203c6b8416f095",
            "_model_module": "@jupyter-widgets/controls",
            "children": [
              "IPY_MODEL_fd2eb74c60564ca784c36b0ef24301c8",
              "IPY_MODEL_478a500f607d4759a784a40645ec5b74"
            ]
          }
        },
        "7e874ec3e96a449096203c6b8416f095": {
          "model_module": "@jupyter-widgets/base",
          "model_name": "LayoutModel",
          "state": {
            "_view_name": "LayoutView",
            "grid_template_rows": null,
            "right": null,
            "justify_content": null,
            "_view_module": "@jupyter-widgets/base",
            "overflow": null,
            "_model_module_version": "1.2.0",
            "_view_count": null,
            "flex_flow": null,
            "width": null,
            "min_width": null,
            "border": null,
            "align_items": null,
            "bottom": null,
            "_model_module": "@jupyter-widgets/base",
            "top": null,
            "grid_column": null,
            "overflow_y": null,
            "overflow_x": null,
            "grid_auto_flow": null,
            "grid_area": null,
            "grid_template_columns": null,
            "flex": null,
            "_model_name": "LayoutModel",
            "justify_items": null,
            "grid_row": null,
            "max_height": null,
            "align_content": null,
            "visibility": null,
            "align_self": null,
            "height": null,
            "min_height": null,
            "padding": null,
            "grid_auto_rows": null,
            "grid_gap": null,
            "max_width": null,
            "order": null,
            "_view_module_version": "1.2.0",
            "grid_template_areas": null,
            "object_position": null,
            "object_fit": null,
            "grid_auto_columns": null,
            "margin": null,
            "display": null,
            "left": null
          }
        },
        "fd2eb74c60564ca784c36b0ef24301c8": {
          "model_module": "@jupyter-widgets/controls",
          "model_name": "FloatProgressModel",
          "state": {
            "_view_name": "ProgressView",
            "style": "IPY_MODEL_1c368e07580147fcaf85a2e437848686",
            "_dom_classes": [],
            "description": "Downloading: 100%",
            "_model_name": "FloatProgressModel",
            "bar_style": "success",
            "max": 46747112,
            "_view_module": "@jupyter-widgets/controls",
            "_model_module_version": "1.5.0",
            "value": 46747112,
            "_view_count": null,
            "_view_module_version": "1.5.0",
            "orientation": "horizontal",
            "min": 0,
            "description_tooltip": null,
            "_model_module": "@jupyter-widgets/controls",
            "layout": "IPY_MODEL_384c74bffd4a4c1cba7f6a1cc233daa8"
          }
        },
        "478a500f607d4759a784a40645ec5b74": {
          "model_module": "@jupyter-widgets/controls",
          "model_name": "HTMLModel",
          "state": {
            "_view_name": "HTMLView",
            "style": "IPY_MODEL_dfa44a0eebf74286b041b30975708bac",
            "_dom_classes": [],
            "description": "",
            "_model_name": "HTMLModel",
            "placeholder": "​",
            "_view_module": "@jupyter-widgets/controls",
            "_model_module_version": "1.5.0",
            "value": " 46.7M/46.7M [00:01&lt;00:00, 43.2MB/s]",
            "_view_count": null,
            "_view_module_version": "1.5.0",
            "description_tooltip": null,
            "_model_module": "@jupyter-widgets/controls",
            "layout": "IPY_MODEL_c53a103f173148e29649abdc837c86de"
          }
        },
        "1c368e07580147fcaf85a2e437848686": {
          "model_module": "@jupyter-widgets/controls",
          "model_name": "ProgressStyleModel",
          "state": {
            "_view_name": "StyleView",
            "_model_name": "ProgressStyleModel",
            "description_width": "initial",
            "_view_module": "@jupyter-widgets/base",
            "_model_module_version": "1.5.0",
            "_view_count": null,
            "_view_module_version": "1.2.0",
            "bar_color": null,
            "_model_module": "@jupyter-widgets/controls"
          }
        },
        "384c74bffd4a4c1cba7f6a1cc233daa8": {
          "model_module": "@jupyter-widgets/base",
          "model_name": "LayoutModel",
          "state": {
            "_view_name": "LayoutView",
            "grid_template_rows": null,
            "right": null,
            "justify_content": null,
            "_view_module": "@jupyter-widgets/base",
            "overflow": null,
            "_model_module_version": "1.2.0",
            "_view_count": null,
            "flex_flow": null,
            "width": null,
            "min_width": null,
            "border": null,
            "align_items": null,
            "bottom": null,
            "_model_module": "@jupyter-widgets/base",
            "top": null,
            "grid_column": null,
            "overflow_y": null,
            "overflow_x": null,
            "grid_auto_flow": null,
            "grid_area": null,
            "grid_template_columns": null,
            "flex": null,
            "_model_name": "LayoutModel",
            "justify_items": null,
            "grid_row": null,
            "max_height": null,
            "align_content": null,
            "visibility": null,
            "align_self": null,
            "height": null,
            "min_height": null,
            "padding": null,
            "grid_auto_rows": null,
            "grid_gap": null,
            "max_width": null,
            "order": null,
            "_view_module_version": "1.2.0",
            "grid_template_areas": null,
            "object_position": null,
            "object_fit": null,
            "grid_auto_columns": null,
            "margin": null,
            "display": null,
            "left": null
          }
        },
        "dfa44a0eebf74286b041b30975708bac": {
          "model_module": "@jupyter-widgets/controls",
          "model_name": "DescriptionStyleModel",
          "state": {
            "_view_name": "StyleView",
            "_model_name": "DescriptionStyleModel",
            "description_width": "",
            "_view_module": "@jupyter-widgets/base",
            "_model_module_version": "1.5.0",
            "_view_count": null,
            "_view_module_version": "1.2.0",
            "_model_module": "@jupyter-widgets/controls"
          }
        },
        "c53a103f173148e29649abdc837c86de": {
          "model_module": "@jupyter-widgets/base",
          "model_name": "LayoutModel",
          "state": {
            "_view_name": "LayoutView",
            "grid_template_rows": null,
            "right": null,
            "justify_content": null,
            "_view_module": "@jupyter-widgets/base",
            "overflow": null,
            "_model_module_version": "1.2.0",
            "_view_count": null,
            "flex_flow": null,
            "width": null,
            "min_width": null,
            "border": null,
            "align_items": null,
            "bottom": null,
            "_model_module": "@jupyter-widgets/base",
            "top": null,
            "grid_column": null,
            "overflow_y": null,
            "overflow_x": null,
            "grid_auto_flow": null,
            "grid_area": null,
            "grid_template_columns": null,
            "flex": null,
            "_model_name": "LayoutModel",
            "justify_items": null,
            "grid_row": null,
            "max_height": null,
            "align_content": null,
            "visibility": null,
            "align_self": null,
            "height": null,
            "min_height": null,
            "padding": null,
            "grid_auto_rows": null,
            "grid_gap": null,
            "max_width": null,
            "order": null,
            "_view_module_version": "1.2.0",
            "grid_template_areas": null,
            "object_position": null,
            "object_fit": null,
            "grid_auto_columns": null,
            "margin": null,
            "display": null,
            "left": null
          }
        },
        "b00aaa31f1224455b884f60dcf94acd7": {
          "model_module": "@jupyter-widgets/controls",
          "model_name": "HBoxModel",
          "state": {
            "_view_name": "HBoxView",
            "_dom_classes": [],
            "_model_name": "HBoxModel",
            "_view_module": "@jupyter-widgets/controls",
            "_model_module_version": "1.5.0",
            "_view_count": null,
            "_view_module_version": "1.5.0",
            "box_style": "",
            "layout": "IPY_MODEL_4d51f1b2154b4e28ba10b87c32d4f8e8",
            "_model_module": "@jupyter-widgets/controls",
            "children": [
              "IPY_MODEL_b56d5553f581477daddb5f6cbf830ae0",
              "IPY_MODEL_8855e25ccb914af7843277d64f72b272"
            ]
          }
        },
        "4d51f1b2154b4e28ba10b87c32d4f8e8": {
          "model_module": "@jupyter-widgets/base",
          "model_name": "LayoutModel",
          "state": {
            "_view_name": "LayoutView",
            "grid_template_rows": null,
            "right": null,
            "justify_content": null,
            "_view_module": "@jupyter-widgets/base",
            "overflow": null,
            "_model_module_version": "1.2.0",
            "_view_count": null,
            "flex_flow": null,
            "width": null,
            "min_width": null,
            "border": null,
            "align_items": null,
            "bottom": null,
            "_model_module": "@jupyter-widgets/base",
            "top": null,
            "grid_column": null,
            "overflow_y": null,
            "overflow_x": null,
            "grid_auto_flow": null,
            "grid_area": null,
            "grid_template_columns": null,
            "flex": null,
            "_model_name": "LayoutModel",
            "justify_items": null,
            "grid_row": null,
            "max_height": null,
            "align_content": null,
            "visibility": null,
            "align_self": null,
            "height": null,
            "min_height": null,
            "padding": null,
            "grid_auto_rows": null,
            "grid_gap": null,
            "max_width": null,
            "order": null,
            "_view_module_version": "1.2.0",
            "grid_template_areas": null,
            "object_position": null,
            "object_fit": null,
            "grid_auto_columns": null,
            "margin": null,
            "display": null,
            "left": null
          }
        },
        "b56d5553f581477daddb5f6cbf830ae0": {
          "model_module": "@jupyter-widgets/controls",
          "model_name": "FloatProgressModel",
          "state": {
            "_view_name": "ProgressView",
            "style": "IPY_MODEL_1db8982c252c493dbacaef177c3fd5f9",
            "_dom_classes": [],
            "description": "Downloading: 100%",
            "_model_name": "FloatProgressModel",
            "bar_style": "success",
            "max": 760289,
            "_view_module": "@jupyter-widgets/controls",
            "_model_module_version": "1.5.0",
            "value": 760289,
            "_view_count": null,
            "_view_module_version": "1.5.0",
            "orientation": "horizontal",
            "min": 0,
            "description_tooltip": null,
            "_model_module": "@jupyter-widgets/controls",
            "layout": "IPY_MODEL_dabe3ec719f248158148f3fb2c9e7868"
          }
        },
        "8855e25ccb914af7843277d64f72b272": {
          "model_module": "@jupyter-widgets/controls",
          "model_name": "HTMLModel",
          "state": {
            "_view_name": "HTMLView",
            "style": "IPY_MODEL_e3677944da544608b39dcb781cd5bbdb",
            "_dom_classes": [],
            "description": "",
            "_model_name": "HTMLModel",
            "placeholder": "​",
            "_view_module": "@jupyter-widgets/controls",
            "_model_module_version": "1.5.0",
            "value": " 760k/760k [00:00&lt;00:00, 2.18MB/s]",
            "_view_count": null,
            "_view_module_version": "1.5.0",
            "description_tooltip": null,
            "_model_module": "@jupyter-widgets/controls",
            "layout": "IPY_MODEL_0f0526e25e5f4d42af2476481aa68a8b"
          }
        },
        "1db8982c252c493dbacaef177c3fd5f9": {
          "model_module": "@jupyter-widgets/controls",
          "model_name": "ProgressStyleModel",
          "state": {
            "_view_name": "StyleView",
            "_model_name": "ProgressStyleModel",
            "description_width": "initial",
            "_view_module": "@jupyter-widgets/base",
            "_model_module_version": "1.5.0",
            "_view_count": null,
            "_view_module_version": "1.2.0",
            "bar_color": null,
            "_model_module": "@jupyter-widgets/controls"
          }
        },
        "dabe3ec719f248158148f3fb2c9e7868": {
          "model_module": "@jupyter-widgets/base",
          "model_name": "LayoutModel",
          "state": {
            "_view_name": "LayoutView",
            "grid_template_rows": null,
            "right": null,
            "justify_content": null,
            "_view_module": "@jupyter-widgets/base",
            "overflow": null,
            "_model_module_version": "1.2.0",
            "_view_count": null,
            "flex_flow": null,
            "width": null,
            "min_width": null,
            "border": null,
            "align_items": null,
            "bottom": null,
            "_model_module": "@jupyter-widgets/base",
            "top": null,
            "grid_column": null,
            "overflow_y": null,
            "overflow_x": null,
            "grid_auto_flow": null,
            "grid_area": null,
            "grid_template_columns": null,
            "flex": null,
            "_model_name": "LayoutModel",
            "justify_items": null,
            "grid_row": null,
            "max_height": null,
            "align_content": null,
            "visibility": null,
            "align_self": null,
            "height": null,
            "min_height": null,
            "padding": null,
            "grid_auto_rows": null,
            "grid_gap": null,
            "max_width": null,
            "order": null,
            "_view_module_version": "1.2.0",
            "grid_template_areas": null,
            "object_position": null,
            "object_fit": null,
            "grid_auto_columns": null,
            "margin": null,
            "display": null,
            "left": null
          }
        },
        "e3677944da544608b39dcb781cd5bbdb": {
          "model_module": "@jupyter-widgets/controls",
          "model_name": "DescriptionStyleModel",
          "state": {
            "_view_name": "StyleView",
            "_model_name": "DescriptionStyleModel",
            "description_width": "",
            "_view_module": "@jupyter-widgets/base",
            "_model_module_version": "1.5.0",
            "_view_count": null,
            "_view_module_version": "1.2.0",
            "_model_module": "@jupyter-widgets/controls"
          }
        },
        "0f0526e25e5f4d42af2476481aa68a8b": {
          "model_module": "@jupyter-widgets/base",
          "model_name": "LayoutModel",
          "state": {
            "_view_name": "LayoutView",
            "grid_template_rows": null,
            "right": null,
            "justify_content": null,
            "_view_module": "@jupyter-widgets/base",
            "overflow": null,
            "_model_module_version": "1.2.0",
            "_view_count": null,
            "flex_flow": null,
            "width": null,
            "min_width": null,
            "border": null,
            "align_items": null,
            "bottom": null,
            "_model_module": "@jupyter-widgets/base",
            "top": null,
            "grid_column": null,
            "overflow_y": null,
            "overflow_x": null,
            "grid_auto_flow": null,
            "grid_area": null,
            "grid_template_columns": null,
            "flex": null,
            "_model_name": "LayoutModel",
            "justify_items": null,
            "grid_row": null,
            "max_height": null,
            "align_content": null,
            "visibility": null,
            "align_self": null,
            "height": null,
            "min_height": null,
            "padding": null,
            "grid_auto_rows": null,
            "grid_gap": null,
            "max_width": null,
            "order": null,
            "_view_module_version": "1.2.0",
            "grid_template_areas": null,
            "object_position": null,
            "object_fit": null,
            "grid_auto_columns": null,
            "margin": null,
            "display": null,
            "left": null
          }
        },
        "41bd7c5481fb4e87bec239ba4d9ca411": {
          "model_module": "@jupyter-widgets/controls",
          "model_name": "HBoxModel",
          "state": {
            "_view_name": "HBoxView",
            "_dom_classes": [],
            "_model_name": "HBoxModel",
            "_view_module": "@jupyter-widgets/controls",
            "_model_module_version": "1.5.0",
            "_view_count": null,
            "_view_module_version": "1.5.0",
            "box_style": "",
            "layout": "IPY_MODEL_a35276dbdeff491f98d97d1c22c79316",
            "_model_module": "@jupyter-widgets/controls",
            "children": [
              "IPY_MODEL_b1b9e7bdde374ba5bac06fbcf450fc57",
              "IPY_MODEL_9ff9e8fc485d4584849c85bbcf0d89e8"
            ]
          }
        },
        "a35276dbdeff491f98d97d1c22c79316": {
          "model_module": "@jupyter-widgets/base",
          "model_name": "LayoutModel",
          "state": {
            "_view_name": "LayoutView",
            "grid_template_rows": null,
            "right": null,
            "justify_content": null,
            "_view_module": "@jupyter-widgets/base",
            "overflow": null,
            "_model_module_version": "1.2.0",
            "_view_count": null,
            "flex_flow": null,
            "width": null,
            "min_width": null,
            "border": null,
            "align_items": null,
            "bottom": null,
            "_model_module": "@jupyter-widgets/base",
            "top": null,
            "grid_column": null,
            "overflow_y": null,
            "overflow_x": null,
            "grid_auto_flow": null,
            "grid_area": null,
            "grid_template_columns": null,
            "flex": null,
            "_model_name": "LayoutModel",
            "justify_items": null,
            "grid_row": null,
            "max_height": null,
            "align_content": null,
            "visibility": null,
            "align_self": null,
            "height": null,
            "min_height": null,
            "padding": null,
            "grid_auto_rows": null,
            "grid_gap": null,
            "max_width": null,
            "order": null,
            "_view_module_version": "1.2.0",
            "grid_template_areas": null,
            "object_position": null,
            "object_fit": null,
            "grid_auto_columns": null,
            "margin": null,
            "display": null,
            "left": null
          }
        },
        "b1b9e7bdde374ba5bac06fbcf450fc57": {
          "model_module": "@jupyter-widgets/controls",
          "model_name": "FloatProgressModel",
          "state": {
            "_view_name": "ProgressView",
            "style": "IPY_MODEL_2e12c0721fd44c668c3f57a8e7a1917b",
            "_dom_classes": [],
            "description": "Downloading: 100%",
            "_model_name": "FloatProgressModel",
            "bar_style": "success",
            "max": 156,
            "_view_module": "@jupyter-widgets/controls",
            "_model_module_version": "1.5.0",
            "value": 156,
            "_view_count": null,
            "_view_module_version": "1.5.0",
            "orientation": "horizontal",
            "min": 0,
            "description_tooltip": null,
            "_model_module": "@jupyter-widgets/controls",
            "layout": "IPY_MODEL_62f7d60044594ebdbde2c06a5584f383"
          }
        },
        "9ff9e8fc485d4584849c85bbcf0d89e8": {
          "model_module": "@jupyter-widgets/controls",
          "model_name": "HTMLModel",
          "state": {
            "_view_name": "HTMLView",
            "style": "IPY_MODEL_956c2f7e688d403598628a34a3d2c54a",
            "_dom_classes": [],
            "description": "",
            "_model_name": "HTMLModel",
            "placeholder": "​",
            "_view_module": "@jupyter-widgets/controls",
            "_model_module_version": "1.5.0",
            "value": " 156/156 [00:00&lt;00:00, 822B/s]",
            "_view_count": null,
            "_view_module_version": "1.5.0",
            "description_tooltip": null,
            "_model_module": "@jupyter-widgets/controls",
            "layout": "IPY_MODEL_44b826ef13604b7d87b689cc00a21d20"
          }
        },
        "2e12c0721fd44c668c3f57a8e7a1917b": {
          "model_module": "@jupyter-widgets/controls",
          "model_name": "ProgressStyleModel",
          "state": {
            "_view_name": "StyleView",
            "_model_name": "ProgressStyleModel",
            "description_width": "initial",
            "_view_module": "@jupyter-widgets/base",
            "_model_module_version": "1.5.0",
            "_view_count": null,
            "_view_module_version": "1.2.0",
            "bar_color": null,
            "_model_module": "@jupyter-widgets/controls"
          }
        },
        "62f7d60044594ebdbde2c06a5584f383": {
          "model_module": "@jupyter-widgets/base",
          "model_name": "LayoutModel",
          "state": {
            "_view_name": "LayoutView",
            "grid_template_rows": null,
            "right": null,
            "justify_content": null,
            "_view_module": "@jupyter-widgets/base",
            "overflow": null,
            "_model_module_version": "1.2.0",
            "_view_count": null,
            "flex_flow": null,
            "width": null,
            "min_width": null,
            "border": null,
            "align_items": null,
            "bottom": null,
            "_model_module": "@jupyter-widgets/base",
            "top": null,
            "grid_column": null,
            "overflow_y": null,
            "overflow_x": null,
            "grid_auto_flow": null,
            "grid_area": null,
            "grid_template_columns": null,
            "flex": null,
            "_model_name": "LayoutModel",
            "justify_items": null,
            "grid_row": null,
            "max_height": null,
            "align_content": null,
            "visibility": null,
            "align_self": null,
            "height": null,
            "min_height": null,
            "padding": null,
            "grid_auto_rows": null,
            "grid_gap": null,
            "max_width": null,
            "order": null,
            "_view_module_version": "1.2.0",
            "grid_template_areas": null,
            "object_position": null,
            "object_fit": null,
            "grid_auto_columns": null,
            "margin": null,
            "display": null,
            "left": null
          }
        },
        "956c2f7e688d403598628a34a3d2c54a": {
          "model_module": "@jupyter-widgets/controls",
          "model_name": "DescriptionStyleModel",
          "state": {
            "_view_name": "StyleView",
            "_model_name": "DescriptionStyleModel",
            "description_width": "",
            "_view_module": "@jupyter-widgets/base",
            "_model_module_version": "1.5.0",
            "_view_count": null,
            "_view_module_version": "1.2.0",
            "_model_module": "@jupyter-widgets/controls"
          }
        },
        "44b826ef13604b7d87b689cc00a21d20": {
          "model_module": "@jupyter-widgets/base",
          "model_name": "LayoutModel",
          "state": {
            "_view_name": "LayoutView",
            "grid_template_rows": null,
            "right": null,
            "justify_content": null,
            "_view_module": "@jupyter-widgets/base",
            "overflow": null,
            "_model_module_version": "1.2.0",
            "_view_count": null,
            "flex_flow": null,
            "width": null,
            "min_width": null,
            "border": null,
            "align_items": null,
            "bottom": null,
            "_model_module": "@jupyter-widgets/base",
            "top": null,
            "grid_column": null,
            "overflow_y": null,
            "overflow_x": null,
            "grid_auto_flow": null,
            "grid_area": null,
            "grid_template_columns": null,
            "flex": null,
            "_model_name": "LayoutModel",
            "justify_items": null,
            "grid_row": null,
            "max_height": null,
            "align_content": null,
            "visibility": null,
            "align_self": null,
            "height": null,
            "min_height": null,
            "padding": null,
            "grid_auto_rows": null,
            "grid_gap": null,
            "max_width": null,
            "order": null,
            "_view_module_version": "1.2.0",
            "grid_template_areas": null,
            "object_position": null,
            "object_fit": null,
            "grid_auto_columns": null,
            "margin": null,
            "display": null,
            "left": null
          }
        },
        "284d856b1a6942c4b6b89db596848798": {
          "model_module": "@jupyter-widgets/controls",
          "model_name": "HBoxModel",
          "state": {
            "_view_name": "HBoxView",
            "_dom_classes": [],
            "_model_name": "HBoxModel",
            "_view_module": "@jupyter-widgets/controls",
            "_model_module_version": "1.5.0",
            "_view_count": null,
            "_view_module_version": "1.5.0",
            "box_style": "",
            "layout": "IPY_MODEL_08156604441645d08dd0133bf0e723bf",
            "_model_module": "@jupyter-widgets/controls",
            "children": [
              "IPY_MODEL_b6efe356400f4a73a01bca94f8aea660",
              "IPY_MODEL_66352d0a42a54eae977f513cddb78049"
            ]
          }
        },
        "08156604441645d08dd0133bf0e723bf": {
          "model_module": "@jupyter-widgets/base",
          "model_name": "LayoutModel",
          "state": {
            "_view_name": "LayoutView",
            "grid_template_rows": null,
            "right": null,
            "justify_content": null,
            "_view_module": "@jupyter-widgets/base",
            "overflow": null,
            "_model_module_version": "1.2.0",
            "_view_count": null,
            "flex_flow": null,
            "width": null,
            "min_width": null,
            "border": null,
            "align_items": null,
            "bottom": null,
            "_model_module": "@jupyter-widgets/base",
            "top": null,
            "grid_column": null,
            "overflow_y": null,
            "overflow_x": null,
            "grid_auto_flow": null,
            "grid_area": null,
            "grid_template_columns": null,
            "flex": null,
            "_model_name": "LayoutModel",
            "justify_items": null,
            "grid_row": null,
            "max_height": null,
            "align_content": null,
            "visibility": null,
            "align_self": null,
            "height": null,
            "min_height": null,
            "padding": null,
            "grid_auto_rows": null,
            "grid_gap": null,
            "max_width": null,
            "order": null,
            "_view_module_version": "1.2.0",
            "grid_template_areas": null,
            "object_position": null,
            "object_fit": null,
            "grid_auto_columns": null,
            "margin": null,
            "display": null,
            "left": null
          }
        },
        "b6efe356400f4a73a01bca94f8aea660": {
          "model_module": "@jupyter-widgets/controls",
          "model_name": "FloatProgressModel",
          "state": {
            "_view_name": "ProgressView",
            "style": "IPY_MODEL_829ce7a6359d426691971f9b73764df2",
            "_dom_classes": [],
            "description": "Downloading: 100%",
            "_model_name": "FloatProgressModel",
            "bar_style": "success",
            "max": 25,
            "_view_module": "@jupyter-widgets/controls",
            "_model_module_version": "1.5.0",
            "value": 25,
            "_view_count": null,
            "_view_module_version": "1.5.0",
            "orientation": "horizontal",
            "min": 0,
            "description_tooltip": null,
            "_model_module": "@jupyter-widgets/controls",
            "layout": "IPY_MODEL_b1850d5827a84933b5b2031535792bbd"
          }
        },
        "66352d0a42a54eae977f513cddb78049": {
          "model_module": "@jupyter-widgets/controls",
          "model_name": "HTMLModel",
          "state": {
            "_view_name": "HTMLView",
            "style": "IPY_MODEL_434aeeda4c0b44f3963a30dfecfbffae",
            "_dom_classes": [],
            "description": "",
            "_model_name": "HTMLModel",
            "placeholder": "​",
            "_view_module": "@jupyter-widgets/controls",
            "_model_module_version": "1.5.0",
            "value": " 25.0/25.0 [00:00&lt;00:00, 227B/s]",
            "_view_count": null,
            "_view_module_version": "1.5.0",
            "description_tooltip": null,
            "_model_module": "@jupyter-widgets/controls",
            "layout": "IPY_MODEL_e8c9dc01eff146fa8c4f28b33a6a973c"
          }
        },
        "829ce7a6359d426691971f9b73764df2": {
          "model_module": "@jupyter-widgets/controls",
          "model_name": "ProgressStyleModel",
          "state": {
            "_view_name": "StyleView",
            "_model_name": "ProgressStyleModel",
            "description_width": "initial",
            "_view_module": "@jupyter-widgets/base",
            "_model_module_version": "1.5.0",
            "_view_count": null,
            "_view_module_version": "1.2.0",
            "bar_color": null,
            "_model_module": "@jupyter-widgets/controls"
          }
        },
        "b1850d5827a84933b5b2031535792bbd": {
          "model_module": "@jupyter-widgets/base",
          "model_name": "LayoutModel",
          "state": {
            "_view_name": "LayoutView",
            "grid_template_rows": null,
            "right": null,
            "justify_content": null,
            "_view_module": "@jupyter-widgets/base",
            "overflow": null,
            "_model_module_version": "1.2.0",
            "_view_count": null,
            "flex_flow": null,
            "width": null,
            "min_width": null,
            "border": null,
            "align_items": null,
            "bottom": null,
            "_model_module": "@jupyter-widgets/base",
            "top": null,
            "grid_column": null,
            "overflow_y": null,
            "overflow_x": null,
            "grid_auto_flow": null,
            "grid_area": null,
            "grid_template_columns": null,
            "flex": null,
            "_model_name": "LayoutModel",
            "justify_items": null,
            "grid_row": null,
            "max_height": null,
            "align_content": null,
            "visibility": null,
            "align_self": null,
            "height": null,
            "min_height": null,
            "padding": null,
            "grid_auto_rows": null,
            "grid_gap": null,
            "max_width": null,
            "order": null,
            "_view_module_version": "1.2.0",
            "grid_template_areas": null,
            "object_position": null,
            "object_fit": null,
            "grid_auto_columns": null,
            "margin": null,
            "display": null,
            "left": null
          }
        },
        "434aeeda4c0b44f3963a30dfecfbffae": {
          "model_module": "@jupyter-widgets/controls",
          "model_name": "DescriptionStyleModel",
          "state": {
            "_view_name": "StyleView",
            "_model_name": "DescriptionStyleModel",
            "description_width": "",
            "_view_module": "@jupyter-widgets/base",
            "_model_module_version": "1.5.0",
            "_view_count": null,
            "_view_module_version": "1.2.0",
            "_model_module": "@jupyter-widgets/controls"
          }
        },
        "e8c9dc01eff146fa8c4f28b33a6a973c": {
          "model_module": "@jupyter-widgets/base",
          "model_name": "LayoutModel",
          "state": {
            "_view_name": "LayoutView",
            "grid_template_rows": null,
            "right": null,
            "justify_content": null,
            "_view_module": "@jupyter-widgets/base",
            "overflow": null,
            "_model_module_version": "1.2.0",
            "_view_count": null,
            "flex_flow": null,
            "width": null,
            "min_width": null,
            "border": null,
            "align_items": null,
            "bottom": null,
            "_model_module": "@jupyter-widgets/base",
            "top": null,
            "grid_column": null,
            "overflow_y": null,
            "overflow_x": null,
            "grid_auto_flow": null,
            "grid_area": null,
            "grid_template_columns": null,
            "flex": null,
            "_model_name": "LayoutModel",
            "justify_items": null,
            "grid_row": null,
            "max_height": null,
            "align_content": null,
            "visibility": null,
            "align_self": null,
            "height": null,
            "min_height": null,
            "padding": null,
            "grid_auto_rows": null,
            "grid_gap": null,
            "max_width": null,
            "order": null,
            "_view_module_version": "1.2.0",
            "grid_template_areas": null,
            "object_position": null,
            "object_fit": null,
            "grid_auto_columns": null,
            "margin": null,
            "display": null,
            "left": null
          }
        },
        "325bfc47f3b6423ba0aa0b422fcf8d7f": {
          "model_module": "@jupyter-widgets/controls",
          "model_name": "HBoxModel",
          "state": {
            "_view_name": "HBoxView",
            "_dom_classes": [],
            "_model_name": "HBoxModel",
            "_view_module": "@jupyter-widgets/controls",
            "_model_module_version": "1.5.0",
            "_view_count": null,
            "_view_module_version": "1.5.0",
            "box_style": "",
            "layout": "IPY_MODEL_b7b407ba732a430b88fd82089f11ab5e",
            "_model_module": "@jupyter-widgets/controls",
            "children": [
              "IPY_MODEL_b8f055433c5542c6bb2ae4aa419e9c28",
              "IPY_MODEL_943a4acd9bc04132ab229da2733c216c"
            ]
          }
        },
        "b7b407ba732a430b88fd82089f11ab5e": {
          "model_module": "@jupyter-widgets/base",
          "model_name": "LayoutModel",
          "state": {
            "_view_name": "LayoutView",
            "grid_template_rows": null,
            "right": null,
            "justify_content": null,
            "_view_module": "@jupyter-widgets/base",
            "overflow": null,
            "_model_module_version": "1.2.0",
            "_view_count": null,
            "flex_flow": null,
            "width": null,
            "min_width": null,
            "border": null,
            "align_items": null,
            "bottom": null,
            "_model_module": "@jupyter-widgets/base",
            "top": null,
            "grid_column": null,
            "overflow_y": null,
            "overflow_x": null,
            "grid_auto_flow": null,
            "grid_area": null,
            "grid_template_columns": null,
            "flex": null,
            "_model_name": "LayoutModel",
            "justify_items": null,
            "grid_row": null,
            "max_height": null,
            "align_content": null,
            "visibility": null,
            "align_self": null,
            "height": null,
            "min_height": null,
            "padding": null,
            "grid_auto_rows": null,
            "grid_gap": null,
            "max_width": null,
            "order": null,
            "_view_module_version": "1.2.0",
            "grid_template_areas": null,
            "object_position": null,
            "object_fit": null,
            "grid_auto_columns": null,
            "margin": null,
            "display": null,
            "left": null
          }
        },
        "b8f055433c5542c6bb2ae4aa419e9c28": {
          "model_module": "@jupyter-widgets/controls",
          "model_name": "FloatProgressModel",
          "state": {
            "_view_name": "ProgressView",
            "style": "IPY_MODEL_9b330d36670e41b5aee6cc449383fd92",
            "_dom_classes": [],
            "description": "Downloading: ",
            "_model_name": "FloatProgressModel",
            "bar_style": "success",
            "max": 1860,
            "_view_module": "@jupyter-widgets/controls",
            "_model_module_version": "1.5.0",
            "value": 1860,
            "_view_count": null,
            "_view_module_version": "1.5.0",
            "orientation": "horizontal",
            "min": 0,
            "description_tooltip": null,
            "_model_module": "@jupyter-widgets/controls",
            "layout": "IPY_MODEL_0ca083a4312a468182eba97afd78b3c3"
          }
        },
        "943a4acd9bc04132ab229da2733c216c": {
          "model_module": "@jupyter-widgets/controls",
          "model_name": "HTMLModel",
          "state": {
            "_view_name": "HTMLView",
            "style": "IPY_MODEL_2f78850f3d704d93bb8ccef978405920",
            "_dom_classes": [],
            "description": "",
            "_model_name": "HTMLModel",
            "placeholder": "​",
            "_view_module": "@jupyter-widgets/controls",
            "_model_module_version": "1.5.0",
            "value": " 4.97k/? [00:00&lt;00:00, 9.97kB/s]",
            "_view_count": null,
            "_view_module_version": "1.5.0",
            "description_tooltip": null,
            "_model_module": "@jupyter-widgets/controls",
            "layout": "IPY_MODEL_49e9ddc78fe64e16857bbcda85c0f691"
          }
        },
        "9b330d36670e41b5aee6cc449383fd92": {
          "model_module": "@jupyter-widgets/controls",
          "model_name": "ProgressStyleModel",
          "state": {
            "_view_name": "StyleView",
            "_model_name": "ProgressStyleModel",
            "description_width": "initial",
            "_view_module": "@jupyter-widgets/base",
            "_model_module_version": "1.5.0",
            "_view_count": null,
            "_view_module_version": "1.2.0",
            "bar_color": null,
            "_model_module": "@jupyter-widgets/controls"
          }
        },
        "0ca083a4312a468182eba97afd78b3c3": {
          "model_module": "@jupyter-widgets/base",
          "model_name": "LayoutModel",
          "state": {
            "_view_name": "LayoutView",
            "grid_template_rows": null,
            "right": null,
            "justify_content": null,
            "_view_module": "@jupyter-widgets/base",
            "overflow": null,
            "_model_module_version": "1.2.0",
            "_view_count": null,
            "flex_flow": null,
            "width": null,
            "min_width": null,
            "border": null,
            "align_items": null,
            "bottom": null,
            "_model_module": "@jupyter-widgets/base",
            "top": null,
            "grid_column": null,
            "overflow_y": null,
            "overflow_x": null,
            "grid_auto_flow": null,
            "grid_area": null,
            "grid_template_columns": null,
            "flex": null,
            "_model_name": "LayoutModel",
            "justify_items": null,
            "grid_row": null,
            "max_height": null,
            "align_content": null,
            "visibility": null,
            "align_self": null,
            "height": null,
            "min_height": null,
            "padding": null,
            "grid_auto_rows": null,
            "grid_gap": null,
            "max_width": null,
            "order": null,
            "_view_module_version": "1.2.0",
            "grid_template_areas": null,
            "object_position": null,
            "object_fit": null,
            "grid_auto_columns": null,
            "margin": null,
            "display": null,
            "left": null
          }
        },
        "2f78850f3d704d93bb8ccef978405920": {
          "model_module": "@jupyter-widgets/controls",
          "model_name": "DescriptionStyleModel",
          "state": {
            "_view_name": "StyleView",
            "_model_name": "DescriptionStyleModel",
            "description_width": "",
            "_view_module": "@jupyter-widgets/base",
            "_model_module_version": "1.5.0",
            "_view_count": null,
            "_view_module_version": "1.2.0",
            "_model_module": "@jupyter-widgets/controls"
          }
        },
        "49e9ddc78fe64e16857bbcda85c0f691": {
          "model_module": "@jupyter-widgets/base",
          "model_name": "LayoutModel",
          "state": {
            "_view_name": "LayoutView",
            "grid_template_rows": null,
            "right": null,
            "justify_content": null,
            "_view_module": "@jupyter-widgets/base",
            "overflow": null,
            "_model_module_version": "1.2.0",
            "_view_count": null,
            "flex_flow": null,
            "width": null,
            "min_width": null,
            "border": null,
            "align_items": null,
            "bottom": null,
            "_model_module": "@jupyter-widgets/base",
            "top": null,
            "grid_column": null,
            "overflow_y": null,
            "overflow_x": null,
            "grid_auto_flow": null,
            "grid_area": null,
            "grid_template_columns": null,
            "flex": null,
            "_model_name": "LayoutModel",
            "justify_items": null,
            "grid_row": null,
            "max_height": null,
            "align_content": null,
            "visibility": null,
            "align_self": null,
            "height": null,
            "min_height": null,
            "padding": null,
            "grid_auto_rows": null,
            "grid_gap": null,
            "max_width": null,
            "order": null,
            "_view_module_version": "1.2.0",
            "grid_template_areas": null,
            "object_position": null,
            "object_fit": null,
            "grid_auto_columns": null,
            "margin": null,
            "display": null,
            "left": null
          }
        },
        "8c2c5dbee9694100b2e751a5ee0b764f": {
          "model_module": "@jupyter-widgets/controls",
          "model_name": "HBoxModel",
          "state": {
            "_view_name": "HBoxView",
            "_dom_classes": [],
            "_model_name": "HBoxModel",
            "_view_module": "@jupyter-widgets/controls",
            "_model_module_version": "1.5.0",
            "_view_count": null,
            "_view_module_version": "1.5.0",
            "box_style": "",
            "layout": "IPY_MODEL_8c3bb767bd154b47a6e20b234d56fe1b",
            "_model_module": "@jupyter-widgets/controls",
            "children": [
              "IPY_MODEL_adcbad442f9941859c9a7ef4008af617",
              "IPY_MODEL_789d7e5cc0a945088d8d64280e10376b"
            ]
          }
        },
        "8c3bb767bd154b47a6e20b234d56fe1b": {
          "model_module": "@jupyter-widgets/base",
          "model_name": "LayoutModel",
          "state": {
            "_view_name": "LayoutView",
            "grid_template_rows": null,
            "right": null,
            "justify_content": null,
            "_view_module": "@jupyter-widgets/base",
            "overflow": null,
            "_model_module_version": "1.2.0",
            "_view_count": null,
            "flex_flow": null,
            "width": null,
            "min_width": null,
            "border": null,
            "align_items": null,
            "bottom": null,
            "_model_module": "@jupyter-widgets/base",
            "top": null,
            "grid_column": null,
            "overflow_y": null,
            "overflow_x": null,
            "grid_auto_flow": null,
            "grid_area": null,
            "grid_template_columns": null,
            "flex": null,
            "_model_name": "LayoutModel",
            "justify_items": null,
            "grid_row": null,
            "max_height": null,
            "align_content": null,
            "visibility": null,
            "align_self": null,
            "height": null,
            "min_height": null,
            "padding": null,
            "grid_auto_rows": null,
            "grid_gap": null,
            "max_width": null,
            "order": null,
            "_view_module_version": "1.2.0",
            "grid_template_areas": null,
            "object_position": null,
            "object_fit": null,
            "grid_auto_columns": null,
            "margin": null,
            "display": null,
            "left": null
          }
        },
        "adcbad442f9941859c9a7ef4008af617": {
          "model_module": "@jupyter-widgets/controls",
          "model_name": "FloatProgressModel",
          "state": {
            "_view_name": "ProgressView",
            "style": "IPY_MODEL_df171417d7454aedabcad149a5a059df",
            "_dom_classes": [],
            "description": "Downloading: ",
            "_model_name": "FloatProgressModel",
            "bar_style": "success",
            "max": 869,
            "_view_module": "@jupyter-widgets/controls",
            "_model_module_version": "1.5.0",
            "value": 869,
            "_view_count": null,
            "_view_module_version": "1.5.0",
            "orientation": "horizontal",
            "min": 0,
            "description_tooltip": null,
            "_model_module": "@jupyter-widgets/controls",
            "layout": "IPY_MODEL_0ee74f4b1d3444fe98be53dfbbe3cc7d"
          }
        },
        "789d7e5cc0a945088d8d64280e10376b": {
          "model_module": "@jupyter-widgets/controls",
          "model_name": "HTMLModel",
          "state": {
            "_view_name": "HTMLView",
            "style": "IPY_MODEL_e5c5abf2ec3e40ad8aa6a713f9797de5",
            "_dom_classes": [],
            "description": "",
            "_model_name": "HTMLModel",
            "placeholder": "​",
            "_view_module": "@jupyter-widgets/controls",
            "_model_module_version": "1.5.0",
            "value": " 1.88k/? [00:00&lt;00:00, 6.17kB/s]",
            "_view_count": null,
            "_view_module_version": "1.5.0",
            "description_tooltip": null,
            "_model_module": "@jupyter-widgets/controls",
            "layout": "IPY_MODEL_89000cffe69948719d693260cd2b1267"
          }
        },
        "df171417d7454aedabcad149a5a059df": {
          "model_module": "@jupyter-widgets/controls",
          "model_name": "ProgressStyleModel",
          "state": {
            "_view_name": "StyleView",
            "_model_name": "ProgressStyleModel",
            "description_width": "initial",
            "_view_module": "@jupyter-widgets/base",
            "_model_module_version": "1.5.0",
            "_view_count": null,
            "_view_module_version": "1.2.0",
            "bar_color": null,
            "_model_module": "@jupyter-widgets/controls"
          }
        },
        "0ee74f4b1d3444fe98be53dfbbe3cc7d": {
          "model_module": "@jupyter-widgets/base",
          "model_name": "LayoutModel",
          "state": {
            "_view_name": "LayoutView",
            "grid_template_rows": null,
            "right": null,
            "justify_content": null,
            "_view_module": "@jupyter-widgets/base",
            "overflow": null,
            "_model_module_version": "1.2.0",
            "_view_count": null,
            "flex_flow": null,
            "width": null,
            "min_width": null,
            "border": null,
            "align_items": null,
            "bottom": null,
            "_model_module": "@jupyter-widgets/base",
            "top": null,
            "grid_column": null,
            "overflow_y": null,
            "overflow_x": null,
            "grid_auto_flow": null,
            "grid_area": null,
            "grid_template_columns": null,
            "flex": null,
            "_model_name": "LayoutModel",
            "justify_items": null,
            "grid_row": null,
            "max_height": null,
            "align_content": null,
            "visibility": null,
            "align_self": null,
            "height": null,
            "min_height": null,
            "padding": null,
            "grid_auto_rows": null,
            "grid_gap": null,
            "max_width": null,
            "order": null,
            "_view_module_version": "1.2.0",
            "grid_template_areas": null,
            "object_position": null,
            "object_fit": null,
            "grid_auto_columns": null,
            "margin": null,
            "display": null,
            "left": null
          }
        },
        "e5c5abf2ec3e40ad8aa6a713f9797de5": {
          "model_module": "@jupyter-widgets/controls",
          "model_name": "DescriptionStyleModel",
          "state": {
            "_view_name": "StyleView",
            "_model_name": "DescriptionStyleModel",
            "description_width": "",
            "_view_module": "@jupyter-widgets/base",
            "_model_module_version": "1.5.0",
            "_view_count": null,
            "_view_module_version": "1.2.0",
            "_model_module": "@jupyter-widgets/controls"
          }
        },
        "89000cffe69948719d693260cd2b1267": {
          "model_module": "@jupyter-widgets/base",
          "model_name": "LayoutModel",
          "state": {
            "_view_name": "LayoutView",
            "grid_template_rows": null,
            "right": null,
            "justify_content": null,
            "_view_module": "@jupyter-widgets/base",
            "overflow": null,
            "_model_module_version": "1.2.0",
            "_view_count": null,
            "flex_flow": null,
            "width": null,
            "min_width": null,
            "border": null,
            "align_items": null,
            "bottom": null,
            "_model_module": "@jupyter-widgets/base",
            "top": null,
            "grid_column": null,
            "overflow_y": null,
            "overflow_x": null,
            "grid_auto_flow": null,
            "grid_area": null,
            "grid_template_columns": null,
            "flex": null,
            "_model_name": "LayoutModel",
            "justify_items": null,
            "grid_row": null,
            "max_height": null,
            "align_content": null,
            "visibility": null,
            "align_self": null,
            "height": null,
            "min_height": null,
            "padding": null,
            "grid_auto_rows": null,
            "grid_gap": null,
            "max_width": null,
            "order": null,
            "_view_module_version": "1.2.0",
            "grid_template_areas": null,
            "object_position": null,
            "object_fit": null,
            "grid_auto_columns": null,
            "margin": null,
            "display": null,
            "left": null
          }
        },
        "3f8d8f17339845ebbbd807cb169a3e62": {
          "model_module": "@jupyter-widgets/controls",
          "model_name": "HBoxModel",
          "state": {
            "_view_name": "HBoxView",
            "_dom_classes": [],
            "_model_name": "HBoxModel",
            "_view_module": "@jupyter-widgets/controls",
            "_model_module_version": "1.5.0",
            "_view_count": null,
            "_view_module_version": "1.5.0",
            "box_style": "",
            "layout": "IPY_MODEL_62a6a9c299fa4ecaae2a8bc21c54c475",
            "_model_module": "@jupyter-widgets/controls",
            "children": [
              "IPY_MODEL_6731814276634fcb846472832699e43e",
              "IPY_MODEL_7a1d468ea7af416d84a09a1b3933200e"
            ]
          }
        },
        "62a6a9c299fa4ecaae2a8bc21c54c475": {
          "model_module": "@jupyter-widgets/base",
          "model_name": "LayoutModel",
          "state": {
            "_view_name": "LayoutView",
            "grid_template_rows": null,
            "right": null,
            "justify_content": null,
            "_view_module": "@jupyter-widgets/base",
            "overflow": null,
            "_model_module_version": "1.2.0",
            "_view_count": null,
            "flex_flow": null,
            "width": null,
            "min_width": null,
            "border": null,
            "align_items": null,
            "bottom": null,
            "_model_module": "@jupyter-widgets/base",
            "top": null,
            "grid_column": null,
            "overflow_y": null,
            "overflow_x": null,
            "grid_auto_flow": null,
            "grid_area": null,
            "grid_template_columns": null,
            "flex": null,
            "_model_name": "LayoutModel",
            "justify_items": null,
            "grid_row": null,
            "max_height": null,
            "align_content": null,
            "visibility": null,
            "align_self": null,
            "height": null,
            "min_height": null,
            "padding": null,
            "grid_auto_rows": null,
            "grid_gap": null,
            "max_width": null,
            "order": null,
            "_view_module_version": "1.2.0",
            "grid_template_areas": null,
            "object_position": null,
            "object_fit": null,
            "grid_auto_columns": null,
            "margin": null,
            "display": null,
            "left": null
          }
        },
        "6731814276634fcb846472832699e43e": {
          "model_module": "@jupyter-widgets/controls",
          "model_name": "FloatProgressModel",
          "state": {
            "_view_name": "ProgressView",
            "style": "IPY_MODEL_4ef89d8c6a274a75a97f417d3c68e5b0",
            "_dom_classes": [],
            "description": "Downloading: 100%",
            "_model_name": "FloatProgressModel",
            "bar_style": "success",
            "max": 487770,
            "_view_module": "@jupyter-widgets/controls",
            "_model_module_version": "1.5.0",
            "value": 487770,
            "_view_count": null,
            "_view_module_version": "1.5.0",
            "orientation": "horizontal",
            "min": 0,
            "description_tooltip": null,
            "_model_module": "@jupyter-widgets/controls",
            "layout": "IPY_MODEL_5bd953d661484ca79edbbe339b6ea57a"
          }
        },
        "7a1d468ea7af416d84a09a1b3933200e": {
          "model_module": "@jupyter-widgets/controls",
          "model_name": "HTMLModel",
          "state": {
            "_view_name": "HTMLView",
            "style": "IPY_MODEL_86f2eb9f1d9443059b4599f0b9c12f15",
            "_dom_classes": [],
            "description": "",
            "_model_name": "HTMLModel",
            "placeholder": "​",
            "_view_module": "@jupyter-widgets/controls",
            "_model_module_version": "1.5.0",
            "value": " 488k/488k [00:00&lt;00:00, 3.63MB/s]",
            "_view_count": null,
            "_view_module_version": "1.5.0",
            "description_tooltip": null,
            "_model_module": "@jupyter-widgets/controls",
            "layout": "IPY_MODEL_cea8a934d9ea4b258231effa3828c8df"
          }
        },
        "4ef89d8c6a274a75a97f417d3c68e5b0": {
          "model_module": "@jupyter-widgets/controls",
          "model_name": "ProgressStyleModel",
          "state": {
            "_view_name": "StyleView",
            "_model_name": "ProgressStyleModel",
            "description_width": "initial",
            "_view_module": "@jupyter-widgets/base",
            "_model_module_version": "1.5.0",
            "_view_count": null,
            "_view_module_version": "1.2.0",
            "bar_color": null,
            "_model_module": "@jupyter-widgets/controls"
          }
        },
        "5bd953d661484ca79edbbe339b6ea57a": {
          "model_module": "@jupyter-widgets/base",
          "model_name": "LayoutModel",
          "state": {
            "_view_name": "LayoutView",
            "grid_template_rows": null,
            "right": null,
            "justify_content": null,
            "_view_module": "@jupyter-widgets/base",
            "overflow": null,
            "_model_module_version": "1.2.0",
            "_view_count": null,
            "flex_flow": null,
            "width": null,
            "min_width": null,
            "border": null,
            "align_items": null,
            "bottom": null,
            "_model_module": "@jupyter-widgets/base",
            "top": null,
            "grid_column": null,
            "overflow_y": null,
            "overflow_x": null,
            "grid_auto_flow": null,
            "grid_area": null,
            "grid_template_columns": null,
            "flex": null,
            "_model_name": "LayoutModel",
            "justify_items": null,
            "grid_row": null,
            "max_height": null,
            "align_content": null,
            "visibility": null,
            "align_self": null,
            "height": null,
            "min_height": null,
            "padding": null,
            "grid_auto_rows": null,
            "grid_gap": null,
            "max_width": null,
            "order": null,
            "_view_module_version": "1.2.0",
            "grid_template_areas": null,
            "object_position": null,
            "object_fit": null,
            "grid_auto_columns": null,
            "margin": null,
            "display": null,
            "left": null
          }
        },
        "86f2eb9f1d9443059b4599f0b9c12f15": {
          "model_module": "@jupyter-widgets/controls",
          "model_name": "DescriptionStyleModel",
          "state": {
            "_view_name": "StyleView",
            "_model_name": "DescriptionStyleModel",
            "description_width": "",
            "_view_module": "@jupyter-widgets/base",
            "_model_module_version": "1.5.0",
            "_view_count": null,
            "_view_module_version": "1.2.0",
            "_model_module": "@jupyter-widgets/controls"
          }
        },
        "cea8a934d9ea4b258231effa3828c8df": {
          "model_module": "@jupyter-widgets/base",
          "model_name": "LayoutModel",
          "state": {
            "_view_name": "LayoutView",
            "grid_template_rows": null,
            "right": null,
            "justify_content": null,
            "_view_module": "@jupyter-widgets/base",
            "overflow": null,
            "_model_module_version": "1.2.0",
            "_view_count": null,
            "flex_flow": null,
            "width": null,
            "min_width": null,
            "border": null,
            "align_items": null,
            "bottom": null,
            "_model_module": "@jupyter-widgets/base",
            "top": null,
            "grid_column": null,
            "overflow_y": null,
            "overflow_x": null,
            "grid_auto_flow": null,
            "grid_area": null,
            "grid_template_columns": null,
            "flex": null,
            "_model_name": "LayoutModel",
            "justify_items": null,
            "grid_row": null,
            "max_height": null,
            "align_content": null,
            "visibility": null,
            "align_self": null,
            "height": null,
            "min_height": null,
            "padding": null,
            "grid_auto_rows": null,
            "grid_gap": null,
            "max_width": null,
            "order": null,
            "_view_module_version": "1.2.0",
            "grid_template_areas": null,
            "object_position": null,
            "object_fit": null,
            "grid_auto_columns": null,
            "margin": null,
            "display": null,
            "left": null
          }
        },
        "493a45e23c964634a5713afc02140d30": {
          "model_module": "@jupyter-widgets/controls",
          "model_name": "HBoxModel",
          "state": {
            "_view_name": "HBoxView",
            "_dom_classes": [],
            "_model_name": "HBoxModel",
            "_view_module": "@jupyter-widgets/controls",
            "_model_module_version": "1.5.0",
            "_view_count": null,
            "_view_module_version": "1.5.0",
            "box_style": "",
            "layout": "IPY_MODEL_9ef130a1775948db92322aaf6c80bbc6",
            "_model_module": "@jupyter-widgets/controls",
            "children": [
              "IPY_MODEL_6ed1e439669744f7978e48306c6e2e42",
              "IPY_MODEL_a1d27356fb1348c392f2e454d8d8791d"
            ]
          }
        },
        "9ef130a1775948db92322aaf6c80bbc6": {
          "model_module": "@jupyter-widgets/base",
          "model_name": "LayoutModel",
          "state": {
            "_view_name": "LayoutView",
            "grid_template_rows": null,
            "right": null,
            "justify_content": null,
            "_view_module": "@jupyter-widgets/base",
            "overflow": null,
            "_model_module_version": "1.2.0",
            "_view_count": null,
            "flex_flow": null,
            "width": null,
            "min_width": null,
            "border": null,
            "align_items": null,
            "bottom": null,
            "_model_module": "@jupyter-widgets/base",
            "top": null,
            "grid_column": null,
            "overflow_y": null,
            "overflow_x": null,
            "grid_auto_flow": null,
            "grid_area": null,
            "grid_template_columns": null,
            "flex": null,
            "_model_name": "LayoutModel",
            "justify_items": null,
            "grid_row": null,
            "max_height": null,
            "align_content": null,
            "visibility": null,
            "align_self": null,
            "height": null,
            "min_height": null,
            "padding": null,
            "grid_auto_rows": null,
            "grid_gap": null,
            "max_width": null,
            "order": null,
            "_view_module_version": "1.2.0",
            "grid_template_areas": null,
            "object_position": null,
            "object_fit": null,
            "grid_auto_columns": null,
            "margin": null,
            "display": null,
            "left": null
          }
        },
        "6ed1e439669744f7978e48306c6e2e42": {
          "model_module": "@jupyter-widgets/controls",
          "model_name": "FloatProgressModel",
          "state": {
            "_view_name": "ProgressView",
            "style": "IPY_MODEL_60b2b3092c9343c7ba5d5598b6491bfb",
            "_dom_classes": [],
            "description": "",
            "_model_name": "FloatProgressModel",
            "bar_style": "info",
            "max": 1,
            "_view_module": "@jupyter-widgets/controls",
            "_model_module_version": "1.5.0",
            "value": 1,
            "_view_count": null,
            "_view_module_version": "1.5.0",
            "orientation": "horizontal",
            "min": 0,
            "description_tooltip": null,
            "_model_module": "@jupyter-widgets/controls",
            "layout": "IPY_MODEL_98ce62851d25489e8abafb74952aa7d2"
          }
        },
        "a1d27356fb1348c392f2e454d8d8791d": {
          "model_module": "@jupyter-widgets/controls",
          "model_name": "HTMLModel",
          "state": {
            "_view_name": "HTMLView",
            "style": "IPY_MODEL_e66deb160a574700b2c85cb0982b0dcf",
            "_dom_classes": [],
            "description": "",
            "_model_name": "HTMLModel",
            "placeholder": "​",
            "_view_module": "@jupyter-widgets/controls",
            "_model_module_version": "1.5.0",
            "value": " 8530/0 [00:01&lt;00:00,  1.30s/ examples]",
            "_view_count": null,
            "_view_module_version": "1.5.0",
            "description_tooltip": null,
            "_model_module": "@jupyter-widgets/controls",
            "layout": "IPY_MODEL_726565ccdd7c4d8d8f3bb78e3040e517"
          }
        },
        "60b2b3092c9343c7ba5d5598b6491bfb": {
          "model_module": "@jupyter-widgets/controls",
          "model_name": "ProgressStyleModel",
          "state": {
            "_view_name": "StyleView",
            "_model_name": "ProgressStyleModel",
            "description_width": "initial",
            "_view_module": "@jupyter-widgets/base",
            "_model_module_version": "1.5.0",
            "_view_count": null,
            "_view_module_version": "1.2.0",
            "bar_color": null,
            "_model_module": "@jupyter-widgets/controls"
          }
        },
        "98ce62851d25489e8abafb74952aa7d2": {
          "model_module": "@jupyter-widgets/base",
          "model_name": "LayoutModel",
          "state": {
            "_view_name": "LayoutView",
            "grid_template_rows": null,
            "right": null,
            "justify_content": null,
            "_view_module": "@jupyter-widgets/base",
            "overflow": null,
            "_model_module_version": "1.2.0",
            "_view_count": null,
            "flex_flow": null,
            "width": null,
            "min_width": null,
            "border": null,
            "align_items": null,
            "bottom": null,
            "_model_module": "@jupyter-widgets/base",
            "top": null,
            "grid_column": null,
            "overflow_y": null,
            "overflow_x": null,
            "grid_auto_flow": null,
            "grid_area": null,
            "grid_template_columns": null,
            "flex": null,
            "_model_name": "LayoutModel",
            "justify_items": null,
            "grid_row": null,
            "max_height": null,
            "align_content": null,
            "visibility": null,
            "align_self": null,
            "height": null,
            "min_height": null,
            "padding": null,
            "grid_auto_rows": null,
            "grid_gap": null,
            "max_width": null,
            "order": null,
            "_view_module_version": "1.2.0",
            "grid_template_areas": null,
            "object_position": null,
            "object_fit": null,
            "grid_auto_columns": null,
            "margin": null,
            "display": null,
            "left": null
          }
        },
        "e66deb160a574700b2c85cb0982b0dcf": {
          "model_module": "@jupyter-widgets/controls",
          "model_name": "DescriptionStyleModel",
          "state": {
            "_view_name": "StyleView",
            "_model_name": "DescriptionStyleModel",
            "description_width": "",
            "_view_module": "@jupyter-widgets/base",
            "_model_module_version": "1.5.0",
            "_view_count": null,
            "_view_module_version": "1.2.0",
            "_model_module": "@jupyter-widgets/controls"
          }
        },
        "726565ccdd7c4d8d8f3bb78e3040e517": {
          "model_module": "@jupyter-widgets/base",
          "model_name": "LayoutModel",
          "state": {
            "_view_name": "LayoutView",
            "grid_template_rows": null,
            "right": null,
            "justify_content": null,
            "_view_module": "@jupyter-widgets/base",
            "overflow": null,
            "_model_module_version": "1.2.0",
            "_view_count": null,
            "flex_flow": null,
            "width": null,
            "min_width": null,
            "border": null,
            "align_items": null,
            "bottom": null,
            "_model_module": "@jupyter-widgets/base",
            "top": null,
            "grid_column": null,
            "overflow_y": null,
            "overflow_x": null,
            "grid_auto_flow": null,
            "grid_area": null,
            "grid_template_columns": null,
            "flex": null,
            "_model_name": "LayoutModel",
            "justify_items": null,
            "grid_row": null,
            "max_height": null,
            "align_content": null,
            "visibility": null,
            "align_self": null,
            "height": null,
            "min_height": null,
            "padding": null,
            "grid_auto_rows": null,
            "grid_gap": null,
            "max_width": null,
            "order": null,
            "_view_module_version": "1.2.0",
            "grid_template_areas": null,
            "object_position": null,
            "object_fit": null,
            "grid_auto_columns": null,
            "margin": null,
            "display": null,
            "left": null
          }
        },
        "9d9eaafed27a4c4cb5cbb5e1641c0648": {
          "model_module": "@jupyter-widgets/controls",
          "model_name": "HBoxModel",
          "state": {
            "_view_name": "HBoxView",
            "_dom_classes": [],
            "_model_name": "HBoxModel",
            "_view_module": "@jupyter-widgets/controls",
            "_model_module_version": "1.5.0",
            "_view_count": null,
            "_view_module_version": "1.5.0",
            "box_style": "",
            "layout": "IPY_MODEL_9896d0a505f44c208254eb7766d2d97b",
            "_model_module": "@jupyter-widgets/controls",
            "children": [
              "IPY_MODEL_b4c47858294c408296ee482d6816b5e5",
              "IPY_MODEL_9877b4f74ca2461b8f64c6b0f12df044"
            ]
          }
        },
        "9896d0a505f44c208254eb7766d2d97b": {
          "model_module": "@jupyter-widgets/base",
          "model_name": "LayoutModel",
          "state": {
            "_view_name": "LayoutView",
            "grid_template_rows": null,
            "right": null,
            "justify_content": null,
            "_view_module": "@jupyter-widgets/base",
            "overflow": null,
            "_model_module_version": "1.2.0",
            "_view_count": null,
            "flex_flow": null,
            "width": null,
            "min_width": null,
            "border": null,
            "align_items": null,
            "bottom": null,
            "_model_module": "@jupyter-widgets/base",
            "top": null,
            "grid_column": null,
            "overflow_y": null,
            "overflow_x": null,
            "grid_auto_flow": null,
            "grid_area": null,
            "grid_template_columns": null,
            "flex": null,
            "_model_name": "LayoutModel",
            "justify_items": null,
            "grid_row": null,
            "max_height": null,
            "align_content": null,
            "visibility": null,
            "align_self": null,
            "height": null,
            "min_height": null,
            "padding": null,
            "grid_auto_rows": null,
            "grid_gap": null,
            "max_width": null,
            "order": null,
            "_view_module_version": "1.2.0",
            "grid_template_areas": null,
            "object_position": null,
            "object_fit": null,
            "grid_auto_columns": null,
            "margin": null,
            "display": null,
            "left": null
          }
        },
        "b4c47858294c408296ee482d6816b5e5": {
          "model_module": "@jupyter-widgets/controls",
          "model_name": "FloatProgressModel",
          "state": {
            "_view_name": "ProgressView",
            "style": "IPY_MODEL_760ea141666947b09d83b13f06199803",
            "_dom_classes": [],
            "description": "",
            "_model_name": "FloatProgressModel",
            "bar_style": "info",
            "max": 1,
            "_view_module": "@jupyter-widgets/controls",
            "_model_module_version": "1.5.0",
            "value": 1,
            "_view_count": null,
            "_view_module_version": "1.5.0",
            "orientation": "horizontal",
            "min": 0,
            "description_tooltip": null,
            "_model_module": "@jupyter-widgets/controls",
            "layout": "IPY_MODEL_8a8624e7993546f2be91b9368c1a3fa8"
          }
        },
        "9877b4f74ca2461b8f64c6b0f12df044": {
          "model_module": "@jupyter-widgets/controls",
          "model_name": "HTMLModel",
          "state": {
            "_view_name": "HTMLView",
            "style": "IPY_MODEL_904e0de9b15f4fc198272491efcaff76",
            "_dom_classes": [],
            "description": "",
            "_model_name": "HTMLModel",
            "placeholder": "​",
            "_view_module": "@jupyter-widgets/controls",
            "_model_module_version": "1.5.0",
            "value": " 1066/0 [00:00&lt;00:00, 14706.64 examples/s]",
            "_view_count": null,
            "_view_module_version": "1.5.0",
            "description_tooltip": null,
            "_model_module": "@jupyter-widgets/controls",
            "layout": "IPY_MODEL_c50173f33826410fbcc1cd242f49aa20"
          }
        },
        "760ea141666947b09d83b13f06199803": {
          "model_module": "@jupyter-widgets/controls",
          "model_name": "ProgressStyleModel",
          "state": {
            "_view_name": "StyleView",
            "_model_name": "ProgressStyleModel",
            "description_width": "initial",
            "_view_module": "@jupyter-widgets/base",
            "_model_module_version": "1.5.0",
            "_view_count": null,
            "_view_module_version": "1.2.0",
            "bar_color": null,
            "_model_module": "@jupyter-widgets/controls"
          }
        },
        "8a8624e7993546f2be91b9368c1a3fa8": {
          "model_module": "@jupyter-widgets/base",
          "model_name": "LayoutModel",
          "state": {
            "_view_name": "LayoutView",
            "grid_template_rows": null,
            "right": null,
            "justify_content": null,
            "_view_module": "@jupyter-widgets/base",
            "overflow": null,
            "_model_module_version": "1.2.0",
            "_view_count": null,
            "flex_flow": null,
            "width": null,
            "min_width": null,
            "border": null,
            "align_items": null,
            "bottom": null,
            "_model_module": "@jupyter-widgets/base",
            "top": null,
            "grid_column": null,
            "overflow_y": null,
            "overflow_x": null,
            "grid_auto_flow": null,
            "grid_area": null,
            "grid_template_columns": null,
            "flex": null,
            "_model_name": "LayoutModel",
            "justify_items": null,
            "grid_row": null,
            "max_height": null,
            "align_content": null,
            "visibility": null,
            "align_self": null,
            "height": null,
            "min_height": null,
            "padding": null,
            "grid_auto_rows": null,
            "grid_gap": null,
            "max_width": null,
            "order": null,
            "_view_module_version": "1.2.0",
            "grid_template_areas": null,
            "object_position": null,
            "object_fit": null,
            "grid_auto_columns": null,
            "margin": null,
            "display": null,
            "left": null
          }
        },
        "904e0de9b15f4fc198272491efcaff76": {
          "model_module": "@jupyter-widgets/controls",
          "model_name": "DescriptionStyleModel",
          "state": {
            "_view_name": "StyleView",
            "_model_name": "DescriptionStyleModel",
            "description_width": "",
            "_view_module": "@jupyter-widgets/base",
            "_model_module_version": "1.5.0",
            "_view_count": null,
            "_view_module_version": "1.2.0",
            "_model_module": "@jupyter-widgets/controls"
          }
        },
        "c50173f33826410fbcc1cd242f49aa20": {
          "model_module": "@jupyter-widgets/base",
          "model_name": "LayoutModel",
          "state": {
            "_view_name": "LayoutView",
            "grid_template_rows": null,
            "right": null,
            "justify_content": null,
            "_view_module": "@jupyter-widgets/base",
            "overflow": null,
            "_model_module_version": "1.2.0",
            "_view_count": null,
            "flex_flow": null,
            "width": null,
            "min_width": null,
            "border": null,
            "align_items": null,
            "bottom": null,
            "_model_module": "@jupyter-widgets/base",
            "top": null,
            "grid_column": null,
            "overflow_y": null,
            "overflow_x": null,
            "grid_auto_flow": null,
            "grid_area": null,
            "grid_template_columns": null,
            "flex": null,
            "_model_name": "LayoutModel",
            "justify_items": null,
            "grid_row": null,
            "max_height": null,
            "align_content": null,
            "visibility": null,
            "align_self": null,
            "height": null,
            "min_height": null,
            "padding": null,
            "grid_auto_rows": null,
            "grid_gap": null,
            "max_width": null,
            "order": null,
            "_view_module_version": "1.2.0",
            "grid_template_areas": null,
            "object_position": null,
            "object_fit": null,
            "grid_auto_columns": null,
            "margin": null,
            "display": null,
            "left": null
          }
        },
        "c7237d0f50304b1e842f8ff763af3bab": {
          "model_module": "@jupyter-widgets/controls",
          "model_name": "HBoxModel",
          "state": {
            "_view_name": "HBoxView",
            "_dom_classes": [],
            "_model_name": "HBoxModel",
            "_view_module": "@jupyter-widgets/controls",
            "_model_module_version": "1.5.0",
            "_view_count": null,
            "_view_module_version": "1.5.0",
            "box_style": "",
            "layout": "IPY_MODEL_38fd2477a8c74862bd416354c6421149",
            "_model_module": "@jupyter-widgets/controls",
            "children": [
              "IPY_MODEL_9442557999de477caf4d0ffdda6b331c",
              "IPY_MODEL_a5855b24d5824b61b0e812ccdddc8cb1"
            ]
          }
        },
        "38fd2477a8c74862bd416354c6421149": {
          "model_module": "@jupyter-widgets/base",
          "model_name": "LayoutModel",
          "state": {
            "_view_name": "LayoutView",
            "grid_template_rows": null,
            "right": null,
            "justify_content": null,
            "_view_module": "@jupyter-widgets/base",
            "overflow": null,
            "_model_module_version": "1.2.0",
            "_view_count": null,
            "flex_flow": null,
            "width": null,
            "min_width": null,
            "border": null,
            "align_items": null,
            "bottom": null,
            "_model_module": "@jupyter-widgets/base",
            "top": null,
            "grid_column": null,
            "overflow_y": null,
            "overflow_x": null,
            "grid_auto_flow": null,
            "grid_area": null,
            "grid_template_columns": null,
            "flex": null,
            "_model_name": "LayoutModel",
            "justify_items": null,
            "grid_row": null,
            "max_height": null,
            "align_content": null,
            "visibility": null,
            "align_self": null,
            "height": null,
            "min_height": null,
            "padding": null,
            "grid_auto_rows": null,
            "grid_gap": null,
            "max_width": null,
            "order": null,
            "_view_module_version": "1.2.0",
            "grid_template_areas": null,
            "object_position": null,
            "object_fit": null,
            "grid_auto_columns": null,
            "margin": null,
            "display": null,
            "left": null
          }
        },
        "9442557999de477caf4d0ffdda6b331c": {
          "model_module": "@jupyter-widgets/controls",
          "model_name": "FloatProgressModel",
          "state": {
            "_view_name": "ProgressView",
            "style": "IPY_MODEL_5d21f8e2e7e94302857860d6c9d4fa38",
            "_dom_classes": [],
            "description": "",
            "_model_name": "FloatProgressModel",
            "bar_style": "info",
            "max": 1,
            "_view_module": "@jupyter-widgets/controls",
            "_model_module_version": "1.5.0",
            "value": 1,
            "_view_count": null,
            "_view_module_version": "1.5.0",
            "orientation": "horizontal",
            "min": 0,
            "description_tooltip": null,
            "_model_module": "@jupyter-widgets/controls",
            "layout": "IPY_MODEL_e7e4b431e1954eff8fe6786614b41508"
          }
        },
        "a5855b24d5824b61b0e812ccdddc8cb1": {
          "model_module": "@jupyter-widgets/controls",
          "model_name": "HTMLModel",
          "state": {
            "_view_name": "HTMLView",
            "style": "IPY_MODEL_83288e40dc3046df914a2f2e5b0cde2c",
            "_dom_classes": [],
            "description": "",
            "_model_name": "HTMLModel",
            "placeholder": "​",
            "_view_module": "@jupyter-widgets/controls",
            "_model_module_version": "1.5.0",
            "value": " 1066/0 [00:00&lt;00:00, 11910.94 examples/s]",
            "_view_count": null,
            "_view_module_version": "1.5.0",
            "description_tooltip": null,
            "_model_module": "@jupyter-widgets/controls",
            "layout": "IPY_MODEL_c702da47c93147fda6a9ee6707b0910c"
          }
        },
        "5d21f8e2e7e94302857860d6c9d4fa38": {
          "model_module": "@jupyter-widgets/controls",
          "model_name": "ProgressStyleModel",
          "state": {
            "_view_name": "StyleView",
            "_model_name": "ProgressStyleModel",
            "description_width": "initial",
            "_view_module": "@jupyter-widgets/base",
            "_model_module_version": "1.5.0",
            "_view_count": null,
            "_view_module_version": "1.2.0",
            "bar_color": null,
            "_model_module": "@jupyter-widgets/controls"
          }
        },
        "e7e4b431e1954eff8fe6786614b41508": {
          "model_module": "@jupyter-widgets/base",
          "model_name": "LayoutModel",
          "state": {
            "_view_name": "LayoutView",
            "grid_template_rows": null,
            "right": null,
            "justify_content": null,
            "_view_module": "@jupyter-widgets/base",
            "overflow": null,
            "_model_module_version": "1.2.0",
            "_view_count": null,
            "flex_flow": null,
            "width": null,
            "min_width": null,
            "border": null,
            "align_items": null,
            "bottom": null,
            "_model_module": "@jupyter-widgets/base",
            "top": null,
            "grid_column": null,
            "overflow_y": null,
            "overflow_x": null,
            "grid_auto_flow": null,
            "grid_area": null,
            "grid_template_columns": null,
            "flex": null,
            "_model_name": "LayoutModel",
            "justify_items": null,
            "grid_row": null,
            "max_height": null,
            "align_content": null,
            "visibility": null,
            "align_self": null,
            "height": null,
            "min_height": null,
            "padding": null,
            "grid_auto_rows": null,
            "grid_gap": null,
            "max_width": null,
            "order": null,
            "_view_module_version": "1.2.0",
            "grid_template_areas": null,
            "object_position": null,
            "object_fit": null,
            "grid_auto_columns": null,
            "margin": null,
            "display": null,
            "left": null
          }
        },
        "83288e40dc3046df914a2f2e5b0cde2c": {
          "model_module": "@jupyter-widgets/controls",
          "model_name": "DescriptionStyleModel",
          "state": {
            "_view_name": "StyleView",
            "_model_name": "DescriptionStyleModel",
            "description_width": "",
            "_view_module": "@jupyter-widgets/base",
            "_model_module_version": "1.5.0",
            "_view_count": null,
            "_view_module_version": "1.2.0",
            "_model_module": "@jupyter-widgets/controls"
          }
        },
        "c702da47c93147fda6a9ee6707b0910c": {
          "model_module": "@jupyter-widgets/base",
          "model_name": "LayoutModel",
          "state": {
            "_view_name": "LayoutView",
            "grid_template_rows": null,
            "right": null,
            "justify_content": null,
            "_view_module": "@jupyter-widgets/base",
            "overflow": null,
            "_model_module_version": "1.2.0",
            "_view_count": null,
            "flex_flow": null,
            "width": null,
            "min_width": null,
            "border": null,
            "align_items": null,
            "bottom": null,
            "_model_module": "@jupyter-widgets/base",
            "top": null,
            "grid_column": null,
            "overflow_y": null,
            "overflow_x": null,
            "grid_auto_flow": null,
            "grid_area": null,
            "grid_template_columns": null,
            "flex": null,
            "_model_name": "LayoutModel",
            "justify_items": null,
            "grid_row": null,
            "max_height": null,
            "align_content": null,
            "visibility": null,
            "align_self": null,
            "height": null,
            "min_height": null,
            "padding": null,
            "grid_auto_rows": null,
            "grid_gap": null,
            "max_width": null,
            "order": null,
            "_view_module_version": "1.2.0",
            "grid_template_areas": null,
            "object_position": null,
            "object_fit": null,
            "grid_auto_columns": null,
            "margin": null,
            "display": null,
            "left": null
          }
        }
      }
    }
  },
  "cells": [
    {
      "cell_type": "code",
      "metadata": {
        "colab": {
          "base_uri": "https://localhost:8080/"
        },
        "id": "Tjsl5_TPD5p-",
        "outputId": "4377275c-c4ba-49d1-c727-2422babd3349"
      },
      "source": [
        "from google.colab import drive\n",
        "drive.mount('/content/drive')"
      ],
      "execution_count": 1,
      "outputs": [
        {
          "output_type": "stream",
          "text": [
            "Mounted at /content/drive\n"
          ],
          "name": "stdout"
        }
      ]
    },
    {
      "cell_type": "markdown",
      "metadata": {
        "id": "35YsotQWRREJ"
      },
      "source": [
        "#Installing libraries"
      ]
    },
    {
      "cell_type": "code",
      "metadata": {
        "id": "hZeIFn6iC9FF",
        "colab": {
          "base_uri": "https://localhost:8080/",
          "height": 1000
        },
        "outputId": "cc3cc70d-3e31-48d2-8f0a-dfce965ae9d7"
      },
      "source": [
        "!pip install textattack\n",
        "!pip install -U gensim==4.0.0\n",
        "!pip install python-Levenshtein"
      ],
      "execution_count": 2,
      "outputs": [
        {
          "output_type": "stream",
          "text": [
            "Collecting textattack\n",
            "\u001b[?25l  Downloading https://files.pythonhosted.org/packages/0f/82/2f16ef7f22f19b3a49bbcd079dc31e53d362e1ef1299298c3eda05cf2b3a/textattack-0.2.15-py3-none-any.whl (349kB)\n",
            "\u001b[K     |████████████████████████████████| 358kB 21.0MB/s \n",
            "\u001b[?25hCollecting numpy<1.19.0\n",
            "\u001b[?25l  Downloading https://files.pythonhosted.org/packages/d6/c6/58e517e8b1fb192725cfa23c01c2e60e4e6699314ee9684a1c5f5c9b27e1/numpy-1.18.5-cp37-cp37m-manylinux1_x86_64.whl (20.1MB)\n",
            "\u001b[K     |████████████████████████████████| 20.1MB 1.3MB/s \n",
            "\u001b[?25hCollecting bert-score>=0.3.5\n",
            "\u001b[?25l  Downloading https://files.pythonhosted.org/packages/38/fb/e63e7e231a79db0489dbf7e7d0ebfb279ccb3d8216aa0d133572f784f3fa/bert_score-0.3.9-py3-none-any.whl (59kB)\n",
            "\u001b[K     |████████████████████████████████| 61kB 9.9MB/s \n",
            "\u001b[?25hRequirement already satisfied: nltk in /usr/local/lib/python3.7/dist-packages (from textattack) (3.2.5)\n",
            "Requirement already satisfied: tqdm<4.50.0,>=4.27 in /usr/local/lib/python3.7/dist-packages (from textattack) (4.41.1)\n",
            "Requirement already satisfied: pandas>=1.0.1 in /usr/local/lib/python3.7/dist-packages (from textattack) (1.1.5)\n",
            "Requirement already satisfied: filelock in /usr/local/lib/python3.7/dist-packages (from textattack) (3.0.12)\n",
            "Requirement already satisfied: PySocks!=1.5.7,>=1.5.6 in /usr/local/lib/python3.7/dist-packages (from textattack) (1.7.1)\n",
            "Collecting transformers>=3.3.0\n",
            "\u001b[?25l  Downloading https://files.pythonhosted.org/packages/d8/b2/57495b5309f09fa501866e225c84532d1fd89536ea62406b2181933fb418/transformers-4.5.1-py3-none-any.whl (2.1MB)\n",
            "\u001b[K     |████████████████████████████████| 2.1MB 51.9MB/s \n",
            "\u001b[?25hCollecting num2words\n",
            "\u001b[?25l  Downloading https://files.pythonhosted.org/packages/eb/a2/ea800689730732e27711c41beed4b2a129b34974435bdc450377ec407738/num2words-0.5.10-py3-none-any.whl (101kB)\n",
            "\u001b[K     |████████████████████████████████| 102kB 12.7MB/s \n",
            "\u001b[?25hRequirement already satisfied: scipy==1.4.1 in /usr/local/lib/python3.7/dist-packages (from textattack) (1.4.1)\n",
            "Collecting lemminflect\n",
            "\u001b[?25l  Downloading https://files.pythonhosted.org/packages/4b/67/d04ca98b661d4ad52b9b965c9dabb1f1a2c85541d20f8decb9a9df4e4b32/lemminflect-0.2.2-py3-none-any.whl (769kB)\n",
            "\u001b[K     |████████████████████████████████| 778kB 50.6MB/s \n",
            "\u001b[?25hCollecting word2number\n",
            "  Downloading https://files.pythonhosted.org/packages/4a/29/a31940c848521f0725f0df6b25dca8917f13a2025b0e8fcbe5d0457e45e6/word2number-1.1.zip\n",
            "Collecting language-tool-python\n",
            "  Downloading https://files.pythonhosted.org/packages/37/26/48b22ad565fd372edec3577218fb817e0e6626bf4e658033197470ad92b3/language_tool_python-2.5.3-py3-none-any.whl\n",
            "Requirement already satisfied: editdistance in /usr/local/lib/python3.7/dist-packages (from textattack) (0.5.3)\n",
            "Collecting flair==0.6.1.post1\n",
            "\u001b[?25l  Downloading https://files.pythonhosted.org/packages/4a/49/a812ed93088ba9519cbb40eb9f52341694b31cfa126bfddcd9db3761f3ac/flair-0.6.1.post1-py3-none-any.whl (337kB)\n",
            "\u001b[K     |████████████████████████████████| 337kB 56.2MB/s \n",
            "\u001b[?25hRequirement already satisfied: torch in /usr/local/lib/python3.7/dist-packages (from textattack) (1.8.1+cu101)\n",
            "Collecting lru-dict\n",
            "  Downloading https://files.pythonhosted.org/packages/68/ea/997af58d4e6da019ad825a412f93081d9df67e9dda11cfb026a3d7cd0b6c/lru-dict-1.1.7.tar.gz\n",
            "Collecting terminaltables\n",
            "  Downloading https://files.pythonhosted.org/packages/9b/c4/4a21174f32f8a7e1104798c445dacdc1d4df86f2f26722767034e4de4bff/terminaltables-3.1.0.tar.gz\n",
            "Requirement already satisfied: more-itertools in /usr/local/lib/python3.7/dist-packages (from textattack) (8.7.0)\n",
            "Collecting datasets\n",
            "\u001b[?25l  Downloading https://files.pythonhosted.org/packages/46/1a/b9f9b3bfef624686ae81c070f0a6bb635047b17cdb3698c7ad01281e6f9a/datasets-1.6.2-py3-none-any.whl (221kB)\n",
            "\u001b[K     |████████████████████████████████| 225kB 28.3MB/s \n",
            "\u001b[?25hRequirement already satisfied: matplotlib in /usr/local/lib/python3.7/dist-packages (from bert-score>=0.3.5->textattack) (3.2.2)\n",
            "Requirement already satisfied: requests in /usr/local/lib/python3.7/dist-packages (from bert-score>=0.3.5->textattack) (2.23.0)\n",
            "Requirement already satisfied: six in /usr/local/lib/python3.7/dist-packages (from nltk->textattack) (1.15.0)\n",
            "Requirement already satisfied: pytz>=2017.2 in /usr/local/lib/python3.7/dist-packages (from pandas>=1.0.1->textattack) (2018.9)\n",
            "Requirement already satisfied: python-dateutil>=2.7.3 in /usr/local/lib/python3.7/dist-packages (from pandas>=1.0.1->textattack) (2.8.1)\n",
            "Requirement already satisfied: importlib-metadata; python_version < \"3.8\" in /usr/local/lib/python3.7/dist-packages (from transformers>=3.3.0->textattack) (3.10.1)\n",
            "Requirement already satisfied: packaging in /usr/local/lib/python3.7/dist-packages (from transformers>=3.3.0->textattack) (20.9)\n",
            "Collecting sacremoses\n",
            "\u001b[?25l  Downloading https://files.pythonhosted.org/packages/75/ee/67241dc87f266093c533a2d4d3d69438e57d7a90abb216fa076e7d475d4a/sacremoses-0.0.45-py3-none-any.whl (895kB)\n",
            "\u001b[K     |████████████████████████████████| 901kB 50.0MB/s \n",
            "\u001b[?25hRequirement already satisfied: regex!=2019.12.17 in /usr/local/lib/python3.7/dist-packages (from transformers>=3.3.0->textattack) (2019.12.20)\n",
            "Collecting tokenizers<0.11,>=0.10.1\n",
            "\u001b[?25l  Downloading https://files.pythonhosted.org/packages/ae/04/5b870f26a858552025a62f1649c20d29d2672c02ff3c3fb4c688ca46467a/tokenizers-0.10.2-cp37-cp37m-manylinux2010_x86_64.whl (3.3MB)\n",
            "\u001b[K     |████████████████████████████████| 3.3MB 50.0MB/s \n",
            "\u001b[?25hRequirement already satisfied: docopt>=0.6.2 in /usr/local/lib/python3.7/dist-packages (from num2words->textattack) (0.6.2)\n",
            "Collecting segtok>=1.5.7\n",
            "  Downloading https://files.pythonhosted.org/packages/41/08/582dab5f4b1d5ca23bc6927b4bb977c8ff7f3a87a3b98844ef833e2f5623/segtok-1.5.10.tar.gz\n",
            "Requirement already satisfied: lxml in /usr/local/lib/python3.7/dist-packages (from flair==0.6.1.post1->textattack) (4.2.6)\n",
            "Collecting janome\n",
            "\u001b[?25l  Downloading https://files.pythonhosted.org/packages/a8/63/98858cbead27df7536c7e300c169da0999e9704d02220dc6700b804eeff0/Janome-0.4.1-py2.py3-none-any.whl (19.7MB)\n",
            "\u001b[K     |████████████████████████████████| 19.7MB 171kB/s \n",
            "\u001b[?25hCollecting langdetect\n",
            "\u001b[?25l  Downloading https://files.pythonhosted.org/packages/0e/72/a3add0e4eec4eb9e2569554f7c70f4a3c27712f40e3284d483e88094cc0e/langdetect-1.0.9.tar.gz (981kB)\n",
            "\u001b[K     |████████████████████████████████| 983kB 49.2MB/s \n",
            "\u001b[?25hCollecting konoha<5.0.0,>=4.0.0\n",
            "  Downloading https://files.pythonhosted.org/packages/02/be/4dd30d56a0a19619deb9bf41ba8202709fa83b1b301b876572cd6dc38117/konoha-4.6.4-py3-none-any.whl\n",
            "Collecting ftfy\n",
            "\u001b[?25l  Downloading https://files.pythonhosted.org/packages/ce/b5/5da463f9c7823e0e575e9908d004e2af4b36efa8d02d3d6dad57094fcb11/ftfy-6.0.1.tar.gz (63kB)\n",
            "\u001b[K     |████████████████████████████████| 71kB 11.3MB/s \n",
            "\u001b[?25hCollecting sentencepiece!=0.1.92\n",
            "\u001b[?25l  Downloading https://files.pythonhosted.org/packages/f5/99/e0808cb947ba10f575839c43e8fafc9cc44e4a7a2c8f79c60db48220a577/sentencepiece-0.1.95-cp37-cp37m-manylinux2014_x86_64.whl (1.2MB)\n",
            "\u001b[K     |████████████████████████████████| 1.2MB 46.3MB/s \n",
            "\u001b[?25hCollecting deprecated>=1.2.4\n",
            "  Downloading https://files.pythonhosted.org/packages/fb/73/994edfcba74443146c84b91921fcc269374354118d4f452fb0c54c1cbb12/Deprecated-1.2.12-py2.py3-none-any.whl\n",
            "Collecting sqlitedict>=1.6.0\n",
            "  Downloading https://files.pythonhosted.org/packages/5c/2d/b1d99e9ad157dd7de9cd0d36a8a5876b13b55e4b75f7498bc96035fb4e96/sqlitedict-1.7.0.tar.gz\n",
            "Collecting bpemb>=0.3.2\n",
            "  Downloading https://files.pythonhosted.org/packages/f2/6f/9191b85109772636a8f8accb122900c34db26c091d2793218aa94954524c/bpemb-0.3.3-py3-none-any.whl\n",
            "Requirement already satisfied: scikit-learn>=0.21.3 in /usr/local/lib/python3.7/dist-packages (from flair==0.6.1.post1->textattack) (0.22.2.post1)\n",
            "Requirement already satisfied: hyperopt>=0.1.1 in /usr/local/lib/python3.7/dist-packages (from flair==0.6.1.post1->textattack) (0.1.2)\n",
            "Collecting mpld3==0.3\n",
            "\u001b[?25l  Downloading https://files.pythonhosted.org/packages/91/95/a52d3a83d0a29ba0d6898f6727e9858fe7a43f6c2ce81a5fe7e05f0f4912/mpld3-0.3.tar.gz (788kB)\n",
            "\u001b[K     |████████████████████████████████| 798kB 47.1MB/s \n",
            "\u001b[?25hRequirement already satisfied: gensim>=3.4.0 in /usr/local/lib/python3.7/dist-packages (from flair==0.6.1.post1->textattack) (3.6.0)\n",
            "Requirement already satisfied: gdown in /usr/local/lib/python3.7/dist-packages (from flair==0.6.1.post1->textattack) (3.6.4)\n",
            "Requirement already satisfied: tabulate in /usr/local/lib/python3.7/dist-packages (from flair==0.6.1.post1->textattack) (0.8.9)\n",
            "Requirement already satisfied: typing-extensions in /usr/local/lib/python3.7/dist-packages (from torch->textattack) (3.7.4.3)\n",
            "Requirement already satisfied: multiprocess in /usr/local/lib/python3.7/dist-packages (from datasets->textattack) (0.70.11.1)\n",
            "Requirement already satisfied: dill in /usr/local/lib/python3.7/dist-packages (from datasets->textattack) (0.3.3)\n",
            "Collecting fsspec\n",
            "\u001b[?25l  Downloading https://files.pythonhosted.org/packages/e9/91/2ef649137816850fa4f4c97c6f2eabb1a79bf0aa2c8ed198e387e373455e/fsspec-2021.4.0-py3-none-any.whl (108kB)\n",
            "\u001b[K     |████████████████████████████████| 112kB 54.1MB/s \n",
            "\u001b[?25hCollecting xxhash\n",
            "\u001b[?25l  Downloading https://files.pythonhosted.org/packages/7d/4f/0a862cad26aa2ed7a7cd87178cbbfa824fc1383e472d63596a0d018374e7/xxhash-2.0.2-cp37-cp37m-manylinux2010_x86_64.whl (243kB)\n",
            "\u001b[K     |████████████████████████████████| 245kB 59.2MB/s \n",
            "\u001b[?25hCollecting huggingface-hub<0.1.0\n",
            "  Downloading https://files.pythonhosted.org/packages/a1/88/7b1e45720ecf59c6c6737ff332f41c955963090a18e72acbcbeac6b25e86/huggingface_hub-0.0.8-py3-none-any.whl\n",
            "Requirement already satisfied: pyarrow>=1.0.0<4.0.0 in /usr/local/lib/python3.7/dist-packages (from datasets->textattack) (3.0.0)\n",
            "Requirement already satisfied: pyparsing!=2.0.4,!=2.1.2,!=2.1.6,>=2.0.1 in /usr/local/lib/python3.7/dist-packages (from matplotlib->bert-score>=0.3.5->textattack) (2.4.7)\n",
            "Requirement already satisfied: kiwisolver>=1.0.1 in /usr/local/lib/python3.7/dist-packages (from matplotlib->bert-score>=0.3.5->textattack) (1.3.1)\n",
            "Requirement already satisfied: cycler>=0.10 in /usr/local/lib/python3.7/dist-packages (from matplotlib->bert-score>=0.3.5->textattack) (0.10.0)\n",
            "Requirement already satisfied: urllib3!=1.25.0,!=1.25.1,<1.26,>=1.21.1 in /usr/local/lib/python3.7/dist-packages (from requests->bert-score>=0.3.5->textattack) (1.24.3)\n",
            "Requirement already satisfied: chardet<4,>=3.0.2 in /usr/local/lib/python3.7/dist-packages (from requests->bert-score>=0.3.5->textattack) (3.0.4)\n",
            "Requirement already satisfied: idna<3,>=2.5 in /usr/local/lib/python3.7/dist-packages (from requests->bert-score>=0.3.5->textattack) (2.10)\n",
            "Requirement already satisfied: certifi>=2017.4.17 in /usr/local/lib/python3.7/dist-packages (from requests->bert-score>=0.3.5->textattack) (2020.12.5)\n",
            "Requirement already satisfied: zipp>=0.5 in /usr/local/lib/python3.7/dist-packages (from importlib-metadata; python_version < \"3.8\"->transformers>=3.3.0->textattack) (3.4.1)\n",
            "Requirement already satisfied: joblib in /usr/local/lib/python3.7/dist-packages (from sacremoses->transformers>=3.3.0->textattack) (1.0.1)\n",
            "Requirement already satisfied: click in /usr/local/lib/python3.7/dist-packages (from sacremoses->transformers>=3.3.0->textattack) (7.1.2)\n",
            "Collecting overrides<4.0.0,>=3.0.0\n",
            "  Downloading https://files.pythonhosted.org/packages/ff/b1/10f69c00947518e6676bbd43e739733048de64b8dd998e9c2d5a71f44c5d/overrides-3.1.0.tar.gz\n",
            "Requirement already satisfied: wcwidth in /usr/local/lib/python3.7/dist-packages (from ftfy->flair==0.6.1.post1->textattack) (0.2.5)\n",
            "Requirement already satisfied: wrapt<2,>=1.10 in /usr/local/lib/python3.7/dist-packages (from deprecated>=1.2.4->flair==0.6.1.post1->textattack) (1.12.1)\n",
            "Requirement already satisfied: future in /usr/local/lib/python3.7/dist-packages (from hyperopt>=0.1.1->flair==0.6.1.post1->textattack) (0.16.0)\n",
            "Requirement already satisfied: networkx in /usr/local/lib/python3.7/dist-packages (from hyperopt>=0.1.1->flair==0.6.1.post1->textattack) (2.5.1)\n",
            "Requirement already satisfied: pymongo in /usr/local/lib/python3.7/dist-packages (from hyperopt>=0.1.1->flair==0.6.1.post1->textattack) (3.11.3)\n",
            "Requirement already satisfied: smart-open>=1.2.1 in /usr/local/lib/python3.7/dist-packages (from gensim>=3.4.0->flair==0.6.1.post1->textattack) (5.0.0)\n",
            "Requirement already satisfied: decorator<5,>=4.3 in /usr/local/lib/python3.7/dist-packages (from networkx->hyperopt>=0.1.1->flair==0.6.1.post1->textattack) (4.4.2)\n",
            "Building wheels for collected packages: word2number, lru-dict, terminaltables, segtok, langdetect, ftfy, sqlitedict, mpld3, overrides\n",
            "  Building wheel for word2number (setup.py) ... \u001b[?25l\u001b[?25hdone\n",
            "  Created wheel for word2number: filename=word2number-1.1-cp37-none-any.whl size=5589 sha256=445c474be2b0425d97901d5d2ec4454f9e0399bfb4a8037a2915a99943441514\n",
            "  Stored in directory: /root/.cache/pip/wheels/46/2f/53/5f5c1d275492f2fce1cdab9a9bb12d49286dead829a4078e0e\n",
            "  Building wheel for lru-dict (setup.py) ... \u001b[?25l\u001b[?25hdone\n",
            "  Created wheel for lru-dict: filename=lru_dict-1.1.7-cp37-cp37m-linux_x86_64.whl size=28374 sha256=461108a604749c4bc7e6fd49e5e1c13c1ddc299af9dd5c157ac58ae14239d07e\n",
            "  Stored in directory: /root/.cache/pip/wheels/ae/51/23/0a416781dead9225c7d66d25b9f223c7e32304e99a0b01d566\n",
            "  Building wheel for terminaltables (setup.py) ... \u001b[?25l\u001b[?25hdone\n",
            "  Created wheel for terminaltables: filename=terminaltables-3.1.0-cp37-none-any.whl size=15356 sha256=a56476ed4b8ecd648c850f007014528317f6833ff139d0f02130548bb93b4e4e\n",
            "  Stored in directory: /root/.cache/pip/wheels/30/6b/50/6c75775b681fb36cdfac7f19799888ef9d8813aff9e379663e\n",
            "  Building wheel for segtok (setup.py) ... \u001b[?25l\u001b[?25hdone\n",
            "  Created wheel for segtok: filename=segtok-1.5.10-cp37-none-any.whl size=25019 sha256=48a6f50a5ed3875088e135c1bfd4e54eb1bc0f55133e9da6cc75bd93caf81052\n",
            "  Stored in directory: /root/.cache/pip/wheels/b4/39/f6/9ca1c5cabde964d728023b5751c3a206a5c8cc40252321fb6b\n",
            "  Building wheel for langdetect (setup.py) ... \u001b[?25l\u001b[?25hdone\n",
            "  Created wheel for langdetect: filename=langdetect-1.0.9-cp37-none-any.whl size=993223 sha256=86fa98db16802e9e465d0650f4f0fbc17822994c3ac994f3a3339a6d7bee0a9c\n",
            "  Stored in directory: /root/.cache/pip/wheels/7e/18/13/038c34057808931c7ddc6c92d3aa015cf1a498df5a70268996\n",
            "  Building wheel for ftfy (setup.py) ... \u001b[?25l\u001b[?25hdone\n",
            "  Created wheel for ftfy: filename=ftfy-6.0.1-cp37-none-any.whl size=41573 sha256=a4edd5a8e252d12f32e026f358622004a3cecb073990e2a131b4b76c79fd9404\n",
            "  Stored in directory: /root/.cache/pip/wheels/ae/73/c7/9056e14b04919e5c262fe80b54133b1a88d73683d05d7ac65c\n",
            "  Building wheel for sqlitedict (setup.py) ... \u001b[?25l\u001b[?25hdone\n",
            "  Created wheel for sqlitedict: filename=sqlitedict-1.7.0-cp37-none-any.whl size=14376 sha256=b4f7adfe1790ac58180c3bb18bbb009d6c540ac98cd030ac4a7d70ba90502455\n",
            "  Stored in directory: /root/.cache/pip/wheels/cf/c6/4f/2c64a43f041415eb8b8740bd80e15e92f0d46c5e464d8e4b9b\n",
            "  Building wheel for mpld3 (setup.py) ... \u001b[?25l\u001b[?25hdone\n",
            "  Created wheel for mpld3: filename=mpld3-0.3-cp37-none-any.whl size=116679 sha256=05eba73c7509f1d7a0c4a2c9c943d1bbaeaf0479ce5a40373834a81a46bdf5a5\n",
            "  Stored in directory: /root/.cache/pip/wheels/c0/47/fb/8a64f89aecfe0059830479308ad42d62e898a3e3cefdf6ba28\n",
            "  Building wheel for overrides (setup.py) ... \u001b[?25l\u001b[?25hdone\n",
            "  Created wheel for overrides: filename=overrides-3.1.0-cp37-none-any.whl size=10174 sha256=301d0997781f4c91ae73784e6ef3e31b2cd72f446a454bc97f11d7b0cf1b7492\n",
            "  Stored in directory: /root/.cache/pip/wheels/5c/24/13/6ef8600e6f147c95e595f1289a86a3cc82ed65df57582c65a9\n",
            "Successfully built word2number lru-dict terminaltables segtok langdetect ftfy sqlitedict mpld3 overrides\n",
            "\u001b[31mERROR: tensorflow 2.4.1 has requirement numpy~=1.19.2, but you'll have numpy 1.18.5 which is incompatible.\u001b[0m\n",
            "\u001b[31mERROR: datascience 0.10.6 has requirement folium==0.2.1, but you'll have folium 0.8.3 which is incompatible.\u001b[0m\n",
            "\u001b[31mERROR: albumentations 0.1.12 has requirement imgaug<0.2.7,>=0.2.5, but you'll have imgaug 0.2.9 which is incompatible.\u001b[0m\n",
            "\u001b[31mERROR: konoha 4.6.4 has requirement requests<3.0.0,>=2.25.1, but you'll have requests 2.23.0 which is incompatible.\u001b[0m\n",
            "Installing collected packages: numpy, sacremoses, tokenizers, transformers, bert-score, num2words, lemminflect, word2number, language-tool-python, segtok, janome, langdetect, overrides, konoha, ftfy, sentencepiece, deprecated, sqlitedict, bpemb, mpld3, flair, lru-dict, terminaltables, fsspec, xxhash, huggingface-hub, datasets, textattack\n",
            "  Found existing installation: numpy 1.19.5\n",
            "    Uninstalling numpy-1.19.5:\n",
            "      Successfully uninstalled numpy-1.19.5\n",
            "Successfully installed bert-score-0.3.9 bpemb-0.3.3 datasets-1.6.2 deprecated-1.2.12 flair-0.6.1.post1 fsspec-2021.4.0 ftfy-6.0.1 huggingface-hub-0.0.8 janome-0.4.1 konoha-4.6.4 langdetect-1.0.9 language-tool-python-2.5.3 lemminflect-0.2.2 lru-dict-1.1.7 mpld3-0.3 num2words-0.5.10 numpy-1.18.5 overrides-3.1.0 sacremoses-0.0.45 segtok-1.5.10 sentencepiece-0.1.95 sqlitedict-1.7.0 terminaltables-3.1.0 textattack-0.2.15 tokenizers-0.10.2 transformers-4.5.1 word2number-1.1 xxhash-2.0.2\n"
          ],
          "name": "stdout"
        },
        {
          "output_type": "display_data",
          "data": {
            "application/vnd.colab-display-data+json": {
              "pip_warning": {
                "packages": [
                  "numpy"
                ]
              }
            }
          },
          "metadata": {
            "tags": []
          }
        },
        {
          "output_type": "stream",
          "text": [
            "Collecting gensim==4.0.0\n",
            "\u001b[?25l  Downloading https://files.pythonhosted.org/packages/c3/dd/5e00b6e788a9c522b48f9df10472b2017102ffa65b10bc657471e0713542/gensim-4.0.0-cp37-cp37m-manylinux1_x86_64.whl (23.9MB)\n",
            "\u001b[K     |████████████████████████████████| 23.9MB 121kB/s \n",
            "\u001b[?25hRequirement already satisfied, skipping upgrade: smart-open>=1.8.1 in /usr/local/lib/python3.7/dist-packages (from gensim==4.0.0) (5.0.0)\n",
            "Requirement already satisfied, skipping upgrade: scipy>=0.18.1 in /usr/local/lib/python3.7/dist-packages (from gensim==4.0.0) (1.4.1)\n",
            "Requirement already satisfied, skipping upgrade: numpy>=1.11.3 in /usr/local/lib/python3.7/dist-packages (from gensim==4.0.0) (1.18.5)\n",
            "Installing collected packages: gensim\n",
            "  Found existing installation: gensim 3.6.0\n",
            "    Uninstalling gensim-3.6.0:\n",
            "      Successfully uninstalled gensim-3.6.0\n",
            "Successfully installed gensim-4.0.0\n",
            "Collecting python-Levenshtein\n",
            "\u001b[?25l  Downloading https://files.pythonhosted.org/packages/2a/dc/97f2b63ef0fa1fd78dcb7195aca577804f6b2b51e712516cc0e902a9a201/python-Levenshtein-0.12.2.tar.gz (50kB)\n",
            "\u001b[K     |████████████████████████████████| 51kB 7.2MB/s \n",
            "\u001b[?25hRequirement already satisfied: setuptools in /usr/local/lib/python3.7/dist-packages (from python-Levenshtein) (56.0.0)\n",
            "Building wheels for collected packages: python-Levenshtein\n",
            "  Building wheel for python-Levenshtein (setup.py) ... \u001b[?25l\u001b[?25hdone\n",
            "  Created wheel for python-Levenshtein: filename=python_Levenshtein-0.12.2-cp37-cp37m-linux_x86_64.whl size=149809 sha256=9ead9338add20707b28279302e78b92174f57238c11bba993524d62f99781bd0\n",
            "  Stored in directory: /root/.cache/pip/wheels/b3/26/73/4b48503bac73f01cf18e52cd250947049a7f339e940c5df8fc\n",
            "Successfully built python-Levenshtein\n",
            "Installing collected packages: python-Levenshtein\n",
            "Successfully installed python-Levenshtein-0.12.2\n"
          ],
          "name": "stdout"
        }
      ]
    },
    {
      "cell_type": "code",
      "metadata": {
        "id": "cO7MgIfVqRWg",
        "colab": {
          "base_uri": "https://localhost:8080/"
        },
        "outputId": "3e2f88ab-84a3-4def-bf3b-cf052a6b31f1"
      },
      "source": [
        "import gensim.downloader as api\n",
        "from gensim.models.word2vec import Word2Vec\n",
        "from gensim.models.fasttext import FastText\n",
        "from gensim.models import Phrases\n",
        "from gensim.test.utils import get_tmpfile\n",
        "import transformers\n",
        "from textattack.models.tokenizers import AutoTokenizer\n",
        "from textattack.models.wrappers import HuggingFaceModelWrapper\n",
        "from textattack.transformations import WordSwap\n",
        "from textattack.search_methods import GreedySearch, GreedyWordSwapWIR\n",
        "from textattack.constraints.overlap import LevenshteinEditDistance\n",
        "from textattack.constraints.pre_transformation import RepeatModification, StopwordModification\n",
        "from textattack.search_methods import ParticleSwarmOptimization\n",
        "from textattack.constraints.grammaticality import PartOfSpeech\n",
        "from textattack.shared import Attack\n",
        "from textattack.goal_functions import UntargetedClassification\n",
        "from textattack.datasets import HuggingFaceDataset\n",
        "from collections import deque\n",
        "\n",
        "import textattack\n",
        "import tqdm\n",
        "import time\n",
        "from IPython.display import display, HTML"
      ],
      "execution_count": 3,
      "outputs": [
        {
          "output_type": "stream",
          "text": [
            "\u001b[34;1mtextattack\u001b[0m: Updating TextAttack package dependencies.\n",
            "\u001b[34;1mtextattack\u001b[0m: Downloading NLTK required packages.\n"
          ],
          "name": "stderr"
        },
        {
          "output_type": "stream",
          "text": [
            "[nltk_data] Downloading package averaged_perceptron_tagger to\n",
            "[nltk_data]     /root/nltk_data...\n",
            "[nltk_data]   Unzipping taggers/averaged_perceptron_tagger.zip.\n",
            "[nltk_data] Downloading package stopwords to /root/nltk_data...\n",
            "[nltk_data]   Unzipping corpora/stopwords.zip.\n",
            "[nltk_data] Downloading package omw to /root/nltk_data...\n",
            "[nltk_data]   Unzipping corpora/omw.zip.\n",
            "[nltk_data] Downloading package universal_tagset to /root/nltk_data...\n",
            "[nltk_data]   Unzipping taggers/universal_tagset.zip.\n",
            "[nltk_data] Downloading package wordnet to /root/nltk_data...\n",
            "[nltk_data]   Unzipping corpora/wordnet.zip.\n",
            "[nltk_data] Downloading package punkt to /root/nltk_data...\n",
            "[nltk_data]   Unzipping tokenizers/punkt.zip.\n"
          ],
          "name": "stdout"
        },
        {
          "output_type": "stream",
          "text": [
            "\u001b[34;1mtextattack\u001b[0m: Downloading https://textattack.s3.amazonaws.com/word_embeddings/paragramcf.\n",
            "100%|██████████| 481M/481M [00:08<00:00, 57.4MB/s]\n",
            "\u001b[34;1mtextattack\u001b[0m: Unzipping file /root/.cache/textattack/tmp0pq7h9k1.zip to /root/.cache/textattack/word_embeddings/paragramcf.\n",
            "\u001b[34;1mtextattack\u001b[0m: Successfully saved word_embeddings/paragramcf to cache.\n"
          ],
          "name": "stderr"
        }
      ]
    },
    {
      "cell_type": "code",
      "metadata": {
        "id": "XbSBo02xDGO2"
      },
      "source": [
        "# import gensim.downloader as api\n",
        "# corpus = api.load('text8')\n",
        "# from gensim.models.fasttext import FastText\n",
        "# model1 = FastText(corpus, sample = 0, sg = 1)"
      ],
      "execution_count": 4,
      "outputs": []
    },
    {
      "cell_type": "code",
      "metadata": {
        "id": "jLiSrpmTErOs"
      },
      "source": [
        "# import gensim.downloader as api\n",
        "# corpus = api.load('text8')\n",
        "# from gensim.models.word2vec import Word2Vec\n",
        "# model2 = Word2Vec(corpus, sample = 0, sg = 1)"
      ],
      "execution_count": 5,
      "outputs": []
    },
    {
      "cell_type": "markdown",
      "metadata": {
        "id": "d-SeQSyZRVZk"
      },
      "source": [
        "# Loading FastText, Word2Vec and Glove"
      ]
    },
    {
      "cell_type": "code",
      "metadata": {
        "id": "ZCLiyaHYDBk1"
      },
      "source": [
        "from gensim.test.utils import get_tmpfile\n",
        "from gensim.models.fasttext import FastText\n",
        "#fname = get_tmpfile(\"/models/fasttext.model\") \n",
        "model1 = FastText.load(\"/content/drive/MyDrive/models/fasttext.model\") # Change this location"
      ],
      "execution_count": 6,
      "outputs": []
    },
    {
      "cell_type": "code",
      "metadata": {
        "id": "e4jwSL5YDvPy"
      },
      "source": [
        "from gensim.test.utils import get_tmpfile\n",
        "from gensim.models.word2vec import Word2Vec\n",
        "#fname1 = get_tmpfile(\"/models/word2vec.model\") \n",
        "model2 = Word2Vec.load(\"/content/drive/MyDrive/models/word2vec.model\") # Change this location"
      ],
      "execution_count": 7,
      "outputs": []
    },
    {
      "cell_type": "code",
      "metadata": {
        "id": "NC2kXo7wLsAd"
      },
      "source": [
        "from gensim.models import KeyedVectors\n",
        "model3=KeyedVectors.load('/content/drive/MyDrive/models/gloveKeyVectors.kv')"
      ],
      "execution_count": 8,
      "outputs": []
    },
    {
      "cell_type": "markdown",
      "metadata": {
        "id": "aTtS6UrJRc4S"
      },
      "source": [
        "Example demonstration"
      ]
    },
    {
      "cell_type": "code",
      "metadata": {
        "id": "l1xXXw5tFbuM",
        "colab": {
          "base_uri": "https://localhost:8080/"
        },
        "outputId": "48534ac6-ba8a-4c1e-bedc-62f62231f79c"
      },
      "source": [
        "print(model1.wv.most_similar('cat'))\n",
        "print(model2.wv.most_similar('cat'))\n",
        "print(model3.most_similar('cat'))"
      ],
      "execution_count": 9,
      "outputs": [
        {
          "output_type": "stream",
          "text": [
            "[('bobcat', 0.759185791015625), ('dog', 0.7208123803138733), ('foxglove', 0.7110776901245117), ('pig', 0.7088143229484558), ('goose', 0.7069101333618164), ('cats', 0.702387273311615), ('beak', 0.7008379697799683), ('catfish', 0.6987316608428955), ('foxhound', 0.696578860282898), ('catnip', 0.6960986852645874)]\n",
            "[('dog', 0.7193913459777832), ('squirrel', 0.696162760257721), ('leopardus', 0.6945451498031616), ('prionailurus', 0.688106894493103), ('albino', 0.6880608201026917), ('bird', 0.6836060285568237), ('eared', 0.6803243160247803), ('rhinoceros', 0.6769237518310547), ('hyena', 0.6756084561347961), ('badger', 0.6752869486808777)]\n",
            "[('cats', 0.7006820440292358), ('dog', 0.698471188545227), ('dogs', 0.6442825198173523), ('tervueren', 0.619421660900116), ('laekenois', 0.5972026586532593), ('lica', 0.5956287980079651), ('feral', 0.5899650454521179), ('goat', 0.5861616134643555), ('fish', 0.5746133327484131), ('malinois', 0.5737614631652832)]\n"
          ],
          "name": "stdout"
        }
      ]
    },
    {
      "cell_type": "code",
      "metadata": {
        "id": "Z0RyPQdKNH2u",
        "colab": {
          "base_uri": "https://localhost:8080/"
        },
        "outputId": "555b544c-a1e0-48b5-94ed-b69732af0fd5"
      },
      "source": [
        "if 'cat' in model3.key_to_index:\n",
        "  print('present')"
      ],
      "execution_count": 10,
      "outputs": [
        {
          "output_type": "stream",
          "text": [
            "present\n"
          ],
          "name": "stdout"
        }
      ]
    },
    {
      "cell_type": "markdown",
      "metadata": {
        "id": "0h_EeHEKRhYs"
      },
      "source": [
        "# Distilbert Base Cased-QQP"
      ]
    },
    {
      "cell_type": "code",
      "metadata": {
        "id": "QfecgI6BExUJ",
        "colab": {
          "base_uri": "https://localhost:8080/",
          "height": 264,
          "referenced_widgets": [
            "49652d840bfe4f728d1824141ed2b517",
            "9fd58fd85a294480a76690d33d285273",
            "753df723a91545fa9f01e2ceedc12dee",
            "1d9eb1f003f14d308d9916a945aec15b",
            "af32e10a0d474633aa26b89de481d6ad",
            "ae9082177e5a4b8b9e5c958ded4ba769",
            "c98f7e14c2e74a199af6541c6a437e9a",
            "b4230f004c6c4605982065fbe7d0c9b1",
            "085ee9801f4e451e817be28356e06bc1",
            "7e874ec3e96a449096203c6b8416f095",
            "fd2eb74c60564ca784c36b0ef24301c8",
            "478a500f607d4759a784a40645ec5b74",
            "1c368e07580147fcaf85a2e437848686",
            "384c74bffd4a4c1cba7f6a1cc233daa8",
            "dfa44a0eebf74286b041b30975708bac",
            "c53a103f173148e29649abdc837c86de",
            "b00aaa31f1224455b884f60dcf94acd7",
            "4d51f1b2154b4e28ba10b87c32d4f8e8",
            "b56d5553f581477daddb5f6cbf830ae0",
            "8855e25ccb914af7843277d64f72b272",
            "1db8982c252c493dbacaef177c3fd5f9",
            "dabe3ec719f248158148f3fb2c9e7868",
            "e3677944da544608b39dcb781cd5bbdb",
            "0f0526e25e5f4d42af2476481aa68a8b",
            "41bd7c5481fb4e87bec239ba4d9ca411",
            "a35276dbdeff491f98d97d1c22c79316",
            "b1b9e7bdde374ba5bac06fbcf450fc57",
            "9ff9e8fc485d4584849c85bbcf0d89e8",
            "2e12c0721fd44c668c3f57a8e7a1917b",
            "62f7d60044594ebdbde2c06a5584f383",
            "956c2f7e688d403598628a34a3d2c54a",
            "44b826ef13604b7d87b689cc00a21d20",
            "284d856b1a6942c4b6b89db596848798",
            "08156604441645d08dd0133bf0e723bf",
            "b6efe356400f4a73a01bca94f8aea660",
            "66352d0a42a54eae977f513cddb78049",
            "829ce7a6359d426691971f9b73764df2",
            "b1850d5827a84933b5b2031535792bbd",
            "434aeeda4c0b44f3963a30dfecfbffae",
            "e8c9dc01eff146fa8c4f28b33a6a973c"
          ]
        },
        "outputId": "b310c588-ea1a-4c9b-f411-d43174062423"
      },
      "source": [
        "# Import the model\n",
        "import transformers\n",
        "from textattack.models.tokenizers import AutoTokenizer\n",
        "from textattack.models.wrappers import HuggingFaceModelWrapper\n",
        "\n",
        "model = transformers.AutoModelForSequenceClassification.from_pretrained(\"textattack/albert-base-v2-rotten-tomatoes\")\n",
        "tokenizer = AutoTokenizer(\"textattack/albert-base-v2-rotten-tomatoes\")\n",
        "# Change these\n",
        "\n",
        "model_wrapper = HuggingFaceModelWrapper(model, tokenizer)"
      ],
      "execution_count": 11,
      "outputs": [
        {
          "output_type": "display_data",
          "data": {
            "application/vnd.jupyter.widget-view+json": {
              "model_id": "49652d840bfe4f728d1824141ed2b517",
              "version_minor": 0,
              "version_major": 2
            },
            "text/plain": [
              "HBox(children=(FloatProgress(value=0.0, description='Downloading', max=738.0, style=ProgressStyle(description_…"
            ]
          },
          "metadata": {
            "tags": []
          }
        },
        {
          "output_type": "stream",
          "text": [
            "\n"
          ],
          "name": "stdout"
        },
        {
          "output_type": "display_data",
          "data": {
            "application/vnd.jupyter.widget-view+json": {
              "model_id": "085ee9801f4e451e817be28356e06bc1",
              "version_minor": 0,
              "version_major": 2
            },
            "text/plain": [
              "HBox(children=(FloatProgress(value=0.0, description='Downloading', max=46747112.0, style=ProgressStyle(descrip…"
            ]
          },
          "metadata": {
            "tags": []
          }
        },
        {
          "output_type": "stream",
          "text": [
            "\n"
          ],
          "name": "stdout"
        },
        {
          "output_type": "display_data",
          "data": {
            "application/vnd.jupyter.widget-view+json": {
              "model_id": "b00aaa31f1224455b884f60dcf94acd7",
              "version_minor": 0,
              "version_major": 2
            },
            "text/plain": [
              "HBox(children=(FloatProgress(value=0.0, description='Downloading', max=760289.0, style=ProgressStyle(descripti…"
            ]
          },
          "metadata": {
            "tags": []
          }
        },
        {
          "output_type": "stream",
          "text": [
            "\n"
          ],
          "name": "stdout"
        },
        {
          "output_type": "display_data",
          "data": {
            "application/vnd.jupyter.widget-view+json": {
              "model_id": "41bd7c5481fb4e87bec239ba4d9ca411",
              "version_minor": 0,
              "version_major": 2
            },
            "text/plain": [
              "HBox(children=(FloatProgress(value=0.0, description='Downloading', max=156.0, style=ProgressStyle(description_…"
            ]
          },
          "metadata": {
            "tags": []
          }
        },
        {
          "output_type": "stream",
          "text": [
            "\n"
          ],
          "name": "stdout"
        },
        {
          "output_type": "display_data",
          "data": {
            "application/vnd.jupyter.widget-view+json": {
              "model_id": "284d856b1a6942c4b6b89db596848798",
              "version_minor": 0,
              "version_major": 2
            },
            "text/plain": [
              "HBox(children=(FloatProgress(value=0.0, description='Downloading', max=25.0, style=ProgressStyle(description_w…"
            ]
          },
          "metadata": {
            "tags": []
          }
        },
        {
          "output_type": "stream",
          "text": [
            "\n"
          ],
          "name": "stdout"
        }
      ]
    },
    {
      "cell_type": "markdown",
      "metadata": {
        "id": "HPj8fvaOFDAD"
      },
      "source": [
        "# Framing fasttext attack"
      ]
    },
    {
      "cell_type": "code",
      "metadata": {
        "id": "SHezFH9jE3Z2"
      },
      "source": [
        "from textattack.transformations import WordSwap\n",
        "\n",
        "class Swapper(WordSwap): # For fasttext\n",
        "    \"\"\" Transforms an input by replacing any word with its most similar counterpart\n",
        "    \"\"\"\n",
        "\n",
        "    # We don't need a constructor, since our class doesn't require any parameters.\n",
        "\n",
        "    def _get_replacement_words(self, word):\n",
        "        for i in range(10):\n",
        "            if word.lower() in model1.wv.most_similar(word)[i][0].lower():\n",
        "                continue # Don't return the exact word\n",
        "            elif word.isupper():\n",
        "                return [model1.wv.most_similar(word)[i][0].upper()] # Preserving case\n",
        "            elif word[0].isupper():\n",
        "                return [model1.wv.most_similar(word)[i][0].capitalize()] # Preserving Capitalization in words\n",
        "            else:\n",
        "                return [model1.wv.most_similar(word)[i][0]]\n",
        "            \n",
        "        return [model1.wv.most_similar(word)[0][0]]"
      ],
      "execution_count": 12,
      "outputs": []
    },
    {
      "cell_type": "code",
      "metadata": {
        "id": "GHt_A9Sril_j"
      },
      "source": [
        "def attack_stats(attack, dataset, num_of_examples=25):\n",
        "  print(attack)\n",
        "  num_examples = num_of_examples\n",
        "  num_remaining_attacks = num_examples\n",
        "  pbar = tqdm.tqdm(total=num_remaining_attacks, smoothing=0)\n",
        "\n",
        "  worklist = deque(range(0, num_examples))\n",
        "  worklist_tail = worklist[-1]\n",
        "\n",
        "  attack_log_manager = textattack.loggers.AttackLogManager()\n",
        "\n",
        "  load_time = time.time()\n",
        "        \n",
        "  num_results = 0\n",
        "  num_failures = 0\n",
        "  num_successes = 0\n",
        "  for result in attack.attack_dataset(dataset, indices=worklist):\n",
        "      result_html_str = result.__str__(color_method=\"html\").replace(\"\\n\\n\", \"<br>\")\n",
        "      display(HTML(result_html_str))\n",
        "      attack_log_manager.log_result(result)\n",
        "            \n",
        "      if not isinstance(result, textattack.attack_results.SkippedAttackResult):\n",
        "          pbar.update(1)\n",
        "      else:\n",
        "          worklist_tail += 1\n",
        "          pbar.update(1)\n",
        "          worklist.append(worklist_tail)\n",
        "\n",
        "      num_results += 1\n",
        "\n",
        "      if (type(result) == textattack.attack_results.SuccessfulAttackResult\n",
        "        or type(result) == textattack.attack_results.MaximizedAttackResult):\n",
        "          num_successes += 1\n",
        "                \n",
        "      if type(result) == textattack.attack_results.FailedAttackResult:\n",
        "          num_failures += 1\n",
        "      pbar.set_description(\n",
        "          \"[Succeeded / Failed / Total] {} / {} / {}\".format(\n",
        "            num_successes, num_failures, num_results\n",
        "        )\n",
        "      )\n",
        "\n",
        "  pbar.close()\n",
        "\n",
        "  attack_log_manager.enable_stdout()\n",
        "  attack_log_manager.log_summary()\n",
        "  attack_log_manager.flush()\n",
        "        \n",
        "  textattack.shared.logger.info(f\"Attack time: {time.time() - load_time}s\")"
      ],
      "execution_count": 13,
      "outputs": []
    },
    {
      "cell_type": "markdown",
      "metadata": {
        "id": "B3wNfSaqsoXo"
      },
      "source": [
        "### FastText, GreedySearch, RepeatModification, StopwordModification"
      ]
    },
    {
      "cell_type": "code",
      "metadata": {
        "id": "Sm04Ri8WFGHy",
        "colab": {
          "base_uri": "https://localhost:8080/",
          "height": 271,
          "referenced_widgets": [
            "325bfc47f3b6423ba0aa0b422fcf8d7f",
            "b7b407ba732a430b88fd82089f11ab5e",
            "b8f055433c5542c6bb2ae4aa419e9c28",
            "943a4acd9bc04132ab229da2733c216c",
            "9b330d36670e41b5aee6cc449383fd92",
            "0ca083a4312a468182eba97afd78b3c3",
            "2f78850f3d704d93bb8ccef978405920",
            "49e9ddc78fe64e16857bbcda85c0f691",
            "8c2c5dbee9694100b2e751a5ee0b764f",
            "8c3bb767bd154b47a6e20b234d56fe1b",
            "adcbad442f9941859c9a7ef4008af617",
            "789d7e5cc0a945088d8d64280e10376b",
            "df171417d7454aedabcad149a5a059df",
            "0ee74f4b1d3444fe98be53dfbbe3cc7d",
            "e5c5abf2ec3e40ad8aa6a713f9797de5",
            "89000cffe69948719d693260cd2b1267",
            "3f8d8f17339845ebbbd807cb169a3e62",
            "62a6a9c299fa4ecaae2a8bc21c54c475",
            "6731814276634fcb846472832699e43e",
            "7a1d468ea7af416d84a09a1b3933200e",
            "4ef89d8c6a274a75a97f417d3c68e5b0",
            "5bd953d661484ca79edbbe339b6ea57a",
            "86f2eb9f1d9443059b4599f0b9c12f15",
            "cea8a934d9ea4b258231effa3828c8df",
            "493a45e23c964634a5713afc02140d30",
            "9ef130a1775948db92322aaf6c80bbc6",
            "6ed1e439669744f7978e48306c6e2e42",
            "a1d27356fb1348c392f2e454d8d8791d",
            "60b2b3092c9343c7ba5d5598b6491bfb",
            "98ce62851d25489e8abafb74952aa7d2",
            "e66deb160a574700b2c85cb0982b0dcf",
            "726565ccdd7c4d8d8f3bb78e3040e517",
            "9d9eaafed27a4c4cb5cbb5e1641c0648",
            "9896d0a505f44c208254eb7766d2d97b",
            "b4c47858294c408296ee482d6816b5e5",
            "9877b4f74ca2461b8f64c6b0f12df044",
            "760ea141666947b09d83b13f06199803",
            "8a8624e7993546f2be91b9368c1a3fa8",
            "904e0de9b15f4fc198272491efcaff76",
            "c50173f33826410fbcc1cd242f49aa20",
            "c7237d0f50304b1e842f8ff763af3bab",
            "38fd2477a8c74862bd416354c6421149",
            "9442557999de477caf4d0ffdda6b331c",
            "a5855b24d5824b61b0e812ccdddc8cb1",
            "5d21f8e2e7e94302857860d6c9d4fa38",
            "e7e4b431e1954eff8fe6786614b41508",
            "83288e40dc3046df914a2f2e5b0cde2c",
            "c702da47c93147fda6a9ee6707b0910c"
          ]
        },
        "outputId": "e87ff9cc-2702-4e51-dddd-59d6cfa6cbe9"
      },
      "source": [
        "\n",
        "# We're going to use our word swap class as the attack transformation.\n",
        "transformation = Swapper()\n",
        "\n",
        "constraints = [RepeatModification(),\n",
        "               StopwordModification()]\n",
        "\n",
        "search_method = GreedySearch()\n",
        "\n",
        "goal_function = UntargetedClassification(model_wrapper)\n",
        "\n",
        "# Now, let's make the attack from the 4 components:\n",
        "attack = Attack(goal_function, constraints, transformation, search_method)\n",
        "\n",
        "dataset = HuggingFaceDataset(\"rotten_tomatoes\", None, \"test\") # Change the dataset"
      ],
      "execution_count": 14,
      "outputs": [
        {
          "output_type": "stream",
          "text": [
            "\u001b[34;1mtextattack\u001b[0m: Unknown if model of class <class 'transformers.models.albert.modeling_albert.AlbertForSequenceClassification'> compatible with goal function <class 'textattack.goal_functions.classification.untargeted_classification.UntargetedClassification'>.\n"
          ],
          "name": "stderr"
        },
        {
          "output_type": "display_data",
          "data": {
            "application/vnd.jupyter.widget-view+json": {
              "model_id": "325bfc47f3b6423ba0aa0b422fcf8d7f",
              "version_minor": 0,
              "version_major": 2
            },
            "text/plain": [
              "HBox(children=(FloatProgress(value=0.0, description='Downloading', max=1860.0, style=ProgressStyle(description…"
            ]
          },
          "metadata": {
            "tags": []
          }
        },
        {
          "output_type": "stream",
          "text": [
            "\n"
          ],
          "name": "stdout"
        },
        {
          "output_type": "display_data",
          "data": {
            "application/vnd.jupyter.widget-view+json": {
              "model_id": "8c2c5dbee9694100b2e751a5ee0b764f",
              "version_minor": 0,
              "version_major": 2
            },
            "text/plain": [
              "HBox(children=(FloatProgress(value=0.0, description='Downloading', max=869.0, style=ProgressStyle(description_…"
            ]
          },
          "metadata": {
            "tags": []
          }
        },
        {
          "output_type": "stream",
          "text": [
            "\n"
          ],
          "name": "stdout"
        },
        {
          "output_type": "stream",
          "text": [
            "Using custom data configuration default\n"
          ],
          "name": "stderr"
        },
        {
          "output_type": "stream",
          "text": [
            "Downloading and preparing dataset rotten_tomatoes_movie_review/default (download: 476.34 KiB, generated: 1.28 MiB, post-processed: Unknown size, total: 1.75 MiB) to /root/.cache/huggingface/datasets/rotten_tomatoes_movie_review/default/1.0.0/9c411f7ecd9f3045389de0d9ce984061a1056507703d2e3183b1ac1a90816e4d...\n"
          ],
          "name": "stdout"
        },
        {
          "output_type": "display_data",
          "data": {
            "application/vnd.jupyter.widget-view+json": {
              "model_id": "3f8d8f17339845ebbbd807cb169a3e62",
              "version_minor": 0,
              "version_major": 2
            },
            "text/plain": [
              "HBox(children=(FloatProgress(value=0.0, description='Downloading', max=487770.0, style=ProgressStyle(descripti…"
            ]
          },
          "metadata": {
            "tags": []
          }
        },
        {
          "output_type": "stream",
          "text": [
            "\n"
          ],
          "name": "stdout"
        },
        {
          "output_type": "display_data",
          "data": {
            "application/vnd.jupyter.widget-view+json": {
              "model_id": "493a45e23c964634a5713afc02140d30",
              "version_minor": 0,
              "version_major": 2
            },
            "text/plain": [
              "HBox(children=(FloatProgress(value=1.0, bar_style='info', max=1.0), HTML(value='')))"
            ]
          },
          "metadata": {
            "tags": []
          }
        },
        {
          "output_type": "stream",
          "text": [
            "\r"
          ],
          "name": "stdout"
        },
        {
          "output_type": "display_data",
          "data": {
            "application/vnd.jupyter.widget-view+json": {
              "model_id": "9d9eaafed27a4c4cb5cbb5e1641c0648",
              "version_minor": 0,
              "version_major": 2
            },
            "text/plain": [
              "HBox(children=(FloatProgress(value=1.0, bar_style='info', max=1.0), HTML(value='')))"
            ]
          },
          "metadata": {
            "tags": []
          }
        },
        {
          "output_type": "stream",
          "text": [
            "\r"
          ],
          "name": "stdout"
        },
        {
          "output_type": "display_data",
          "data": {
            "application/vnd.jupyter.widget-view+json": {
              "model_id": "c7237d0f50304b1e842f8ff763af3bab",
              "version_minor": 0,
              "version_major": 2
            },
            "text/plain": [
              "HBox(children=(FloatProgress(value=1.0, bar_style='info', max=1.0), HTML(value='')))"
            ]
          },
          "metadata": {
            "tags": []
          }
        },
        {
          "output_type": "stream",
          "text": [
            "\u001b[34;1mtextattack\u001b[0m: Loading \u001b[94mdatasets\u001b[0m dataset \u001b[94mrotten_tomatoes\u001b[0m, split \u001b[94mtest\u001b[0m.\n"
          ],
          "name": "stderr"
        },
        {
          "output_type": "stream",
          "text": [
            "\rDataset rotten_tomatoes_movie_review downloaded and prepared to /root/.cache/huggingface/datasets/rotten_tomatoes_movie_review/default/1.0.0/9c411f7ecd9f3045389de0d9ce984061a1056507703d2e3183b1ac1a90816e4d. Subsequent calls will reuse this data.\n"
          ],
          "name": "stdout"
        }
      ]
    },
    {
      "cell_type": "code",
      "metadata": {
        "id": "fClGtuFxFM5f",
        "colab": {
          "base_uri": "https://localhost:8080/",
          "height": 1000
        },
        "outputId": "2d6f44d7-158c-46ee-bf3f-496beaae2ab6"
      },
      "source": [
        "attack_stats(attack, dataset, 25)"
      ],
      "execution_count": 15,
      "outputs": [
        {
          "output_type": "stream",
          "text": [
            "\r  0%|          | 0/25 [00:00<?, ?it/s]"
          ],
          "name": "stderr"
        },
        {
          "output_type": "stream",
          "text": [
            "Attack(\n",
            "  (search_method): GreedySearch\n",
            "  (goal_function):  UntargetedClassification\n",
            "  (transformation):  Swapper\n",
            "  (constraints): \n",
            "    (0): RepeatModification\n",
            "    (1): StopwordModification\n",
            "  (is_black_box):  True\n",
            ")\n"
          ],
          "name": "stdout"
        },
        {
          "output_type": "display_data",
          "data": {
            "text/html": [
              "<font color = green>Positive (93%)</font> --> <font color = red>Negative (63%)</font><br><font color = green>lovingly</font> photographed in the manner of a golden book sprung to life , stuart little 2 manages sweetness largely <font color = green>without</font> stickiness .<br><font color = red>kingly</font> photographed in the manner of a golden book sprung to life , stuart little 2 manages sweetness largely <font color = red>any</font> stickiness ."
            ],
            "text/plain": [
              "<IPython.core.display.HTML object>"
            ]
          },
          "metadata": {
            "tags": []
          }
        },
        {
          "output_type": "stream",
          "text": [
            "[Succeeded / Failed / Total] 1 / 0 / 1:   4%|▍         | 1/25 [00:01<00:25,  1.07s/it]"
          ],
          "name": "stderr"
        },
        {
          "output_type": "display_data",
          "data": {
            "text/html": [
              "<font color = green>Positive (99%)</font> --> <font color = red>[FAILED]</font><br>consistently clever and suspenseful ."
            ],
            "text/plain": [
              "<IPython.core.display.HTML object>"
            ]
          },
          "metadata": {
            "tags": []
          }
        },
        {
          "output_type": "stream",
          "text": [
            "[Succeeded / Failed / Total] 1 / 1 / 2:   8%|▊         | 2/25 [00:01<00:14,  1.61it/s]"
          ],
          "name": "stderr"
        },
        {
          "output_type": "display_data",
          "data": {
            "text/html": [
              "<font color = red>Negative (92%)</font> --> <font color = gray>[SKIPPED]</font><br>it's like a \" big chill \" reunion of the baader-meinhof gang , only these guys are more harmless pranksters than political activists ."
            ],
            "text/plain": [
              "<IPython.core.display.HTML object>"
            ]
          },
          "metadata": {
            "tags": []
          }
        },
        {
          "output_type": "stream",
          "text": [
            "\r[Succeeded / Failed / Total] 1 / 1 / 3:  12%|█▏        | 3/25 [00:01<00:09,  2.36it/s]"
          ],
          "name": "stderr"
        },
        {
          "output_type": "display_data",
          "data": {
            "text/html": [
              "<font color = green>Positive (99%)</font> --> <font color = red>Negative (52%)</font><br>the story gives ample opportunity for large-scale <font color = green>action</font> and <font color = green>suspense</font> , which director shekhar kapur supplies with <font color = green>tremendous</font> skill .<br>the story gives ample opportunity for large-scale <font color = red>cessation</font> and <font color = red>suspension</font> , which director shekhar kapur supplies with <font color = red>stupendous</font> skill ."
            ],
            "text/plain": [
              "<IPython.core.display.HTML object>"
            ]
          },
          "metadata": {
            "tags": []
          }
        },
        {
          "output_type": "stream",
          "text": [
            "[Succeeded / Failed / Total] 2 / 1 / 4:  16%|█▌        | 4/25 [00:02<00:11,  1.85it/s]"
          ],
          "name": "stderr"
        },
        {
          "output_type": "display_data",
          "data": {
            "text/html": [
              "<font color = green>Positive (80%)</font> --> <font color = red>Negative (90%)</font><br>red dragon \" <font color = green>never</font> cuts corners .<br>red dragon \" <font color = red>ever</font> cuts corners ."
            ],
            "text/plain": [
              "<IPython.core.display.HTML object>"
            ]
          },
          "metadata": {
            "tags": []
          }
        },
        {
          "output_type": "stream",
          "text": [
            "\r[Succeeded / Failed / Total] 3 / 1 / 5:  20%|██        | 5/25 [00:02<00:09,  2.16it/s]"
          ],
          "name": "stderr"
        },
        {
          "output_type": "display_data",
          "data": {
            "text/html": [
              "<font color = green>Positive (94%)</font> --> <font color = red>Negative (53%)</font><br>fresnadillo has <font color = green>something</font> serious to say about the ways in which <font color = green>extravagant</font> chance can distort our perspective and throw us off the <font color = green>path</font> of <font color = green>good</font> sense .<br>fresnadillo has <font color = red>seething</font> serious to say about the ways in which <font color = red>extravagance</font> chance can distort our perspective and throw us off the <font color = red>midpoint</font> of <font color = red>bad</font> sense ."
            ],
            "text/plain": [
              "<IPython.core.display.HTML object>"
            ]
          },
          "metadata": {
            "tags": []
          }
        },
        {
          "output_type": "stream",
          "text": [
            "[Succeeded / Failed / Total] 4 / 1 / 6:  24%|██▍       | 6/25 [00:03<00:11,  1.62it/s]"
          ],
          "name": "stderr"
        },
        {
          "output_type": "display_data",
          "data": {
            "text/html": [
              "<font color = green>Positive (97%)</font> --> <font color = red>Negative (96%)</font><br>throws in <font color = green>enough</font> clever and unexpected twists to make the formula feel fresh .<br>throws in <font color = red>too</font> clever and unexpected twists to make the formula feel fresh ."
            ],
            "text/plain": [
              "<IPython.core.display.HTML object>"
            ]
          },
          "metadata": {
            "tags": []
          }
        },
        {
          "output_type": "stream",
          "text": [
            "\r[Succeeded / Failed / Total] 5 / 1 / 7:  28%|██▊       | 7/25 [00:03<00:10,  1.76it/s]"
          ],
          "name": "stderr"
        },
        {
          "output_type": "display_data",
          "data": {
            "text/html": [
              "<font color = green>Positive (74%)</font> --> <font color = red>Negative (57%)</font><br>weighty and <font color = green>ponderous</font> but every bit as <font color = green>filling</font> as the treat of the title .<br>weighty and <font color = red>lecherous</font> but every bit as <font color = red>drilling</font> as the treat of the title ."
            ],
            "text/plain": [
              "<IPython.core.display.HTML object>"
            ]
          },
          "metadata": {
            "tags": []
          }
        },
        {
          "output_type": "stream",
          "text": [
            "[Succeeded / Failed / Total] 6 / 1 / 8:  32%|███▏      | 8/25 [00:04<00:09,  1.85it/s]"
          ],
          "name": "stderr"
        },
        {
          "output_type": "display_data",
          "data": {
            "text/html": [
              "<font color = green>Positive (98%)</font> --> <font color = red>[FAILED]</font><br>a real audience-pleaser that will strike a chord with anyone who's ever waited in a doctor's office , emergency room , hospital bed or insurance company office ."
            ],
            "text/plain": [
              "<IPython.core.display.HTML object>"
            ]
          },
          "metadata": {
            "tags": []
          }
        },
        {
          "output_type": "stream",
          "text": [
            "\r[Succeeded / Failed / Total] 6 / 2 / 9:  36%|███▌      | 9/25 [00:08<00:15,  1.06it/s]"
          ],
          "name": "stderr"
        },
        {
          "output_type": "display_data",
          "data": {
            "text/html": [
              "<font color = green>Positive (99%)</font> --> <font color = red>Negative (88%)</font><br>generates an enormous feeling of <font color = green>empathy</font> for its characters .<br>generates an enormous feeling of <font color = red>apathy</font> for its characters ."
            ],
            "text/plain": [
              "<IPython.core.display.HTML object>"
            ]
          },
          "metadata": {
            "tags": []
          }
        },
        {
          "output_type": "stream",
          "text": [
            "[Succeeded / Failed / Total] 7 / 2 / 10:  40%|████      | 10/25 [00:08<00:12,  1.16it/s]"
          ],
          "name": "stderr"
        },
        {
          "output_type": "display_data",
          "data": {
            "text/html": [
              "<font color = green>Positive (97%)</font> --> <font color = red>Negative (69%)</font><br>exposing the ways we fool ourselves is one hour photo's <font color = green>real</font> <font color = green>strength</font> .<br>exposing the ways we fool ourselves is one hour photo's <font color = red>unimaginable</font> <font color = red>toughness</font> ."
            ],
            "text/plain": [
              "<IPython.core.display.HTML object>"
            ]
          },
          "metadata": {
            "tags": []
          }
        },
        {
          "output_type": "stream",
          "text": [
            "\r[Succeeded / Failed / Total] 8 / 2 / 11:  44%|████▍     | 11/25 [00:09<00:11,  1.22it/s]"
          ],
          "name": "stderr"
        },
        {
          "output_type": "display_data",
          "data": {
            "text/html": [
              "<font color = red>Negative (57%)</font> --> <font color = gray>[SKIPPED]</font><br>it's up to you to decide whether to admire these people's dedication to their cause or be repelled by their dogmatism , manipulativeness and narrow , fearful view of american life ."
            ],
            "text/plain": [
              "<IPython.core.display.HTML object>"
            ]
          },
          "metadata": {
            "tags": []
          }
        },
        {
          "output_type": "stream",
          "text": [
            "[Succeeded / Failed / Total] 8 / 2 / 12:  48%|████▊     | 12/25 [00:09<00:09,  1.33it/s]"
          ],
          "name": "stderr"
        },
        {
          "output_type": "display_data",
          "data": {
            "text/html": [
              "<font color = green>Positive (67%)</font> --> <font color = red>Negative (82%)</font><br>mostly , [goldbacher] just lets her complicated characters be unruly , confusing and , through it all , <font color = green>human</font> .<br>mostly , [goldbacher] just lets her complicated characters be unruly , confusing and , through it all , <font color = red>animal</font> ."
            ],
            "text/plain": [
              "<IPython.core.display.HTML object>"
            ]
          },
          "metadata": {
            "tags": []
          }
        },
        {
          "output_type": "stream",
          "text": [
            "\r[Succeeded / Failed / Total] 9 / 2 / 13:  52%|█████▏    | 13/25 [00:09<00:08,  1.40it/s]"
          ],
          "name": "stderr"
        },
        {
          "output_type": "display_data",
          "data": {
            "text/html": [
              "<font color = green>Positive (98%)</font> --> <font color = red>Negative (96%)</font><br>. . . quite <font color = green>good</font> at providing some good old fashioned spooks .<br>. . . quite <font color = red>bad</font> at providing some good old fashioned spooks ."
            ],
            "text/plain": [
              "<IPython.core.display.HTML object>"
            ]
          },
          "metadata": {
            "tags": []
          }
        },
        {
          "output_type": "stream",
          "text": [
            "[Succeeded / Failed / Total] 10 / 2 / 14:  56%|█████▌    | 14/25 [00:09<00:07,  1.48it/s]"
          ],
          "name": "stderr"
        },
        {
          "output_type": "display_data",
          "data": {
            "text/html": [
              "<font color = red>Negative (92%)</font> --> <font color = gray>[SKIPPED]</font><br>at its worst , the movie is pretty diverting ; the pity is that it rarely achieves its best ."
            ],
            "text/plain": [
              "<IPython.core.display.HTML object>"
            ]
          },
          "metadata": {
            "tags": []
          }
        },
        {
          "output_type": "stream",
          "text": [
            "\r[Succeeded / Failed / Total] 10 / 2 / 15:  60%|██████    | 15/25 [00:09<00:06,  1.58it/s]"
          ],
          "name": "stderr"
        },
        {
          "output_type": "display_data",
          "data": {
            "text/html": [
              "<font color = green>Positive (99%)</font> --> <font color = red>[FAILED]</font><br>scherfig's light-hearted profile of emotional desperation is achingly honest and delightfully cheeky ."
            ],
            "text/plain": [
              "<IPython.core.display.HTML object>"
            ]
          },
          "metadata": {
            "tags": []
          }
        },
        {
          "output_type": "stream",
          "text": [
            "[Succeeded / Failed / Total] 10 / 3 / 16:  64%|██████▍   | 16/25 [00:10<00:05,  1.51it/s]"
          ],
          "name": "stderr"
        },
        {
          "output_type": "display_data",
          "data": {
            "text/html": [
              "<font color = green>Positive (99%)</font> --> <font color = red>Negative (54%)</font><br>a <font color = green>journey</font> <font color = green>spanning</font> nearly three decades of <font color = green>bittersweet</font> camaraderie and history , in which we <font color = green>feel</font> that we <font color = green>truly</font> <font color = green>know</font> what makes holly and marina tick , and our <font color = green>hearts</font> go out to them as both <font color = green>continue</font> to negotiate their imperfect , love-hate relationship .<br>a <font color = red>journ</font> <font color = red>panning</font> nearly three decades of <font color = red>bitter</font> camaraderie and history , in which we <font color = red>think</font> that we <font color = red>conceivably</font> <font color = red>think</font> what makes holly and marina tick , and our <font color = red>heartbeat</font> go out to them as both <font color = red>retinue</font> to negotiate their imperfect , love-hate relationship ."
            ],
            "text/plain": [
              "<IPython.core.display.HTML object>"
            ]
          },
          "metadata": {
            "tags": []
          }
        },
        {
          "output_type": "stream",
          "text": [
            "\r[Succeeded / Failed / Total] 11 / 3 / 17:  68%|██████▊   | 17/25 [00:14<00:06,  1.19it/s]"
          ],
          "name": "stderr"
        },
        {
          "output_type": "display_data",
          "data": {
            "text/html": [
              "<font color = green>Positive (95%)</font> --> <font color = red>Negative (66%)</font><br>the <font color = green>wonderfully</font> <font color = green>lush</font> <font color = green>morvern</font> callar is <font color = green>pure</font> punk existentialism , and ms . ramsay and her co-writer , liana dognini , have dramatized the alan warner novel , which itself felt like an answer to irvine welsh's book trainspotting .<br>the <font color = red>wonderful</font> <font color = red>raincoat</font> <font color = red>vern</font> callar is <font color = red>mixture</font> punk existentialism , and ms . ramsay and her co-writer , liana dognini , have dramatized the alan warner novel , which itself felt like an answer to irvine welsh's book trainspotting ."
            ],
            "text/plain": [
              "<IPython.core.display.HTML object>"
            ]
          },
          "metadata": {
            "tags": []
          }
        },
        {
          "output_type": "stream",
          "text": [
            "[Succeeded / Failed / Total] 12 / 3 / 18:  72%|███████▏  | 18/25 [00:16<00:06,  1.10it/s]"
          ],
          "name": "stderr"
        },
        {
          "output_type": "display_data",
          "data": {
            "text/html": [
              "<font color = green>Positive (59%)</font> --> <font color = red>Negative (62%)</font><br>as it <font color = green>turns</font> out , you can go home again .<br>as it <font color = red>urns</font> out , you can go home again ."
            ],
            "text/plain": [
              "<IPython.core.display.HTML object>"
            ]
          },
          "metadata": {
            "tags": []
          }
        },
        {
          "output_type": "stream",
          "text": [
            "\r[Succeeded / Failed / Total] 13 / 3 / 19:  76%|███████▌  | 19/25 [00:16<00:05,  1.16it/s]"
          ],
          "name": "stderr"
        },
        {
          "output_type": "display_data",
          "data": {
            "text/html": [
              "<font color = green>Positive (92%)</font> --> <font color = red>Negative (80%)</font><br>you've already seen city by the sea under a variety of titles , but it's <font color = green>worth</font> yet another visit .<br>you've already seen city by the sea under a variety of titles , but it's <font color = red>hapworth</font> yet another visit ."
            ],
            "text/plain": [
              "<IPython.core.display.HTML object>"
            ]
          },
          "metadata": {
            "tags": []
          }
        },
        {
          "output_type": "stream",
          "text": [
            "[Succeeded / Failed / Total] 14 / 3 / 20:  80%|████████  | 20/25 [00:16<00:04,  1.20it/s]"
          ],
          "name": "stderr"
        },
        {
          "output_type": "display_data",
          "data": {
            "text/html": [
              "<font color = green>Positive (96%)</font> --> <font color = red>Negative (51%)</font><br>this kind of <font color = green>hands-on</font> storytelling is ultimately what makes shanghai ghetto <font color = green>move</font> beyond a good , dry , reliable textbook and what allows it to rank with its <font color = green>worthy</font> predecessors .<br>this kind of <font color = red>handsel</font> storytelling is ultimately what makes shanghai ghetto <font color = red>push</font> beyond a good , dry , reliable textbook and what allows it to rank with its <font color = red>worthless</font> predecessors ."
            ],
            "text/plain": [
              "<IPython.core.display.HTML object>"
            ]
          },
          "metadata": {
            "tags": []
          }
        },
        {
          "output_type": "stream",
          "text": [
            "\r[Succeeded / Failed / Total] 15 / 3 / 21:  84%|████████▍ | 21/25 [00:17<00:03,  1.17it/s]"
          ],
          "name": "stderr"
        },
        {
          "output_type": "display_data",
          "data": {
            "text/html": [
              "<font color = red>Negative (90%)</font> --> <font color = gray>[SKIPPED]</font><br>making such a tragedy the backdrop to a love story risks trivializing it , though chouraqui no doubt intended the film to affirm love's power to help people endure almost unimaginable horror ."
            ],
            "text/plain": [
              "<IPython.core.display.HTML object>"
            ]
          },
          "metadata": {
            "tags": []
          }
        },
        {
          "output_type": "stream",
          "text": [
            "[Succeeded / Failed / Total] 15 / 3 / 22:  88%|████████▊ | 22/25 [00:17<00:02,  1.23it/s]"
          ],
          "name": "stderr"
        },
        {
          "output_type": "display_data",
          "data": {
            "text/html": [
              "<font color = green>Positive (63%)</font> --> <font color = red>Negative (87%)</font><br>grown-up quibbles are beside the point here . the little girls understand , and mccracken knows that's all that <font color = green>matters</font> .<br>grown-up quibbles are beside the point here . the little girls understand , and mccracken knows that's all that <font color = red>tatters</font> ."
            ],
            "text/plain": [
              "<IPython.core.display.HTML object>"
            ]
          },
          "metadata": {
            "tags": []
          }
        },
        {
          "output_type": "stream",
          "text": [
            "\r[Succeeded / Failed / Total] 16 / 3 / 23:  92%|█████████▏| 23/25 [00:18<00:01,  1.26it/s]"
          ],
          "name": "stderr"
        },
        {
          "output_type": "display_data",
          "data": {
            "text/html": [
              "<font color = green>Positive (99%)</font> --> <font color = red>[FAILED]</font><br>a powerful , chilling , and affecting study of one man's dying fall ."
            ],
            "text/plain": [
              "<IPython.core.display.HTML object>"
            ]
          },
          "metadata": {
            "tags": []
          }
        },
        {
          "output_type": "stream",
          "text": [
            "[Succeeded / Failed / Total] 16 / 4 / 24:  96%|█████████▌| 24/25 [00:19<00:00,  1.25it/s]"
          ],
          "name": "stderr"
        },
        {
          "output_type": "display_data",
          "data": {
            "text/html": [
              "<font color = green>Positive (90%)</font> --> <font color = red>Negative (89%)</font><br>this is a <font color = green>fascinating</font> film because there is no clear-cut hero and no all-out villain .<br>this is a <font color = red>fascination</font> film because there is no clear-cut hero and no all-out villain ."
            ],
            "text/plain": [
              "<IPython.core.display.HTML object>"
            ]
          },
          "metadata": {
            "tags": []
          }
        },
        {
          "output_type": "stream",
          "text": [
            "\r[Succeeded / Failed / Total] 17 / 4 / 25: 100%|██████████| 25/25 [00:19<00:00,  1.29it/s]"
          ],
          "name": "stderr"
        },
        {
          "output_type": "display_data",
          "data": {
            "text/html": [
              "<font color = red>Negative (80%)</font> --> <font color = gray>[SKIPPED]</font><br>a dreadful day in irish history is given passionate , if somewhat flawed , treatment ."
            ],
            "text/plain": [
              "<IPython.core.display.HTML object>"
            ]
          },
          "metadata": {
            "tags": []
          }
        },
        {
          "output_type": "stream",
          "text": [
            "[Succeeded / Failed / Total] 17 / 4 / 26: : 26it [00:19,  1.34it/s]"
          ],
          "name": "stderr"
        },
        {
          "output_type": "display_data",
          "data": {
            "text/html": [
              "<font color = green>Positive (87%)</font> --> <font color = red>Negative (96%)</font><br>. . . a <font color = green>good</font> film that must have baffled the folks in the marketing department .<br>. . . a <font color = red>bad</font> film that must have baffled the folks in the marketing department ."
            ],
            "text/plain": [
              "<IPython.core.display.HTML object>"
            ]
          },
          "metadata": {
            "tags": []
          }
        },
        {
          "output_type": "stream",
          "text": [
            "\r[Succeeded / Failed / Total] 18 / 4 / 27: : 27it [00:19,  1.38it/s]"
          ],
          "name": "stderr"
        },
        {
          "output_type": "display_data",
          "data": {
            "text/html": [
              "<font color = green>Positive (98%)</font> --> <font color = red>Negative (79%)</font><br>. . . is <font color = green>funny</font> in the way that makes you ache with sadness ( the way chekhov is funny ) , profound <font color = green>without</font> <font color = green>ever</font> being self-important , <font color = green>warm</font> <font color = green>without</font> ever succumbing to sentimentality .<br>. . . is <font color = red>bunny</font> in the way that makes you ache with sadness ( the way chekhov is funny ) , profound <font color = red>any</font> <font color = red>hardly</font> being self-important , <font color = red>cool</font> <font color = red>any</font> ever succumbing to sentimentality ."
            ],
            "text/plain": [
              "<IPython.core.display.HTML object>"
            ]
          },
          "metadata": {
            "tags": []
          }
        },
        {
          "output_type": "stream",
          "text": [
            "[Succeeded / Failed / Total] 19 / 4 / 28: : 28it [00:21,  1.31it/s]"
          ],
          "name": "stderr"
        },
        {
          "output_type": "display_data",
          "data": {
            "text/html": [
              "<font color = red>Negative (96%)</font> --> <font color = gray>[SKIPPED]</font><br>devotees of star trek ii : the wrath of khan will feel a nagging sense of deja vu , and the grandeur of the best next generation episodes is lacking ."
            ],
            "text/plain": [
              "<IPython.core.display.HTML object>"
            ]
          },
          "metadata": {
            "tags": []
          }
        },
        {
          "output_type": "stream",
          "text": [
            "\r[Succeeded / Failed / Total] 19 / 4 / 29: : 29it [00:21,  1.36it/s]"
          ],
          "name": "stderr"
        },
        {
          "output_type": "display_data",
          "data": {
            "text/html": [
              "<font color = green>Positive (99%)</font> --> <font color = red>Negative (54%)</font><br>a soul-stirring <font color = green>documentary</font> about the israeli/<font color = green>palestinian</font> conflict as revealed through the eyes of some children who <font color = green>remain</font> <font color = green>curious</font> about each other against all <font color = green>odds</font> .<br>a soul-stirring <font color = red>mockumentary</font> about the israeli/<font color = red>palestine</font> conflict as revealed through the eyes of some children who <font color = red>demain</font> <font color = red>furious</font> about each other against all <font color = red>bets</font> ."
            ],
            "text/plain": [
              "<IPython.core.display.HTML object>"
            ]
          },
          "metadata": {
            "tags": []
          }
        },
        {
          "output_type": "stream",
          "text": [
            "[Succeeded / Failed / Total] 20 / 4 / 30: : 30it [00:22,  1.33it/s]"
          ],
          "name": "stderr"
        },
        {
          "output_type": "display_data",
          "data": {
            "text/html": [
              "<font color = green>Positive (89%)</font> --> <font color = red>Negative (50%)</font><br><font color = green>what's</font> so striking about jolie's performance is that she <font color = green>never</font> lets her character <font color = green>become</font> a caricature -- not even with that radioactive hair .<br><font color = red>what</font> so striking about jolie's performance is that she <font color = red>ever</font> lets her character <font color = red>becoming</font> a caricature -- not even with that radioactive hair ."
            ],
            "text/plain": [
              "<IPython.core.display.HTML object>"
            ]
          },
          "metadata": {
            "tags": []
          }
        },
        {
          "output_type": "stream",
          "text": [
            "[Succeeded / Failed / Total] 21 / 4 / 31: : 31it [00:23,  1.33it/s]"
          ],
          "name": "stderr"
        },
        {
          "output_type": "stream",
          "text": [
            "+-------------------------------+--------+\n",
            "| Attack Results                |        |\n",
            "+-------------------------------+--------+\n",
            "| Number of successful attacks: | 21     |\n",
            "| Number of failed attacks:     | 4      |\n",
            "| Number of skipped attacks:    | 6      |\n",
            "| Original accuracy:            | 80.65% |\n",
            "| Accuracy under attack:        | 12.9%  |\n",
            "| Attack success rate:          | 84.0%  |\n",
            "| Average perturbed word %:     | 12.4%  |\n",
            "| Average num. words per input: | 18.74  |\n",
            "| Avg num queries:              | 36.56  |\n",
            "+-------------------------------+--------+"
          ],
          "name": "stdout"
        },
        {
          "output_type": "stream",
          "text": [
            "\n",
            "\u001b[34;1mtextattack\u001b[0m: Attack time: 23.370148420333862s\n"
          ],
          "name": "stderr"
        }
      ]
    },
    {
      "cell_type": "markdown",
      "metadata": {
        "id": "JjjKuY91FPqf"
      },
      "source": [
        "# Framing word2vec attack"
      ]
    },
    {
      "cell_type": "code",
      "metadata": {
        "id": "pp7L4aR6FRVP"
      },
      "source": [
        "class Swapper_(WordSwap): # For word2vec\n",
        "    \"\"\" Transforms an input by replacing any word with its most similar counterpart\n",
        "    \"\"\"\n",
        "\n",
        "    # We don't need a constructor, since our class doesn't require any parameters.\n",
        "\n",
        "    def _get_replacement_words(self, word):\n",
        "        \"\"\" Returns 'banana', no matter what 'word' was originally.\n",
        "\n",
        "            Returns a list with one item, since `_get_replacement_words` is intended to\n",
        "                return a list of candidate replacement words.\n",
        "        \"\"\"\n",
        "        if word in model2.wv.key_to_index:\n",
        "            for i in range(10):\n",
        "                if word.lower() in model2.wv.most_similar(word)[i][0].lower():\n",
        "                    continue\n",
        "                elif word.isupper():\n",
        "                    return [model2.wv.most_similar(word)[i][0].upper()]\n",
        "                elif word[0].isupper():\n",
        "                    return [model2.wv.most_similar(word)[i][0].capitalize()]\n",
        "                else:\n",
        "                    return [model2.wv.most_similar(word)[i][0]]\n",
        "        else:\n",
        "            return [word]"
      ],
      "execution_count": 16,
      "outputs": []
    },
    {
      "cell_type": "markdown",
      "metadata": {
        "id": "ZPjjq1FGs0Vs"
      },
      "source": [
        "### Word2vec, GreedySearch, RepeatModification, StopwordModification"
      ]
    },
    {
      "cell_type": "code",
      "metadata": {
        "id": "enY5C3DDBwlo",
        "colab": {
          "base_uri": "https://localhost:8080/"
        },
        "outputId": "a37a599c-640a-4b43-a17f-43c88f35624d"
      },
      "source": [
        "# We're going to use our word swap class as the attack transformation.\n",
        "transformation = Swapper_()\n",
        "\n",
        "constraints = [RepeatModification(),\n",
        "               StopwordModification()]\n",
        "\n",
        "search_method = GreedySearch()\n",
        "\n",
        "goal_function = UntargetedClassification(model_wrapper)\n",
        "\n",
        "# Now, let's make the attack from the 4 components:\n",
        "attack = Attack(goal_function, constraints, transformation, search_method)\n"
      ],
      "execution_count": 17,
      "outputs": [
        {
          "output_type": "stream",
          "text": [
            "\u001b[34;1mtextattack\u001b[0m: Unknown if model of class <class 'transformers.models.albert.modeling_albert.AlbertForSequenceClassification'> compatible with goal function <class 'textattack.goal_functions.classification.untargeted_classification.UntargetedClassification'>.\n"
          ],
          "name": "stderr"
        }
      ]
    },
    {
      "cell_type": "code",
      "metadata": {
        "id": "axfmmqOUlwtU",
        "colab": {
          "base_uri": "https://localhost:8080/"
        },
        "outputId": "ea7f5e14-af34-461f-dd80-7ebfad4e709c"
      },
      "source": [
        "print(attack)"
      ],
      "execution_count": 18,
      "outputs": [
        {
          "output_type": "stream",
          "text": [
            "Attack(\n",
            "  (search_method): GreedySearch\n",
            "  (goal_function):  UntargetedClassification\n",
            "  (transformation):  Swapper_\n",
            "  (constraints): \n",
            "    (0): RepeatModification\n",
            "    (1): StopwordModification\n",
            "  (is_black_box):  True\n",
            ")\n"
          ],
          "name": "stdout"
        }
      ]
    },
    {
      "cell_type": "code",
      "metadata": {
        "id": "FhK7my9wFTcj",
        "colab": {
          "base_uri": "https://localhost:8080/",
          "height": 1000
        },
        "outputId": "1512486e-5dfd-4c24-b009-ed6cdde75948"
      },
      "source": [
        "attack_stats(attack, dataset, 25)"
      ],
      "execution_count": 19,
      "outputs": [
        {
          "output_type": "stream",
          "text": [
            "\r  0%|          | 0/25 [00:00<?, ?it/s]"
          ],
          "name": "stderr"
        },
        {
          "output_type": "stream",
          "text": [
            "Attack(\n",
            "  (search_method): GreedySearch\n",
            "  (goal_function):  UntargetedClassification\n",
            "  (transformation):  Swapper_\n",
            "  (constraints): \n",
            "    (0): RepeatModification\n",
            "    (1): StopwordModification\n",
            "  (is_black_box):  True\n",
            ")\n"
          ],
          "name": "stdout"
        },
        {
          "output_type": "display_data",
          "data": {
            "text/html": [
              "<font color = green>Positive (93%)</font> --> <font color = red>Negative (68%)</font><br><font color = green>lovingly</font> photographed in the manner of a golden book sprung to life , stuart little 2 manages sweetness largely without stickiness .<br><font color = red>giantesses</font> photographed in the manner of a golden book sprung to life , stuart little 2 manages sweetness largely without stickiness ."
            ],
            "text/plain": [
              "<IPython.core.display.HTML object>"
            ]
          },
          "metadata": {
            "tags": []
          }
        },
        {
          "output_type": "stream",
          "text": [
            "[Succeeded / Failed / Total] 1 / 0 / 1:   4%|▍         | 1/25 [00:00<00:07,  3.11it/s]"
          ],
          "name": "stderr"
        },
        {
          "output_type": "display_data",
          "data": {
            "text/html": [
              "<font color = green>Positive (99%)</font> --> <font color = red>[FAILED]</font><br>consistently clever and suspenseful ."
            ],
            "text/plain": [
              "<IPython.core.display.HTML object>"
            ]
          },
          "metadata": {
            "tags": []
          }
        },
        {
          "output_type": "stream",
          "text": [
            "[Succeeded / Failed / Total] 1 / 1 / 2:   8%|▊         | 2/25 [00:00<00:05,  4.05it/s]"
          ],
          "name": "stderr"
        },
        {
          "output_type": "display_data",
          "data": {
            "text/html": [
              "<font color = red>Negative (92%)</font> --> <font color = gray>[SKIPPED]</font><br>it's like a \" big chill \" reunion of the baader-meinhof gang , only these guys are more harmless pranksters than political activists ."
            ],
            "text/plain": [
              "<IPython.core.display.HTML object>"
            ]
          },
          "metadata": {
            "tags": []
          }
        },
        {
          "output_type": "stream",
          "text": [
            "\r[Succeeded / Failed / Total] 1 / 1 / 3:  12%|█▏        | 3/25 [00:00<00:03,  5.76it/s]"
          ],
          "name": "stderr"
        },
        {
          "output_type": "display_data",
          "data": {
            "text/html": [
              "<font color = green>Positive (99%)</font> --> <font color = red>Negative (84%)</font><br>the story gives <font color = green>ample</font> opportunity for large-scale action and suspense , which director shekhar kapur supplies with tremendous <font color = green>skill</font> .<br>the story gives <font color = red>insufficient</font> opportunity for large-scale action and suspense , which director shekhar kapur supplies with tremendous <font color = red>abilities</font> ."
            ],
            "text/plain": [
              "<IPython.core.display.HTML object>"
            ]
          },
          "metadata": {
            "tags": []
          }
        },
        {
          "output_type": "stream",
          "text": [
            "[Succeeded / Failed / Total] 2 / 1 / 4:  16%|█▌        | 4/25 [00:00<00:05,  4.06it/s]"
          ],
          "name": "stderr"
        },
        {
          "output_type": "display_data",
          "data": {
            "text/html": [
              "<font color = green>Positive (80%)</font> --> <font color = red>Negative (95%)</font><br>red dragon \" <font color = green>never</font> cuts corners .<br>red dragon \" <font color = red>already</font> cuts corners ."
            ],
            "text/plain": [
              "<IPython.core.display.HTML object>"
            ]
          },
          "metadata": {
            "tags": []
          }
        },
        {
          "output_type": "stream",
          "text": [
            "\r[Succeeded / Failed / Total] 3 / 1 / 5:  20%|██        | 5/25 [00:01<00:04,  4.46it/s]"
          ],
          "name": "stderr"
        },
        {
          "output_type": "display_data",
          "data": {
            "text/html": [
              "<font color = green>Positive (94%)</font> --> <font color = red>Negative (94%)</font><br>fresnadillo has <font color = green>something</font> serious to say about the ways in which extravagant chance can distort our perspective and throw us off the path of good sense .<br>fresnadillo has <font color = red>anything</font> serious to say about the ways in which extravagant chance can distort our perspective and throw us off the path of good sense ."
            ],
            "text/plain": [
              "<IPython.core.display.HTML object>"
            ]
          },
          "metadata": {
            "tags": []
          }
        },
        {
          "output_type": "stream",
          "text": [
            "[Succeeded / Failed / Total] 4 / 1 / 6:  24%|██▍       | 6/25 [00:01<00:04,  4.13it/s]"
          ],
          "name": "stderr"
        },
        {
          "output_type": "display_data",
          "data": {
            "text/html": [
              "<font color = green>Positive (97%)</font> --> <font color = red>Negative (96%)</font><br>throws in <font color = green>enough</font> clever and unexpected twists to make the formula feel fresh .<br>throws in <font color = red>too</font> clever and unexpected twists to make the formula feel fresh ."
            ],
            "text/plain": [
              "<IPython.core.display.HTML object>"
            ]
          },
          "metadata": {
            "tags": []
          }
        },
        {
          "output_type": "stream",
          "text": [
            "\r[Succeeded / Failed / Total] 5 / 1 / 7:  28%|██▊       | 7/25 [00:01<00:04,  4.17it/s]"
          ],
          "name": "stderr"
        },
        {
          "output_type": "display_data",
          "data": {
            "text/html": [
              "<font color = green>Positive (74%)</font> --> <font color = red>Negative (60%)</font><br>weighty and ponderous but every bit as <font color = green>filling</font> as the treat of the title .<br>weighty and ponderous but every bit as <font color = red>knitted</font> as the treat of the title ."
            ],
            "text/plain": [
              "<IPython.core.display.HTML object>"
            ]
          },
          "metadata": {
            "tags": []
          }
        },
        {
          "output_type": "stream",
          "text": [
            "[Succeeded / Failed / Total] 6 / 1 / 8:  32%|███▏      | 8/25 [00:01<00:03,  4.34it/s]"
          ],
          "name": "stderr"
        },
        {
          "output_type": "display_data",
          "data": {
            "text/html": [
              "<font color = green>Positive (98%)</font> --> <font color = red>Negative (73%)</font><br>a <font color = green>real</font> audience-pleaser that will <font color = green>strike</font> a <font color = green>chord</font> with anyone who's ever waited in a doctor's office , emergency room , hospital bed or insurance company office .<br>a <font color = red>nonnegative</font> audience-pleaser that will <font color = red>downed</font> a <font color = red>subdominant</font> with anyone who's ever waited in a doctor's office , emergency room , hospital bed or insurance company office ."
            ],
            "text/plain": [
              "<IPython.core.display.HTML object>"
            ]
          },
          "metadata": {
            "tags": []
          }
        },
        {
          "output_type": "stream",
          "text": [
            "\r[Succeeded / Failed / Total] 7 / 1 / 9:  36%|███▌      | 9/25 [00:02<00:04,  3.26it/s]"
          ],
          "name": "stderr"
        },
        {
          "output_type": "display_data",
          "data": {
            "text/html": [
              "<font color = green>Positive (99%)</font> --> <font color = red>[FAILED]</font><br>generates an enormous feeling of empathy for its characters ."
            ],
            "text/plain": [
              "<IPython.core.display.HTML object>"
            ]
          },
          "metadata": {
            "tags": []
          }
        },
        {
          "output_type": "stream",
          "text": [
            "[Succeeded / Failed / Total] 7 / 2 / 10:  40%|████      | 10/25 [00:03<00:04,  3.18it/s]"
          ],
          "name": "stderr"
        },
        {
          "output_type": "display_data",
          "data": {
            "text/html": [
              "<font color = green>Positive (97%)</font> --> <font color = red>Negative (61%)</font><br>exposing the <font color = green>ways</font> we fool ourselves is <font color = green>one</font> hour photo's <font color = green>real</font> <font color = green>strength</font> .<br>exposing the <font color = red>way</font> we fool ourselves is <font color = red>six</font> hour photo's <font color = red>nonnegative</font> <font color = red>agility</font> ."
            ],
            "text/plain": [
              "<IPython.core.display.HTML object>"
            ]
          },
          "metadata": {
            "tags": []
          }
        },
        {
          "output_type": "stream",
          "text": [
            "\r[Succeeded / Failed / Total] 8 / 2 / 11:  44%|████▍     | 11/25 [00:03<00:04,  2.99it/s]"
          ],
          "name": "stderr"
        },
        {
          "output_type": "display_data",
          "data": {
            "text/html": [
              "<font color = red>Negative (57%)</font> --> <font color = gray>[SKIPPED]</font><br>it's up to you to decide whether to admire these people's dedication to their cause or be repelled by their dogmatism , manipulativeness and narrow , fearful view of american life ."
            ],
            "text/plain": [
              "<IPython.core.display.HTML object>"
            ]
          },
          "metadata": {
            "tags": []
          }
        },
        {
          "output_type": "stream",
          "text": [
            "[Succeeded / Failed / Total] 8 / 2 / 12:  48%|████▊     | 12/25 [00:03<00:04,  3.24it/s]"
          ],
          "name": "stderr"
        },
        {
          "output_type": "display_data",
          "data": {
            "text/html": [
              "<font color = green>Positive (67%)</font> --> <font color = red>Negative (82%)</font><br>mostly , [goldbacher] just lets her complicated characters be unruly , confusing and , through it all , <font color = green>human</font> .<br>mostly , [goldbacher] just lets her complicated characters be unruly , confusing and , through it all , <font color = red>animal</font> ."
            ],
            "text/plain": [
              "<IPython.core.display.HTML object>"
            ]
          },
          "metadata": {
            "tags": []
          }
        },
        {
          "output_type": "stream",
          "text": [
            "\r[Succeeded / Failed / Total] 9 / 2 / 13:  52%|█████▏    | 13/25 [00:03<00:03,  3.34it/s]"
          ],
          "name": "stderr"
        },
        {
          "output_type": "display_data",
          "data": {
            "text/html": [
              "<font color = green>Positive (98%)</font> --> <font color = red>Negative (96%)</font><br>. . . quite <font color = green>good</font> at providing some good old fashioned spooks .<br>. . . quite <font color = red>bad</font> at providing some good old fashioned spooks ."
            ],
            "text/plain": [
              "<IPython.core.display.HTML object>"
            ]
          },
          "metadata": {
            "tags": []
          }
        },
        {
          "output_type": "stream",
          "text": [
            "[Succeeded / Failed / Total] 10 / 2 / 14:  56%|█████▌    | 14/25 [00:04<00:03,  3.43it/s]"
          ],
          "name": "stderr"
        },
        {
          "output_type": "display_data",
          "data": {
            "text/html": [
              "<font color = red>Negative (92%)</font> --> <font color = gray>[SKIPPED]</font><br>at its worst , the movie is pretty diverting ; the pity is that it rarely achieves its best ."
            ],
            "text/plain": [
              "<IPython.core.display.HTML object>"
            ]
          },
          "metadata": {
            "tags": []
          }
        },
        {
          "output_type": "stream",
          "text": [
            "\r[Succeeded / Failed / Total] 10 / 2 / 15:  60%|██████    | 15/25 [00:04<00:02,  3.65it/s]"
          ],
          "name": "stderr"
        },
        {
          "output_type": "display_data",
          "data": {
            "text/html": [
              "<font color = green>Positive (99%)</font> --> <font color = red>[FAILED]</font><br>scherfig's light-hearted profile of emotional desperation is achingly honest and delightfully cheeky ."
            ],
            "text/plain": [
              "<IPython.core.display.HTML object>"
            ]
          },
          "metadata": {
            "tags": []
          }
        },
        {
          "output_type": "stream",
          "text": [
            "[Succeeded / Failed / Total] 10 / 3 / 16:  64%|██████▍   | 16/25 [00:04<00:02,  3.56it/s]"
          ],
          "name": "stderr"
        },
        {
          "output_type": "display_data",
          "data": {
            "text/html": [
              "<font color = green>Positive (99%)</font> --> <font color = red>[FAILED]</font><br>a journey spanning nearly three decades of bittersweet camaraderie and history , in which we feel that we truly know what makes holly and marina tick , and our hearts go out to them as both continue to negotiate their imperfect , love-hate relationship ."
            ],
            "text/plain": [
              "<IPython.core.display.HTML object>"
            ]
          },
          "metadata": {
            "tags": []
          }
        },
        {
          "output_type": "stream",
          "text": [
            "\r[Succeeded / Failed / Total] 10 / 4 / 17:  68%|██████▊   | 17/25 [00:09<00:04,  1.81it/s]"
          ],
          "name": "stderr"
        },
        {
          "output_type": "display_data",
          "data": {
            "text/html": [
              "<font color = green>Positive (95%)</font> --> <font color = red>Negative (94%)</font><br>the <font color = green>wonderfully</font> lush morvern callar is pure punk existentialism , and ms . ramsay and her co-writer , liana dognini , have dramatized the alan warner novel , which itself felt like an answer to irvine welsh's book trainspotting .<br>the <font color = red>ribald</font> lush morvern callar is pure punk existentialism , and ms . ramsay and her co-writer , liana dognini , have dramatized the alan warner novel , which itself felt like an answer to irvine welsh's book trainspotting ."
            ],
            "text/plain": [
              "<IPython.core.display.HTML object>"
            ]
          },
          "metadata": {
            "tags": []
          }
        },
        {
          "output_type": "stream",
          "text": [
            "[Succeeded / Failed / Total] 11 / 4 / 18:  72%|███████▏  | 18/25 [00:09<00:03,  1.83it/s]"
          ],
          "name": "stderr"
        },
        {
          "output_type": "display_data",
          "data": {
            "text/html": [
              "<font color = green>Positive (59%)</font> --> <font color = red>Negative (58%)</font><br>as it turns out , you can go <font color = green>home</font> again .<br>as it turns out , you can go <font color = red>riverfront</font> again ."
            ],
            "text/plain": [
              "<IPython.core.display.HTML object>"
            ]
          },
          "metadata": {
            "tags": []
          }
        },
        {
          "output_type": "stream",
          "text": [
            "\r[Succeeded / Failed / Total] 12 / 4 / 19:  76%|███████▌  | 19/25 [00:09<00:03,  1.92it/s]"
          ],
          "name": "stderr"
        },
        {
          "output_type": "display_data",
          "data": {
            "text/html": [
              "<font color = green>Positive (92%)</font> --> <font color = red>Negative (82%)</font><br>you've already seen city by the sea under a variety of titles , but it's <font color = green>worth</font> yet another visit .<br>you've already seen city by the sea under a variety of titles , but it's <font color = red>noting</font> yet another visit ."
            ],
            "text/plain": [
              "<IPython.core.display.HTML object>"
            ]
          },
          "metadata": {
            "tags": []
          }
        },
        {
          "output_type": "stream",
          "text": [
            "[Succeeded / Failed / Total] 13 / 4 / 20:  80%|████████  | 20/25 [00:10<00:02,  1.96it/s]"
          ],
          "name": "stderr"
        },
        {
          "output_type": "display_data",
          "data": {
            "text/html": [
              "<font color = green>Positive (96%)</font> --> <font color = red>[FAILED]</font><br>this kind of hands-on storytelling is ultimately what makes shanghai ghetto move beyond a good , dry , reliable textbook and what allows it to rank with its worthy predecessors ."
            ],
            "text/plain": [
              "<IPython.core.display.HTML object>"
            ]
          },
          "metadata": {
            "tags": []
          }
        },
        {
          "output_type": "stream",
          "text": [
            "\r[Succeeded / Failed / Total] 13 / 5 / 21:  84%|████████▍ | 21/25 [00:13<00:02,  1.56it/s]"
          ],
          "name": "stderr"
        },
        {
          "output_type": "display_data",
          "data": {
            "text/html": [
              "<font color = red>Negative (90%)</font> --> <font color = gray>[SKIPPED]</font><br>making such a tragedy the backdrop to a love story risks trivializing it , though chouraqui no doubt intended the film to affirm love's power to help people endure almost unimaginable horror ."
            ],
            "text/plain": [
              "<IPython.core.display.HTML object>"
            ]
          },
          "metadata": {
            "tags": []
          }
        },
        {
          "output_type": "stream",
          "text": [
            "[Succeeded / Failed / Total] 13 / 5 / 22:  88%|████████▊ | 22/25 [00:13<00:01,  1.64it/s]"
          ],
          "name": "stderr"
        },
        {
          "output_type": "display_data",
          "data": {
            "text/html": [
              "<font color = green>Positive (63%)</font> --> <font color = red>Negative (91%)</font><br>grown-up quibbles are beside the point here . the little girls understand , and mccracken <font color = green>knows</font> that's all that matters .<br>grown-up quibbles are beside the point here . the little girls understand , and mccracken <font color = red>thinks</font> that's all that matters ."
            ],
            "text/plain": [
              "<IPython.core.display.HTML object>"
            ]
          },
          "metadata": {
            "tags": []
          }
        },
        {
          "output_type": "stream",
          "text": [
            "\r[Succeeded / Failed / Total] 14 / 5 / 23:  92%|█████████▏| 23/25 [00:13<00:01,  1.68it/s]"
          ],
          "name": "stderr"
        },
        {
          "output_type": "display_data",
          "data": {
            "text/html": [
              "<font color = green>Positive (99%)</font> --> <font color = red>Negative (51%)</font><br>a <font color = green>powerful</font> , <font color = green>chilling</font> , and <font color = green>affecting</font> <font color = green>study</font> of <font color = green>one</font> man's <font color = green>dying</font> <font color = green>fall</font> .<br>a <font color = red>sophisticated</font> , <font color = red>hallucinatory</font> , and <font color = red>wasting</font> <font color = red>neurobiology</font> of <font color = red>six</font> man's <font color = red>menopause</font> <font color = red>collapse</font> ."
            ],
            "text/plain": [
              "<IPython.core.display.HTML object>"
            ]
          },
          "metadata": {
            "tags": []
          }
        },
        {
          "output_type": "stream",
          "text": [
            "[Succeeded / Failed / Total] 15 / 5 / 24:  96%|█████████▌| 24/25 [00:14<00:00,  1.67it/s]"
          ],
          "name": "stderr"
        },
        {
          "output_type": "display_data",
          "data": {
            "text/html": [
              "<font color = green>Positive (90%)</font> --> <font color = red>[FAILED]</font><br>this is a fascinating film because there is no clear-cut hero and no all-out villain ."
            ],
            "text/plain": [
              "<IPython.core.display.HTML object>"
            ]
          },
          "metadata": {
            "tags": []
          }
        },
        {
          "output_type": "stream",
          "text": [
            "\r[Succeeded / Failed / Total] 15 / 6 / 25: 100%|██████████| 25/25 [00:14<00:00,  1.71it/s]"
          ],
          "name": "stderr"
        },
        {
          "output_type": "display_data",
          "data": {
            "text/html": [
              "<font color = red>Negative (80%)</font> --> <font color = gray>[SKIPPED]</font><br>a dreadful day in irish history is given passionate , if somewhat flawed , treatment ."
            ],
            "text/plain": [
              "<IPython.core.display.HTML object>"
            ]
          },
          "metadata": {
            "tags": []
          }
        },
        {
          "output_type": "stream",
          "text": [
            "[Succeeded / Failed / Total] 15 / 6 / 26: : 26it [00:14,  1.78it/s]"
          ],
          "name": "stderr"
        },
        {
          "output_type": "display_data",
          "data": {
            "text/html": [
              "<font color = green>Positive (87%)</font> --> <font color = red>Negative (96%)</font><br>. . . a <font color = green>good</font> film that must have baffled the folks in the marketing department .<br>. . . a <font color = red>bad</font> film that must have baffled the folks in the marketing department ."
            ],
            "text/plain": [
              "<IPython.core.display.HTML object>"
            ]
          },
          "metadata": {
            "tags": []
          }
        },
        {
          "output_type": "stream",
          "text": [
            "\r[Succeeded / Failed / Total] 16 / 6 / 27: : 27it [00:14,  1.82it/s]"
          ],
          "name": "stderr"
        },
        {
          "output_type": "display_data",
          "data": {
            "text/html": [
              "<font color = green>Positive (98%)</font> --> <font color = red>Negative (85%)</font><br>. . . is <font color = green>funny</font> in the way that makes you ache with sadness ( the way chekhov is funny ) , profound <font color = green>without</font> ever being self-important , warm <font color = green>without</font> ever succumbing to sentimentality .<br>. . . is <font color = red>pretty</font> in the way that makes you ache with sadness ( the way chekhov is funny ) , profound <font color = red>whatsoever</font> ever being self-important , warm <font color = red>whatsoever</font> ever succumbing to sentimentality ."
            ],
            "text/plain": [
              "<IPython.core.display.HTML object>"
            ]
          },
          "metadata": {
            "tags": []
          }
        },
        {
          "output_type": "stream",
          "text": [
            "[Succeeded / Failed / Total] 17 / 6 / 28: : 28it [00:15,  1.77it/s]"
          ],
          "name": "stderr"
        },
        {
          "output_type": "display_data",
          "data": {
            "text/html": [
              "<font color = red>Negative (96%)</font> --> <font color = gray>[SKIPPED]</font><br>devotees of star trek ii : the wrath of khan will feel a nagging sense of deja vu , and the grandeur of the best next generation episodes is lacking ."
            ],
            "text/plain": [
              "<IPython.core.display.HTML object>"
            ]
          },
          "metadata": {
            "tags": []
          }
        },
        {
          "output_type": "stream",
          "text": [
            "\r[Succeeded / Failed / Total] 17 / 6 / 29: : 29it [00:15,  1.83it/s]"
          ],
          "name": "stderr"
        },
        {
          "output_type": "display_data",
          "data": {
            "text/html": [
              "<font color = green>Positive (99%)</font> --> <font color = red>[FAILED]</font><br>a soul-stirring documentary about the israeli/palestinian conflict as revealed through the eyes of some children who remain curious about each other against all odds ."
            ],
            "text/plain": [
              "<IPython.core.display.HTML object>"
            ]
          },
          "metadata": {
            "tags": []
          }
        },
        {
          "output_type": "stream",
          "text": [
            "[Succeeded / Failed / Total] 17 / 7 / 30: : 30it [00:17,  1.75it/s]"
          ],
          "name": "stderr"
        },
        {
          "output_type": "display_data",
          "data": {
            "text/html": [
              "<font color = green>Positive (89%)</font> --> <font color = red>Negative (53%)</font><br>what's so striking about jolie's performance is that she <font color = green>never</font> lets her character become a caricature -- not even with that radioactive hair .<br>what's so striking about jolie's performance is that she <font color = red>already</font> lets her character become a caricature -- not even with that radioactive hair ."
            ],
            "text/plain": [
              "<IPython.core.display.HTML object>"
            ]
          },
          "metadata": {
            "tags": []
          }
        },
        {
          "output_type": "stream",
          "text": [
            "[Succeeded / Failed / Total] 18 / 7 / 31: : 31it [00:17,  1.78it/s]"
          ],
          "name": "stderr"
        },
        {
          "output_type": "stream",
          "text": [
            "+-------------------------------+--------+\n",
            "| Attack Results                |        |\n",
            "+-------------------------------+--------+\n",
            "| Number of successful attacks: | 18     |\n",
            "| Number of failed attacks:     | 7      |\n",
            "| Number of skipped attacks:    | 6      |\n",
            "| Original accuracy:            | 80.65% |\n",
            "| Accuracy under attack:        | 22.58% |\n",
            "| Attack success rate:          | 72.0%  |\n",
            "| Average perturbed word %:     | 12.78% |\n",
            "| Average num. words per input: | 18.74  |\n",
            "| Avg num queries:              | 29.48  |\n",
            "+-------------------------------+--------+"
          ],
          "name": "stdout"
        },
        {
          "output_type": "stream",
          "text": [
            "\n",
            "\u001b[34;1mtextattack\u001b[0m: Attack time: 17.415359258651733s\n"
          ],
          "name": "stderr"
        }
      ]
    },
    {
      "cell_type": "markdown",
      "metadata": {
        "id": "Q8odOqt_MctY"
      },
      "source": [
        "### Framing Glove attack"
      ]
    },
    {
      "cell_type": "code",
      "metadata": {
        "id": "d4dI_hK_MXdH"
      },
      "source": [
        "from textattack.transformations import WordSwap\n",
        "\n",
        "class Swapper__(WordSwap): # For glove\n",
        "    \"\"\" Transforms an input by replacing any word with its most similar counterpart\n",
        "    \"\"\"\n",
        "\n",
        "    # We don't need a constructor, since our class doesn't require any parameters.\n",
        "\n",
        "    def _get_replacement_words(self, word):\n",
        "        \"\"\" Returns 'banana', no matter what 'word' was originally.\n",
        "\n",
        "            Returns a list with one item, since `_get_replacement_words` is intended to\n",
        "                return a list of candidate replacement words.\n",
        "        \"\"\"\n",
        "        if word in model3.key_to_index:\n",
        "            for i in range(10):\n",
        "                if word.lower() in model3.most_similar(word)[i][0].lower():\n",
        "                    continue\n",
        "                elif word.isupper():\n",
        "                    return [model3.most_similar(word)[i][0].upper()]\n",
        "                elif word[0].isupper():\n",
        "                    return [model3.most_similar(word)[i][0].capitalize()]\n",
        "                else:\n",
        "                    return [model3.most_similar(word)[i][0]]\n",
        "        else:\n",
        "            return [word]"
      ],
      "execution_count": 20,
      "outputs": []
    },
    {
      "cell_type": "markdown",
      "metadata": {
        "id": "fh2g_oH5s9cK"
      },
      "source": [
        "### Glove, GreedySearch, RepeatModification, StopwordModification"
      ]
    },
    {
      "cell_type": "code",
      "metadata": {
        "id": "TSxsdoTqNmYM",
        "colab": {
          "base_uri": "https://localhost:8080/"
        },
        "outputId": "93bd1b2d-ee09-4e0c-d4ae-67b9c906e071"
      },
      "source": [
        "# We're going to use our word swap class as the attack transformation.\n",
        "transformation = Swapper__()\n",
        "\n",
        "constraints = [RepeatModification(),\n",
        "               StopwordModification()]\n",
        "\n",
        "search_method = GreedySearch()\n",
        "\n",
        "goal_function = UntargetedClassification(model_wrapper)\n",
        "\n",
        "# Now, let's make the attack from the 4 components:\n",
        "attack = Attack(goal_function, constraints, transformation, search_method)"
      ],
      "execution_count": 21,
      "outputs": [
        {
          "output_type": "stream",
          "text": [
            "\u001b[34;1mtextattack\u001b[0m: Unknown if model of class <class 'transformers.models.albert.modeling_albert.AlbertForSequenceClassification'> compatible with goal function <class 'textattack.goal_functions.classification.untargeted_classification.UntargetedClassification'>.\n"
          ],
          "name": "stderr"
        }
      ]
    },
    {
      "cell_type": "code",
      "metadata": {
        "id": "yipMMe1VNuRP",
        "colab": {
          "base_uri": "https://localhost:8080/"
        },
        "outputId": "7b28a4ec-dc99-47e2-8ae5-e80c0fe37c62"
      },
      "source": [
        "print(attack)"
      ],
      "execution_count": 22,
      "outputs": [
        {
          "output_type": "stream",
          "text": [
            "Attack(\n",
            "  (search_method): GreedySearch\n",
            "  (goal_function):  UntargetedClassification\n",
            "  (transformation):  Swapper__\n",
            "  (constraints): \n",
            "    (0): RepeatModification\n",
            "    (1): StopwordModification\n",
            "  (is_black_box):  True\n",
            ")\n"
          ],
          "name": "stdout"
        }
      ]
    },
    {
      "cell_type": "code",
      "metadata": {
        "id": "cpWQXGpDN1SB",
        "colab": {
          "base_uri": "https://localhost:8080/",
          "height": 1000
        },
        "outputId": "f78df154-606a-40f2-aa2b-a97441ee3f56"
      },
      "source": [
        "attack_stats(attack, dataset, 25)"
      ],
      "execution_count": 23,
      "outputs": [
        {
          "output_type": "stream",
          "text": [
            "\r  0%|          | 0/25 [00:00<?, ?it/s]"
          ],
          "name": "stderr"
        },
        {
          "output_type": "stream",
          "text": [
            "Attack(\n",
            "  (search_method): GreedySearch\n",
            "  (goal_function):  UntargetedClassification\n",
            "  (transformation):  Swapper__\n",
            "  (constraints): \n",
            "    (0): RepeatModification\n",
            "    (1): StopwordModification\n",
            "  (is_black_box):  True\n",
            ")\n"
          ],
          "name": "stdout"
        },
        {
          "output_type": "display_data",
          "data": {
            "text/html": [
              "<font color = green>Positive (93%)</font> --> <font color = red>Negative (72%)</font><br><font color = green>lovingly</font> photographed in the manner of a golden book sprung to life , stuart little 2 manages sweetness largely without stickiness .<br><font color = red>retroactively</font> photographed in the manner of a golden book sprung to life , stuart little 2 manages sweetness largely without stickiness ."
            ],
            "text/plain": [
              "<IPython.core.display.HTML object>"
            ]
          },
          "metadata": {
            "tags": []
          }
        },
        {
          "output_type": "stream",
          "text": [
            "[Succeeded / Failed / Total] 1 / 0 / 1:   4%|▍         | 1/25 [00:00<00:14,  1.71it/s]"
          ],
          "name": "stderr"
        },
        {
          "output_type": "display_data",
          "data": {
            "text/html": [
              "<font color = green>Positive (99%)</font> --> <font color = red>Negative (80%)</font><br>consistently <font color = green>clever</font> and <font color = green>suspenseful</font> .<br>consistently <font color = red>comical</font> and <font color = red>mannitol</font> ."
            ],
            "text/plain": [
              "<IPython.core.display.HTML object>"
            ]
          },
          "metadata": {
            "tags": []
          }
        },
        {
          "output_type": "stream",
          "text": [
            "[Succeeded / Failed / Total] 2 / 0 / 2:   8%|▊         | 2/25 [00:00<00:09,  2.47it/s]"
          ],
          "name": "stderr"
        },
        {
          "output_type": "display_data",
          "data": {
            "text/html": [
              "<font color = red>Negative (92%)</font> --> <font color = gray>[SKIPPED]</font><br>it's like a \" big chill \" reunion of the baader-meinhof gang , only these guys are more harmless pranksters than political activists ."
            ],
            "text/plain": [
              "<IPython.core.display.HTML object>"
            ]
          },
          "metadata": {
            "tags": []
          }
        },
        {
          "output_type": "stream",
          "text": [
            "\r[Succeeded / Failed / Total] 2 / 0 / 3:  12%|█▏        | 3/25 [00:00<00:06,  3.59it/s]"
          ],
          "name": "stderr"
        },
        {
          "output_type": "display_data",
          "data": {
            "text/html": [
              "<font color = green>Positive (99%)</font> --> <font color = red>[FAILED]</font><br>the story gives ample opportunity for large-scale action and suspense , which director shekhar kapur supplies with tremendous skill ."
            ],
            "text/plain": [
              "<IPython.core.display.HTML object>"
            ]
          },
          "metadata": {
            "tags": []
          }
        },
        {
          "output_type": "stream",
          "text": [
            "[Succeeded / Failed / Total] 2 / 1 / 4:  16%|█▌        | 4/25 [00:04<00:21,  1.02s/it]"
          ],
          "name": "stderr"
        },
        {
          "output_type": "display_data",
          "data": {
            "text/html": [
              "<font color = green>Positive (80%)</font> --> <font color = red>Negative (94%)</font><br>red dragon \" <font color = green>never</font> cuts corners .<br>red dragon \" <font color = red>actually</font> cuts corners ."
            ],
            "text/plain": [
              "<IPython.core.display.HTML object>"
            ]
          },
          "metadata": {
            "tags": []
          }
        },
        {
          "output_type": "stream",
          "text": [
            "\r[Succeeded / Failed / Total] 3 / 1 / 5:  20%|██        | 5/25 [00:04<00:17,  1.16it/s]"
          ],
          "name": "stderr"
        },
        {
          "output_type": "display_data",
          "data": {
            "text/html": [
              "<font color = green>Positive (94%)</font> --> <font color = red>Negative (94%)</font><br>fresnadillo has <font color = green>something</font> serious to say about the ways in which extravagant chance can distort our perspective and throw us off the path of good sense .<br>fresnadillo has <font color = red>anything</font> serious to say about the ways in which extravagant chance can distort our perspective and throw us off the path of good sense ."
            ],
            "text/plain": [
              "<IPython.core.display.HTML object>"
            ]
          },
          "metadata": {
            "tags": []
          }
        },
        {
          "output_type": "stream",
          "text": [
            "[Succeeded / Failed / Total] 4 / 1 / 6:  24%|██▍       | 6/25 [00:04<00:15,  1.24it/s]"
          ],
          "name": "stderr"
        },
        {
          "output_type": "display_data",
          "data": {
            "text/html": [
              "<font color = green>Positive (97%)</font> --> <font color = red>Negative (57%)</font><br>throws in enough <font color = green>clever</font> and unexpected <font color = green>twists</font> to make the formula feel fresh .<br>throws in enough <font color = red>comical</font> and unexpected <font color = red>dumfries</font> to make the formula feel fresh ."
            ],
            "text/plain": [
              "<IPython.core.display.HTML object>"
            ]
          },
          "metadata": {
            "tags": []
          }
        },
        {
          "output_type": "stream",
          "text": [
            "\r[Succeeded / Failed / Total] 5 / 1 / 7:  28%|██▊       | 7/25 [00:05<00:14,  1.27it/s]"
          ],
          "name": "stderr"
        },
        {
          "output_type": "display_data",
          "data": {
            "text/html": [
              "<font color = green>Positive (74%)</font> --> <font color = red>Negative (81%)</font><br>weighty and <font color = green>ponderous</font> but <font color = green>every</font> bit as filling as the treat of the title .<br>weighty and <font color = red>bandello</font> but <font color = red>jaialdi</font> bit as filling as the treat of the title ."
            ],
            "text/plain": [
              "<IPython.core.display.HTML object>"
            ]
          },
          "metadata": {
            "tags": []
          }
        },
        {
          "output_type": "stream",
          "text": [
            "[Succeeded / Failed / Total] 6 / 1 / 8:  32%|███▏      | 8/25 [00:06<00:12,  1.32it/s]"
          ],
          "name": "stderr"
        },
        {
          "output_type": "display_data",
          "data": {
            "text/html": [
              "<font color = green>Positive (98%)</font> --> <font color = red>Negative (55%)</font><br>a <font color = green>real</font> audience-pleaser that will <font color = green>strike</font> a <font color = green>chord</font> with anyone who's ever waited in a doctor's office , emergency room , hospital bed or insurance company office .<br>a <font color = red>numbers</font> audience-pleaser that will <font color = red>counter</font> a <font color = red>stool</font> with anyone who's ever waited in a doctor's office , emergency room , hospital bed or insurance company office ."
            ],
            "text/plain": [
              "<IPython.core.display.HTML object>"
            ]
          },
          "metadata": {
            "tags": []
          }
        },
        {
          "output_type": "stream",
          "text": [
            "\r[Succeeded / Failed / Total] 7 / 1 / 9:  36%|███▌      | 9/25 [00:07<00:13,  1.18it/s]"
          ],
          "name": "stderr"
        },
        {
          "output_type": "display_data",
          "data": {
            "text/html": [
              "<font color = green>Positive (99%)</font> --> <font color = red>Negative (63%)</font><br>generates an enormous <font color = green>feeling</font> of <font color = green>empathy</font> for its characters .<br>generates an enormous <font color = red>fear</font> of <font color = red>decompression</font> for its characters ."
            ],
            "text/plain": [
              "<IPython.core.display.HTML object>"
            ]
          },
          "metadata": {
            "tags": []
          }
        },
        {
          "output_type": "stream",
          "text": [
            "[Succeeded / Failed / Total] 8 / 1 / 10:  40%|████      | 10/25 [00:08<00:12,  1.25it/s]"
          ],
          "name": "stderr"
        },
        {
          "output_type": "display_data",
          "data": {
            "text/html": [
              "<font color = green>Positive (97%)</font> --> <font color = red>Negative (84%)</font><br>exposing the ways we fool ourselves is one hour photo's <font color = green>real</font> <font color = green>strength</font> .<br>exposing the ways we fool ourselves is one hour photo's <font color = red>numbers</font> <font color = red>tensile</font> ."
            ],
            "text/plain": [
              "<IPython.core.display.HTML object>"
            ]
          },
          "metadata": {
            "tags": []
          }
        },
        {
          "output_type": "stream",
          "text": [
            "\r[Succeeded / Failed / Total] 9 / 1 / 11:  44%|████▍     | 11/25 [00:08<00:10,  1.28it/s]"
          ],
          "name": "stderr"
        },
        {
          "output_type": "display_data",
          "data": {
            "text/html": [
              "<font color = red>Negative (57%)</font> --> <font color = gray>[SKIPPED]</font><br>it's up to you to decide whether to admire these people's dedication to their cause or be repelled by their dogmatism , manipulativeness and narrow , fearful view of american life ."
            ],
            "text/plain": [
              "<IPython.core.display.HTML object>"
            ]
          },
          "metadata": {
            "tags": []
          }
        },
        {
          "output_type": "stream",
          "text": [
            "[Succeeded / Failed / Total] 9 / 1 / 12:  48%|████▊     | 12/25 [00:08<00:09,  1.39it/s]"
          ],
          "name": "stderr"
        },
        {
          "output_type": "display_data",
          "data": {
            "text/html": [
              "<font color = green>Positive (67%)</font> --> <font color = red>Negative (92%)</font><br>mostly , [goldbacher] just lets her complicated characters be unruly , confusing and , through it all , <font color = green>human</font> .<br>mostly , [goldbacher] just lets her complicated characters be unruly , confusing and , through it all , <font color = red>criterionexampletranslation</font> ."
            ],
            "text/plain": [
              "<IPython.core.display.HTML object>"
            ]
          },
          "metadata": {
            "tags": []
          }
        },
        {
          "output_type": "stream",
          "text": [
            "\r[Succeeded / Failed / Total] 10 / 1 / 13:  52%|█████▏    | 13/25 [00:08<00:08,  1.46it/s]"
          ],
          "name": "stderr"
        },
        {
          "output_type": "display_data",
          "data": {
            "text/html": [
              "<font color = green>Positive (98%)</font> --> <font color = red>[FAILED]</font><br>. . . quite good at providing some good old fashioned spooks ."
            ],
            "text/plain": [
              "<IPython.core.display.HTML object>"
            ]
          },
          "metadata": {
            "tags": []
          }
        },
        {
          "output_type": "stream",
          "text": [
            "[Succeeded / Failed / Total] 10 / 2 / 14:  56%|█████▌    | 14/25 [00:10<00:07,  1.40it/s]"
          ],
          "name": "stderr"
        },
        {
          "output_type": "display_data",
          "data": {
            "text/html": [
              "<font color = red>Negative (92%)</font> --> <font color = gray>[SKIPPED]</font><br>at its worst , the movie is pretty diverting ; the pity is that it rarely achieves its best ."
            ],
            "text/plain": [
              "<IPython.core.display.HTML object>"
            ]
          },
          "metadata": {
            "tags": []
          }
        },
        {
          "output_type": "stream",
          "text": [
            "\r[Succeeded / Failed / Total] 10 / 2 / 15:  60%|██████    | 15/25 [00:10<00:06,  1.49it/s]"
          ],
          "name": "stderr"
        },
        {
          "output_type": "display_data",
          "data": {
            "text/html": [
              "<font color = green>Positive (99%)</font> --> <font color = red>[FAILED]</font><br>scherfig's light-hearted profile of emotional desperation is achingly honest and delightfully cheeky ."
            ],
            "text/plain": [
              "<IPython.core.display.HTML object>"
            ]
          },
          "metadata": {
            "tags": []
          }
        },
        {
          "output_type": "stream",
          "text": [
            "[Succeeded / Failed / Total] 10 / 3 / 16:  64%|██████▍   | 16/25 [00:10<00:06,  1.46it/s]"
          ],
          "name": "stderr"
        },
        {
          "output_type": "display_data",
          "data": {
            "text/html": [
              "<font color = green>Positive (99%)</font> --> <font color = red>Negative (60%)</font><br>a <font color = green>journey</font> <font color = green>spanning</font> nearly <font color = green>three</font> decades of <font color = green>bittersweet</font> <font color = green>camaraderie</font> and <font color = green>history</font> , in which we feel that we <font color = green>truly</font> <font color = green>know</font> what makes holly and marina tick , and our hearts <font color = green>go</font> out to them as both continue to negotiate their imperfect , love-hate <font color = green>relationship</font> .<br>a <font color = red>trip</font> <font color = red>hiatus</font> nearly <font color = red>gdbr</font> decades of <font color = red>nicer</font> <font color = red>kosuke</font> and <font color = red>cmessier</font> , in which we feel that we <font color = red>inherently</font> <font color = red>nuitte</font> what makes holly and marina tick , and our hearts <font color = red>flatline</font> out to them as both continue to negotiate their imperfect , love-hate <font color = red>incestuous</font> ."
            ],
            "text/plain": [
              "<IPython.core.display.HTML object>"
            ]
          },
          "metadata": {
            "tags": []
          }
        },
        {
          "output_type": "stream",
          "text": [
            "\r[Succeeded / Failed / Total] 11 / 3 / 17:  68%|██████▊   | 17/25 [00:17<00:08,  1.03s/it]"
          ],
          "name": "stderr"
        },
        {
          "output_type": "display_data",
          "data": {
            "text/html": [
              "<font color = green>Positive (95%)</font> --> <font color = red>Negative (93%)</font><br>the <font color = green>wonderfully</font> lush morvern callar is pure punk existentialism , and ms . ramsay and her co-writer , liana dognini , have dramatized the alan warner novel , which itself felt like an answer to irvine welsh's book trainspotting .<br>the <font color = red>reichsdeputationshauptschluss</font> lush morvern callar is pure punk existentialism , and ms . ramsay and her co-writer , liana dognini , have dramatized the alan warner novel , which itself felt like an answer to irvine welsh's book trainspotting ."
            ],
            "text/plain": [
              "<IPython.core.display.HTML object>"
            ]
          },
          "metadata": {
            "tags": []
          }
        },
        {
          "output_type": "stream",
          "text": [
            "[Succeeded / Failed / Total] 12 / 3 / 18:  72%|███████▏  | 18/25 [00:18<00:07,  1.02s/it]"
          ],
          "name": "stderr"
        },
        {
          "output_type": "display_data",
          "data": {
            "text/html": [
              "<font color = green>Positive (59%)</font> --> <font color = red>Negative (89%)</font><br>as it turns out , you can go <font color = green>home</font> again .<br>as it turns out , you can go <font color = red>phoneline</font> again ."
            ],
            "text/plain": [
              "<IPython.core.display.HTML object>"
            ]
          },
          "metadata": {
            "tags": []
          }
        },
        {
          "output_type": "stream",
          "text": [
            "\r[Succeeded / Failed / Total] 13 / 3 / 19:  76%|███████▌  | 19/25 [00:18<00:05,  1.03it/s]"
          ],
          "name": "stderr"
        },
        {
          "output_type": "display_data",
          "data": {
            "text/html": [
              "<font color = green>Positive (92%)</font> --> <font color = red>Negative (82%)</font><br>you've already seen city by the sea under a variety of titles , but it's <font color = green>worth</font> yet another visit .<br>you've already seen city by the sea under a variety of titles , but it's <font color = red>noting</font> yet another visit ."
            ],
            "text/plain": [
              "<IPython.core.display.HTML object>"
            ]
          },
          "metadata": {
            "tags": []
          }
        },
        {
          "output_type": "stream",
          "text": [
            "[Succeeded / Failed / Total] 14 / 3 / 20:  80%|████████  | 20/25 [00:18<00:04,  1.06it/s]"
          ],
          "name": "stderr"
        },
        {
          "output_type": "display_data",
          "data": {
            "text/html": [
              "<font color = green>Positive (96%)</font> --> <font color = red>Negative (92%)</font><br>this kind of hands-on storytelling is ultimately what makes shanghai ghetto <font color = green>move</font> beyond a good , dry , reliable textbook and what <font color = green>allows</font> it to rank with its worthy predecessors .<br>this kind of hands-on storytelling is ultimately what makes shanghai ghetto <font color = red>would</font> beyond a good , dry , reliable textbook and what <font color = red>allow</font> it to rank with its worthy predecessors ."
            ],
            "text/plain": [
              "<IPython.core.display.HTML object>"
            ]
          },
          "metadata": {
            "tags": []
          }
        },
        {
          "output_type": "stream",
          "text": [
            "\r[Succeeded / Failed / Total] 15 / 3 / 21:  84%|████████▍ | 21/25 [00:20<00:03,  1.04it/s]"
          ],
          "name": "stderr"
        },
        {
          "output_type": "display_data",
          "data": {
            "text/html": [
              "<font color = red>Negative (90%)</font> --> <font color = gray>[SKIPPED]</font><br>making such a tragedy the backdrop to a love story risks trivializing it , though chouraqui no doubt intended the film to affirm love's power to help people endure almost unimaginable horror ."
            ],
            "text/plain": [
              "<IPython.core.display.HTML object>"
            ]
          },
          "metadata": {
            "tags": []
          }
        },
        {
          "output_type": "stream",
          "text": [
            "[Succeeded / Failed / Total] 15 / 3 / 22:  88%|████████▊ | 22/25 [00:20<00:02,  1.09it/s]"
          ],
          "name": "stderr"
        },
        {
          "output_type": "display_data",
          "data": {
            "text/html": [
              "<font color = green>Positive (63%)</font> --> <font color = red>Negative (93%)</font><br>grown-up quibbles are beside the point here . the little girls understand , and mccracken knows that's all that <font color = green>matters</font> .<br>grown-up quibbles are beside the point here . the little girls understand , and mccracken knows that's all that <font color = red>worse</font> ."
            ],
            "text/plain": [
              "<IPython.core.display.HTML object>"
            ]
          },
          "metadata": {
            "tags": []
          }
        },
        {
          "output_type": "stream",
          "text": [
            "\r[Succeeded / Failed / Total] 16 / 3 / 23:  92%|█████████▏| 23/25 [00:20<00:01,  1.12it/s]"
          ],
          "name": "stderr"
        },
        {
          "output_type": "display_data",
          "data": {
            "text/html": [
              "<font color = green>Positive (99%)</font> --> <font color = red>Negative (50%)</font><br>a <font color = green>powerful</font> , <font color = green>chilling</font> , and <font color = green>affecting</font> <font color = green>study</font> of <font color = green>one</font> man's <font color = green>dying</font> fall .<br>a <font color = red>adverage</font> , <font color = red>venturi</font> , and <font color = red>destructive</font> <font color = red>studies</font> of <font color = red>ffffffarm</font> man's <font color = red>lay</font> fall ."
            ],
            "text/plain": [
              "<IPython.core.display.HTML object>"
            ]
          },
          "metadata": {
            "tags": []
          }
        },
        {
          "output_type": "stream",
          "text": [
            "[Succeeded / Failed / Total] 17 / 3 / 24:  96%|█████████▌| 24/25 [00:21<00:00,  1.11it/s]"
          ],
          "name": "stderr"
        },
        {
          "output_type": "display_data",
          "data": {
            "text/html": [
              "<font color = green>Positive (90%)</font> --> <font color = red>Negative (96%)</font><br>this is a <font color = green>fascinating</font> film because there is no clear-cut hero and no all-out villain .<br>this is a <font color = red>horrible</font> film because there is no clear-cut hero and no all-out villain ."
            ],
            "text/plain": [
              "<IPython.core.display.HTML object>"
            ]
          },
          "metadata": {
            "tags": []
          }
        },
        {
          "output_type": "stream",
          "text": [
            "\r[Succeeded / Failed / Total] 18 / 3 / 25: 100%|██████████| 25/25 [00:21<00:00,  1.15it/s]"
          ],
          "name": "stderr"
        },
        {
          "output_type": "display_data",
          "data": {
            "text/html": [
              "<font color = red>Negative (80%)</font> --> <font color = gray>[SKIPPED]</font><br>a dreadful day in irish history is given passionate , if somewhat flawed , treatment ."
            ],
            "text/plain": [
              "<IPython.core.display.HTML object>"
            ]
          },
          "metadata": {
            "tags": []
          }
        },
        {
          "output_type": "stream",
          "text": [
            "[Succeeded / Failed / Total] 18 / 3 / 26: : 26it [00:21,  1.19it/s]"
          ],
          "name": "stderr"
        },
        {
          "output_type": "display_data",
          "data": {
            "text/html": [
              "<font color = green>Positive (87%)</font> --> <font color = red>Negative (82%)</font><br>. . . a <font color = green>good</font> film that must have baffled the folks in the marketing department .<br>. . . a <font color = red>benimens</font> film that must have baffled the folks in the marketing department ."
            ],
            "text/plain": [
              "<IPython.core.display.HTML object>"
            ]
          },
          "metadata": {
            "tags": []
          }
        },
        {
          "output_type": "stream",
          "text": [
            "\r[Succeeded / Failed / Total] 19 / 3 / 27: : 27it [00:22,  1.22it/s]"
          ],
          "name": "stderr"
        },
        {
          "output_type": "display_data",
          "data": {
            "text/html": [
              "<font color = green>Positive (98%)</font> --> <font color = red>Negative (80%)</font><br>. . . is <font color = green>funny</font> in the way that makes you ache with sadness ( the way chekhov is funny ) , profound <font color = green>without</font> <font color = green>ever</font> being self-important , <font color = green>warm</font> without ever <font color = green>succumbing</font> to sentimentality .<br>. . . is <font color = red>lucky</font> in the way that makes you ache with sadness ( the way chekhov is funny ) , profound <font color = red>any</font> <font color = red>once</font> being self-important , <font color = red>dry</font> without ever <font color = red>authorise</font> to sentimentality ."
            ],
            "text/plain": [
              "<IPython.core.display.HTML object>"
            ]
          },
          "metadata": {
            "tags": []
          }
        },
        {
          "output_type": "stream",
          "text": [
            "[Succeeded / Failed / Total] 20 / 3 / 28: : 28it [00:25,  1.12it/s]"
          ],
          "name": "stderr"
        },
        {
          "output_type": "display_data",
          "data": {
            "text/html": [
              "<font color = red>Negative (96%)</font> --> <font color = gray>[SKIPPED]</font><br>devotees of star trek ii : the wrath of khan will feel a nagging sense of deja vu , and the grandeur of the best next generation episodes is lacking ."
            ],
            "text/plain": [
              "<IPython.core.display.HTML object>"
            ]
          },
          "metadata": {
            "tags": []
          }
        },
        {
          "output_type": "stream",
          "text": [
            "\r[Succeeded / Failed / Total] 20 / 3 / 29: : 29it [00:25,  1.16it/s]"
          ],
          "name": "stderr"
        },
        {
          "output_type": "display_data",
          "data": {
            "text/html": [
              "<font color = green>Positive (99%)</font> --> <font color = red>[FAILED]</font><br>a soul-stirring documentary about the israeli/palestinian conflict as revealed through the eyes of some children who remain curious about each other against all odds ."
            ],
            "text/plain": [
              "<IPython.core.display.HTML object>"
            ]
          },
          "metadata": {
            "tags": []
          }
        },
        {
          "output_type": "stream",
          "text": [
            "[Succeeded / Failed / Total] 20 / 4 / 30: : 30it [00:27,  1.10it/s]"
          ],
          "name": "stderr"
        },
        {
          "output_type": "display_data",
          "data": {
            "text/html": [
              "<font color = green>Positive (89%)</font> --> <font color = red>Negative (66%)</font><br>what's so striking about jolie's performance is that she <font color = green>never</font> lets her character become a caricature -- not even with that radioactive hair .<br>what's so striking about jolie's performance is that she <font color = red>actually</font> lets her character become a caricature -- not even with that radioactive hair ."
            ],
            "text/plain": [
              "<IPython.core.display.HTML object>"
            ]
          },
          "metadata": {
            "tags": []
          }
        },
        {
          "output_type": "stream",
          "text": [
            "[Succeeded / Failed / Total] 21 / 4 / 31: : 31it [00:27,  1.12it/s]"
          ],
          "name": "stderr"
        },
        {
          "output_type": "stream",
          "text": [
            "+-------------------------------+--------+\n",
            "| Attack Results                |        |\n",
            "+-------------------------------+--------+\n",
            "| Number of successful attacks: | 21     |\n",
            "| Number of failed attacks:     | 4      |\n",
            "| Number of skipped attacks:    | 6      |\n",
            "| Original accuracy:            | 80.65% |\n",
            "| Accuracy under attack:        | 12.9%  |\n",
            "| Attack success rate:          | 84.0%  |\n",
            "| Average perturbed word %:     | 14.99% |\n",
            "| Average num. words per input: | 18.74  |\n",
            "| Avg num queries:              | 27.84  |\n",
            "+-------------------------------+--------+"
          ],
          "name": "stdout"
        },
        {
          "output_type": "stream",
          "text": [
            "\n",
            "\u001b[34;1mtextattack\u001b[0m: Attack time: 27.803630828857422s\n"
          ],
          "name": "stderr"
        }
      ]
    },
    {
      "cell_type": "markdown",
      "metadata": {
        "id": "6Q2O4pIYtHCH"
      },
      "source": [
        "### FastText, GreedyWordSwapWIR, RepeatModification, StopwordModification"
      ]
    },
    {
      "cell_type": "code",
      "metadata": {
        "id": "GKzdReqjl3GW",
        "colab": {
          "base_uri": "https://localhost:8080/"
        },
        "outputId": "205cded9-f5dc-41fa-cc5c-4fc25ea9b9af"
      },
      "source": [
        "# We're going to use our word swap class as the attack transformation.\n",
        "transformation = Swapper()\n",
        "\n",
        "constraints = [RepeatModification(),\n",
        "               StopwordModification()]\n",
        "\n",
        "search_method = GreedyWordSwapWIR()\n",
        "\n",
        "goal_function = UntargetedClassification(model_wrapper)\n",
        "\n",
        "# Now, let's make the attack from the 4 components:\n",
        "attack = Attack(goal_function, constraints, transformation, search_method)"
      ],
      "execution_count": 24,
      "outputs": [
        {
          "output_type": "stream",
          "text": [
            "\u001b[34;1mtextattack\u001b[0m: Unknown if model of class <class 'transformers.models.albert.modeling_albert.AlbertForSequenceClassification'> compatible with goal function <class 'textattack.goal_functions.classification.untargeted_classification.UntargetedClassification'>.\n"
          ],
          "name": "stderr"
        }
      ]
    },
    {
      "cell_type": "code",
      "metadata": {
        "id": "pSqav791mqYf",
        "colab": {
          "base_uri": "https://localhost:8080/"
        },
        "outputId": "9b207650-0ac9-4f51-a0f6-a02e6f0d2ecb"
      },
      "source": [
        "print(attack)"
      ],
      "execution_count": 25,
      "outputs": [
        {
          "output_type": "stream",
          "text": [
            "Attack(\n",
            "  (search_method): GreedyWordSwapWIR(\n",
            "    (wir_method):  unk\n",
            "  )\n",
            "  (goal_function):  UntargetedClassification\n",
            "  (transformation):  Swapper\n",
            "  (constraints): \n",
            "    (0): RepeatModification\n",
            "    (1): StopwordModification\n",
            "  (is_black_box):  True\n",
            ")\n"
          ],
          "name": "stdout"
        }
      ]
    },
    {
      "cell_type": "code",
      "metadata": {
        "id": "7u4kS3Mjmxkf",
        "colab": {
          "base_uri": "https://localhost:8080/",
          "height": 1000
        },
        "outputId": "5d9946c0-58fc-4cc3-e4ab-cbbb26cc8842"
      },
      "source": [
        "attack_stats(attack, dataset, 25)"
      ],
      "execution_count": 26,
      "outputs": [
        {
          "output_type": "stream",
          "text": [
            "\r  0%|          | 0/25 [00:00<?, ?it/s]"
          ],
          "name": "stderr"
        },
        {
          "output_type": "stream",
          "text": [
            "Attack(\n",
            "  (search_method): GreedyWordSwapWIR(\n",
            "    (wir_method):  unk\n",
            "  )\n",
            "  (goal_function):  UntargetedClassification\n",
            "  (transformation):  Swapper\n",
            "  (constraints): \n",
            "    (0): RepeatModification\n",
            "    (1): StopwordModification\n",
            "  (is_black_box):  True\n",
            ")\n"
          ],
          "name": "stdout"
        },
        {
          "output_type": "display_data",
          "data": {
            "text/html": [
              "<font color = green>Positive (93%)</font> --> <font color = red>Negative (63%)</font><br><font color = green>lovingly</font> photographed in the manner of a golden book sprung to life , stuart little 2 manages sweetness largely <font color = green>without</font> stickiness .<br><font color = red>kingly</font> photographed in the manner of a golden book sprung to life , stuart little 2 manages sweetness largely <font color = red>any</font> stickiness ."
            ],
            "text/plain": [
              "<IPython.core.display.HTML object>"
            ]
          },
          "metadata": {
            "tags": []
          }
        },
        {
          "output_type": "stream",
          "text": [
            "[Succeeded / Failed / Total] 1 / 0 / 1:   4%|▍         | 1/25 [00:00<00:09,  2.54it/s]"
          ],
          "name": "stderr"
        },
        {
          "output_type": "display_data",
          "data": {
            "text/html": [
              "<font color = green>Positive (99%)</font> --> <font color = red>[FAILED]</font><br>consistently clever and suspenseful ."
            ],
            "text/plain": [
              "<IPython.core.display.HTML object>"
            ]
          },
          "metadata": {
            "tags": []
          }
        },
        {
          "output_type": "stream",
          "text": [
            "[Succeeded / Failed / Total] 1 / 1 / 2:   8%|▊         | 2/25 [00:00<00:06,  3.41it/s]"
          ],
          "name": "stderr"
        },
        {
          "output_type": "display_data",
          "data": {
            "text/html": [
              "<font color = red>Negative (92%)</font> --> <font color = gray>[SKIPPED]</font><br>it's like a \" big chill \" reunion of the baader-meinhof gang , only these guys are more harmless pranksters than political activists ."
            ],
            "text/plain": [
              "<IPython.core.display.HTML object>"
            ]
          },
          "metadata": {
            "tags": []
          }
        },
        {
          "output_type": "stream",
          "text": [
            "\r[Succeeded / Failed / Total] 1 / 1 / 3:  12%|█▏        | 3/25 [00:00<00:04,  4.92it/s]"
          ],
          "name": "stderr"
        },
        {
          "output_type": "display_data",
          "data": {
            "text/html": [
              "<font color = green>Positive (99%)</font> --> <font color = red>Negative (85%)</font><br>the story <font color = green>gives</font> ample <font color = green>opportunity</font> for large-scale action and <font color = green>suspense</font> , which director shekhar kapur <font color = green>supplies</font> with <font color = green>tremendous</font> skill .<br>the story <font color = red>gave</font> ample <font color = red>opportune</font> for large-scale action and <font color = red>suspension</font> , which director shekhar kapur <font color = red>supply</font> with <font color = red>stupendous</font> skill ."
            ],
            "text/plain": [
              "<IPython.core.display.HTML object>"
            ]
          },
          "metadata": {
            "tags": []
          }
        },
        {
          "output_type": "stream",
          "text": [
            "[Succeeded / Failed / Total] 2 / 1 / 4:  16%|█▌        | 4/25 [00:01<00:05,  3.67it/s]"
          ],
          "name": "stderr"
        },
        {
          "output_type": "display_data",
          "data": {
            "text/html": [
              "<font color = green>Positive (80%)</font> --> <font color = red>Negative (90%)</font><br>red dragon \" <font color = green>never</font> cuts corners .<br>red dragon \" <font color = red>ever</font> cuts corners ."
            ],
            "text/plain": [
              "<IPython.core.display.HTML object>"
            ]
          },
          "metadata": {
            "tags": []
          }
        },
        {
          "output_type": "stream",
          "text": [
            "\r[Succeeded / Failed / Total] 3 / 1 / 5:  20%|██        | 5/25 [00:01<00:04,  4.07it/s]"
          ],
          "name": "stderr"
        },
        {
          "output_type": "display_data",
          "data": {
            "text/html": [
              "<font color = green>Positive (94%)</font> --> <font color = red>Negative (55%)</font><br><font color = green>fresnadillo</font> has something serious to <font color = green>say</font> about the <font color = green>ways</font> in which <font color = green>extravagant</font> <font color = green>chance</font> can distort our perspective and throw us off the <font color = green>path</font> of <font color = green>good</font> sense .<br><font color = red>fresno</font> has something serious to <font color = red>think</font> about the <font color = red>way</font> in which <font color = red>extravagance</font> <font color = red>guess</font> can distort our perspective and throw us off the <font color = red>midpoint</font> of <font color = red>bad</font> sense ."
            ],
            "text/plain": [
              "<IPython.core.display.HTML object>"
            ]
          },
          "metadata": {
            "tags": []
          }
        },
        {
          "output_type": "stream",
          "text": [
            "[Succeeded / Failed / Total] 4 / 1 / 6:  24%|██▍       | 6/25 [00:02<00:06,  2.94it/s]"
          ],
          "name": "stderr"
        },
        {
          "output_type": "display_data",
          "data": {
            "text/html": [
              "<font color = green>Positive (97%)</font> --> <font color = red>Negative (60%)</font><br>throws in enough <font color = green>clever</font> and unexpected twists to make the formula feel <font color = green>fresh</font> .<br>throws in enough <font color = red>cleve</font> and unexpected twists to make the formula feel <font color = red>vegetable</font> ."
            ],
            "text/plain": [
              "<IPython.core.display.HTML object>"
            ]
          },
          "metadata": {
            "tags": []
          }
        },
        {
          "output_type": "stream",
          "text": [
            "\r[Succeeded / Failed / Total] 5 / 1 / 7:  28%|██▊       | 7/25 [00:02<00:06,  2.99it/s]"
          ],
          "name": "stderr"
        },
        {
          "output_type": "display_data",
          "data": {
            "text/html": [
              "<font color = green>Positive (74%)</font> --> <font color = red>Negative (69%)</font><br>weighty and ponderous but every bit as <font color = green>filling</font> as the <font color = green>treat</font> of the title .<br>weighty and ponderous but every bit as <font color = red>drilling</font> as the <font color = red>prescribe</font> of the title ."
            ],
            "text/plain": [
              "<IPython.core.display.HTML object>"
            ]
          },
          "metadata": {
            "tags": []
          }
        },
        {
          "output_type": "stream",
          "text": [
            "[Succeeded / Failed / Total] 6 / 1 / 8:  32%|███▏      | 8/25 [00:02<00:05,  3.01it/s]"
          ],
          "name": "stderr"
        },
        {
          "output_type": "display_data",
          "data": {
            "text/html": [
              "<font color = green>Positive (98%)</font> --> <font color = red>[FAILED]</font><br>a real audience-pleaser that will strike a chord with anyone who's ever waited in a doctor's office , emergency room , hospital bed or insurance company office ."
            ],
            "text/plain": [
              "<IPython.core.display.HTML object>"
            ]
          },
          "metadata": {
            "tags": []
          }
        },
        {
          "output_type": "stream",
          "text": [
            "\r[Succeeded / Failed / Total] 6 / 2 / 9:  36%|███▌      | 9/25 [00:03<00:06,  2.48it/s]"
          ],
          "name": "stderr"
        },
        {
          "output_type": "display_data",
          "data": {
            "text/html": [
              "<font color = green>Positive (99%)</font> --> <font color = red>Negative (89%)</font><br>generates an enormous <font color = green>feeling</font> of <font color = green>empathy</font> for its characters .<br>generates an enormous <font color = red>feelin</font> of <font color = red>apathy</font> for its characters ."
            ],
            "text/plain": [
              "<IPython.core.display.HTML object>"
            ]
          },
          "metadata": {
            "tags": []
          }
        },
        {
          "output_type": "stream",
          "text": [
            "[Succeeded / Failed / Total] 7 / 2 / 10:  40%|████      | 10/25 [00:03<00:05,  2.57it/s]"
          ],
          "name": "stderr"
        },
        {
          "output_type": "display_data",
          "data": {
            "text/html": [
              "<font color = green>Positive (97%)</font> --> <font color = red>Negative (69%)</font><br>exposing the ways we fool ourselves is one hour photo's <font color = green>real</font> <font color = green>strength</font> .<br>exposing the ways we fool ourselves is one hour photo's <font color = red>unimaginable</font> <font color = red>toughness</font> ."
            ],
            "text/plain": [
              "<IPython.core.display.HTML object>"
            ]
          },
          "metadata": {
            "tags": []
          }
        },
        {
          "output_type": "stream",
          "text": [
            "\r[Succeeded / Failed / Total] 8 / 2 / 11:  44%|████▍     | 11/25 [00:04<00:05,  2.63it/s]"
          ],
          "name": "stderr"
        },
        {
          "output_type": "display_data",
          "data": {
            "text/html": [
              "<font color = red>Negative (57%)</font> --> <font color = gray>[SKIPPED]</font><br>it's up to you to decide whether to admire these people's dedication to their cause or be repelled by their dogmatism , manipulativeness and narrow , fearful view of american life ."
            ],
            "text/plain": [
              "<IPython.core.display.HTML object>"
            ]
          },
          "metadata": {
            "tags": []
          }
        },
        {
          "output_type": "stream",
          "text": [
            "[Succeeded / Failed / Total] 8 / 2 / 12:  48%|████▊     | 12/25 [00:04<00:04,  2.85it/s]"
          ],
          "name": "stderr"
        },
        {
          "output_type": "display_data",
          "data": {
            "text/html": [
              "<font color = green>Positive (67%)</font> --> <font color = red>Negative (82%)</font><br>mostly , [goldbacher] just lets her complicated characters be unruly , confusing and , through it all , <font color = green>human</font> .<br>mostly , [goldbacher] just lets her complicated characters be unruly , confusing and , through it all , <font color = red>animal</font> ."
            ],
            "text/plain": [
              "<IPython.core.display.HTML object>"
            ]
          },
          "metadata": {
            "tags": []
          }
        },
        {
          "output_type": "stream",
          "text": [
            "\r[Succeeded / Failed / Total] 9 / 2 / 13:  52%|█████▏    | 13/25 [00:04<00:04,  2.87it/s]"
          ],
          "name": "stderr"
        },
        {
          "output_type": "display_data",
          "data": {
            "text/html": [
              "<font color = green>Positive (98%)</font> --> <font color = red>Negative (96%)</font><br>. . . quite <font color = green>good</font> at providing some good old fashioned spooks .<br>. . . quite <font color = red>bad</font> at providing some good old fashioned spooks ."
            ],
            "text/plain": [
              "<IPython.core.display.HTML object>"
            ]
          },
          "metadata": {
            "tags": []
          }
        },
        {
          "output_type": "stream",
          "text": [
            "[Succeeded / Failed / Total] 10 / 2 / 14:  56%|█████▌    | 14/25 [00:04<00:03,  2.95it/s]"
          ],
          "name": "stderr"
        },
        {
          "output_type": "display_data",
          "data": {
            "text/html": [
              "<font color = red>Negative (92%)</font> --> <font color = gray>[SKIPPED]</font><br>at its worst , the movie is pretty diverting ; the pity is that it rarely achieves its best ."
            ],
            "text/plain": [
              "<IPython.core.display.HTML object>"
            ]
          },
          "metadata": {
            "tags": []
          }
        },
        {
          "output_type": "stream",
          "text": [
            "\r[Succeeded / Failed / Total] 10 / 2 / 15:  60%|██████    | 15/25 [00:04<00:03,  3.15it/s]"
          ],
          "name": "stderr"
        },
        {
          "output_type": "display_data",
          "data": {
            "text/html": [
              "<font color = green>Positive (99%)</font> --> <font color = red>[FAILED]</font><br>scherfig's light-hearted profile of emotional desperation is achingly honest and delightfully cheeky ."
            ],
            "text/plain": [
              "<IPython.core.display.HTML object>"
            ]
          },
          "metadata": {
            "tags": []
          }
        },
        {
          "output_type": "stream",
          "text": [
            "[Succeeded / Failed / Total] 10 / 3 / 16:  64%|██████▍   | 16/25 [00:05<00:02,  3.06it/s]"
          ],
          "name": "stderr"
        },
        {
          "output_type": "display_data",
          "data": {
            "text/html": [
              "<font color = green>Positive (99%)</font> --> <font color = red>Negative (53%)</font><br>a <font color = green>journey</font> <font color = green>spanning</font> nearly <font color = green>three</font> decades of <font color = green>bittersweet</font> <font color = green>camaraderie</font> and <font color = green>history</font> , in which we <font color = green>feel</font> that we <font color = green>truly</font> <font color = green>know</font> what <font color = green>makes</font> holly and marina tick , and our <font color = green>hearts</font> go out to them as both <font color = green>continue</font> to <font color = green>negotiate</font> their imperfect , love-hate relationship .<br>a <font color = red>journ</font> <font color = red>panning</font> nearly <font color = red>four</font> decades of <font color = red>bitter</font> <font color = red>campeador</font> and <font color = red>timeline</font> , in which we <font color = red>think</font> that we <font color = red>conceivably</font> <font color = red>think</font> what <font color = red>making</font> holly and marina tick , and our <font color = red>heartbeat</font> go out to them as both <font color = red>retinue</font> to <font color = red>negotiator</font> their imperfect , love-hate relationship ."
            ],
            "text/plain": [
              "<IPython.core.display.HTML object>"
            ]
          },
          "metadata": {
            "tags": []
          }
        },
        {
          "output_type": "stream",
          "text": [
            "\r[Succeeded / Failed / Total] 11 / 3 / 17:  68%|██████▊   | 17/25 [00:06<00:03,  2.66it/s]"
          ],
          "name": "stderr"
        },
        {
          "output_type": "display_data",
          "data": {
            "text/html": [
              "<font color = green>Positive (95%)</font> --> <font color = red>Negative (52%)</font><br>the <font color = green>wonderfully</font> <font color = green>lush</font> morvern <font color = green>callar</font> is <font color = green>pure</font> punk <font color = green>existentialism</font> , and <font color = green>ms</font> . ramsay and her co-writer , liana dognini , have <font color = green>dramatized</font> the alan warner novel , which itself felt like an answer to irvine welsh's book trainspotting .<br>the <font color = red>wonderful</font> <font color = red>raincoat</font> morvern <font color = red>callsign</font> is <font color = red>mixture</font> punk <font color = red>existentialist</font> , and <font color = red>dos</font> . ramsay and her co-writer , liana dognini , have <font color = red>dramatised</font> the alan warner novel , which itself felt like an answer to irvine welsh's book trainspotting ."
            ],
            "text/plain": [
              "<IPython.core.display.HTML object>"
            ]
          },
          "metadata": {
            "tags": []
          }
        },
        {
          "output_type": "stream",
          "text": [
            "[Succeeded / Failed / Total] 12 / 3 / 18:  72%|███████▏  | 18/25 [00:07<00:02,  2.51it/s]"
          ],
          "name": "stderr"
        },
        {
          "output_type": "display_data",
          "data": {
            "text/html": [
              "<font color = green>Positive (59%)</font> --> <font color = red>Negative (77%)</font><br>as it <font color = green>turns</font> out , you can go <font color = green>home</font> again .<br>as it <font color = red>urns</font> out , you can go <font color = red>clubhouse</font> again ."
            ],
            "text/plain": [
              "<IPython.core.display.HTML object>"
            ]
          },
          "metadata": {
            "tags": []
          }
        },
        {
          "output_type": "stream",
          "text": [
            "\r[Succeeded / Failed / Total] 13 / 3 / 19:  76%|███████▌  | 19/25 [00:07<00:02,  2.56it/s]"
          ],
          "name": "stderr"
        },
        {
          "output_type": "display_data",
          "data": {
            "text/html": [
              "<font color = green>Positive (92%)</font> --> <font color = red>Negative (80%)</font><br>you've already seen city by the sea under a variety of titles , but it's <font color = green>worth</font> yet another visit .<br>you've already seen city by the sea under a variety of titles , but it's <font color = red>hapworth</font> yet another visit ."
            ],
            "text/plain": [
              "<IPython.core.display.HTML object>"
            ]
          },
          "metadata": {
            "tags": []
          }
        },
        {
          "output_type": "stream",
          "text": [
            "[Succeeded / Failed / Total] 14 / 3 / 20:  80%|████████  | 20/25 [00:07<00:01,  2.57it/s]"
          ],
          "name": "stderr"
        },
        {
          "output_type": "display_data",
          "data": {
            "text/html": [
              "<font color = green>Positive (96%)</font> --> <font color = red>Negative (61%)</font><br>this <font color = green>kind</font> of <font color = green>hands-on</font> storytelling is <font color = green>ultimately</font> what <font color = green>makes</font> shanghai ghetto <font color = green>move</font> beyond a good , dry , reliable textbook and what allows it to <font color = green>rank</font> with its <font color = green>worthy</font> predecessors .<br>this <font color = red>sort</font> of <font color = red>handsel</font> storytelling is <font color = red>eventually</font> what <font color = red>making</font> shanghai ghetto <font color = red>push</font> beyond a good , dry , reliable textbook and what allows it to <font color = red>seniority</font> with its <font color = red>worthless</font> predecessors ."
            ],
            "text/plain": [
              "<IPython.core.display.HTML object>"
            ]
          },
          "metadata": {
            "tags": []
          }
        },
        {
          "output_type": "stream",
          "text": [
            "\r[Succeeded / Failed / Total] 15 / 3 / 21:  84%|████████▍ | 21/25 [00:08<00:01,  2.46it/s]"
          ],
          "name": "stderr"
        },
        {
          "output_type": "display_data",
          "data": {
            "text/html": [
              "<font color = red>Negative (90%)</font> --> <font color = gray>[SKIPPED]</font><br>making such a tragedy the backdrop to a love story risks trivializing it , though chouraqui no doubt intended the film to affirm love's power to help people endure almost unimaginable horror ."
            ],
            "text/plain": [
              "<IPython.core.display.HTML object>"
            ]
          },
          "metadata": {
            "tags": []
          }
        },
        {
          "output_type": "stream",
          "text": [
            "[Succeeded / Failed / Total] 15 / 3 / 22:  88%|████████▊ | 22/25 [00:08<00:01,  2.57it/s]"
          ],
          "name": "stderr"
        },
        {
          "output_type": "display_data",
          "data": {
            "text/html": [
              "<font color = green>Positive (63%)</font> --> <font color = red>Negative (87%)</font><br>grown-up quibbles are beside the point here . the little girls understand , and mccracken knows that's all that <font color = green>matters</font> .<br>grown-up quibbles are beside the point here . the little girls understand , and mccracken knows that's all that <font color = red>tatters</font> ."
            ],
            "text/plain": [
              "<IPython.core.display.HTML object>"
            ]
          },
          "metadata": {
            "tags": []
          }
        },
        {
          "output_type": "stream",
          "text": [
            "\r[Succeeded / Failed / Total] 16 / 3 / 23:  92%|█████████▏| 23/25 [00:08<00:00,  2.58it/s]"
          ],
          "name": "stderr"
        },
        {
          "output_type": "display_data",
          "data": {
            "text/html": [
              "<font color = green>Positive (99%)</font> --> <font color = red>[FAILED]</font><br>a powerful , chilling , and affecting study of one man's dying fall ."
            ],
            "text/plain": [
              "<IPython.core.display.HTML object>"
            ]
          },
          "metadata": {
            "tags": []
          }
        },
        {
          "output_type": "stream",
          "text": [
            "[Succeeded / Failed / Total] 16 / 4 / 24:  96%|█████████▌| 24/25 [00:09<00:00,  2.57it/s]"
          ],
          "name": "stderr"
        },
        {
          "output_type": "display_data",
          "data": {
            "text/html": [
              "<font color = green>Positive (90%)</font> --> <font color = red>Negative (89%)</font><br>this is a <font color = green>fascinating</font> film because there is no clear-cut hero and no all-out villain .<br>this is a <font color = red>fascination</font> film because there is no clear-cut hero and no all-out villain ."
            ],
            "text/plain": [
              "<IPython.core.display.HTML object>"
            ]
          },
          "metadata": {
            "tags": []
          }
        },
        {
          "output_type": "stream",
          "text": [
            "\r[Succeeded / Failed / Total] 17 / 4 / 25: 100%|██████████| 25/25 [00:09<00:00,  2.59it/s]"
          ],
          "name": "stderr"
        },
        {
          "output_type": "display_data",
          "data": {
            "text/html": [
              "<font color = red>Negative (80%)</font> --> <font color = gray>[SKIPPED]</font><br>a dreadful day in irish history is given passionate , if somewhat flawed , treatment ."
            ],
            "text/plain": [
              "<IPython.core.display.HTML object>"
            ]
          },
          "metadata": {
            "tags": []
          }
        },
        {
          "output_type": "stream",
          "text": [
            "[Succeeded / Failed / Total] 17 / 4 / 26: : 26it [00:09,  2.68it/s]"
          ],
          "name": "stderr"
        },
        {
          "output_type": "display_data",
          "data": {
            "text/html": [
              "<font color = green>Positive (87%)</font> --> <font color = red>Negative (96%)</font><br>. . . a <font color = green>good</font> film that must have baffled the folks in the marketing department .<br>. . . a <font color = red>bad</font> film that must have baffled the folks in the marketing department ."
            ],
            "text/plain": [
              "<IPython.core.display.HTML object>"
            ]
          },
          "metadata": {
            "tags": []
          }
        },
        {
          "output_type": "stream",
          "text": [
            "\r[Succeeded / Failed / Total] 18 / 4 / 27: : 27it [00:09,  2.71it/s]"
          ],
          "name": "stderr"
        },
        {
          "output_type": "display_data",
          "data": {
            "text/html": [
              "<font color = green>Positive (98%)</font> --> <font color = red>Negative (83%)</font><br>. . . is <font color = green>funny</font> in the way that makes you ache with sadness ( the way chekhov is funny ) , <font color = green>profound</font> <font color = green>without</font> <font color = green>ever</font> being <font color = green>self-important</font> , warm <font color = green>without</font> ever <font color = green>succumbing</font> to sentimentality .<br>. . . is <font color = red>bunny</font> in the way that makes you ache with sadness ( the way chekhov is funny ) , <font color = red>tremendous</font> <font color = red>any</font> <font color = red>hardly</font> being <font color = red>important</font> , warm <font color = red>any</font> ever <font color = red>succumbs</font> to sentimentality ."
            ],
            "text/plain": [
              "<IPython.core.display.HTML object>"
            ]
          },
          "metadata": {
            "tags": []
          }
        },
        {
          "output_type": "stream",
          "text": [
            "[Succeeded / Failed / Total] 19 / 4 / 28: : 28it [00:10,  2.62it/s]"
          ],
          "name": "stderr"
        },
        {
          "output_type": "display_data",
          "data": {
            "text/html": [
              "<font color = red>Negative (96%)</font> --> <font color = gray>[SKIPPED]</font><br>devotees of star trek ii : the wrath of khan will feel a nagging sense of deja vu , and the grandeur of the best next generation episodes is lacking ."
            ],
            "text/plain": [
              "<IPython.core.display.HTML object>"
            ]
          },
          "metadata": {
            "tags": []
          }
        },
        {
          "output_type": "stream",
          "text": [
            "\r[Succeeded / Failed / Total] 19 / 4 / 29: : 29it [00:10,  2.70it/s]"
          ],
          "name": "stderr"
        },
        {
          "output_type": "display_data",
          "data": {
            "text/html": [
              "<font color = green>Positive (99%)</font> --> <font color = red>Negative (62%)</font><br>a soul-stirring <font color = green>documentary</font> about the israeli/<font color = green>palestinian</font> <font color = green>conflict</font> as revealed through the eyes of some children who <font color = green>remain</font> <font color = green>curious</font> about each other against all <font color = green>odds</font> .<br>a soul-stirring <font color = red>mockumentary</font> about the israeli/<font color = red>palestine</font> <font color = red>hostilities</font> as revealed through the eyes of some children who <font color = red>demain</font> <font color = red>furious</font> about each other against all <font color = red>bets</font> ."
            ],
            "text/plain": [
              "<IPython.core.display.HTML object>"
            ]
          },
          "metadata": {
            "tags": []
          }
        },
        {
          "output_type": "stream",
          "text": [
            "[Succeeded / Failed / Total] 20 / 4 / 30: : 30it [00:11,  2.62it/s]"
          ],
          "name": "stderr"
        },
        {
          "output_type": "display_data",
          "data": {
            "text/html": [
              "<font color = green>Positive (89%)</font> --> <font color = red>Negative (50%)</font><br><font color = green>what's</font> so striking about jolie's performance is that she <font color = green>never</font> lets her character <font color = green>become</font> a caricature -- not even with that radioactive hair .<br><font color = red>what</font> so striking about jolie's performance is that she <font color = red>ever</font> lets her character <font color = red>becoming</font> a caricature -- not even with that radioactive hair ."
            ],
            "text/plain": [
              "<IPython.core.display.HTML object>"
            ]
          },
          "metadata": {
            "tags": []
          }
        },
        {
          "output_type": "stream",
          "text": [
            "[Succeeded / Failed / Total] 21 / 4 / 31: : 31it [00:11,  2.59it/s]"
          ],
          "name": "stderr"
        },
        {
          "output_type": "stream",
          "text": [
            "+-------------------------------+--------+\n",
            "| Attack Results                |        |\n",
            "+-------------------------------+--------+\n",
            "| Number of successful attacks: | 21     |\n",
            "| Number of failed attacks:     | 4      |\n",
            "| Number of skipped attacks:    | 6      |\n",
            "| Original accuracy:            | 80.65% |\n",
            "| Accuracy under attack:        | 12.9%  |\n",
            "| Attack success rate:          | 84.0%  |\n",
            "| Average perturbed word %:     | 17.12% |\n",
            "| Average num. words per input: | 18.74  |\n",
            "| Avg num queries:              | 24.0   |\n",
            "+-------------------------------+--------+"
          ],
          "name": "stdout"
        },
        {
          "output_type": "stream",
          "text": [
            "\n",
            "\u001b[34;1mtextattack\u001b[0m: Attack time: 11.995541095733643s\n"
          ],
          "name": "stderr"
        }
      ]
    },
    {
      "cell_type": "markdown",
      "metadata": {
        "id": "IofoqE0CtMZC"
      },
      "source": [
        "### Word2Vec, GreedyWordSwapWIR, RepeatModification, StopwordModification"
      ]
    },
    {
      "cell_type": "code",
      "metadata": {
        "id": "DLok3tKPm08j",
        "colab": {
          "base_uri": "https://localhost:8080/"
        },
        "outputId": "f7168c76-61f6-4dbb-c1c3-403ce2a3158c"
      },
      "source": [
        "# We're going to use our word swap class as the attack transformation.\n",
        "transformation = Swapper_()\n",
        "\n",
        "constraints = [RepeatModification(),\n",
        "               StopwordModification()]\n",
        "\n",
        "search_method = GreedyWordSwapWIR()\n",
        "\n",
        "goal_function = UntargetedClassification(model_wrapper)\n",
        "\n",
        "# Now, let's make the attack from the 4 components:\n",
        "attack = Attack(goal_function, constraints, transformation, search_method)\n"
      ],
      "execution_count": 27,
      "outputs": [
        {
          "output_type": "stream",
          "text": [
            "\u001b[34;1mtextattack\u001b[0m: Unknown if model of class <class 'transformers.models.albert.modeling_albert.AlbertForSequenceClassification'> compatible with goal function <class 'textattack.goal_functions.classification.untargeted_classification.UntargetedClassification'>.\n"
          ],
          "name": "stderr"
        }
      ]
    },
    {
      "cell_type": "code",
      "metadata": {
        "id": "c8G-gxlXm-At",
        "colab": {
          "base_uri": "https://localhost:8080/"
        },
        "outputId": "d9701c9b-624b-489c-f7a4-4cb7b73f569d"
      },
      "source": [
        "print(attack)"
      ],
      "execution_count": 28,
      "outputs": [
        {
          "output_type": "stream",
          "text": [
            "Attack(\n",
            "  (search_method): GreedyWordSwapWIR(\n",
            "    (wir_method):  unk\n",
            "  )\n",
            "  (goal_function):  UntargetedClassification\n",
            "  (transformation):  Swapper_\n",
            "  (constraints): \n",
            "    (0): RepeatModification\n",
            "    (1): StopwordModification\n",
            "  (is_black_box):  True\n",
            ")\n"
          ],
          "name": "stdout"
        }
      ]
    },
    {
      "cell_type": "code",
      "metadata": {
        "id": "FgHOKJd7m_Wm",
        "colab": {
          "base_uri": "https://localhost:8080/",
          "height": 1000
        },
        "outputId": "48ebd120-5a89-48bb-fd9a-164b15a981d8"
      },
      "source": [
        "attack_stats(attack, dataset, 25)"
      ],
      "execution_count": 29,
      "outputs": [
        {
          "output_type": "stream",
          "text": [
            "\r  0%|          | 0/25 [00:00<?, ?it/s]"
          ],
          "name": "stderr"
        },
        {
          "output_type": "stream",
          "text": [
            "Attack(\n",
            "  (search_method): GreedyWordSwapWIR(\n",
            "    (wir_method):  unk\n",
            "  )\n",
            "  (goal_function):  UntargetedClassification\n",
            "  (transformation):  Swapper_\n",
            "  (constraints): \n",
            "    (0): RepeatModification\n",
            "    (1): StopwordModification\n",
            "  (is_black_box):  True\n",
            ")\n"
          ],
          "name": "stdout"
        },
        {
          "output_type": "display_data",
          "data": {
            "text/html": [
              "<font color = green>Positive (93%)</font> --> <font color = red>Negative (68%)</font><br><font color = green>lovingly</font> photographed in the manner of a golden book sprung to life , stuart little 2 manages sweetness largely without stickiness .<br><font color = red>giantesses</font> photographed in the manner of a golden book sprung to life , stuart little 2 manages sweetness largely without stickiness ."
            ],
            "text/plain": [
              "<IPython.core.display.HTML object>"
            ]
          },
          "metadata": {
            "tags": []
          }
        },
        {
          "output_type": "stream",
          "text": [
            "[Succeeded / Failed / Total] 1 / 0 / 1:   4%|▍         | 1/25 [00:00<00:08,  2.71it/s]"
          ],
          "name": "stderr"
        },
        {
          "output_type": "display_data",
          "data": {
            "text/html": [
              "<font color = green>Positive (99%)</font> --> <font color = red>[FAILED]</font><br>consistently clever and suspenseful ."
            ],
            "text/plain": [
              "<IPython.core.display.HTML object>"
            ]
          },
          "metadata": {
            "tags": []
          }
        },
        {
          "output_type": "stream",
          "text": [
            "[Succeeded / Failed / Total] 1 / 1 / 2:   8%|▊         | 2/25 [00:00<00:06,  3.67it/s]"
          ],
          "name": "stderr"
        },
        {
          "output_type": "display_data",
          "data": {
            "text/html": [
              "<font color = red>Negative (92%)</font> --> <font color = gray>[SKIPPED]</font><br>it's like a \" big chill \" reunion of the baader-meinhof gang , only these guys are more harmless pranksters than political activists ."
            ],
            "text/plain": [
              "<IPython.core.display.HTML object>"
            ]
          },
          "metadata": {
            "tags": []
          }
        },
        {
          "output_type": "stream",
          "text": [
            "\r[Succeeded / Failed / Total] 1 / 1 / 3:  12%|█▏        | 3/25 [00:00<00:04,  5.25it/s]"
          ],
          "name": "stderr"
        },
        {
          "output_type": "display_data",
          "data": {
            "text/html": [
              "<font color = green>Positive (99%)</font> --> <font color = red>Negative (96%)</font><br>the story <font color = green>gives</font> <font color = green>ample</font> <font color = green>opportunity</font> for large-scale action and <font color = green>suspense</font> , which <font color = green>director</font> shekhar kapur <font color = green>supplies</font> with <font color = green>tremendous</font> <font color = green>skill</font> .<br>the story <font color = red>gave</font> <font color = red>insufficient</font> <font color = red>incentive</font> for large-scale action and <font color = red>thrillers</font> , which <font color = red>producer</font> shekhar kapur <font color = red>supply</font> with <font color = red>considerable</font> <font color = red>abilities</font> ."
            ],
            "text/plain": [
              "<IPython.core.display.HTML object>"
            ]
          },
          "metadata": {
            "tags": []
          }
        },
        {
          "output_type": "stream",
          "text": [
            "[Succeeded / Failed / Total] 2 / 1 / 4:  16%|█▌        | 4/25 [00:01<00:05,  3.62it/s]"
          ],
          "name": "stderr"
        },
        {
          "output_type": "display_data",
          "data": {
            "text/html": [
              "<font color = green>Positive (80%)</font> --> <font color = red>Negative (95%)</font><br>red dragon \" <font color = green>never</font> cuts corners .<br>red dragon \" <font color = red>already</font> cuts corners ."
            ],
            "text/plain": [
              "<IPython.core.display.HTML object>"
            ]
          },
          "metadata": {
            "tags": []
          }
        },
        {
          "output_type": "stream",
          "text": [
            "\r[Succeeded / Failed / Total] 3 / 1 / 5:  20%|██        | 5/25 [00:01<00:04,  4.03it/s]"
          ],
          "name": "stderr"
        },
        {
          "output_type": "display_data",
          "data": {
            "text/html": [
              "<font color = green>Positive (94%)</font> --> <font color = red>Negative (94%)</font><br>fresnadillo has <font color = green>something</font> serious to say about the ways in which extravagant chance can distort our perspective and throw us off the path of good sense .<br>fresnadillo has <font color = red>anything</font> serious to say about the ways in which extravagant chance can distort our perspective and throw us off the path of good sense ."
            ],
            "text/plain": [
              "<IPython.core.display.HTML object>"
            ]
          },
          "metadata": {
            "tags": []
          }
        },
        {
          "output_type": "stream",
          "text": [
            "[Succeeded / Failed / Total] 4 / 1 / 6:  24%|██▍       | 6/25 [00:01<00:05,  3.48it/s]"
          ],
          "name": "stderr"
        },
        {
          "output_type": "display_data",
          "data": {
            "text/html": [
              "<font color = green>Positive (97%)</font> --> <font color = red>Negative (57%)</font><br>throws in enough clever and unexpected twists to make the formula feel <font color = green>fresh</font> .<br>throws in enough clever and unexpected twists to make the formula feel <font color = red>rotting</font> ."
            ],
            "text/plain": [
              "<IPython.core.display.HTML object>"
            ]
          },
          "metadata": {
            "tags": []
          }
        },
        {
          "output_type": "stream",
          "text": [
            "\r[Succeeded / Failed / Total] 5 / 1 / 7:  28%|██▊       | 7/25 [00:02<00:05,  3.48it/s]"
          ],
          "name": "stderr"
        },
        {
          "output_type": "display_data",
          "data": {
            "text/html": [
              "<font color = green>Positive (74%)</font> --> <font color = red>Negative (60%)</font><br>weighty and ponderous but every bit as <font color = green>filling</font> as the treat of the title .<br>weighty and ponderous but every bit as <font color = red>knitted</font> as the treat of the title ."
            ],
            "text/plain": [
              "<IPython.core.display.HTML object>"
            ]
          },
          "metadata": {
            "tags": []
          }
        },
        {
          "output_type": "stream",
          "text": [
            "[Succeeded / Failed / Total] 6 / 1 / 8:  32%|███▏      | 8/25 [00:02<00:04,  3.48it/s]"
          ],
          "name": "stderr"
        },
        {
          "output_type": "display_data",
          "data": {
            "text/html": [
              "<font color = green>Positive (98%)</font> --> <font color = red>Negative (73%)</font><br>a <font color = green>real</font> audience-pleaser that will <font color = green>strike</font> a <font color = green>chord</font> with anyone who's ever waited in a doctor's office , emergency room , hospital bed or insurance company office .<br>a <font color = red>nonnegative</font> audience-pleaser that will <font color = red>downed</font> a <font color = red>subdominant</font> with anyone who's ever waited in a doctor's office , emergency room , hospital bed or insurance company office ."
            ],
            "text/plain": [
              "<IPython.core.display.HTML object>"
            ]
          },
          "metadata": {
            "tags": []
          }
        },
        {
          "output_type": "stream",
          "text": [
            "\r[Succeeded / Failed / Total] 7 / 1 / 9:  36%|███▌      | 9/25 [00:02<00:05,  3.19it/s]"
          ],
          "name": "stderr"
        },
        {
          "output_type": "display_data",
          "data": {
            "text/html": [
              "<font color = green>Positive (99%)</font> --> <font color = red>[FAILED]</font><br>generates an enormous feeling of empathy for its characters ."
            ],
            "text/plain": [
              "<IPython.core.display.HTML object>"
            ]
          },
          "metadata": {
            "tags": []
          }
        },
        {
          "output_type": "stream",
          "text": [
            "[Succeeded / Failed / Total] 7 / 2 / 10:  40%|████      | 10/25 [00:03<00:04,  3.19it/s]"
          ],
          "name": "stderr"
        },
        {
          "output_type": "display_data",
          "data": {
            "text/html": [
              "<font color = green>Positive (97%)</font> --> <font color = red>[FAILED]</font><br>exposing the ways we fool ourselves is one hour photo's real strength ."
            ],
            "text/plain": [
              "<IPython.core.display.HTML object>"
            ]
          },
          "metadata": {
            "tags": []
          }
        },
        {
          "output_type": "stream",
          "text": [
            "\r[Succeeded / Failed / Total] 7 / 3 / 11:  44%|████▍     | 11/25 [00:03<00:04,  3.10it/s]"
          ],
          "name": "stderr"
        },
        {
          "output_type": "display_data",
          "data": {
            "text/html": [
              "<font color = red>Negative (57%)</font> --> <font color = gray>[SKIPPED]</font><br>it's up to you to decide whether to admire these people's dedication to their cause or be repelled by their dogmatism , manipulativeness and narrow , fearful view of american life ."
            ],
            "text/plain": [
              "<IPython.core.display.HTML object>"
            ]
          },
          "metadata": {
            "tags": []
          }
        },
        {
          "output_type": "stream",
          "text": [
            "[Succeeded / Failed / Total] 7 / 3 / 12:  48%|████▊     | 12/25 [00:03<00:03,  3.36it/s]"
          ],
          "name": "stderr"
        },
        {
          "output_type": "display_data",
          "data": {
            "text/html": [
              "<font color = green>Positive (67%)</font> --> <font color = red>Negative (82%)</font><br>mostly , [goldbacher] just lets her complicated characters be unruly , confusing and , through it all , <font color = green>human</font> .<br>mostly , [goldbacher] just lets her complicated characters be unruly , confusing and , through it all , <font color = red>animal</font> ."
            ],
            "text/plain": [
              "<IPython.core.display.HTML object>"
            ]
          },
          "metadata": {
            "tags": []
          }
        },
        {
          "output_type": "stream",
          "text": [
            "\r[Succeeded / Failed / Total] 8 / 3 / 13:  52%|█████▏    | 13/25 [00:03<00:03,  3.35it/s]"
          ],
          "name": "stderr"
        },
        {
          "output_type": "display_data",
          "data": {
            "text/html": [
              "<font color = green>Positive (98%)</font> --> <font color = red>Negative (96%)</font><br>. . . quite <font color = green>good</font> at providing some good old fashioned spooks .<br>. . . quite <font color = red>bad</font> at providing some good old fashioned spooks ."
            ],
            "text/plain": [
              "<IPython.core.display.HTML object>"
            ]
          },
          "metadata": {
            "tags": []
          }
        },
        {
          "output_type": "stream",
          "text": [
            "[Succeeded / Failed / Total] 9 / 3 / 14:  56%|█████▌    | 14/25 [00:04<00:03,  3.42it/s]"
          ],
          "name": "stderr"
        },
        {
          "output_type": "display_data",
          "data": {
            "text/html": [
              "<font color = red>Negative (92%)</font> --> <font color = gray>[SKIPPED]</font><br>at its worst , the movie is pretty diverting ; the pity is that it rarely achieves its best ."
            ],
            "text/plain": [
              "<IPython.core.display.HTML object>"
            ]
          },
          "metadata": {
            "tags": []
          }
        },
        {
          "output_type": "stream",
          "text": [
            "\r[Succeeded / Failed / Total] 9 / 3 / 15:  60%|██████    | 15/25 [00:04<00:02,  3.64it/s]"
          ],
          "name": "stderr"
        },
        {
          "output_type": "display_data",
          "data": {
            "text/html": [
              "<font color = green>Positive (99%)</font> --> <font color = red>[FAILED]</font><br>scherfig's light-hearted profile of emotional desperation is achingly honest and delightfully cheeky ."
            ],
            "text/plain": [
              "<IPython.core.display.HTML object>"
            ]
          },
          "metadata": {
            "tags": []
          }
        },
        {
          "output_type": "stream",
          "text": [
            "[Succeeded / Failed / Total] 9 / 4 / 16:  64%|██████▍   | 16/25 [00:04<00:02,  3.57it/s]"
          ],
          "name": "stderr"
        },
        {
          "output_type": "display_data",
          "data": {
            "text/html": [
              "<font color = green>Positive (99%)</font> --> <font color = red>[FAILED]</font><br>a journey spanning nearly three decades of bittersweet camaraderie and history , in which we feel that we truly know what makes holly and marina tick , and our hearts go out to them as both continue to negotiate their imperfect , love-hate relationship ."
            ],
            "text/plain": [
              "<IPython.core.display.HTML object>"
            ]
          },
          "metadata": {
            "tags": []
          }
        },
        {
          "output_type": "stream",
          "text": [
            "\r[Succeeded / Failed / Total] 9 / 5 / 17:  68%|██████▊   | 17/25 [00:05<00:02,  2.98it/s]"
          ],
          "name": "stderr"
        },
        {
          "output_type": "display_data",
          "data": {
            "text/html": [
              "<font color = green>Positive (95%)</font> --> <font color = red>Negative (94%)</font><br>the <font color = green>wonderfully</font> lush morvern callar is pure punk existentialism , and ms . ramsay and her co-writer , liana dognini , have dramatized the alan warner novel , which itself felt like an answer to irvine welsh's book trainspotting .<br>the <font color = red>ribald</font> lush morvern callar is pure punk existentialism , and ms . ramsay and her co-writer , liana dognini , have dramatized the alan warner novel , which itself felt like an answer to irvine welsh's book trainspotting ."
            ],
            "text/plain": [
              "<IPython.core.display.HTML object>"
            ]
          },
          "metadata": {
            "tags": []
          }
        },
        {
          "output_type": "stream",
          "text": [
            "[Succeeded / Failed / Total] 10 / 5 / 18:  72%|███████▏  | 18/25 [00:06<00:02,  2.84it/s]"
          ],
          "name": "stderr"
        },
        {
          "output_type": "display_data",
          "data": {
            "text/html": [
              "<font color = green>Positive (59%)</font> --> <font color = red>Negative (58%)</font><br>as it turns out , you can go <font color = green>home</font> again .<br>as it turns out , you can go <font color = red>riverfront</font> again ."
            ],
            "text/plain": [
              "<IPython.core.display.HTML object>"
            ]
          },
          "metadata": {
            "tags": []
          }
        },
        {
          "output_type": "stream",
          "text": [
            "\r[Succeeded / Failed / Total] 11 / 5 / 19:  76%|███████▌  | 19/25 [00:06<00:02,  2.90it/s]"
          ],
          "name": "stderr"
        },
        {
          "output_type": "display_data",
          "data": {
            "text/html": [
              "<font color = green>Positive (92%)</font> --> <font color = red>Negative (82%)</font><br>you've already seen city by the sea under a variety of titles , but it's <font color = green>worth</font> yet another visit .<br>you've already seen city by the sea under a variety of titles , but it's <font color = red>noting</font> yet another visit ."
            ],
            "text/plain": [
              "<IPython.core.display.HTML object>"
            ]
          },
          "metadata": {
            "tags": []
          }
        },
        {
          "output_type": "stream",
          "text": [
            "[Succeeded / Failed / Total] 12 / 5 / 20:  80%|████████  | 20/25 [00:06<00:01,  2.90it/s]"
          ],
          "name": "stderr"
        },
        {
          "output_type": "display_data",
          "data": {
            "text/html": [
              "<font color = green>Positive (96%)</font> --> <font color = red>[FAILED]</font><br>this kind of hands-on storytelling is ultimately what makes shanghai ghetto move beyond a good , dry , reliable textbook and what allows it to rank with its worthy predecessors ."
            ],
            "text/plain": [
              "<IPython.core.display.HTML object>"
            ]
          },
          "metadata": {
            "tags": []
          }
        },
        {
          "output_type": "stream",
          "text": [
            "\r[Succeeded / Failed / Total] 12 / 6 / 21:  84%|████████▍ | 21/25 [00:07<00:01,  2.69it/s]"
          ],
          "name": "stderr"
        },
        {
          "output_type": "display_data",
          "data": {
            "text/html": [
              "<font color = red>Negative (90%)</font> --> <font color = gray>[SKIPPED]</font><br>making such a tragedy the backdrop to a love story risks trivializing it , though chouraqui no doubt intended the film to affirm love's power to help people endure almost unimaginable horror ."
            ],
            "text/plain": [
              "<IPython.core.display.HTML object>"
            ]
          },
          "metadata": {
            "tags": []
          }
        },
        {
          "output_type": "stream",
          "text": [
            "[Succeeded / Failed / Total] 12 / 6 / 22:  88%|████████▊ | 22/25 [00:07<00:01,  2.81it/s]"
          ],
          "name": "stderr"
        },
        {
          "output_type": "display_data",
          "data": {
            "text/html": [
              "<font color = green>Positive (63%)</font> --> <font color = red>Negative (66%)</font><br>grown-up quibbles are beside the point here . the little girls understand , and mccracken knows that's all that <font color = green>matters</font> .<br>grown-up quibbles are beside the point here . the little girls understand , and mccracken knows that's all that <font color = red>issues</font> ."
            ],
            "text/plain": [
              "<IPython.core.display.HTML object>"
            ]
          },
          "metadata": {
            "tags": []
          }
        },
        {
          "output_type": "stream",
          "text": [
            "\r[Succeeded / Failed / Total] 13 / 6 / 23:  92%|█████████▏| 23/25 [00:08<00:00,  2.81it/s]"
          ],
          "name": "stderr"
        },
        {
          "output_type": "display_data",
          "data": {
            "text/html": [
              "<font color = green>Positive (99%)</font> --> <font color = red>[FAILED]</font><br>a powerful , chilling , and affecting study of one man's dying fall ."
            ],
            "text/plain": [
              "<IPython.core.display.HTML object>"
            ]
          },
          "metadata": {
            "tags": []
          }
        },
        {
          "output_type": "stream",
          "text": [
            "[Succeeded / Failed / Total] 13 / 7 / 24:  96%|█████████▌| 24/25 [00:08<00:00,  2.79it/s]"
          ],
          "name": "stderr"
        },
        {
          "output_type": "display_data",
          "data": {
            "text/html": [
              "<font color = green>Positive (90%)</font> --> <font color = red>[FAILED]</font><br>this is a fascinating film because there is no clear-cut hero and no all-out villain ."
            ],
            "text/plain": [
              "<IPython.core.display.HTML object>"
            ]
          },
          "metadata": {
            "tags": []
          }
        },
        {
          "output_type": "stream",
          "text": [
            "\r[Succeeded / Failed / Total] 13 / 8 / 25: 100%|██████████| 25/25 [00:08<00:00,  2.78it/s]"
          ],
          "name": "stderr"
        },
        {
          "output_type": "display_data",
          "data": {
            "text/html": [
              "<font color = red>Negative (80%)</font> --> <font color = gray>[SKIPPED]</font><br>a dreadful day in irish history is given passionate , if somewhat flawed , treatment ."
            ],
            "text/plain": [
              "<IPython.core.display.HTML object>"
            ]
          },
          "metadata": {
            "tags": []
          }
        },
        {
          "output_type": "stream",
          "text": [
            "[Succeeded / Failed / Total] 13 / 8 / 26: : 26it [00:09,  2.88it/s]"
          ],
          "name": "stderr"
        },
        {
          "output_type": "display_data",
          "data": {
            "text/html": [
              "<font color = green>Positive (87%)</font> --> <font color = red>Negative (96%)</font><br>. . . a <font color = green>good</font> film that must have baffled the folks in the marketing department .<br>. . . a <font color = red>bad</font> film that must have baffled the folks in the marketing department ."
            ],
            "text/plain": [
              "<IPython.core.display.HTML object>"
            ]
          },
          "metadata": {
            "tags": []
          }
        },
        {
          "output_type": "stream",
          "text": [
            "\r[Succeeded / Failed / Total] 14 / 8 / 27: : 27it [00:09,  2.90it/s]"
          ],
          "name": "stderr"
        },
        {
          "output_type": "display_data",
          "data": {
            "text/html": [
              "<font color = green>Positive (98%)</font> --> <font color = red>Negative (84%)</font><br>. . . is <font color = green>funny</font> in the way that makes you ache with sadness ( the way chekhov is funny ) , <font color = green>profound</font> <font color = green>without</font> <font color = green>ever</font> being self-important , <font color = green>warm</font> <font color = green>without</font> <font color = green>ever</font> <font color = green>succumbing</font> to sentimentality .<br>. . . is <font color = red>pretty</font> in the way that makes you ache with sadness ( the way chekhov is funny ) , <font color = red>religiosity</font> <font color = red>whatsoever</font> <font color = red>hardly</font> being self-important , <font color = red>cool</font> <font color = red>whatsoever</font> <font color = red>hardly</font> <font color = red>succumbs</font> to sentimentality ."
            ],
            "text/plain": [
              "<IPython.core.display.HTML object>"
            ]
          },
          "metadata": {
            "tags": []
          }
        },
        {
          "output_type": "stream",
          "text": [
            "[Succeeded / Failed / Total] 15 / 8 / 28: : 28it [00:10,  2.80it/s]"
          ],
          "name": "stderr"
        },
        {
          "output_type": "display_data",
          "data": {
            "text/html": [
              "<font color = red>Negative (96%)</font> --> <font color = gray>[SKIPPED]</font><br>devotees of star trek ii : the wrath of khan will feel a nagging sense of deja vu , and the grandeur of the best next generation episodes is lacking ."
            ],
            "text/plain": [
              "<IPython.core.display.HTML object>"
            ]
          },
          "metadata": {
            "tags": []
          }
        },
        {
          "output_type": "stream",
          "text": [
            "\r[Succeeded / Failed / Total] 15 / 8 / 29: : 29it [00:10,  2.89it/s]"
          ],
          "name": "stderr"
        },
        {
          "output_type": "display_data",
          "data": {
            "text/html": [
              "<font color = green>Positive (99%)</font> --> <font color = red>[FAILED]</font><br>a soul-stirring documentary about the israeli/palestinian conflict as revealed through the eyes of some children who remain curious about each other against all odds ."
            ],
            "text/plain": [
              "<IPython.core.display.HTML object>"
            ]
          },
          "metadata": {
            "tags": []
          }
        },
        {
          "output_type": "stream",
          "text": [
            "[Succeeded / Failed / Total] 15 / 9 / 30: : 30it [00:10,  2.79it/s]"
          ],
          "name": "stderr"
        },
        {
          "output_type": "display_data",
          "data": {
            "text/html": [
              "<font color = green>Positive (89%)</font> --> <font color = red>Negative (77%)</font><br>what's so <font color = green>striking</font> about jolie's performance is that she <font color = green>never</font> lets her character become a caricature -- not even with that radioactive hair .<br>what's so <font color = red>tangential</font> about jolie's performance is that she <font color = red>already</font> lets her character become a caricature -- not even with that radioactive hair ."
            ],
            "text/plain": [
              "<IPython.core.display.HTML object>"
            ]
          },
          "metadata": {
            "tags": []
          }
        },
        {
          "output_type": "stream",
          "text": [
            "[Succeeded / Failed / Total] 16 / 9 / 31: : 31it [00:11,  2.77it/s]"
          ],
          "name": "stderr"
        },
        {
          "output_type": "stream",
          "text": [
            "+-------------------------------+--------+\n",
            "| Attack Results                |        |\n",
            "+-------------------------------+--------+\n",
            "| Number of successful attacks: | 16     |\n",
            "| Number of failed attacks:     | 9      |\n",
            "| Number of skipped attacks:    | 6      |\n",
            "| Original accuracy:            | 80.65% |\n",
            "| Accuracy under attack:        | 29.03% |\n",
            "| Attack success rate:          | 64.0%  |\n",
            "| Average perturbed word %:     | 11.84% |\n",
            "| Average num. words per input: | 18.74  |\n",
            "| Avg num queries:              | 23.12  |\n",
            "+-------------------------------+--------+"
          ],
          "name": "stdout"
        },
        {
          "output_type": "stream",
          "text": [
            "\n",
            "\u001b[34;1mtextattack\u001b[0m: Attack time: 11.202688932418823s\n"
          ],
          "name": "stderr"
        }
      ]
    },
    {
      "cell_type": "markdown",
      "metadata": {
        "id": "10S6S32rtXtL"
      },
      "source": [
        "### Glove, GreedyWordSwapWIR RepeatModification, StopwordModification"
      ]
    },
    {
      "cell_type": "code",
      "metadata": {
        "id": "STAeDRN6Obr_",
        "colab": {
          "base_uri": "https://localhost:8080/"
        },
        "outputId": "74342aaa-0b03-4d7d-8a5c-5a18a4f7d5b1"
      },
      "source": [
        "# We're going to use our word swap class as the attack transformation.\n",
        "transformation = Swapper__()\n",
        "\n",
        "constraints = [RepeatModification(),\n",
        "               StopwordModification()]\n",
        "\n",
        "search_method = GreedyWordSwapWIR()\n",
        "\n",
        "goal_function = UntargetedClassification(model_wrapper)\n",
        "\n",
        "# Now, let's make the attack from the 4 components:\n",
        "attack = Attack(goal_function, constraints, transformation, search_method)"
      ],
      "execution_count": 30,
      "outputs": [
        {
          "output_type": "stream",
          "text": [
            "\u001b[34;1mtextattack\u001b[0m: Unknown if model of class <class 'transformers.models.albert.modeling_albert.AlbertForSequenceClassification'> compatible with goal function <class 'textattack.goal_functions.classification.untargeted_classification.UntargetedClassification'>.\n"
          ],
          "name": "stderr"
        }
      ]
    },
    {
      "cell_type": "code",
      "metadata": {
        "id": "gQ_bQqzYO2Zb",
        "colab": {
          "base_uri": "https://localhost:8080/"
        },
        "outputId": "0f1808f9-859a-49a9-ca5e-e121231448f0"
      },
      "source": [
        "print(attack)"
      ],
      "execution_count": 31,
      "outputs": [
        {
          "output_type": "stream",
          "text": [
            "Attack(\n",
            "  (search_method): GreedyWordSwapWIR(\n",
            "    (wir_method):  unk\n",
            "  )\n",
            "  (goal_function):  UntargetedClassification\n",
            "  (transformation):  Swapper__\n",
            "  (constraints): \n",
            "    (0): RepeatModification\n",
            "    (1): StopwordModification\n",
            "  (is_black_box):  True\n",
            ")\n"
          ],
          "name": "stdout"
        }
      ]
    },
    {
      "cell_type": "code",
      "metadata": {
        "id": "B7aWCrzTO4xp",
        "colab": {
          "base_uri": "https://localhost:8080/",
          "height": 1000
        },
        "outputId": "bc2acb3f-9b30-417e-ca5d-eafed46053ed"
      },
      "source": [
        "attack_stats(attack, dataset, 25)"
      ],
      "execution_count": 32,
      "outputs": [
        {
          "output_type": "stream",
          "text": [
            "\r  0%|          | 0/25 [00:00<?, ?it/s]"
          ],
          "name": "stderr"
        },
        {
          "output_type": "stream",
          "text": [
            "Attack(\n",
            "  (search_method): GreedyWordSwapWIR(\n",
            "    (wir_method):  unk\n",
            "  )\n",
            "  (goal_function):  UntargetedClassification\n",
            "  (transformation):  Swapper__\n",
            "  (constraints): \n",
            "    (0): RepeatModification\n",
            "    (1): StopwordModification\n",
            "  (is_black_box):  True\n",
            ")\n"
          ],
          "name": "stdout"
        },
        {
          "output_type": "display_data",
          "data": {
            "text/html": [
              "<font color = green>Positive (93%)</font> --> <font color = red>Negative (72%)</font><br><font color = green>lovingly</font> photographed in the manner of a golden book sprung to life , stuart little 2 manages sweetness largely without stickiness .<br><font color = red>retroactively</font> photographed in the manner of a golden book sprung to life , stuart little 2 manages sweetness largely without stickiness ."
            ],
            "text/plain": [
              "<IPython.core.display.HTML object>"
            ]
          },
          "metadata": {
            "tags": []
          }
        },
        {
          "output_type": "stream",
          "text": [
            "[Succeeded / Failed / Total] 1 / 0 / 1:   4%|▍         | 1/25 [00:00<00:09,  2.53it/s]"
          ],
          "name": "stderr"
        },
        {
          "output_type": "display_data",
          "data": {
            "text/html": [
              "<font color = green>Positive (99%)</font> --> <font color = red>Negative (80%)</font><br>consistently <font color = green>clever</font> and <font color = green>suspenseful</font> .<br>consistently <font color = red>comical</font> and <font color = red>mannitol</font> ."
            ],
            "text/plain": [
              "<IPython.core.display.HTML object>"
            ]
          },
          "metadata": {
            "tags": []
          }
        },
        {
          "output_type": "stream",
          "text": [
            "[Succeeded / Failed / Total] 2 / 0 / 2:   8%|▊         | 2/25 [00:00<00:06,  3.43it/s]"
          ],
          "name": "stderr"
        },
        {
          "output_type": "display_data",
          "data": {
            "text/html": [
              "<font color = red>Negative (92%)</font> --> <font color = gray>[SKIPPED]</font><br>it's like a \" big chill \" reunion of the baader-meinhof gang , only these guys are more harmless pranksters than political activists ."
            ],
            "text/plain": [
              "<IPython.core.display.HTML object>"
            ]
          },
          "metadata": {
            "tags": []
          }
        },
        {
          "output_type": "stream",
          "text": [
            "\r[Succeeded / Failed / Total] 2 / 0 / 3:  12%|█▏        | 3/25 [00:00<00:04,  4.95it/s]"
          ],
          "name": "stderr"
        },
        {
          "output_type": "display_data",
          "data": {
            "text/html": [
              "<font color = green>Positive (99%)</font> --> <font color = red>[FAILED]</font><br>the story gives ample opportunity for large-scale action and suspense , which director shekhar kapur supplies with tremendous skill ."
            ],
            "text/plain": [
              "<IPython.core.display.HTML object>"
            ]
          },
          "metadata": {
            "tags": []
          }
        },
        {
          "output_type": "stream",
          "text": [
            "[Succeeded / Failed / Total] 2 / 1 / 4:  16%|█▌        | 4/25 [00:01<00:07,  2.75it/s]"
          ],
          "name": "stderr"
        },
        {
          "output_type": "display_data",
          "data": {
            "text/html": [
              "<font color = green>Positive (80%)</font> --> <font color = red>Negative (94%)</font><br>red dragon \" <font color = green>never</font> cuts corners .<br>red dragon \" <font color = red>actually</font> cuts corners ."
            ],
            "text/plain": [
              "<IPython.core.display.HTML object>"
            ]
          },
          "metadata": {
            "tags": []
          }
        },
        {
          "output_type": "stream",
          "text": [
            "\r[Succeeded / Failed / Total] 3 / 1 / 5:  20%|██        | 5/25 [00:01<00:06,  3.10it/s]"
          ],
          "name": "stderr"
        },
        {
          "output_type": "display_data",
          "data": {
            "text/html": [
              "<font color = green>Positive (94%)</font> --> <font color = red>Negative (94%)</font><br>fresnadillo has <font color = green>something</font> serious to say about the ways in which extravagant chance can distort our perspective and throw us off the path of good sense .<br>fresnadillo has <font color = red>anything</font> serious to say about the ways in which extravagant chance can distort our perspective and throw us off the path of good sense ."
            ],
            "text/plain": [
              "<IPython.core.display.HTML object>"
            ]
          },
          "metadata": {
            "tags": []
          }
        },
        {
          "output_type": "stream",
          "text": [
            "[Succeeded / Failed / Total] 4 / 1 / 6:  24%|██▍       | 6/25 [00:02<00:06,  2.85it/s]"
          ],
          "name": "stderr"
        },
        {
          "output_type": "display_data",
          "data": {
            "text/html": [
              "<font color = green>Positive (97%)</font> --> <font color = red>Negative (95%)</font><br>throws in enough <font color = green>clever</font> and <font color = green>unexpected</font> twists to make the formula feel <font color = green>fresh</font> .<br>throws in enough <font color = red>comical</font> and <font color = red>repeated</font> twists to make the formula feel <font color = red>supplies</font> ."
            ],
            "text/plain": [
              "<IPython.core.display.HTML object>"
            ]
          },
          "metadata": {
            "tags": []
          }
        },
        {
          "output_type": "stream",
          "text": [
            "\r[Succeeded / Failed / Total] 5 / 1 / 7:  28%|██▊       | 7/25 [00:02<00:06,  2.82it/s]"
          ],
          "name": "stderr"
        },
        {
          "output_type": "display_data",
          "data": {
            "text/html": [
              "<font color = green>Positive (74%)</font> --> <font color = red>Negative (50%)</font><br>weighty and ponderous but every bit as <font color = green>filling</font> as the <font color = green>treat</font> of the title .<br>weighty and ponderous but every bit as <font color = red>communicating</font> as the <font color = red>depict</font> of the title ."
            ],
            "text/plain": [
              "<IPython.core.display.HTML object>"
            ]
          },
          "metadata": {
            "tags": []
          }
        },
        {
          "output_type": "stream",
          "text": [
            "[Succeeded / Failed / Total] 6 / 1 / 8:  32%|███▏      | 8/25 [00:02<00:06,  2.82it/s]"
          ],
          "name": "stderr"
        },
        {
          "output_type": "display_data",
          "data": {
            "text/html": [
              "<font color = green>Positive (98%)</font> --> <font color = red>Negative (55%)</font><br>a <font color = green>real</font> audience-pleaser that will <font color = green>strike</font> a <font color = green>chord</font> with anyone who's ever waited in a doctor's office , emergency room , hospital bed or insurance company office .<br>a <font color = red>numbers</font> audience-pleaser that will <font color = red>counter</font> a <font color = red>stool</font> with anyone who's ever waited in a doctor's office , emergency room , hospital bed or insurance company office ."
            ],
            "text/plain": [
              "<IPython.core.display.HTML object>"
            ]
          },
          "metadata": {
            "tags": []
          }
        },
        {
          "output_type": "stream",
          "text": [
            "\r[Succeeded / Failed / Total] 7 / 1 / 9:  36%|███▌      | 9/25 [00:03<00:06,  2.65it/s]"
          ],
          "name": "stderr"
        },
        {
          "output_type": "display_data",
          "data": {
            "text/html": [
              "<font color = green>Positive (99%)</font> --> <font color = red>Negative (63%)</font><br>generates an enormous <font color = green>feeling</font> of <font color = green>empathy</font> for its characters .<br>generates an enormous <font color = red>fear</font> of <font color = red>decompression</font> for its characters ."
            ],
            "text/plain": [
              "<IPython.core.display.HTML object>"
            ]
          },
          "metadata": {
            "tags": []
          }
        },
        {
          "output_type": "stream",
          "text": [
            "[Succeeded / Failed / Total] 8 / 1 / 10:  40%|████      | 10/25 [00:03<00:05,  2.70it/s]"
          ],
          "name": "stderr"
        },
        {
          "output_type": "display_data",
          "data": {
            "text/html": [
              "<font color = green>Positive (97%)</font> --> <font color = red>Negative (84%)</font><br>exposing the ways we fool ourselves is one hour photo's <font color = green>real</font> <font color = green>strength</font> .<br>exposing the ways we fool ourselves is one hour photo's <font color = red>numbers</font> <font color = red>tensile</font> ."
            ],
            "text/plain": [
              "<IPython.core.display.HTML object>"
            ]
          },
          "metadata": {
            "tags": []
          }
        },
        {
          "output_type": "stream",
          "text": [
            "\r[Succeeded / Failed / Total] 9 / 1 / 11:  44%|████▍     | 11/25 [00:04<00:05,  2.74it/s]"
          ],
          "name": "stderr"
        },
        {
          "output_type": "display_data",
          "data": {
            "text/html": [
              "<font color = red>Negative (57%)</font> --> <font color = gray>[SKIPPED]</font><br>it's up to you to decide whether to admire these people's dedication to their cause or be repelled by their dogmatism , manipulativeness and narrow , fearful view of american life ."
            ],
            "text/plain": [
              "<IPython.core.display.HTML object>"
            ]
          },
          "metadata": {
            "tags": []
          }
        },
        {
          "output_type": "stream",
          "text": [
            "[Succeeded / Failed / Total] 9 / 1 / 12:  48%|████▊     | 12/25 [00:04<00:04,  2.97it/s]"
          ],
          "name": "stderr"
        },
        {
          "output_type": "display_data",
          "data": {
            "text/html": [
              "<font color = green>Positive (67%)</font> --> <font color = red>Negative (92%)</font><br>mostly , [goldbacher] just lets her complicated characters be unruly , confusing and , through it all , <font color = green>human</font> .<br>mostly , [goldbacher] just lets her complicated characters be unruly , confusing and , through it all , <font color = red>criterionexampletranslation</font> ."
            ],
            "text/plain": [
              "<IPython.core.display.HTML object>"
            ]
          },
          "metadata": {
            "tags": []
          }
        },
        {
          "output_type": "stream",
          "text": [
            "\r[Succeeded / Failed / Total] 10 / 1 / 13:  52%|█████▏    | 13/25 [00:04<00:04,  2.98it/s]"
          ],
          "name": "stderr"
        },
        {
          "output_type": "display_data",
          "data": {
            "text/html": [
              "<font color = green>Positive (98%)</font> --> <font color = red>[FAILED]</font><br>. . . quite good at providing some good old fashioned spooks ."
            ],
            "text/plain": [
              "<IPython.core.display.HTML object>"
            ]
          },
          "metadata": {
            "tags": []
          }
        },
        {
          "output_type": "stream",
          "text": [
            "[Succeeded / Failed / Total] 10 / 2 / 14:  56%|█████▌    | 14/25 [00:04<00:03,  2.89it/s]"
          ],
          "name": "stderr"
        },
        {
          "output_type": "display_data",
          "data": {
            "text/html": [
              "<font color = red>Negative (92%)</font> --> <font color = gray>[SKIPPED]</font><br>at its worst , the movie is pretty diverting ; the pity is that it rarely achieves its best ."
            ],
            "text/plain": [
              "<IPython.core.display.HTML object>"
            ]
          },
          "metadata": {
            "tags": []
          }
        },
        {
          "output_type": "stream",
          "text": [
            "\r[Succeeded / Failed / Total] 10 / 2 / 15:  60%|██████    | 15/25 [00:04<00:03,  3.08it/s]"
          ],
          "name": "stderr"
        },
        {
          "output_type": "display_data",
          "data": {
            "text/html": [
              "<font color = green>Positive (99%)</font> --> <font color = red>[FAILED]</font><br>scherfig's light-hearted profile of emotional desperation is achingly honest and delightfully cheeky ."
            ],
            "text/plain": [
              "<IPython.core.display.HTML object>"
            ]
          },
          "metadata": {
            "tags": []
          }
        },
        {
          "output_type": "stream",
          "text": [
            "[Succeeded / Failed / Total] 10 / 3 / 16:  64%|██████▍   | 16/25 [00:05<00:03,  2.99it/s]"
          ],
          "name": "stderr"
        },
        {
          "output_type": "display_data",
          "data": {
            "text/html": [
              "<font color = green>Positive (99%)</font> --> <font color = red>Negative (55%)</font><br>a <font color = green>journey</font> <font color = green>spanning</font> nearly <font color = green>three</font> decades of <font color = green>bittersweet</font> <font color = green>camaraderie</font> and <font color = green>history</font> , in which we feel that we <font color = green>truly</font> <font color = green>know</font> what <font color = green>makes</font> holly and marina tick , and our <font color = green>hearts</font> <font color = green>go</font> out to them as both continue to negotiate their imperfect , love-hate <font color = green>relationship</font> .<br>a <font color = red>trip</font> <font color = red>hiatus</font> nearly <font color = red>gdbr</font> decades of <font color = red>nicer</font> <font color = red>kosuke</font> and <font color = red>cmessier</font> , in which we feel that we <font color = red>inherently</font> <font color = red>nuitte</font> what <font color = red>make</font> holly and marina tick , and our <font color = red>lonely</font> <font color = red>flatline</font> out to them as both continue to negotiate their imperfect , love-hate <font color = red>incestuous</font> ."
            ],
            "text/plain": [
              "<IPython.core.display.HTML object>"
            ]
          },
          "metadata": {
            "tags": []
          }
        },
        {
          "output_type": "stream",
          "text": [
            "\r[Succeeded / Failed / Total] 11 / 3 / 17:  68%|██████▊   | 17/25 [00:06<00:03,  2.51it/s]"
          ],
          "name": "stderr"
        },
        {
          "output_type": "display_data",
          "data": {
            "text/html": [
              "<font color = green>Positive (95%)</font> --> <font color = red>Negative (93%)</font><br>the <font color = green>wonderfully</font> lush morvern callar is pure punk existentialism , and ms . ramsay and her co-writer , liana dognini , have dramatized the alan warner novel , which itself felt like an answer to irvine welsh's book trainspotting .<br>the <font color = red>reichsdeputationshauptschluss</font> lush morvern callar is pure punk existentialism , and ms . ramsay and her co-writer , liana dognini , have dramatized the alan warner novel , which itself felt like an answer to irvine welsh's book trainspotting ."
            ],
            "text/plain": [
              "<IPython.core.display.HTML object>"
            ]
          },
          "metadata": {
            "tags": []
          }
        },
        {
          "output_type": "stream",
          "text": [
            "[Succeeded / Failed / Total] 12 / 3 / 18:  72%|███████▏  | 18/25 [00:07<00:02,  2.43it/s]"
          ],
          "name": "stderr"
        },
        {
          "output_type": "display_data",
          "data": {
            "text/html": [
              "<font color = green>Positive (59%)</font> --> <font color = red>Negative (89%)</font><br>as it turns out , you can go <font color = green>home</font> again .<br>as it turns out , you can go <font color = red>phoneline</font> again ."
            ],
            "text/plain": [
              "<IPython.core.display.HTML object>"
            ]
          },
          "metadata": {
            "tags": []
          }
        },
        {
          "output_type": "stream",
          "text": [
            "\r[Succeeded / Failed / Total] 13 / 3 / 19:  76%|███████▌  | 19/25 [00:07<00:02,  2.48it/s]"
          ],
          "name": "stderr"
        },
        {
          "output_type": "display_data",
          "data": {
            "text/html": [
              "<font color = green>Positive (92%)</font> --> <font color = red>Negative (82%)</font><br>you've already seen city by the sea under a variety of titles , but it's <font color = green>worth</font> yet another visit .<br>you've already seen city by the sea under a variety of titles , but it's <font color = red>noting</font> yet another visit ."
            ],
            "text/plain": [
              "<IPython.core.display.HTML object>"
            ]
          },
          "metadata": {
            "tags": []
          }
        },
        {
          "output_type": "stream",
          "text": [
            "[Succeeded / Failed / Total] 14 / 3 / 20:  80%|████████  | 20/25 [00:08<00:02,  2.50it/s]"
          ],
          "name": "stderr"
        },
        {
          "output_type": "display_data",
          "data": {
            "text/html": [
              "<font color = green>Positive (96%)</font> --> <font color = red>Negative (66%)</font><br>this kind of hands-on <font color = green>storytelling</font> is ultimately what <font color = green>makes</font> shanghai ghetto <font color = green>move</font> beyond a good , dry , reliable textbook and what allows it to rank with its worthy predecessors .<br>this kind of hands-on <font color = red>devotional</font> is ultimately what <font color = red>make</font> shanghai ghetto <font color = red>would</font> beyond a good , dry , reliable textbook and what allows it to rank with its worthy predecessors ."
            ],
            "text/plain": [
              "<IPython.core.display.HTML object>"
            ]
          },
          "metadata": {
            "tags": []
          }
        },
        {
          "output_type": "stream",
          "text": [
            "\r[Succeeded / Failed / Total] 15 / 3 / 21:  84%|████████▍ | 21/25 [00:08<00:01,  2.43it/s]"
          ],
          "name": "stderr"
        },
        {
          "output_type": "display_data",
          "data": {
            "text/html": [
              "<font color = red>Negative (90%)</font> --> <font color = gray>[SKIPPED]</font><br>making such a tragedy the backdrop to a love story risks trivializing it , though chouraqui no doubt intended the film to affirm love's power to help people endure almost unimaginable horror ."
            ],
            "text/plain": [
              "<IPython.core.display.HTML object>"
            ]
          },
          "metadata": {
            "tags": []
          }
        },
        {
          "output_type": "stream",
          "text": [
            "[Succeeded / Failed / Total] 15 / 3 / 22:  88%|████████▊ | 22/25 [00:08<00:01,  2.54it/s]"
          ],
          "name": "stderr"
        },
        {
          "output_type": "display_data",
          "data": {
            "text/html": [
              "<font color = green>Positive (63%)</font> --> <font color = red>Negative (93%)</font><br>grown-up quibbles are beside the point here . the little girls understand , and mccracken knows that's all that <font color = green>matters</font> .<br>grown-up quibbles are beside the point here . the little girls understand , and mccracken knows that's all that <font color = red>worse</font> ."
            ],
            "text/plain": [
              "<IPython.core.display.HTML object>"
            ]
          },
          "metadata": {
            "tags": []
          }
        },
        {
          "output_type": "stream",
          "text": [
            "\r[Succeeded / Failed / Total] 16 / 3 / 23:  92%|█████████▏| 23/25 [00:09<00:00,  2.54it/s]"
          ],
          "name": "stderr"
        },
        {
          "output_type": "display_data",
          "data": {
            "text/html": [
              "<font color = green>Positive (99%)</font> --> <font color = red>Negative (50%)</font><br>a <font color = green>powerful</font> , <font color = green>chilling</font> , and <font color = green>affecting</font> <font color = green>study</font> of <font color = green>one</font> man's <font color = green>dying</font> fall .<br>a <font color = red>adverage</font> , <font color = red>venturi</font> , and <font color = red>destructive</font> <font color = red>studies</font> of <font color = red>ffffffarm</font> man's <font color = red>lay</font> fall ."
            ],
            "text/plain": [
              "<IPython.core.display.HTML object>"
            ]
          },
          "metadata": {
            "tags": []
          }
        },
        {
          "output_type": "stream",
          "text": [
            "[Succeeded / Failed / Total] 17 / 3 / 24:  96%|█████████▌| 24/25 [00:09<00:00,  2.53it/s]"
          ],
          "name": "stderr"
        },
        {
          "output_type": "display_data",
          "data": {
            "text/html": [
              "<font color = green>Positive (90%)</font> --> <font color = red>Negative (96%)</font><br>this is a <font color = green>fascinating</font> film because there is no clear-cut hero and no all-out villain .<br>this is a <font color = red>horrible</font> film because there is no clear-cut hero and no all-out villain ."
            ],
            "text/plain": [
              "<IPython.core.display.HTML object>"
            ]
          },
          "metadata": {
            "tags": []
          }
        },
        {
          "output_type": "stream",
          "text": [
            "\r[Succeeded / Failed / Total] 18 / 3 / 25: 100%|██████████| 25/25 [00:09<00:00,  2.54it/s]"
          ],
          "name": "stderr"
        },
        {
          "output_type": "display_data",
          "data": {
            "text/html": [
              "<font color = red>Negative (80%)</font> --> <font color = gray>[SKIPPED]</font><br>a dreadful day in irish history is given passionate , if somewhat flawed , treatment ."
            ],
            "text/plain": [
              "<IPython.core.display.HTML object>"
            ]
          },
          "metadata": {
            "tags": []
          }
        },
        {
          "output_type": "stream",
          "text": [
            "[Succeeded / Failed / Total] 18 / 3 / 26: : 26it [00:09,  2.64it/s]"
          ],
          "name": "stderr"
        },
        {
          "output_type": "display_data",
          "data": {
            "text/html": [
              "<font color = green>Positive (87%)</font> --> <font color = red>Negative (82%)</font><br>. . . a <font color = green>good</font> film that must have baffled the folks in the marketing department .<br>. . . a <font color = red>benimens</font> film that must have baffled the folks in the marketing department ."
            ],
            "text/plain": [
              "<IPython.core.display.HTML object>"
            ]
          },
          "metadata": {
            "tags": []
          }
        },
        {
          "output_type": "stream",
          "text": [
            "\r[Succeeded / Failed / Total] 19 / 3 / 27: : 27it [00:10,  2.66it/s]"
          ],
          "name": "stderr"
        },
        {
          "output_type": "display_data",
          "data": {
            "text/html": [
              "<font color = green>Positive (98%)</font> --> <font color = red>Negative (79%)</font><br>. . . is <font color = green>funny</font> in the way that makes you ache with sadness ( the way chekhov is funny ) , <font color = green>profound</font> <font color = green>without</font> <font color = green>ever</font> being self-important , <font color = green>warm</font> without ever <font color = green>succumbing</font> to sentimentality .<br>. . . is <font color = red>lucky</font> in the way that makes you ache with sadness ( the way chekhov is funny ) , <font color = red>impact</font> <font color = red>any</font> <font color = red>once</font> being self-important , <font color = red>dry</font> without ever <font color = red>authorise</font> to sentimentality ."
            ],
            "text/plain": [
              "<IPython.core.display.HTML object>"
            ]
          },
          "metadata": {
            "tags": []
          }
        },
        {
          "output_type": "stream",
          "text": [
            "[Succeeded / Failed / Total] 20 / 3 / 28: : 28it [00:11,  2.54it/s]"
          ],
          "name": "stderr"
        },
        {
          "output_type": "display_data",
          "data": {
            "text/html": [
              "<font color = red>Negative (96%)</font> --> <font color = gray>[SKIPPED]</font><br>devotees of star trek ii : the wrath of khan will feel a nagging sense of deja vu , and the grandeur of the best next generation episodes is lacking ."
            ],
            "text/plain": [
              "<IPython.core.display.HTML object>"
            ]
          },
          "metadata": {
            "tags": []
          }
        },
        {
          "output_type": "stream",
          "text": [
            "\r[Succeeded / Failed / Total] 20 / 3 / 29: : 29it [00:11,  2.63it/s]"
          ],
          "name": "stderr"
        },
        {
          "output_type": "display_data",
          "data": {
            "text/html": [
              "<font color = green>Positive (99%)</font> --> <font color = red>[FAILED]</font><br>a soul-stirring documentary about the israeli/palestinian conflict as revealed through the eyes of some children who remain curious about each other against all odds ."
            ],
            "text/plain": [
              "<IPython.core.display.HTML object>"
            ]
          },
          "metadata": {
            "tags": []
          }
        },
        {
          "output_type": "stream",
          "text": [
            "[Succeeded / Failed / Total] 20 / 4 / 30: : 30it [00:11,  2.52it/s]"
          ],
          "name": "stderr"
        },
        {
          "output_type": "display_data",
          "data": {
            "text/html": [
              "<font color = green>Positive (89%)</font> --> <font color = red>Negative (92%)</font><br>what's so <font color = green>striking</font> about jolie's performance is that she <font color = green>never</font> lets her character become a caricature -- not even with that radioactive hair .<br>what's so <font color = red>shots</font> about jolie's performance is that she <font color = red>actually</font> lets her character become a caricature -- not even with that radioactive hair ."
            ],
            "text/plain": [
              "<IPython.core.display.HTML object>"
            ]
          },
          "metadata": {
            "tags": []
          }
        },
        {
          "output_type": "stream",
          "text": [
            "[Succeeded / Failed / Total] 21 / 4 / 31: : 31it [00:12,  2.50it/s]"
          ],
          "name": "stderr"
        },
        {
          "output_type": "stream",
          "text": [
            "+-------------------------------+--------+\n",
            "| Attack Results                |        |\n",
            "+-------------------------------+--------+\n",
            "| Number of successful attacks: | 21     |\n",
            "| Number of failed attacks:     | 4      |\n",
            "| Number of skipped attacks:    | 6      |\n",
            "| Original accuracy:            | 80.65% |\n",
            "| Accuracy under attack:        | 12.9%  |\n",
            "| Attack success rate:          | 84.0%  |\n",
            "| Average perturbed word %:     | 16.15% |\n",
            "| Average num. words per input: | 18.74  |\n",
            "| Avg num queries:              | 22.56  |\n",
            "+-------------------------------+--------+"
          ],
          "name": "stdout"
        },
        {
          "output_type": "stream",
          "text": [
            "\n",
            "\u001b[34;1mtextattack\u001b[0m: Attack time: 12.390251159667969s\n"
          ],
          "name": "stderr"
        }
      ]
    },
    {
      "cell_type": "markdown",
      "metadata": {
        "id": "DFoHgnBPtcAh"
      },
      "source": [
        "### FastText, ParticleSwarmOptimization, RepeatModification, StopwordModification"
      ]
    },
    {
      "cell_type": "code",
      "metadata": {
        "id": "8rK5QW2hnCiI",
        "colab": {
          "base_uri": "https://localhost:8080/"
        },
        "outputId": "da01d0f7-3c24-4aa6-898c-cf1f29911df0"
      },
      "source": [
        "from textattack.search_methods import ParticleSwarmOptimization\n",
        "\n",
        "\n",
        "# We're going to use our word swap class as the attack transformation.\n",
        "transformation = Swapper()\n",
        "\n",
        "constraints = [RepeatModification(),\n",
        "               StopwordModification()]\n",
        "\n",
        "search_method = ParticleSwarmOptimization(pop_size=10,max_iters=5,post_turn_check=True)\n",
        "\n",
        "goal_function = UntargetedClassification(model_wrapper)\n",
        "\n",
        "# Now, let's make the attack from the 4 components:\n",
        "attack = Attack(goal_function, constraints, transformation, search_method)"
      ],
      "execution_count": 33,
      "outputs": [
        {
          "output_type": "stream",
          "text": [
            "\u001b[34;1mtextattack\u001b[0m: Unknown if model of class <class 'transformers.models.albert.modeling_albert.AlbertForSequenceClassification'> compatible with goal function <class 'textattack.goal_functions.classification.untargeted_classification.UntargetedClassification'>.\n"
          ],
          "name": "stderr"
        }
      ]
    },
    {
      "cell_type": "code",
      "metadata": {
        "id": "gUWI3gs9nzz2",
        "colab": {
          "base_uri": "https://localhost:8080/"
        },
        "outputId": "d1260958-f58a-4c70-8d24-b679613ddb55"
      },
      "source": [
        "print(attack)"
      ],
      "execution_count": 34,
      "outputs": [
        {
          "output_type": "stream",
          "text": [
            "Attack(\n",
            "  (search_method): ParticleSwarmOptimization(\n",
            "    (pop_size):  10\n",
            "    (max_iters):  5\n",
            "    (post_turn_check):  True\n",
            "    (max_turn_retries):  20\n",
            "  )\n",
            "  (goal_function):  UntargetedClassification\n",
            "  (transformation):  Swapper\n",
            "  (constraints): \n",
            "    (0): RepeatModification\n",
            "    (1): StopwordModification\n",
            "  (is_black_box):  True\n",
            ")\n"
          ],
          "name": "stdout"
        }
      ]
    },
    {
      "cell_type": "code",
      "metadata": {
        "id": "eynxLKPCn2c7",
        "colab": {
          "base_uri": "https://localhost:8080/",
          "height": 1000
        },
        "outputId": "d972fa7f-f2f4-4e7f-e205-1edbe1d25edf"
      },
      "source": [
        "attack_stats(attack, dataset, 25)"
      ],
      "execution_count": 35,
      "outputs": [
        {
          "output_type": "stream",
          "text": [
            "\r  0%|          | 0/25 [00:00<?, ?it/s]"
          ],
          "name": "stderr"
        },
        {
          "output_type": "stream",
          "text": [
            "Attack(\n",
            "  (search_method): ParticleSwarmOptimization(\n",
            "    (pop_size):  10\n",
            "    (max_iters):  5\n",
            "    (post_turn_check):  True\n",
            "    (max_turn_retries):  20\n",
            "  )\n",
            "  (goal_function):  UntargetedClassification\n",
            "  (transformation):  Swapper\n",
            "  (constraints): \n",
            "    (0): RepeatModification\n",
            "    (1): StopwordModification\n",
            "  (is_black_box):  True\n",
            ")\n"
          ],
          "name": "stdout"
        },
        {
          "output_type": "display_data",
          "data": {
            "text/html": [
              "<font color = green>Positive (93%)</font> --> <font color = red>Negative (90%)</font><br><font color = green>lovingly</font> photographed in the manner of a golden book sprung to life , stuart little <font color = green>2</font> manages sweetness largely <font color = green>without</font> stickiness .<br><font color = red>kingly</font> photographed in the manner of a golden book sprung to life , stuart little <font color = red>campaign</font> manages sweetness largely <font color = red>any</font> stickiness ."
            ],
            "text/plain": [
              "<IPython.core.display.HTML object>"
            ]
          },
          "metadata": {
            "tags": []
          }
        },
        {
          "output_type": "stream",
          "text": [
            "[Succeeded / Failed / Total] 1 / 0 / 1:   4%|▍         | 1/25 [00:02<01:06,  2.76s/it]"
          ],
          "name": "stderr"
        },
        {
          "output_type": "display_data",
          "data": {
            "text/html": [
              "<font color = green>Positive (99%)</font> --> <font color = red>[FAILED]</font><br>consistently clever and suspenseful ."
            ],
            "text/plain": [
              "<IPython.core.display.HTML object>"
            ]
          },
          "metadata": {
            "tags": []
          }
        },
        {
          "output_type": "stream",
          "text": [
            "[Succeeded / Failed / Total] 1 / 1 / 2:   8%|▊         | 2/25 [00:03<00:35,  1.54s/it]"
          ],
          "name": "stderr"
        },
        {
          "output_type": "display_data",
          "data": {
            "text/html": [
              "<font color = red>Negative (92%)</font> --> <font color = gray>[SKIPPED]</font><br>it's like a \" big chill \" reunion of the baader-meinhof gang , only these guys are more harmless pranksters than political activists ."
            ],
            "text/plain": [
              "<IPython.core.display.HTML object>"
            ]
          },
          "metadata": {
            "tags": []
          }
        },
        {
          "output_type": "stream",
          "text": [
            "\r[Succeeded / Failed / Total] 1 / 1 / 3:  12%|█▏        | 3/25 [00:03<00:22,  1.03s/it]"
          ],
          "name": "stderr"
        },
        {
          "output_type": "display_data",
          "data": {
            "text/html": [
              "<font color = green>Positive (99%)</font> --> <font color = red>Negative (70%)</font><br>the story <font color = green>gives</font> ample <font color = green>opportunity</font> for large-scale action and <font color = green>suspense</font> , which director shekhar kapur supplies with <font color = green>tremendous</font> skill .<br>the story <font color = red>gave</font> ample <font color = red>opportune</font> for large-scale action and <font color = red>suspension</font> , which director shekhar kapur supplies with <font color = red>stupendous</font> skill ."
            ],
            "text/plain": [
              "<IPython.core.display.HTML object>"
            ]
          },
          "metadata": {
            "tags": []
          }
        },
        {
          "output_type": "stream",
          "text": [
            "[Succeeded / Failed / Total] 2 / 1 / 4:  16%|█▌        | 4/25 [00:06<00:32,  1.53s/it]"
          ],
          "name": "stderr"
        },
        {
          "output_type": "display_data",
          "data": {
            "text/html": [
              "<font color = green>Positive (80%)</font> --> <font color = red>Negative (90%)</font><br>red dragon \" <font color = green>never</font> cuts corners .<br>red dragon \" <font color = red>ever</font> cuts corners ."
            ],
            "text/plain": [
              "<IPython.core.display.HTML object>"
            ]
          },
          "metadata": {
            "tags": []
          }
        },
        {
          "output_type": "stream",
          "text": [
            "\r[Succeeded / Failed / Total] 3 / 1 / 5:  20%|██        | 5/25 [00:06<00:25,  1.25s/it]"
          ],
          "name": "stderr"
        },
        {
          "output_type": "display_data",
          "data": {
            "text/html": [
              "<font color = green>Positive (94%)</font> --> <font color = red>Negative (81%)</font><br><font color = green>fresnadillo</font> has <font color = green>something</font> serious to <font color = green>say</font> about the <font color = green>ways</font> in which extravagant chance can distort our perspective and throw us off the path of <font color = green>good</font> sense .<br><font color = red>fresno</font> has <font color = red>seething</font> serious to <font color = red>think</font> about the <font color = red>way</font> in which extravagant chance can distort our perspective and throw us off the path of <font color = red>bad</font> sense ."
            ],
            "text/plain": [
              "<IPython.core.display.HTML object>"
            ]
          },
          "metadata": {
            "tags": []
          }
        },
        {
          "output_type": "stream",
          "text": [
            "[Succeeded / Failed / Total] 4 / 1 / 6:  24%|██▍       | 6/25 [00:09<00:30,  1.63s/it]"
          ],
          "name": "stderr"
        },
        {
          "output_type": "display_data",
          "data": {
            "text/html": [
              "<font color = green>Positive (97%)</font> --> <font color = red>Negative (96%)</font><br>throws in <font color = green>enough</font> clever and unexpected twists to make the formula feel fresh .<br>throws in <font color = red>too</font> clever and unexpected twists to make the formula feel fresh ."
            ],
            "text/plain": [
              "<IPython.core.display.HTML object>"
            ]
          },
          "metadata": {
            "tags": []
          }
        },
        {
          "output_type": "stream",
          "text": [
            "\r[Succeeded / Failed / Total] 5 / 1 / 7:  28%|██▊       | 7/25 [00:10<00:25,  1.44s/it]"
          ],
          "name": "stderr"
        },
        {
          "output_type": "display_data",
          "data": {
            "text/html": [
              "<font color = green>Positive (74%)</font> --> <font color = red>Negative (91%)</font><br>weighty and <font color = green>ponderous</font> but every bit as <font color = green>filling</font> as the <font color = green>treat</font> of the title .<br>weighty and <font color = red>lecherous</font> but every bit as <font color = red>drilling</font> as the <font color = red>prescribe</font> of the title ."
            ],
            "text/plain": [
              "<IPython.core.display.HTML object>"
            ]
          },
          "metadata": {
            "tags": []
          }
        },
        {
          "output_type": "stream",
          "text": [
            "[Succeeded / Failed / Total] 6 / 1 / 8:  32%|███▏      | 8/25 [00:10<00:22,  1.35s/it]"
          ],
          "name": "stderr"
        },
        {
          "output_type": "display_data",
          "data": {
            "text/html": [
              "<font color = green>Positive (98%)</font> --> <font color = red>[FAILED]</font><br>a real audience-pleaser that will strike a chord with anyone who's ever waited in a doctor's office , emergency room , hospital bed or insurance company office ."
            ],
            "text/plain": [
              "<IPython.core.display.HTML object>"
            ]
          },
          "metadata": {
            "tags": []
          }
        },
        {
          "output_type": "stream",
          "text": [
            "\r[Succeeded / Failed / Total] 6 / 2 / 9:  36%|███▌      | 9/25 [00:25<00:44,  2.79s/it]"
          ],
          "name": "stderr"
        },
        {
          "output_type": "display_data",
          "data": {
            "text/html": [
              "<font color = green>Positive (99%)</font> --> <font color = red>Negative (88%)</font><br>generates an enormous feeling of <font color = green>empathy</font> for its characters .<br>generates an enormous feeling of <font color = red>apathy</font> for its characters ."
            ],
            "text/plain": [
              "<IPython.core.display.HTML object>"
            ]
          },
          "metadata": {
            "tags": []
          }
        },
        {
          "output_type": "stream",
          "text": [
            "[Succeeded / Failed / Total] 7 / 2 / 10:  40%|████      | 10/25 [00:25<00:37,  2.53s/it]"
          ],
          "name": "stderr"
        },
        {
          "output_type": "display_data",
          "data": {
            "text/html": [
              "<font color = green>Positive (97%)</font> --> <font color = red>Negative (90%)</font><br><font color = green>exposing</font> the <font color = green>ways</font> we fool ourselves is <font color = green>one</font> <font color = green>hour</font> photo's <font color = green>real</font> <font color = green>strength</font> .<br><font color = red>alluring</font> the <font color = red>way</font> we fool ourselves is <font color = red>nine</font> <font color = red>minutes</font> photo's <font color = red>unimaginable</font> <font color = red>toughness</font> ."
            ],
            "text/plain": [
              "<IPython.core.display.HTML object>"
            ]
          },
          "metadata": {
            "tags": []
          }
        },
        {
          "output_type": "stream",
          "text": [
            "[Succeeded / Failed / Total] 8 / 2 / 11:  44%|████▍     | 11/25 [00:26<00:33,  2.38s/it]"
          ],
          "name": "stderr"
        },
        {
          "output_type": "display_data",
          "data": {
            "text/html": [
              "<font color = red>Negative (57%)</font> --> <font color = gray>[SKIPPED]</font><br>it's up to you to decide whether to admire these people's dedication to their cause or be repelled by their dogmatism , manipulativeness and narrow , fearful view of american life ."
            ],
            "text/plain": [
              "<IPython.core.display.HTML object>"
            ]
          },
          "metadata": {
            "tags": []
          }
        },
        {
          "output_type": "stream",
          "text": [
            "\r[Succeeded / Failed / Total] 8 / 2 / 12:  48%|████▊     | 12/25 [00:26<00:28,  2.18s/it]"
          ],
          "name": "stderr"
        },
        {
          "output_type": "display_data",
          "data": {
            "text/html": [
              "<font color = green>Positive (67%)</font> --> <font color = red>Negative (82%)</font><br>mostly , [goldbacher] just lets her complicated characters be unruly , confusing and , through it all , <font color = green>human</font> .<br>mostly , [goldbacher] just lets her complicated characters be unruly , confusing and , through it all , <font color = red>animal</font> ."
            ],
            "text/plain": [
              "<IPython.core.display.HTML object>"
            ]
          },
          "metadata": {
            "tags": []
          }
        },
        {
          "output_type": "stream",
          "text": [
            "[Succeeded / Failed / Total] 9 / 2 / 13:  52%|█████▏    | 13/25 [00:26<00:24,  2.04s/it]"
          ],
          "name": "stderr"
        },
        {
          "output_type": "display_data",
          "data": {
            "text/html": [
              "<font color = green>Positive (98%)</font> --> <font color = red>Negative (96%)</font><br>. . . quite <font color = green>good</font> at providing some good old fashioned spooks .<br>. . . quite <font color = red>bad</font> at providing some good old fashioned spooks ."
            ],
            "text/plain": [
              "<IPython.core.display.HTML object>"
            ]
          },
          "metadata": {
            "tags": []
          }
        },
        {
          "output_type": "stream",
          "text": [
            "\r[Succeeded / Failed / Total] 10 / 2 / 14:  56%|█████▌    | 14/25 [00:26<00:20,  1.91s/it]"
          ],
          "name": "stderr"
        },
        {
          "output_type": "display_data",
          "data": {
            "text/html": [
              "<font color = red>Negative (92%)</font> --> <font color = gray>[SKIPPED]</font><br>at its worst , the movie is pretty diverting ; the pity is that it rarely achieves its best ."
            ],
            "text/plain": [
              "<IPython.core.display.HTML object>"
            ]
          },
          "metadata": {
            "tags": []
          }
        },
        {
          "output_type": "stream",
          "text": [
            "[Succeeded / Failed / Total] 10 / 2 / 15:  60%|██████    | 15/25 [00:26<00:17,  1.78s/it]"
          ],
          "name": "stderr"
        },
        {
          "output_type": "display_data",
          "data": {
            "text/html": [
              "<font color = green>Positive (99%)</font> --> <font color = red>[FAILED]</font><br>scherfig's light-hearted profile of emotional desperation is achingly honest and delightfully cheeky ."
            ],
            "text/plain": [
              "<IPython.core.display.HTML object>"
            ]
          },
          "metadata": {
            "tags": []
          }
        },
        {
          "output_type": "stream",
          "text": [
            "[Succeeded / Failed / Total] 10 / 3 / 16:  64%|██████▍   | 16/25 [00:39<00:22,  2.50s/it]"
          ],
          "name": "stderr"
        },
        {
          "output_type": "display_data",
          "data": {
            "text/html": [
              "<font color = green>Positive (99%)</font> --> <font color = red>Negative (61%)</font><br>a <font color = green>journey</font> <font color = green>spanning</font> nearly three decades of <font color = green>bittersweet</font> camaraderie and history , in which we <font color = green>feel</font> that we <font color = green>truly</font> <font color = green>know</font> what makes <font color = green>holly</font> and marina <font color = green>tick</font> , and our <font color = green>hearts</font> <font color = green>go</font> out to them as both <font color = green>continue</font> to negotiate their imperfect , love-hate relationship .<br>a <font color = red>journ</font> <font color = red>panning</font> nearly three decades of <font color = red>bitter</font> camaraderie and history , in which we <font color = red>think</font> that we <font color = red>conceivably</font> <font color = red>think</font> what makes <font color = red>jolly</font> and marina <font color = red>pawtucket</font> , and our <font color = red>heartbeat</font> <font color = red>get</font> out to them as both <font color = red>retinue</font> to negotiate their imperfect , love-hate relationship ."
            ],
            "text/plain": [
              "<IPython.core.display.HTML object>"
            ]
          },
          "metadata": {
            "tags": []
          }
        },
        {
          "output_type": "stream",
          "text": [
            "[Succeeded / Failed / Total] 11 / 3 / 17:  68%|██████▊   | 17/25 [00:56<00:26,  3.33s/it]"
          ],
          "name": "stderr"
        },
        {
          "output_type": "display_data",
          "data": {
            "text/html": [
              "<font color = green>Positive (95%)</font> --> <font color = red>Negative (62%)</font><br>the <font color = green>wonderfully</font> <font color = green>lush</font> morvern <font color = green>callar</font> is <font color = green>pure</font> punk existentialism , and ms . ramsay and her co-writer , liana dognini , have dramatized the alan warner novel , which itself felt like an answer to irvine welsh's book trainspotting .<br>the <font color = red>wonderful</font> <font color = red>raincoat</font> morvern <font color = red>callsign</font> is <font color = red>mixture</font> punk existentialism , and ms . ramsay and her co-writer , liana dognini , have dramatized the alan warner novel , which itself felt like an answer to irvine welsh's book trainspotting ."
            ],
            "text/plain": [
              "<IPython.core.display.HTML object>"
            ]
          },
          "metadata": {
            "tags": []
          }
        },
        {
          "output_type": "stream",
          "text": [
            "[Succeeded / Failed / Total] 12 / 3 / 18:  72%|███████▏  | 18/25 [01:02<00:24,  3.46s/it]"
          ],
          "name": "stderr"
        },
        {
          "output_type": "display_data",
          "data": {
            "text/html": [
              "<font color = green>Positive (59%)</font> --> <font color = red>Negative (62%)</font><br>as it <font color = green>turns</font> out , you can go home again .<br>as it <font color = red>urns</font> out , you can go home again ."
            ],
            "text/plain": [
              "<IPython.core.display.HTML object>"
            ]
          },
          "metadata": {
            "tags": []
          }
        },
        {
          "output_type": "stream",
          "text": [
            "[Succeeded / Failed / Total] 13 / 3 / 19:  76%|███████▌  | 19/25 [01:02<00:19,  3.28s/it]"
          ],
          "name": "stderr"
        },
        {
          "output_type": "display_data",
          "data": {
            "text/html": [
              "<font color = green>Positive (92%)</font> --> <font color = red>Negative (80%)</font><br>you've already seen city by the sea under a variety of titles , but it's <font color = green>worth</font> yet another visit .<br>you've already seen city by the sea under a variety of titles , but it's <font color = red>hapworth</font> yet another visit ."
            ],
            "text/plain": [
              "<IPython.core.display.HTML object>"
            ]
          },
          "metadata": {
            "tags": []
          }
        },
        {
          "output_type": "stream",
          "text": [
            "[Succeeded / Failed / Total] 14 / 3 / 20:  80%|████████  | 20/25 [01:02<00:15,  3.14s/it]"
          ],
          "name": "stderr"
        },
        {
          "output_type": "display_data",
          "data": {
            "text/html": [
              "<font color = green>Positive (96%)</font> --> <font color = red>Negative (64%)</font><br>this kind of hands-on storytelling is ultimately what makes <font color = green>shanghai</font> ghetto <font color = green>move</font> beyond a good , dry , reliable <font color = green>textbook</font> and what allows it to rank with its <font color = green>worthy</font> <font color = green>predecessors</font> .<br>this kind of hands-on storytelling is ultimately what makes <font color = red>qinghai</font> ghetto <font color = red>push</font> beyond a good , dry , reliable <font color = red>lexicology</font> and what allows it to rank with its <font color = red>worthless</font> <font color = red>predecessor</font> ."
            ],
            "text/plain": [
              "<IPython.core.display.HTML object>"
            ]
          },
          "metadata": {
            "tags": []
          }
        },
        {
          "output_type": "stream",
          "text": [
            "[Succeeded / Failed / Total] 15 / 3 / 21:  84%|████████▍ | 21/25 [01:10<00:13,  3.34s/it]"
          ],
          "name": "stderr"
        },
        {
          "output_type": "display_data",
          "data": {
            "text/html": [
              "<font color = red>Negative (90%)</font> --> <font color = gray>[SKIPPED]</font><br>making such a tragedy the backdrop to a love story risks trivializing it , though chouraqui no doubt intended the film to affirm love's power to help people endure almost unimaginable horror ."
            ],
            "text/plain": [
              "<IPython.core.display.HTML object>"
            ]
          },
          "metadata": {
            "tags": []
          }
        },
        {
          "output_type": "stream",
          "text": [
            "\r[Succeeded / Failed / Total] 15 / 3 / 22:  88%|████████▊ | 22/25 [01:10<00:09,  3.19s/it]"
          ],
          "name": "stderr"
        },
        {
          "output_type": "display_data",
          "data": {
            "text/html": [
              "<font color = green>Positive (63%)</font> --> <font color = red>Negative (87%)</font><br>grown-up quibbles are beside the point here . the little girls understand , and mccracken knows that's all that <font color = green>matters</font> .<br>grown-up quibbles are beside the point here . the little girls understand , and mccracken knows that's all that <font color = red>tatters</font> ."
            ],
            "text/plain": [
              "<IPython.core.display.HTML object>"
            ]
          },
          "metadata": {
            "tags": []
          }
        },
        {
          "output_type": "stream",
          "text": [
            "[Succeeded / Failed / Total] 16 / 3 / 23:  92%|█████████▏| 23/25 [01:10<00:06,  3.07s/it]"
          ],
          "name": "stderr"
        },
        {
          "output_type": "display_data",
          "data": {
            "text/html": [
              "<font color = green>Positive (99%)</font> --> <font color = red>[FAILED]</font><br>a powerful , chilling , and affecting study of one man's dying fall ."
            ],
            "text/plain": [
              "<IPython.core.display.HTML object>"
            ]
          },
          "metadata": {
            "tags": []
          }
        },
        {
          "output_type": "stream",
          "text": [
            "\r[Succeeded / Failed / Total] 16 / 4 / 24:  96%|█████████▌| 24/25 [01:14<00:03,  3.09s/it]"
          ],
          "name": "stderr"
        },
        {
          "output_type": "display_data",
          "data": {
            "text/html": [
              "<font color = green>Positive (90%)</font> --> <font color = red>Negative (89%)</font><br>this is a <font color = green>fascinating</font> film because there is no clear-cut hero and no all-out villain .<br>this is a <font color = red>fascination</font> film because there is no clear-cut hero and no all-out villain ."
            ],
            "text/plain": [
              "<IPython.core.display.HTML object>"
            ]
          },
          "metadata": {
            "tags": []
          }
        },
        {
          "output_type": "stream",
          "text": [
            "[Succeeded / Failed / Total] 17 / 4 / 25: 100%|██████████| 25/25 [01:14<00:00,  2.97s/it]"
          ],
          "name": "stderr"
        },
        {
          "output_type": "display_data",
          "data": {
            "text/html": [
              "<font color = red>Negative (80%)</font> --> <font color = gray>[SKIPPED]</font><br>a dreadful day in irish history is given passionate , if somewhat flawed , treatment ."
            ],
            "text/plain": [
              "<IPython.core.display.HTML object>"
            ]
          },
          "metadata": {
            "tags": []
          }
        },
        {
          "output_type": "stream",
          "text": [
            "\r[Succeeded / Failed / Total] 17 / 4 / 26: : 26it [01:14,  2.86s/it]                      "
          ],
          "name": "stderr"
        },
        {
          "output_type": "display_data",
          "data": {
            "text/html": [
              "<font color = green>Positive (87%)</font> --> <font color = red>Negative (96%)</font><br>. . . a <font color = green>good</font> film that must have baffled the folks in the marketing department .<br>. . . a <font color = red>bad</font> film that must have baffled the folks in the marketing department ."
            ],
            "text/plain": [
              "<IPython.core.display.HTML object>"
            ]
          },
          "metadata": {
            "tags": []
          }
        },
        {
          "output_type": "stream",
          "text": [
            "[Succeeded / Failed / Total] 18 / 4 / 27: : 27it [01:14,  2.76s/it]"
          ],
          "name": "stderr"
        },
        {
          "output_type": "display_data",
          "data": {
            "text/html": [
              "<font color = green>Positive (98%)</font> --> <font color = red>Negative (81%)</font><br>. . . is <font color = green>funny</font> in the way that makes you ache with <font color = green>sadness</font> ( the way chekhov is funny ) , profound <font color = green>without</font> <font color = green>ever</font> being self-important , warm <font color = green>without</font> ever succumbing to sentimentality .<br>. . . is <font color = red>bunny</font> in the way that makes you ache with <font color = red>baldness</font> ( the way chekhov is funny ) , profound <font color = red>any</font> <font color = red>hardly</font> being self-important , warm <font color = red>any</font> ever succumbing to sentimentality ."
            ],
            "text/plain": [
              "<IPython.core.display.HTML object>"
            ]
          },
          "metadata": {
            "tags": []
          }
        },
        {
          "output_type": "stream",
          "text": [
            "\r[Succeeded / Failed / Total] 19 / 4 / 28: : 28it [01:22,  2.95s/it]"
          ],
          "name": "stderr"
        },
        {
          "output_type": "display_data",
          "data": {
            "text/html": [
              "<font color = red>Negative (96%)</font> --> <font color = gray>[SKIPPED]</font><br>devotees of star trek ii : the wrath of khan will feel a nagging sense of deja vu , and the grandeur of the best next generation episodes is lacking ."
            ],
            "text/plain": [
              "<IPython.core.display.HTML object>"
            ]
          },
          "metadata": {
            "tags": []
          }
        },
        {
          "output_type": "stream",
          "text": [
            "[Succeeded / Failed / Total] 19 / 4 / 29: : 29it [01:22,  2.85s/it]"
          ],
          "name": "stderr"
        },
        {
          "output_type": "display_data",
          "data": {
            "text/html": [
              "<font color = green>Positive (99%)</font> --> <font color = red>Negative (62%)</font><br>a soul-stirring <font color = green>documentary</font> about the israeli/<font color = green>palestinian</font> <font color = green>conflict</font> as revealed through the eyes of some children who <font color = green>remain</font> <font color = green>curious</font> about each other against all <font color = green>odds</font> .<br>a soul-stirring <font color = red>mockumentary</font> about the israeli/<font color = red>palestine</font> <font color = red>hostilities</font> as revealed through the eyes of some children who <font color = red>demain</font> <font color = red>furious</font> about each other against all <font color = red>bets</font> ."
            ],
            "text/plain": [
              "<IPython.core.display.HTML object>"
            ]
          },
          "metadata": {
            "tags": []
          }
        },
        {
          "output_type": "stream",
          "text": [
            "\r[Succeeded / Failed / Total] 20 / 4 / 30: : 30it [01:27,  2.90s/it]"
          ],
          "name": "stderr"
        },
        {
          "output_type": "display_data",
          "data": {
            "text/html": [
              "<font color = green>Positive (89%)</font> --> <font color = red>Negative (59%)</font><br>what's so striking about jolie's <font color = green>performance</font> is that she <font color = green>never</font> lets her <font color = green>character</font> become a <font color = green>caricature</font> -- not even with that radioactive hair .<br>what's so striking about jolie's <font color = red>performace</font> is that she <font color = red>ever</font> lets her <font color = red>storyline</font> become a <font color = red>caricaturist</font> -- not even with that radioactive hair ."
            ],
            "text/plain": [
              "<IPython.core.display.HTML object>"
            ]
          },
          "metadata": {
            "tags": []
          }
        },
        {
          "output_type": "stream",
          "text": [
            "[Succeeded / Failed / Total] 21 / 4 / 31: : 31it [01:30,  2.92s/it]"
          ],
          "name": "stderr"
        },
        {
          "output_type": "stream",
          "text": [
            "+-------------------------------+--------+\n",
            "| Attack Results                |        |\n",
            "+-------------------------------+--------+\n",
            "| Number of successful attacks: | 21     |\n",
            "| Number of failed attacks:     | 4      |\n",
            "| Number of skipped attacks:    | 6      |\n",
            "| Original accuracy:            | 80.65% |\n",
            "| Accuracy under attack:        | 12.9%  |\n",
            "| Attack success rate:          | 84.0%  |\n",
            "| Average perturbed word %:     | 16.1%  |\n",
            "| Average num. words per input: | 18.74  |\n",
            "| Avg num queries:              | 174.08 |\n",
            "+-------------------------------+--------+"
          ],
          "name": "stdout"
        },
        {
          "output_type": "stream",
          "text": [
            "\n",
            "\u001b[34;1mtextattack\u001b[0m: Attack time: 90.66420149803162s\n"
          ],
          "name": "stderr"
        }
      ]
    },
    {
      "cell_type": "markdown",
      "metadata": {
        "id": "uTFqDVMctjIF"
      },
      "source": [
        "### Word2Vec, ParticleSwarmOptimization, RepeatModification, StopwordModification"
      ]
    },
    {
      "cell_type": "code",
      "metadata": {
        "id": "nGlixEC_n5vA",
        "colab": {
          "base_uri": "https://localhost:8080/"
        },
        "outputId": "1a33ae87-0a66-48f0-9e90-32b215e37185"
      },
      "source": [
        "# We're going to use our word swap class as the attack transformation.\n",
        "transformation = Swapper_()\n",
        "\n",
        "constraints = [RepeatModification(),\n",
        "               StopwordModification()]\n",
        "\n",
        "search_method = ParticleSwarmOptimization(pop_size=10,max_iters=5,post_turn_check=True)\n",
        "\n",
        "goal_function = UntargetedClassification(model_wrapper)\n",
        "\n",
        "# Now, let's make the attack from the 4 components:\n",
        "attack = Attack(goal_function, constraints, transformation, search_method)"
      ],
      "execution_count": 36,
      "outputs": [
        {
          "output_type": "stream",
          "text": [
            "\u001b[34;1mtextattack\u001b[0m: Unknown if model of class <class 'transformers.models.albert.modeling_albert.AlbertForSequenceClassification'> compatible with goal function <class 'textattack.goal_functions.classification.untargeted_classification.UntargetedClassification'>.\n"
          ],
          "name": "stderr"
        }
      ]
    },
    {
      "cell_type": "code",
      "metadata": {
        "id": "xnYmPzWPpj7Q",
        "colab": {
          "base_uri": "https://localhost:8080/"
        },
        "outputId": "fee07e6a-74f3-4316-8478-de64708bd806"
      },
      "source": [
        "print(attack)"
      ],
      "execution_count": 37,
      "outputs": [
        {
          "output_type": "stream",
          "text": [
            "Attack(\n",
            "  (search_method): ParticleSwarmOptimization(\n",
            "    (pop_size):  10\n",
            "    (max_iters):  5\n",
            "    (post_turn_check):  True\n",
            "    (max_turn_retries):  20\n",
            "  )\n",
            "  (goal_function):  UntargetedClassification\n",
            "  (transformation):  Swapper_\n",
            "  (constraints): \n",
            "    (0): RepeatModification\n",
            "    (1): StopwordModification\n",
            "  (is_black_box):  True\n",
            ")\n"
          ],
          "name": "stdout"
        }
      ]
    },
    {
      "cell_type": "code",
      "metadata": {
        "id": "UpPST74lpyiu",
        "colab": {
          "base_uri": "https://localhost:8080/",
          "height": 1000
        },
        "outputId": "2b8299a0-7f42-4c0d-ebc9-da1aff4facea"
      },
      "source": [
        "attack_stats(attack, dataset, 25)"
      ],
      "execution_count": 38,
      "outputs": [
        {
          "output_type": "stream",
          "text": [
            "\r  0%|          | 0/25 [00:00<?, ?it/s]"
          ],
          "name": "stderr"
        },
        {
          "output_type": "stream",
          "text": [
            "Attack(\n",
            "  (search_method): ParticleSwarmOptimization(\n",
            "    (pop_size):  10\n",
            "    (max_iters):  5\n",
            "    (post_turn_check):  True\n",
            "    (max_turn_retries):  20\n",
            "  )\n",
            "  (goal_function):  UntargetedClassification\n",
            "  (transformation):  Swapper_\n",
            "  (constraints): \n",
            "    (0): RepeatModification\n",
            "    (1): StopwordModification\n",
            "  (is_black_box):  True\n",
            ")\n"
          ],
          "name": "stdout"
        },
        {
          "output_type": "display_data",
          "data": {
            "text/html": [
              "<font color = green>Positive (93%)</font> --> <font color = red>Negative (68%)</font><br><font color = green>lovingly</font> photographed in the manner of a golden book sprung to life , stuart little 2 manages sweetness largely without stickiness .<br><font color = red>giantesses</font> photographed in the manner of a golden book sprung to life , stuart little 2 manages sweetness largely without stickiness ."
            ],
            "text/plain": [
              "<IPython.core.display.HTML object>"
            ]
          },
          "metadata": {
            "tags": []
          }
        },
        {
          "output_type": "stream",
          "text": [
            "[Succeeded / Failed / Total] 1 / 0 / 1:   4%|▍         | 1/25 [00:00<00:09,  2.45it/s]"
          ],
          "name": "stderr"
        },
        {
          "output_type": "display_data",
          "data": {
            "text/html": [
              "<font color = green>Positive (99%)</font> --> <font color = red>[FAILED]</font><br>consistently clever and suspenseful ."
            ],
            "text/plain": [
              "<IPython.core.display.HTML object>"
            ]
          },
          "metadata": {
            "tags": []
          }
        },
        {
          "output_type": "stream",
          "text": [
            "[Succeeded / Failed / Total] 1 / 1 / 2:   8%|▊         | 2/25 [00:00<00:08,  2.71it/s]"
          ],
          "name": "stderr"
        },
        {
          "output_type": "display_data",
          "data": {
            "text/html": [
              "<font color = red>Negative (92%)</font> --> <font color = gray>[SKIPPED]</font><br>it's like a \" big chill \" reunion of the baader-meinhof gang , only these guys are more harmless pranksters than political activists ."
            ],
            "text/plain": [
              "<IPython.core.display.HTML object>"
            ]
          },
          "metadata": {
            "tags": []
          }
        },
        {
          "output_type": "stream",
          "text": [
            "\r[Succeeded / Failed / Total] 1 / 1 / 3:  12%|█▏        | 3/25 [00:00<00:05,  3.95it/s]"
          ],
          "name": "stderr"
        },
        {
          "output_type": "display_data",
          "data": {
            "text/html": [
              "<font color = green>Positive (99%)</font> --> <font color = red>Negative (78%)</font><br>the <font color = green>story</font> gives <font color = green>ample</font> <font color = green>opportunity</font> for large-scale action and suspense , which director shekhar kapur supplies with tremendous skill .<br>the <font color = red>novel</font> gives <font color = red>insufficient</font> <font color = red>incentive</font> for large-scale action and suspense , which director shekhar kapur supplies with tremendous skill ."
            ],
            "text/plain": [
              "<IPython.core.display.HTML object>"
            ]
          },
          "metadata": {
            "tags": []
          }
        },
        {
          "output_type": "stream",
          "text": [
            "[Succeeded / Failed / Total] 2 / 1 / 4:  16%|█▌        | 4/25 [00:01<00:09,  2.26it/s]"
          ],
          "name": "stderr"
        },
        {
          "output_type": "display_data",
          "data": {
            "text/html": [
              "<font color = green>Positive (80%)</font> --> <font color = red>Negative (95%)</font><br>red dragon \" <font color = green>never</font> cuts corners .<br>red dragon \" <font color = red>already</font> cuts corners ."
            ],
            "text/plain": [
              "<IPython.core.display.HTML object>"
            ]
          },
          "metadata": {
            "tags": []
          }
        },
        {
          "output_type": "stream",
          "text": [
            "\r[Succeeded / Failed / Total] 3 / 1 / 5:  20%|██        | 5/25 [00:01<00:07,  2.58it/s]"
          ],
          "name": "stderr"
        },
        {
          "output_type": "display_data",
          "data": {
            "text/html": [
              "<font color = green>Positive (94%)</font> --> <font color = red>Negative (94%)</font><br>fresnadillo has <font color = green>something</font> serious to say about the ways in which extravagant chance can distort our perspective and throw us off the path of good sense .<br>fresnadillo has <font color = red>anything</font> serious to say about the ways in which extravagant chance can distort our perspective and throw us off the path of good sense ."
            ],
            "text/plain": [
              "<IPython.core.display.HTML object>"
            ]
          },
          "metadata": {
            "tags": []
          }
        },
        {
          "output_type": "stream",
          "text": [
            "[Succeeded / Failed / Total] 4 / 1 / 6:  24%|██▍       | 6/25 [00:02<00:07,  2.59it/s]"
          ],
          "name": "stderr"
        },
        {
          "output_type": "display_data",
          "data": {
            "text/html": [
              "<font color = green>Positive (97%)</font> --> <font color = red>Negative (96%)</font><br>throws in <font color = green>enough</font> clever and unexpected twists to make the formula feel fresh .<br>throws in <font color = red>too</font> clever and unexpected twists to make the formula feel fresh ."
            ],
            "text/plain": [
              "<IPython.core.display.HTML object>"
            ]
          },
          "metadata": {
            "tags": []
          }
        },
        {
          "output_type": "stream",
          "text": [
            "\r[Succeeded / Failed / Total] 5 / 1 / 7:  28%|██▊       | 7/25 [00:02<00:06,  2.71it/s]"
          ],
          "name": "stderr"
        },
        {
          "output_type": "display_data",
          "data": {
            "text/html": [
              "<font color = green>Positive (74%)</font> --> <font color = red>Negative (60%)</font><br>weighty and ponderous but every bit as <font color = green>filling</font> as the treat of the title .<br>weighty and ponderous but every bit as <font color = red>knitted</font> as the treat of the title ."
            ],
            "text/plain": [
              "<IPython.core.display.HTML object>"
            ]
          },
          "metadata": {
            "tags": []
          }
        },
        {
          "output_type": "stream",
          "text": [
            "[Succeeded / Failed / Total] 6 / 1 / 8:  32%|███▏      | 8/25 [00:02<00:05,  2.88it/s]"
          ],
          "name": "stderr"
        },
        {
          "output_type": "display_data",
          "data": {
            "text/html": [
              "<font color = green>Positive (98%)</font> --> <font color = red>Negative (89%)</font><br>a <font color = green>real</font> audience-pleaser that will <font color = green>strike</font> a <font color = green>chord</font> with anyone who's <font color = green>ever</font> waited in a doctor's office , emergency room , hospital bed or <font color = green>insurance</font> company office .<br>a <font color = red>nonnegative</font> audience-pleaser that will <font color = red>downed</font> a <font color = red>subdominant</font> with anyone who's <font color = red>hardly</font> waited in a doctor's office , emergency room , hospital bed or <font color = red>liability</font> company office ."
            ],
            "text/plain": [
              "<IPython.core.display.HTML object>"
            ]
          },
          "metadata": {
            "tags": []
          }
        },
        {
          "output_type": "stream",
          "text": [
            "\r[Succeeded / Failed / Total] 7 / 1 / 9:  36%|███▌      | 9/25 [00:05<00:09,  1.76it/s]"
          ],
          "name": "stderr"
        },
        {
          "output_type": "display_data",
          "data": {
            "text/html": [
              "<font color = green>Positive (99%)</font> --> <font color = red>[FAILED]</font><br>generates an enormous feeling of empathy for its characters ."
            ],
            "text/plain": [
              "<IPython.core.display.HTML object>"
            ]
          },
          "metadata": {
            "tags": []
          }
        },
        {
          "output_type": "stream",
          "text": [
            "[Succeeded / Failed / Total] 7 / 2 / 10:  40%|████      | 10/25 [00:06<00:09,  1.62it/s]"
          ],
          "name": "stderr"
        },
        {
          "output_type": "display_data",
          "data": {
            "text/html": [
              "<font color = green>Positive (97%)</font> --> <font color = red>Negative (61%)</font><br>exposing the <font color = green>ways</font> we fool ourselves is <font color = green>one</font> hour photo's <font color = green>real</font> <font color = green>strength</font> .<br>exposing the <font color = red>way</font> we fool ourselves is <font color = red>six</font> hour photo's <font color = red>nonnegative</font> <font color = red>agility</font> ."
            ],
            "text/plain": [
              "<IPython.core.display.HTML object>"
            ]
          },
          "metadata": {
            "tags": []
          }
        },
        {
          "output_type": "stream",
          "text": [
            "\r[Succeeded / Failed / Total] 8 / 2 / 11:  44%|████▍     | 11/25 [00:06<00:08,  1.59it/s]"
          ],
          "name": "stderr"
        },
        {
          "output_type": "display_data",
          "data": {
            "text/html": [
              "<font color = red>Negative (57%)</font> --> <font color = gray>[SKIPPED]</font><br>it's up to you to decide whether to admire these people's dedication to their cause or be repelled by their dogmatism , manipulativeness and narrow , fearful view of american life ."
            ],
            "text/plain": [
              "<IPython.core.display.HTML object>"
            ]
          },
          "metadata": {
            "tags": []
          }
        },
        {
          "output_type": "stream",
          "text": [
            "[Succeeded / Failed / Total] 8 / 2 / 12:  48%|████▊     | 12/25 [00:06<00:07,  1.72it/s]"
          ],
          "name": "stderr"
        },
        {
          "output_type": "display_data",
          "data": {
            "text/html": [
              "<font color = green>Positive (67%)</font> --> <font color = red>Negative (82%)</font><br>mostly , [goldbacher] just lets her complicated characters be unruly , confusing and , through it all , <font color = green>human</font> .<br>mostly , [goldbacher] just lets her complicated characters be unruly , confusing and , through it all , <font color = red>animal</font> ."
            ],
            "text/plain": [
              "<IPython.core.display.HTML object>"
            ]
          },
          "metadata": {
            "tags": []
          }
        },
        {
          "output_type": "stream",
          "text": [
            "\r[Succeeded / Failed / Total] 9 / 2 / 13:  52%|█████▏    | 13/25 [00:07<00:06,  1.81it/s]"
          ],
          "name": "stderr"
        },
        {
          "output_type": "display_data",
          "data": {
            "text/html": [
              "<font color = green>Positive (98%)</font> --> <font color = red>Negative (96%)</font><br>. . . quite <font color = green>good</font> at providing some good old fashioned spooks .<br>. . . quite <font color = red>bad</font> at providing some good old fashioned spooks ."
            ],
            "text/plain": [
              "<IPython.core.display.HTML object>"
            ]
          },
          "metadata": {
            "tags": []
          }
        },
        {
          "output_type": "stream",
          "text": [
            "[Succeeded / Failed / Total] 10 / 2 / 14:  56%|█████▌    | 14/25 [00:07<00:05,  1.90it/s]"
          ],
          "name": "stderr"
        },
        {
          "output_type": "display_data",
          "data": {
            "text/html": [
              "<font color = red>Negative (92%)</font> --> <font color = gray>[SKIPPED]</font><br>at its worst , the movie is pretty diverting ; the pity is that it rarely achieves its best ."
            ],
            "text/plain": [
              "<IPython.core.display.HTML object>"
            ]
          },
          "metadata": {
            "tags": []
          }
        },
        {
          "output_type": "stream",
          "text": [
            "\r[Succeeded / Failed / Total] 10 / 2 / 15:  60%|██████    | 15/25 [00:07<00:04,  2.02it/s]"
          ],
          "name": "stderr"
        },
        {
          "output_type": "display_data",
          "data": {
            "text/html": [
              "<font color = green>Positive (99%)</font> --> <font color = red>[FAILED]</font><br>scherfig's light-hearted profile of emotional desperation is achingly honest and delightfully cheeky ."
            ],
            "text/plain": [
              "<IPython.core.display.HTML object>"
            ]
          },
          "metadata": {
            "tags": []
          }
        },
        {
          "output_type": "stream",
          "text": [
            "[Succeeded / Failed / Total] 10 / 3 / 16:  64%|██████▍   | 16/25 [00:20<00:11,  1.25s/it]"
          ],
          "name": "stderr"
        },
        {
          "output_type": "display_data",
          "data": {
            "text/html": [
              "<font color = green>Positive (99%)</font> --> <font color = red>[FAILED]</font><br>a journey spanning nearly three decades of bittersweet camaraderie and history , in which we feel that we truly know what makes holly and marina tick , and our hearts go out to them as both continue to negotiate their imperfect , love-hate relationship ."
            ],
            "text/plain": [
              "<IPython.core.display.HTML object>"
            ]
          },
          "metadata": {
            "tags": []
          }
        },
        {
          "output_type": "stream",
          "text": [
            "[Succeeded / Failed / Total] 10 / 4 / 17:  68%|██████▊   | 17/25 [00:24<00:11,  1.45s/it]"
          ],
          "name": "stderr"
        },
        {
          "output_type": "display_data",
          "data": {
            "text/html": [
              "<font color = green>Positive (95%)</font> --> <font color = red>Negative (94%)</font><br>the <font color = green>wonderfully</font> lush morvern callar is pure punk existentialism , and ms . ramsay and her co-writer , liana dognini , have dramatized the alan warner novel , which itself felt like an answer to irvine welsh's book trainspotting .<br>the <font color = red>ribald</font> lush morvern callar is pure punk existentialism , and ms . ramsay and her co-writer , liana dognini , have dramatized the alan warner novel , which itself felt like an answer to irvine welsh's book trainspotting ."
            ],
            "text/plain": [
              "<IPython.core.display.HTML object>"
            ]
          },
          "metadata": {
            "tags": []
          }
        },
        {
          "output_type": "stream",
          "text": [
            "[Succeeded / Failed / Total] 11 / 4 / 18:  72%|███████▏  | 18/25 [00:25<00:09,  1.40s/it]"
          ],
          "name": "stderr"
        },
        {
          "output_type": "display_data",
          "data": {
            "text/html": [
              "<font color = green>Positive (59%)</font> --> <font color = red>Negative (58%)</font><br>as it turns out , you can go <font color = green>home</font> again .<br>as it turns out , you can go <font color = red>riverfront</font> again ."
            ],
            "text/plain": [
              "<IPython.core.display.HTML object>"
            ]
          },
          "metadata": {
            "tags": []
          }
        },
        {
          "output_type": "stream",
          "text": [
            "[Succeeded / Failed / Total] 12 / 4 / 19:  76%|███████▌  | 19/25 [00:25<00:08,  1.33s/it]"
          ],
          "name": "stderr"
        },
        {
          "output_type": "display_data",
          "data": {
            "text/html": [
              "<font color = green>Positive (92%)</font> --> <font color = red>Negative (82%)</font><br>you've already seen city by the sea under a variety of titles , but it's <font color = green>worth</font> yet another visit .<br>you've already seen city by the sea under a variety of titles , but it's <font color = red>noting</font> yet another visit ."
            ],
            "text/plain": [
              "<IPython.core.display.HTML object>"
            ]
          },
          "metadata": {
            "tags": []
          }
        },
        {
          "output_type": "stream",
          "text": [
            "[Succeeded / Failed / Total] 13 / 4 / 20:  80%|████████  | 20/25 [00:25<00:06,  1.28s/it]"
          ],
          "name": "stderr"
        },
        {
          "output_type": "display_data",
          "data": {
            "text/html": [
              "<font color = green>Positive (96%)</font> --> <font color = red>[FAILED]</font><br>this kind of hands-on storytelling is ultimately what makes shanghai ghetto move beyond a good , dry , reliable textbook and what allows it to rank with its worthy predecessors ."
            ],
            "text/plain": [
              "<IPython.core.display.HTML object>"
            ]
          },
          "metadata": {
            "tags": []
          }
        },
        {
          "output_type": "stream",
          "text": [
            "[Succeeded / Failed / Total] 13 / 5 / 21:  84%|████████▍ | 21/25 [00:39<00:07,  1.90s/it]"
          ],
          "name": "stderr"
        },
        {
          "output_type": "display_data",
          "data": {
            "text/html": [
              "<font color = red>Negative (90%)</font> --> <font color = gray>[SKIPPED]</font><br>making such a tragedy the backdrop to a love story risks trivializing it , though chouraqui no doubt intended the film to affirm love's power to help people endure almost unimaginable horror ."
            ],
            "text/plain": [
              "<IPython.core.display.HTML object>"
            ]
          },
          "metadata": {
            "tags": []
          }
        },
        {
          "output_type": "stream",
          "text": [
            "\r[Succeeded / Failed / Total] 13 / 5 / 22:  88%|████████▊ | 22/25 [00:39<00:05,  1.81s/it]"
          ],
          "name": "stderr"
        },
        {
          "output_type": "display_data",
          "data": {
            "text/html": [
              "<font color = green>Positive (63%)</font> --> <font color = red>Negative (91%)</font><br>grown-up quibbles are beside the point here . the little girls understand , and mccracken <font color = green>knows</font> that's all that matters .<br>grown-up quibbles are beside the point here . the little girls understand , and mccracken <font color = red>thinks</font> that's all that matters ."
            ],
            "text/plain": [
              "<IPython.core.display.HTML object>"
            ]
          },
          "metadata": {
            "tags": []
          }
        },
        {
          "output_type": "stream",
          "text": [
            "[Succeeded / Failed / Total] 14 / 5 / 23:  92%|█████████▏| 23/25 [00:40<00:03,  1.74s/it]"
          ],
          "name": "stderr"
        },
        {
          "output_type": "display_data",
          "data": {
            "text/html": [
              "<font color = green>Positive (99%)</font> --> <font color = red>Negative (51%)</font><br>a <font color = green>powerful</font> , <font color = green>chilling</font> , and <font color = green>affecting</font> <font color = green>study</font> of <font color = green>one</font> man's <font color = green>dying</font> <font color = green>fall</font> .<br>a <font color = red>sophisticated</font> , <font color = red>hallucinatory</font> , and <font color = red>wasting</font> <font color = red>neurobiology</font> of <font color = red>six</font> man's <font color = red>menopause</font> <font color = red>collapse</font> ."
            ],
            "text/plain": [
              "<IPython.core.display.HTML object>"
            ]
          },
          "metadata": {
            "tags": []
          }
        },
        {
          "output_type": "stream",
          "text": [
            "\r[Succeeded / Failed / Total] 15 / 5 / 24:  96%|█████████▌| 24/25 [00:42<00:01,  1.77s/it]"
          ],
          "name": "stderr"
        },
        {
          "output_type": "display_data",
          "data": {
            "text/html": [
              "<font color = green>Positive (90%)</font> --> <font color = red>[FAILED]</font><br>this is a fascinating film because there is no clear-cut hero and no all-out villain ."
            ],
            "text/plain": [
              "<IPython.core.display.HTML object>"
            ]
          },
          "metadata": {
            "tags": []
          }
        },
        {
          "output_type": "stream",
          "text": [
            "[Succeeded / Failed / Total] 15 / 6 / 25: 100%|██████████| 25/25 [00:43<00:00,  1.73s/it]"
          ],
          "name": "stderr"
        },
        {
          "output_type": "display_data",
          "data": {
            "text/html": [
              "<font color = red>Negative (80%)</font> --> <font color = gray>[SKIPPED]</font><br>a dreadful day in irish history is given passionate , if somewhat flawed , treatment ."
            ],
            "text/plain": [
              "<IPython.core.display.HTML object>"
            ]
          },
          "metadata": {
            "tags": []
          }
        },
        {
          "output_type": "stream",
          "text": [
            "\r[Succeeded / Failed / Total] 15 / 6 / 26: : 26it [00:43,  1.66s/it]                      "
          ],
          "name": "stderr"
        },
        {
          "output_type": "display_data",
          "data": {
            "text/html": [
              "<font color = green>Positive (87%)</font> --> <font color = red>Negative (96%)</font><br>. . . a <font color = green>good</font> film that must have baffled the folks in the marketing department .<br>. . . a <font color = red>bad</font> film that must have baffled the folks in the marketing department ."
            ],
            "text/plain": [
              "<IPython.core.display.HTML object>"
            ]
          },
          "metadata": {
            "tags": []
          }
        },
        {
          "output_type": "stream",
          "text": [
            "[Succeeded / Failed / Total] 16 / 6 / 27: : 27it [00:43,  1.61s/it]"
          ],
          "name": "stderr"
        },
        {
          "output_type": "display_data",
          "data": {
            "text/html": [
              "<font color = green>Positive (98%)</font> --> <font color = red>Negative (85%)</font><br>. . . is <font color = green>funny</font> in the way that makes you ache with sadness ( the way chekhov is funny ) , profound <font color = green>without</font> ever being self-important , warm <font color = green>without</font> ever succumbing to sentimentality .<br>. . . is <font color = red>pretty</font> in the way that makes you ache with sadness ( the way chekhov is funny ) , profound <font color = red>whatsoever</font> ever being self-important , warm <font color = red>whatsoever</font> ever succumbing to sentimentality ."
            ],
            "text/plain": [
              "<IPython.core.display.HTML object>"
            ]
          },
          "metadata": {
            "tags": []
          }
        },
        {
          "output_type": "stream",
          "text": [
            "\r[Succeeded / Failed / Total] 17 / 6 / 28: : 28it [00:45,  1.63s/it]"
          ],
          "name": "stderr"
        },
        {
          "output_type": "display_data",
          "data": {
            "text/html": [
              "<font color = red>Negative (96%)</font> --> <font color = gray>[SKIPPED]</font><br>devotees of star trek ii : the wrath of khan will feel a nagging sense of deja vu , and the grandeur of the best next generation episodes is lacking ."
            ],
            "text/plain": [
              "<IPython.core.display.HTML object>"
            ]
          },
          "metadata": {
            "tags": []
          }
        },
        {
          "output_type": "stream",
          "text": [
            "[Succeeded / Failed / Total] 17 / 6 / 29: : 29it [00:45,  1.58s/it]"
          ],
          "name": "stderr"
        },
        {
          "output_type": "display_data",
          "data": {
            "text/html": [
              "<font color = green>Positive (99%)</font> --> <font color = red>[FAILED]</font><br>a soul-stirring documentary about the israeli/palestinian conflict as revealed through the eyes of some children who remain curious about each other against all odds ."
            ],
            "text/plain": [
              "<IPython.core.display.HTML object>"
            ]
          },
          "metadata": {
            "tags": []
          }
        },
        {
          "output_type": "stream",
          "text": [
            "\r[Succeeded / Failed / Total] 17 / 7 / 30: : 30it [00:51,  1.72s/it]"
          ],
          "name": "stderr"
        },
        {
          "output_type": "display_data",
          "data": {
            "text/html": [
              "<font color = green>Positive (89%)</font> --> <font color = red>Negative (53%)</font><br>what's so striking about jolie's performance is that she <font color = green>never</font> lets her character become a caricature -- not even with that radioactive hair .<br>what's so striking about jolie's performance is that she <font color = red>already</font> lets her character become a caricature -- not even with that radioactive hair ."
            ],
            "text/plain": [
              "<IPython.core.display.HTML object>"
            ]
          },
          "metadata": {
            "tags": []
          }
        },
        {
          "output_type": "stream",
          "text": [
            "[Succeeded / Failed / Total] 18 / 7 / 31: : 31it [00:51,  1.67s/it]"
          ],
          "name": "stderr"
        },
        {
          "output_type": "stream",
          "text": [
            "+-------------------------------+--------+\n",
            "| Attack Results                |        |\n",
            "+-------------------------------+--------+\n",
            "| Number of successful attacks: | 18     |\n",
            "| Number of failed attacks:     | 7      |\n",
            "| Number of skipped attacks:    | 6      |\n",
            "| Original accuracy:            | 80.65% |\n",
            "| Accuracy under attack:        | 22.58% |\n",
            "| Attack success rate:          | 72.0%  |\n",
            "| Average perturbed word %:     | 13.53% |\n",
            "| Average num. words per input: | 18.74  |\n",
            "| Avg num queries:              | 119.8  |\n",
            "+-------------------------------+--------+"
          ],
          "name": "stdout"
        },
        {
          "output_type": "stream",
          "text": [
            "\n",
            "\u001b[34;1mtextattack\u001b[0m: Attack time: 51.76456570625305s\n"
          ],
          "name": "stderr"
        }
      ]
    },
    {
      "cell_type": "markdown",
      "metadata": {
        "id": "lcHSAh5htm4o"
      },
      "source": [
        "### Glove, ParticleSwarmOptimization, RepeatModification, StopwordModification"
      ]
    },
    {
      "cell_type": "code",
      "metadata": {
        "id": "F-sjXP8rPBE9",
        "colab": {
          "base_uri": "https://localhost:8080/"
        },
        "outputId": "c296572f-d7c1-4bef-b7d1-325ce8fd9104"
      },
      "source": [
        "# We're going to use our word swap class as the attack transformation.\n",
        "transformation = Swapper__()\n",
        "\n",
        "constraints = [RepeatModification(),\n",
        "               StopwordModification()]\n",
        "\n",
        "search_method = ParticleSwarmOptimization(pop_size=10,max_iters=5,post_turn_check=True)\n",
        "\n",
        "goal_function = UntargetedClassification(model_wrapper)\n",
        "\n",
        "# Now, let's make the attack from the 4 components:\n",
        "attack = Attack(goal_function, constraints, transformation, search_method)"
      ],
      "execution_count": 39,
      "outputs": [
        {
          "output_type": "stream",
          "text": [
            "\u001b[34;1mtextattack\u001b[0m: Unknown if model of class <class 'transformers.models.albert.modeling_albert.AlbertForSequenceClassification'> compatible with goal function <class 'textattack.goal_functions.classification.untargeted_classification.UntargetedClassification'>.\n"
          ],
          "name": "stderr"
        }
      ]
    },
    {
      "cell_type": "code",
      "metadata": {
        "id": "8201a0SkPEc4",
        "colab": {
          "base_uri": "https://localhost:8080/"
        },
        "outputId": "705b05c8-d728-44a4-be75-f748f656666b"
      },
      "source": [
        "print(attack)"
      ],
      "execution_count": 40,
      "outputs": [
        {
          "output_type": "stream",
          "text": [
            "Attack(\n",
            "  (search_method): ParticleSwarmOptimization(\n",
            "    (pop_size):  10\n",
            "    (max_iters):  5\n",
            "    (post_turn_check):  True\n",
            "    (max_turn_retries):  20\n",
            "  )\n",
            "  (goal_function):  UntargetedClassification\n",
            "  (transformation):  Swapper__\n",
            "  (constraints): \n",
            "    (0): RepeatModification\n",
            "    (1): StopwordModification\n",
            "  (is_black_box):  True\n",
            ")\n"
          ],
          "name": "stdout"
        }
      ]
    },
    {
      "cell_type": "code",
      "metadata": {
        "id": "EVzPBCjRPGR9",
        "colab": {
          "base_uri": "https://localhost:8080/",
          "height": 1000
        },
        "outputId": "b8bc87e0-e920-487f-a5e0-a2392a844659"
      },
      "source": [
        "attack_stats(attack, dataset, 25)"
      ],
      "execution_count": 41,
      "outputs": [
        {
          "output_type": "stream",
          "text": [
            "\r  0%|          | 0/25 [00:00<?, ?it/s]"
          ],
          "name": "stderr"
        },
        {
          "output_type": "stream",
          "text": [
            "Attack(\n",
            "  (search_method): ParticleSwarmOptimization(\n",
            "    (pop_size):  10\n",
            "    (max_iters):  5\n",
            "    (post_turn_check):  True\n",
            "    (max_turn_retries):  20\n",
            "  )\n",
            "  (goal_function):  UntargetedClassification\n",
            "  (transformation):  Swapper__\n",
            "  (constraints): \n",
            "    (0): RepeatModification\n",
            "    (1): StopwordModification\n",
            "  (is_black_box):  True\n",
            ")\n"
          ],
          "name": "stdout"
        },
        {
          "output_type": "display_data",
          "data": {
            "text/html": [
              "<font color = green>Positive (93%)</font> --> <font color = red>Negative (72%)</font><br><font color = green>lovingly</font> photographed in the manner of a golden book sprung to life , stuart little 2 manages sweetness largely without stickiness .<br><font color = red>retroactively</font> photographed in the manner of a golden book sprung to life , stuart little 2 manages sweetness largely without stickiness ."
            ],
            "text/plain": [
              "<IPython.core.display.HTML object>"
            ]
          },
          "metadata": {
            "tags": []
          }
        },
        {
          "output_type": "stream",
          "text": [
            "[Succeeded / Failed / Total] 1 / 0 / 1:   4%|▍         | 1/25 [00:00<00:15,  1.59it/s]"
          ],
          "name": "stderr"
        },
        {
          "output_type": "display_data",
          "data": {
            "text/html": [
              "<font color = green>Positive (99%)</font> --> <font color = red>Negative (91%)</font><br><font color = green>consistently</font> <font color = green>clever</font> and <font color = green>suspenseful</font> .<br><font color = red>continually</font> <font color = red>comical</font> and <font color = red>mannitol</font> ."
            ],
            "text/plain": [
              "<IPython.core.display.HTML object>"
            ]
          },
          "metadata": {
            "tags": []
          }
        },
        {
          "output_type": "stream",
          "text": [
            "[Succeeded / Failed / Total] 2 / 0 / 2:   8%|▊         | 2/25 [00:00<00:11,  2.00it/s]"
          ],
          "name": "stderr"
        },
        {
          "output_type": "display_data",
          "data": {
            "text/html": [
              "<font color = red>Negative (92%)</font> --> <font color = gray>[SKIPPED]</font><br>it's like a \" big chill \" reunion of the baader-meinhof gang , only these guys are more harmless pranksters than political activists ."
            ],
            "text/plain": [
              "<IPython.core.display.HTML object>"
            ]
          },
          "metadata": {
            "tags": []
          }
        },
        {
          "output_type": "stream",
          "text": [
            "\r[Succeeded / Failed / Total] 2 / 0 / 3:  12%|█▏        | 3/25 [00:01<00:07,  2.94it/s]"
          ],
          "name": "stderr"
        },
        {
          "output_type": "display_data",
          "data": {
            "text/html": [
              "<font color = green>Positive (99%)</font> --> <font color = red>[FAILED]</font><br>the story gives ample opportunity for large-scale action and suspense , which director shekhar kapur supplies with tremendous skill ."
            ],
            "text/plain": [
              "<IPython.core.display.HTML object>"
            ]
          },
          "metadata": {
            "tags": []
          }
        },
        {
          "output_type": "stream",
          "text": [
            "[Succeeded / Failed / Total] 2 / 1 / 4:  16%|█▌        | 4/25 [00:08<00:43,  2.05s/it]"
          ],
          "name": "stderr"
        },
        {
          "output_type": "display_data",
          "data": {
            "text/html": [
              "<font color = green>Positive (80%)</font> --> <font color = red>Negative (94%)</font><br>red dragon \" <font color = green>never</font> cuts corners .<br>red dragon \" <font color = red>actually</font> cuts corners ."
            ],
            "text/plain": [
              "<IPython.core.display.HTML object>"
            ]
          },
          "metadata": {
            "tags": []
          }
        },
        {
          "output_type": "stream",
          "text": [
            "\r[Succeeded / Failed / Total] 3 / 1 / 5:  20%|██        | 5/25 [00:08<00:33,  1.69s/it]"
          ],
          "name": "stderr"
        },
        {
          "output_type": "display_data",
          "data": {
            "text/html": [
              "<font color = green>Positive (94%)</font> --> <font color = red>Negative (94%)</font><br>fresnadillo has <font color = green>something</font> serious to say about the ways in which extravagant chance can distort our perspective and throw us off the path of good sense .<br>fresnadillo has <font color = red>anything</font> serious to say about the ways in which extravagant chance can distort our perspective and throw us off the path of good sense ."
            ],
            "text/plain": [
              "<IPython.core.display.HTML object>"
            ]
          },
          "metadata": {
            "tags": []
          }
        },
        {
          "output_type": "stream",
          "text": [
            "[Succeeded / Failed / Total] 4 / 1 / 6:  24%|██▍       | 6/25 [00:09<00:28,  1.50s/it]"
          ],
          "name": "stderr"
        },
        {
          "output_type": "display_data",
          "data": {
            "text/html": [
              "<font color = green>Positive (97%)</font> --> <font color = red>Negative (94%)</font><br>throws in enough clever and <font color = green>unexpected</font> <font color = green>twists</font> to make the formula feel <font color = green>fresh</font> .<br>throws in enough clever and <font color = red>repeated</font> <font color = red>dumfries</font> to make the formula feel <font color = red>supplies</font> ."
            ],
            "text/plain": [
              "<IPython.core.display.HTML object>"
            ]
          },
          "metadata": {
            "tags": []
          }
        },
        {
          "output_type": "stream",
          "text": [
            "\r[Succeeded / Failed / Total] 5 / 1 / 7:  28%|██▊       | 7/25 [00:10<00:27,  1.53s/it]"
          ],
          "name": "stderr"
        },
        {
          "output_type": "display_data",
          "data": {
            "text/html": [
              "<font color = green>Positive (74%)</font> --> <font color = red>Negative (54%)</font><br>weighty and ponderous but <font color = green>every</font> bit as <font color = green>filling</font> as the treat of the title .<br>weighty and ponderous but <font color = red>jaialdi</font> bit as <font color = red>communicating</font> as the treat of the title ."
            ],
            "text/plain": [
              "<IPython.core.display.HTML object>"
            ]
          },
          "metadata": {
            "tags": []
          }
        },
        {
          "output_type": "stream",
          "text": [
            "[Succeeded / Failed / Total] 6 / 1 / 8:  32%|███▏      | 8/25 [00:11<00:23,  1.39s/it]"
          ],
          "name": "stderr"
        },
        {
          "output_type": "display_data",
          "data": {
            "text/html": [
              "<font color = green>Positive (98%)</font> --> <font color = red>Negative (64%)</font><br>a <font color = green>real</font> audience-pleaser that will strike a <font color = green>chord</font> with anyone who's <font color = green>ever</font> waited in a doctor's office , emergency room , hospital bed or insurance company <font color = green>office</font> .<br>a <font color = red>numbers</font> audience-pleaser that will strike a <font color = red>stool</font> with anyone who's <font color = red>once</font> waited in a doctor's office , emergency room , hospital bed or insurance company <font color = red>nemzetbiztons</font> ."
            ],
            "text/plain": [
              "<IPython.core.display.HTML object>"
            ]
          },
          "metadata": {
            "tags": []
          }
        },
        {
          "output_type": "stream",
          "text": [
            "\r[Succeeded / Failed / Total] 7 / 1 / 9:  36%|███▌      | 9/25 [00:20<00:35,  2.23s/it]"
          ],
          "name": "stderr"
        },
        {
          "output_type": "display_data",
          "data": {
            "text/html": [
              "<font color = green>Positive (99%)</font> --> <font color = red>Negative (63%)</font><br>generates an enormous <font color = green>feeling</font> of <font color = green>empathy</font> for its characters .<br>generates an enormous <font color = red>fear</font> of <font color = red>decompression</font> for its characters ."
            ],
            "text/plain": [
              "<IPython.core.display.HTML object>"
            ]
          },
          "metadata": {
            "tags": []
          }
        },
        {
          "output_type": "stream",
          "text": [
            "[Succeeded / Failed / Total] 8 / 1 / 10:  40%|████      | 10/25 [00:20<00:31,  2.07s/it]"
          ],
          "name": "stderr"
        },
        {
          "output_type": "display_data",
          "data": {
            "text/html": [
              "<font color = green>Positive (97%)</font> --> <font color = red>Negative (91%)</font><br><font color = green>exposing</font> the ways we fool ourselves is one hour photo's <font color = green>real</font> <font color = green>strength</font> .<br><font color = red>issuing</font> the ways we fool ourselves is one hour photo's <font color = red>numbers</font> <font color = red>tensile</font> ."
            ],
            "text/plain": [
              "<IPython.core.display.HTML object>"
            ]
          },
          "metadata": {
            "tags": []
          }
        },
        {
          "output_type": "stream",
          "text": [
            "\r[Succeeded / Failed / Total] 9 / 1 / 11:  44%|████▍     | 11/25 [00:21<00:27,  1.98s/it]"
          ],
          "name": "stderr"
        },
        {
          "output_type": "display_data",
          "data": {
            "text/html": [
              "<font color = red>Negative (57%)</font> --> <font color = gray>[SKIPPED]</font><br>it's up to you to decide whether to admire these people's dedication to their cause or be repelled by their dogmatism , manipulativeness and narrow , fearful view of american life ."
            ],
            "text/plain": [
              "<IPython.core.display.HTML object>"
            ]
          },
          "metadata": {
            "tags": []
          }
        },
        {
          "output_type": "stream",
          "text": [
            "[Succeeded / Failed / Total] 9 / 1 / 12:  48%|████▊     | 12/25 [00:21<00:23,  1.82s/it]"
          ],
          "name": "stderr"
        },
        {
          "output_type": "display_data",
          "data": {
            "text/html": [
              "<font color = green>Positive (67%)</font> --> <font color = red>Negative (92%)</font><br>mostly , [goldbacher] just lets her complicated characters be unruly , confusing and , through it all , <font color = green>human</font> .<br>mostly , [goldbacher] just lets her complicated characters be unruly , confusing and , through it all , <font color = red>criterionexampletranslation</font> ."
            ],
            "text/plain": [
              "<IPython.core.display.HTML object>"
            ]
          },
          "metadata": {
            "tags": []
          }
        },
        {
          "output_type": "stream",
          "text": [
            "\r[Succeeded / Failed / Total] 10 / 1 / 13:  52%|█████▏    | 13/25 [00:22<00:20,  1.70s/it]"
          ],
          "name": "stderr"
        },
        {
          "output_type": "display_data",
          "data": {
            "text/html": [
              "<font color = green>Positive (98%)</font> --> <font color = red>[FAILED]</font><br>. . . quite good at providing some good old fashioned spooks ."
            ],
            "text/plain": [
              "<IPython.core.display.HTML object>"
            ]
          },
          "metadata": {
            "tags": []
          }
        },
        {
          "output_type": "stream",
          "text": [
            "[Succeeded / Failed / Total] 10 / 2 / 14:  56%|█████▌    | 14/25 [00:25<00:20,  1.83s/it]"
          ],
          "name": "stderr"
        },
        {
          "output_type": "display_data",
          "data": {
            "text/html": [
              "<font color = red>Negative (92%)</font> --> <font color = gray>[SKIPPED]</font><br>at its worst , the movie is pretty diverting ; the pity is that it rarely achieves its best ."
            ],
            "text/plain": [
              "<IPython.core.display.HTML object>"
            ]
          },
          "metadata": {
            "tags": []
          }
        },
        {
          "output_type": "stream",
          "text": [
            "\r[Succeeded / Failed / Total] 10 / 2 / 15:  60%|██████    | 15/25 [00:25<00:17,  1.71s/it]"
          ],
          "name": "stderr"
        },
        {
          "output_type": "display_data",
          "data": {
            "text/html": [
              "<font color = green>Positive (99%)</font> --> <font color = red>[FAILED]</font><br>scherfig's light-hearted profile of emotional desperation is achingly honest and delightfully cheeky ."
            ],
            "text/plain": [
              "<IPython.core.display.HTML object>"
            ]
          },
          "metadata": {
            "tags": []
          }
        },
        {
          "output_type": "stream",
          "text": [
            "[Succeeded / Failed / Total] 10 / 3 / 16:  64%|██████▍   | 16/25 [00:39<00:22,  2.50s/it]"
          ],
          "name": "stderr"
        },
        {
          "output_type": "display_data",
          "data": {
            "text/html": [
              "<font color = green>Positive (99%)</font> --> <font color = red>Negative (71%)</font><br>a <font color = green>journey</font> <font color = green>spanning</font> nearly <font color = green>three</font> decades of <font color = green>bittersweet</font> <font color = green>camaraderie</font> and <font color = green>history</font> , in which we feel that we <font color = green>truly</font> <font color = green>know</font> what makes <font color = green>holly</font> and <font color = green>marina</font> <font color = green>tick</font> , and our hearts <font color = green>go</font> out to them as both continue to negotiate their imperfect , love-hate <font color = green>relationship</font> .<br>a <font color = red>trip</font> <font color = red>hiatus</font> nearly <font color = red>gdbr</font> decades of <font color = red>nicer</font> <font color = red>kosuke</font> and <font color = red>cmessier</font> , in which we feel that we <font color = red>inherently</font> <font color = red>nuitte</font> what makes <font color = red>buddy</font> and <font color = red>gandy</font> <font color = red>magnesians</font> , and our hearts <font color = red>flatline</font> out to them as both continue to negotiate their imperfect , love-hate <font color = red>incestuous</font> ."
            ],
            "text/plain": [
              "<IPython.core.display.HTML object>"
            ]
          },
          "metadata": {
            "tags": []
          }
        },
        {
          "output_type": "stream",
          "text": [
            "[Succeeded / Failed / Total] 11 / 3 / 17:  68%|██████▊   | 17/25 [00:58<00:27,  3.43s/it]"
          ],
          "name": "stderr"
        },
        {
          "output_type": "display_data",
          "data": {
            "text/html": [
              "<font color = green>Positive (95%)</font> --> <font color = red>Negative (93%)</font><br>the <font color = green>wonderfully</font> lush morvern callar is pure punk existentialism , and ms . ramsay and her co-writer , liana dognini , have dramatized the alan warner novel , which itself felt like an answer to irvine welsh's book trainspotting .<br>the <font color = red>reichsdeputationshauptschluss</font> lush morvern callar is pure punk existentialism , and ms . ramsay and her co-writer , liana dognini , have dramatized the alan warner novel , which itself felt like an answer to irvine welsh's book trainspotting ."
            ],
            "text/plain": [
              "<IPython.core.display.HTML object>"
            ]
          },
          "metadata": {
            "tags": []
          }
        },
        {
          "output_type": "stream",
          "text": [
            "[Succeeded / Failed / Total] 12 / 3 / 18:  72%|███████▏  | 18/25 [00:59<00:22,  3.28s/it]"
          ],
          "name": "stderr"
        },
        {
          "output_type": "display_data",
          "data": {
            "text/html": [
              "<font color = green>Positive (59%)</font> --> <font color = red>Negative (89%)</font><br>as it turns out , you can go <font color = green>home</font> again .<br>as it turns out , you can go <font color = red>phoneline</font> again ."
            ],
            "text/plain": [
              "<IPython.core.display.HTML object>"
            ]
          },
          "metadata": {
            "tags": []
          }
        },
        {
          "output_type": "stream",
          "text": [
            "[Succeeded / Failed / Total] 13 / 3 / 19:  76%|███████▌  | 19/25 [00:59<00:18,  3.12s/it]"
          ],
          "name": "stderr"
        },
        {
          "output_type": "display_data",
          "data": {
            "text/html": [
              "<font color = green>Positive (92%)</font> --> <font color = red>Negative (82%)</font><br>you've already seen city by the sea under a variety of titles , but it's <font color = green>worth</font> yet another visit .<br>you've already seen city by the sea under a variety of titles , but it's <font color = red>noting</font> yet another visit ."
            ],
            "text/plain": [
              "<IPython.core.display.HTML object>"
            ]
          },
          "metadata": {
            "tags": []
          }
        },
        {
          "output_type": "stream",
          "text": [
            "[Succeeded / Failed / Total] 14 / 3 / 20:  80%|████████  | 20/25 [00:59<00:14,  2.98s/it]"
          ],
          "name": "stderr"
        },
        {
          "output_type": "display_data",
          "data": {
            "text/html": [
              "<font color = green>Positive (96%)</font> --> <font color = red>Negative (95%)</font><br>this kind of hands-on <font color = green>storytelling</font> is ultimately what makes shanghai ghetto <font color = green>move</font> beyond a good , dry , reliable textbook and what <font color = green>allows</font> it to <font color = green>rank</font> with its <font color = green>worthy</font> predecessors .<br>this kind of hands-on <font color = red>devotional</font> is ultimately what makes shanghai ghetto <font color = red>would</font> beyond a good , dry , reliable textbook and what <font color = red>allow</font> it to <font color = red>percentage</font> with its <font color = red>incapable</font> predecessors ."
            ],
            "text/plain": [
              "<IPython.core.display.HTML object>"
            ]
          },
          "metadata": {
            "tags": []
          }
        },
        {
          "output_type": "stream",
          "text": [
            "[Succeeded / Failed / Total] 15 / 3 / 21:  84%|████████▍ | 21/25 [01:03<00:12,  3.02s/it]"
          ],
          "name": "stderr"
        },
        {
          "output_type": "display_data",
          "data": {
            "text/html": [
              "<font color = red>Negative (90%)</font> --> <font color = gray>[SKIPPED]</font><br>making such a tragedy the backdrop to a love story risks trivializing it , though chouraqui no doubt intended the film to affirm love's power to help people endure almost unimaginable horror ."
            ],
            "text/plain": [
              "<IPython.core.display.HTML object>"
            ]
          },
          "metadata": {
            "tags": []
          }
        },
        {
          "output_type": "stream",
          "text": [
            "\r[Succeeded / Failed / Total] 15 / 3 / 22:  88%|████████▊ | 22/25 [01:03<00:08,  2.88s/it]"
          ],
          "name": "stderr"
        },
        {
          "output_type": "display_data",
          "data": {
            "text/html": [
              "<font color = green>Positive (63%)</font> --> <font color = red>Negative (93%)</font><br>grown-up quibbles are beside the point here . the little girls understand , and mccracken knows that's all that <font color = green>matters</font> .<br>grown-up quibbles are beside the point here . the little girls understand , and mccracken knows that's all that <font color = red>worse</font> ."
            ],
            "text/plain": [
              "<IPython.core.display.HTML object>"
            ]
          },
          "metadata": {
            "tags": []
          }
        },
        {
          "output_type": "stream",
          "text": [
            "[Succeeded / Failed / Total] 16 / 3 / 23:  92%|█████████▏| 23/25 [01:03<00:05,  2.77s/it]"
          ],
          "name": "stderr"
        },
        {
          "output_type": "display_data",
          "data": {
            "text/html": [
              "<font color = green>Positive (99%)</font> --> <font color = red>Negative (51%)</font><br>a <font color = green>powerful</font> , <font color = green>chilling</font> , and <font color = green>affecting</font> <font color = green>study</font> of <font color = green>one</font> man's <font color = green>dying</font> <font color = green>fall</font> .<br>a <font color = red>adverage</font> , <font color = red>venturi</font> , and <font color = red>destructive</font> <font color = red>studies</font> of <font color = red>ffffffarm</font> man's <font color = red>lay</font> <font color = red>rise</font> ."
            ],
            "text/plain": [
              "<IPython.core.display.HTML object>"
            ]
          },
          "metadata": {
            "tags": []
          }
        },
        {
          "output_type": "stream",
          "text": [
            "\r[Succeeded / Failed / Total] 17 / 3 / 24:  96%|█████████▌| 24/25 [01:08<00:02,  2.87s/it]"
          ],
          "name": "stderr"
        },
        {
          "output_type": "display_data",
          "data": {
            "text/html": [
              "<font color = green>Positive (90%)</font> --> <font color = red>Negative (96%)</font><br>this is a <font color = green>fascinating</font> film because there is no clear-cut hero and no all-out villain .<br>this is a <font color = red>horrible</font> film because there is no clear-cut hero and no all-out villain ."
            ],
            "text/plain": [
              "<IPython.core.display.HTML object>"
            ]
          },
          "metadata": {
            "tags": []
          }
        },
        {
          "output_type": "stream",
          "text": [
            "[Succeeded / Failed / Total] 18 / 3 / 25: 100%|██████████| 25/25 [01:09<00:00,  2.76s/it]"
          ],
          "name": "stderr"
        },
        {
          "output_type": "display_data",
          "data": {
            "text/html": [
              "<font color = red>Negative (80%)</font> --> <font color = gray>[SKIPPED]</font><br>a dreadful day in irish history is given passionate , if somewhat flawed , treatment ."
            ],
            "text/plain": [
              "<IPython.core.display.HTML object>"
            ]
          },
          "metadata": {
            "tags": []
          }
        },
        {
          "output_type": "stream",
          "text": [
            "\r[Succeeded / Failed / Total] 18 / 3 / 26: : 26it [01:09,  2.66s/it]                      "
          ],
          "name": "stderr"
        },
        {
          "output_type": "display_data",
          "data": {
            "text/html": [
              "<font color = green>Positive (87%)</font> --> <font color = red>Negative (82%)</font><br>. . . a <font color = green>good</font> film that must have baffled the folks in the marketing department .<br>. . . a <font color = red>benimens</font> film that must have baffled the folks in the marketing department ."
            ],
            "text/plain": [
              "<IPython.core.display.HTML object>"
            ]
          },
          "metadata": {
            "tags": []
          }
        },
        {
          "output_type": "stream",
          "text": [
            "[Succeeded / Failed / Total] 19 / 3 / 27: : 27it [01:19,  2.96s/it]"
          ],
          "name": "stderr"
        },
        {
          "output_type": "display_data",
          "data": {
            "text/html": [
              "<font color = green>Positive (98%)</font> --> <font color = red>Negative (90%)</font><br>. . . is <font color = green>funny</font> in the way that makes you ache with sadness ( the way chekhov is funny ) , profound <font color = green>without</font> <font color = green>ever</font> being self-important , <font color = green>warm</font> without <font color = green>ever</font> <font color = green>succumbing</font> to sentimentality .<br>. . . is <font color = red>lucky</font> in the way that makes you ache with sadness ( the way chekhov is funny ) , profound <font color = red>any</font> <font color = red>once</font> being self-important , <font color = red>dry</font> without <font color = red>once</font> <font color = red>authorise</font> to sentimentality ."
            ],
            "text/plain": [
              "<IPython.core.display.HTML object>"
            ]
          },
          "metadata": {
            "tags": []
          }
        },
        {
          "output_type": "stream",
          "text": [
            "[Succeeded / Failed / Total] 20 / 3 / 28: : 28it [01:26,  3.07s/it]"
          ],
          "name": "stderr"
        },
        {
          "output_type": "display_data",
          "data": {
            "text/html": [
              "<font color = red>Negative (96%)</font> --> <font color = gray>[SKIPPED]</font><br>devotees of star trek ii : the wrath of khan will feel a nagging sense of deja vu , and the grandeur of the best next generation episodes is lacking ."
            ],
            "text/plain": [
              "<IPython.core.display.HTML object>"
            ]
          },
          "metadata": {
            "tags": []
          }
        },
        {
          "output_type": "stream",
          "text": [
            "\r[Succeeded / Failed / Total] 20 / 3 / 29: : 29it [01:26,  2.97s/it]"
          ],
          "name": "stderr"
        },
        {
          "output_type": "display_data",
          "data": {
            "text/html": [
              "<font color = green>Positive (99%)</font> --> <font color = red>[FAILED]</font><br>a soul-stirring documentary about the israeli/palestinian conflict as revealed through the eyes of some children who remain curious about each other against all odds ."
            ],
            "text/plain": [
              "<IPython.core.display.HTML object>"
            ]
          },
          "metadata": {
            "tags": []
          }
        },
        {
          "output_type": "stream",
          "text": [
            "[Succeeded / Failed / Total] 20 / 4 / 30: : 30it [01:35,  3.18s/it]"
          ],
          "name": "stderr"
        },
        {
          "output_type": "display_data",
          "data": {
            "text/html": [
              "<font color = green>Positive (89%)</font> --> <font color = red>Negative (66%)</font><br>what's so striking about jolie's performance is that she <font color = green>never</font> lets her character become a caricature -- not even with that radioactive hair .<br>what's so striking about jolie's performance is that she <font color = red>actually</font> lets her character become a caricature -- not even with that radioactive hair ."
            ],
            "text/plain": [
              "<IPython.core.display.HTML object>"
            ]
          },
          "metadata": {
            "tags": []
          }
        },
        {
          "output_type": "stream",
          "text": [
            "[Succeeded / Failed / Total] 21 / 4 / 31: : 31it [01:35,  3.09s/it]"
          ],
          "name": "stderr"
        },
        {
          "output_type": "stream",
          "text": [
            "+-------------------------------+--------+\n",
            "| Attack Results                |        |\n",
            "+-------------------------------+--------+\n",
            "| Number of successful attacks: | 21     |\n",
            "| Number of failed attacks:     | 4      |\n",
            "| Number of skipped attacks:    | 6      |\n",
            "| Original accuracy:            | 80.65% |\n",
            "| Accuracy under attack:        | 12.9%  |\n",
            "| Attack success rate:          | 84.0%  |\n",
            "| Average perturbed word %:     | 18.6%  |\n",
            "| Average num. words per input: | 18.74  |\n",
            "| Avg num queries:              | 134.92 |\n",
            "+-------------------------------+--------+"
          ],
          "name": "stdout"
        },
        {
          "output_type": "stream",
          "text": [
            "\n",
            "\u001b[34;1mtextattack\u001b[0m: Attack time: 95.89386868476868s\n"
          ],
          "name": "stderr"
        }
      ]
    },
    {
      "cell_type": "markdown",
      "metadata": {
        "id": "q7n4M02gtr2D"
      },
      "source": [
        "### FastText, GreedyWordSwapWIR, PartsofSpeech"
      ]
    },
    {
      "cell_type": "code",
      "metadata": {
        "id": "9jwrvRfhqKVj",
        "colab": {
          "base_uri": "https://localhost:8080/"
        },
        "outputId": "e380a09c-9b6a-4d83-8803-38525507edc0"
      },
      "source": [
        "# We're going to use our word swap class as the attack transformation.\n",
        "transformation = Swapper()\n",
        "\n",
        "constraints = [PartOfSpeech()]\n",
        "\n",
        "search_method = GreedyWordSwapWIR()\n",
        "\n",
        "goal_function = UntargetedClassification(model_wrapper)\n",
        "\n",
        "# Now, let's make the attack from the 4 components:\n",
        "attack = Attack(goal_function, constraints, transformation, search_method)"
      ],
      "execution_count": 45,
      "outputs": [
        {
          "output_type": "stream",
          "text": [
            "\u001b[34;1mtextattack\u001b[0m: Unknown if model of class <class 'transformers.models.albert.modeling_albert.AlbertForSequenceClassification'> compatible with goal function <class 'textattack.goal_functions.classification.untargeted_classification.UntargetedClassification'>.\n"
          ],
          "name": "stderr"
        }
      ]
    },
    {
      "cell_type": "code",
      "metadata": {
        "id": "eCV5etswrzVY",
        "colab": {
          "base_uri": "https://localhost:8080/"
        },
        "outputId": "320bde10-3df8-4ab4-deb0-d79006428d03"
      },
      "source": [
        "print(attack)"
      ],
      "execution_count": 46,
      "outputs": [
        {
          "output_type": "stream",
          "text": [
            "Attack(\n",
            "  (search_method): GreedyWordSwapWIR(\n",
            "    (wir_method):  unk\n",
            "  )\n",
            "  (goal_function):  UntargetedClassification\n",
            "  (transformation):  Swapper\n",
            "  (constraints): \n",
            "    (0): PartOfSpeech(\n",
            "        (tagger_type):  nltk\n",
            "        (tagset):  universal\n",
            "        (allow_verb_noun_swap):  True\n",
            "        (compare_against_original):  True\n",
            "      )\n",
            "  (is_black_box):  True\n",
            ")\n"
          ],
          "name": "stdout"
        }
      ]
    },
    {
      "cell_type": "code",
      "metadata": {
        "id": "fQ4LYaHlsN4e",
        "colab": {
          "base_uri": "https://localhost:8080/",
          "height": 1000
        },
        "outputId": "27789900-92bb-4e6e-88ff-826f68f75a84"
      },
      "source": [
        "attack_stats(attack, dataset, 25)"
      ],
      "execution_count": 47,
      "outputs": [
        {
          "output_type": "stream",
          "text": [
            "\n",
            "  0%|          | 0/25 [00:00<?, ?it/s]\u001b[A"
          ],
          "name": "stderr"
        },
        {
          "output_type": "stream",
          "text": [
            "Attack(\n",
            "  (search_method): GreedyWordSwapWIR(\n",
            "    (wir_method):  unk\n",
            "  )\n",
            "  (goal_function):  UntargetedClassification\n",
            "  (transformation):  Swapper\n",
            "  (constraints): \n",
            "    (0): PartOfSpeech(\n",
            "        (tagger_type):  nltk\n",
            "        (tagset):  universal\n",
            "        (allow_verb_noun_swap):  True\n",
            "        (compare_against_original):  True\n",
            "      )\n",
            "  (is_black_box):  True\n",
            ")\n"
          ],
          "name": "stdout"
        },
        {
          "output_type": "display_data",
          "data": {
            "text/html": [
              "<font color = green>Positive (93%)</font> --> <font color = red>Negative (51%)</font><br><font color = green>lovingly</font> photographed in the manner of <font color = green>a</font> <font color = green>golden</font> book sprung to life , stuart little 2 <font color = green>manages</font> <font color = green>sweetness</font> largely without stickiness .<br><font color = red>kingly</font> photographed in the manner of <font color = red>the</font> <font color = red>olden</font> book sprung to life , stuart little 2 <font color = red>manage</font> <font color = red>softness</font> largely without stickiness ."
            ],
            "text/plain": [
              "<IPython.core.display.HTML object>"
            ]
          },
          "metadata": {
            "tags": []
          }
        },
        {
          "output_type": "stream",
          "text": [
            "\n",
            "  4%|▍         | 1/25 [00:00<00:15,  1.53it/s]\u001b[A\n",
            "[Succeeded / Failed / Total] 1 / 0 / 1:   4%|▍         | 1/25 [00:00<00:15,  1.52it/s]\u001b[A"
          ],
          "name": "stderr"
        },
        {
          "output_type": "display_data",
          "data": {
            "text/html": [
              "<font color = green>Positive (99%)</font> --> <font color = red>[FAILED]</font><br>consistently clever and suspenseful ."
            ],
            "text/plain": [
              "<IPython.core.display.HTML object>"
            ]
          },
          "metadata": {
            "tags": []
          }
        },
        {
          "output_type": "stream",
          "text": [
            "\n",
            "[Succeeded / Failed / Total] 1 / 0 / 1:   8%|▊         | 2/25 [00:00<00:09,  2.47it/s]\u001b[A\n",
            "[Succeeded / Failed / Total] 1 / 1 / 2:   8%|▊         | 2/25 [00:00<00:09,  2.46it/s]\u001b[A"
          ],
          "name": "stderr"
        },
        {
          "output_type": "display_data",
          "data": {
            "text/html": [
              "<font color = red>Negative (92%)</font> --> <font color = gray>[SKIPPED]</font><br>it's like a \" big chill \" reunion of the baader-meinhof gang , only these guys are more harmless pranksters than political activists ."
            ],
            "text/plain": [
              "<IPython.core.display.HTML object>"
            ]
          },
          "metadata": {
            "tags": []
          }
        },
        {
          "output_type": "stream",
          "text": [
            "\n",
            "[Succeeded / Failed / Total] 1 / 1 / 3:  12%|█▏        | 3/25 [00:00<00:06,  3.55it/s]\u001b[A"
          ],
          "name": "stderr"
        },
        {
          "output_type": "display_data",
          "data": {
            "text/html": [
              "<font color = green>Positive (99%)</font> --> <font color = red>Negative (85%)</font><br>the story <font color = green>gives</font> ample <font color = green>opportunity</font> for large-scale action and <font color = green>suspense</font> , which director shekhar kapur <font color = green>supplies</font> with <font color = green>tremendous</font> skill .<br>the story <font color = red>gave</font> ample <font color = red>opportune</font> for large-scale action and <font color = red>suspension</font> , which director shekhar kapur <font color = red>supply</font> with <font color = red>stupendous</font> skill ."
            ],
            "text/plain": [
              "<IPython.core.display.HTML object>"
            ]
          },
          "metadata": {
            "tags": []
          }
        },
        {
          "output_type": "stream",
          "text": [
            "\n",
            "[Succeeded / Failed / Total] 1 / 1 / 3:  16%|█▌        | 4/25 [00:01<00:07,  2.94it/s]\u001b[A\n",
            "[Succeeded / Failed / Total] 2 / 1 / 4:  16%|█▌        | 4/25 [00:01<00:07,  2.93it/s]\u001b[A"
          ],
          "name": "stderr"
        },
        {
          "output_type": "display_data",
          "data": {
            "text/html": [
              "<font color = green>Positive (80%)</font> --> <font color = red>Negative (90%)</font><br>red dragon \" <font color = green>never</font> cuts corners .<br>red dragon \" <font color = red>ever</font> cuts corners ."
            ],
            "text/plain": [
              "<IPython.core.display.HTML object>"
            ]
          },
          "metadata": {
            "tags": []
          }
        },
        {
          "output_type": "stream",
          "text": [
            "\n",
            "[Succeeded / Failed / Total] 3 / 1 / 5:  20%|██        | 5/25 [00:01<00:06,  3.32it/s]\u001b[A"
          ],
          "name": "stderr"
        },
        {
          "output_type": "display_data",
          "data": {
            "text/html": [
              "<font color = green>Positive (94%)</font> --> <font color = red>Negative (74%)</font><br><font color = green>fresnadillo</font> <font color = green>has</font> something serious to <font color = green>say</font> about the <font color = green>ways</font> in <font color = green>which</font> extravagant chance <font color = green>can</font> distort our perspective and throw us off the path of good sense .<br><font color = red>fresno</font> <font color = red>had</font> something serious to <font color = red>think</font> about the <font color = red>way</font> in <font color = red>that</font> extravagant chance <font color = red>could</font> distort our perspective and throw us off the path of good sense ."
            ],
            "text/plain": [
              "<IPython.core.display.HTML object>"
            ]
          },
          "metadata": {
            "tags": []
          }
        },
        {
          "output_type": "stream",
          "text": [
            "\n",
            "[Succeeded / Failed / Total] 3 / 1 / 5:  24%|██▍       | 6/25 [00:02<00:07,  2.65it/s]\u001b[A\n",
            "[Succeeded / Failed / Total] 4 / 1 / 6:  24%|██▍       | 6/25 [00:02<00:07,  2.64it/s]\u001b[A"
          ],
          "name": "stderr"
        },
        {
          "output_type": "display_data",
          "data": {
            "text/html": [
              "<font color = green>Positive (97%)</font> --> <font color = red>Negative (60%)</font><br>throws in enough <font color = green>clever</font> and unexpected twists to make the formula feel <font color = green>fresh</font> .<br>throws in enough <font color = red>cleve</font> and unexpected twists to make the formula feel <font color = red>vegetable</font> ."
            ],
            "text/plain": [
              "<IPython.core.display.HTML object>"
            ]
          },
          "metadata": {
            "tags": []
          }
        },
        {
          "output_type": "stream",
          "text": [
            "\n",
            "[Succeeded / Failed / Total] 5 / 1 / 7:  28%|██▊       | 7/25 [00:02<00:06,  2.70it/s]\u001b[A"
          ],
          "name": "stderr"
        },
        {
          "output_type": "display_data",
          "data": {
            "text/html": [
              "<font color = green>Positive (74%)</font> --> <font color = red>Negative (69%)</font><br>weighty and ponderous but every bit as <font color = green>filling</font> as the <font color = green>treat</font> of the title .<br>weighty and ponderous but every bit as <font color = red>drilling</font> as the <font color = red>prescribe</font> of the title ."
            ],
            "text/plain": [
              "<IPython.core.display.HTML object>"
            ]
          },
          "metadata": {
            "tags": []
          }
        },
        {
          "output_type": "stream",
          "text": [
            "\n",
            "[Succeeded / Failed / Total] 5 / 1 / 7:  32%|███▏      | 8/25 [00:02<00:06,  2.72it/s]\u001b[A\n",
            "[Succeeded / Failed / Total] 6 / 1 / 8:  32%|███▏      | 8/25 [00:02<00:06,  2.71it/s]\u001b[A"
          ],
          "name": "stderr"
        },
        {
          "output_type": "display_data",
          "data": {
            "text/html": [
              "<font color = green>Positive (98%)</font> --> <font color = red>[FAILED]</font><br>a real audience-pleaser that will strike a chord with anyone who's ever waited in a doctor's office , emergency room , hospital bed or insurance company office ."
            ],
            "text/plain": [
              "<IPython.core.display.HTML object>"
            ]
          },
          "metadata": {
            "tags": []
          }
        },
        {
          "output_type": "stream",
          "text": [
            "\n",
            "[Succeeded / Failed / Total] 6 / 2 / 9:  36%|███▌      | 9/25 [00:04<00:07,  2.21it/s]\u001b[A"
          ],
          "name": "stderr"
        },
        {
          "output_type": "display_data",
          "data": {
            "text/html": [
              "<font color = green>Positive (99%)</font> --> <font color = red>Negative (89%)</font><br>generates an enormous <font color = green>feeling</font> of <font color = green>empathy</font> for its characters .<br>generates an enormous <font color = red>feelin</font> of <font color = red>apathy</font> for its characters ."
            ],
            "text/plain": [
              "<IPython.core.display.HTML object>"
            ]
          },
          "metadata": {
            "tags": []
          }
        },
        {
          "output_type": "stream",
          "text": [
            "\n",
            "[Succeeded / Failed / Total] 6 / 2 / 9:  40%|████      | 10/25 [00:04<00:06,  2.31it/s]\u001b[A\n",
            "[Succeeded / Failed / Total] 7 / 2 / 10:  40%|████      | 10/25 [00:04<00:06,  2.31it/s]\u001b[A"
          ],
          "name": "stderr"
        },
        {
          "output_type": "display_data",
          "data": {
            "text/html": [
              "<font color = green>Positive (97%)</font> --> <font color = red>Negative (69%)</font><br>exposing the ways we fool ourselves is one hour photo's <font color = green>real</font> <font color = green>strength</font> .<br>exposing the ways we fool ourselves is one hour photo's <font color = red>unimaginable</font> <font color = red>toughness</font> ."
            ],
            "text/plain": [
              "<IPython.core.display.HTML object>"
            ]
          },
          "metadata": {
            "tags": []
          }
        },
        {
          "output_type": "stream",
          "text": [
            "\n",
            "[Succeeded / Failed / Total] 8 / 2 / 11:  44%|████▍     | 11/25 [00:04<00:05,  2.36it/s]\u001b[A"
          ],
          "name": "stderr"
        },
        {
          "output_type": "display_data",
          "data": {
            "text/html": [
              "<font color = red>Negative (57%)</font> --> <font color = gray>[SKIPPED]</font><br>it's up to you to decide whether to admire these people's dedication to their cause or be repelled by their dogmatism , manipulativeness and narrow , fearful view of american life ."
            ],
            "text/plain": [
              "<IPython.core.display.HTML object>"
            ]
          },
          "metadata": {
            "tags": []
          }
        },
        {
          "output_type": "stream",
          "text": [
            "\n",
            "[Succeeded / Failed / Total] 8 / 2 / 11:  48%|████▊     | 12/25 [00:04<00:05,  2.56it/s]\u001b[A\n",
            "[Succeeded / Failed / Total] 8 / 2 / 12:  48%|████▊     | 12/25 [00:04<00:05,  2.55it/s]\u001b[A"
          ],
          "name": "stderr"
        },
        {
          "output_type": "display_data",
          "data": {
            "text/html": [
              "<font color = green>Positive (67%)</font> --> <font color = red>Negative (53%)</font><br>mostly , [goldbacher] just <font color = green>lets</font> her complicated characters be unruly , confusing and , through it all , human .<br>mostly , [goldbacher] just <font color = red>mkds</font> her complicated characters be unruly , confusing and , through it all , human ."
            ],
            "text/plain": [
              "<IPython.core.display.HTML object>"
            ]
          },
          "metadata": {
            "tags": []
          }
        },
        {
          "output_type": "stream",
          "text": [
            "\n",
            "[Succeeded / Failed / Total] 9 / 2 / 13:  52%|█████▏    | 13/25 [00:05<00:04,  2.57it/s]\u001b[A"
          ],
          "name": "stderr"
        },
        {
          "output_type": "display_data",
          "data": {
            "text/html": [
              "<font color = green>Positive (98%)</font> --> <font color = red>Negative (96%)</font><br>. . . quite <font color = green>good</font> at providing some good old fashioned spooks .<br>. . . quite <font color = red>bad</font> at providing some good old fashioned spooks ."
            ],
            "text/plain": [
              "<IPython.core.display.HTML object>"
            ]
          },
          "metadata": {
            "tags": []
          }
        },
        {
          "output_type": "stream",
          "text": [
            "\n",
            "[Succeeded / Failed / Total] 9 / 2 / 13:  56%|█████▌    | 14/25 [00:05<00:04,  2.65it/s]\u001b[A\n",
            "[Succeeded / Failed / Total] 10 / 2 / 14:  56%|█████▌    | 14/25 [00:05<00:04,  2.65it/s]\u001b[A"
          ],
          "name": "stderr"
        },
        {
          "output_type": "display_data",
          "data": {
            "text/html": [
              "<font color = red>Negative (92%)</font> --> <font color = gray>[SKIPPED]</font><br>at its worst , the movie is pretty diverting ; the pity is that it rarely achieves its best ."
            ],
            "text/plain": [
              "<IPython.core.display.HTML object>"
            ]
          },
          "metadata": {
            "tags": []
          }
        },
        {
          "output_type": "stream",
          "text": [
            "\n",
            "[Succeeded / Failed / Total] 10 / 2 / 15:  60%|██████    | 15/25 [00:05<00:03,  2.82it/s]\u001b[A"
          ],
          "name": "stderr"
        },
        {
          "output_type": "display_data",
          "data": {
            "text/html": [
              "<font color = green>Positive (99%)</font> --> <font color = red>[FAILED]</font><br>scherfig's light-hearted profile of emotional desperation is achingly honest and delightfully cheeky ."
            ],
            "text/plain": [
              "<IPython.core.display.HTML object>"
            ]
          },
          "metadata": {
            "tags": []
          }
        },
        {
          "output_type": "stream",
          "text": [
            "\n",
            "[Succeeded / Failed / Total] 10 / 2 / 15:  64%|██████▍   | 16/25 [00:05<00:03,  2.76it/s]\u001b[A\n",
            "[Succeeded / Failed / Total] 10 / 3 / 16:  64%|██████▍   | 16/25 [00:05<00:03,  2.76it/s]\u001b[A"
          ],
          "name": "stderr"
        },
        {
          "output_type": "display_data",
          "data": {
            "text/html": [
              "<font color = green>Positive (99%)</font> --> <font color = red>[FAILED]</font><br>a journey spanning nearly three decades of bittersweet camaraderie and history , in which we feel that we truly know what makes holly and marina tick , and our hearts go out to them as both continue to negotiate their imperfect , love-hate relationship ."
            ],
            "text/plain": [
              "<IPython.core.display.HTML object>"
            ]
          },
          "metadata": {
            "tags": []
          }
        },
        {
          "output_type": "stream",
          "text": [
            "\n",
            "[Succeeded / Failed / Total] 10 / 4 / 17:  68%|██████▊   | 17/25 [00:07<00:03,  2.27it/s]\u001b[A"
          ],
          "name": "stderr"
        },
        {
          "output_type": "display_data",
          "data": {
            "text/html": [
              "<font color = green>Positive (95%)</font> --> <font color = red>Negative (50%)</font><br>the wonderfully <font color = green>lush</font> <font color = green>morvern</font> <font color = green>callar</font> is <font color = green>pure</font> punk existentialism , and <font color = green>ms</font> . ramsay and <font color = green>her</font> co-writer , liana dognini , have <font color = green>dramatized</font> the alan warner novel , which itself felt like an answer to irvine welsh's book trainspotting .<br>the wonderfully <font color = red>raincoat</font> <font color = red>vern</font> <font color = red>callsign</font> is <font color = red>mixture</font> punk existentialism , and <font color = red>dos</font> . ramsay and <font color = red>his</font> co-writer , liana dognini , have <font color = red>dramatised</font> the alan warner novel , which itself felt like an answer to irvine welsh's book trainspotting ."
            ],
            "text/plain": [
              "<IPython.core.display.HTML object>"
            ]
          },
          "metadata": {
            "tags": []
          }
        },
        {
          "output_type": "stream",
          "text": [
            "\n",
            "[Succeeded / Failed / Total] 10 / 4 / 17:  72%|███████▏  | 18/25 [00:08<00:03,  2.14it/s]\u001b[A\n",
            "[Succeeded / Failed / Total] 11 / 4 / 18:  72%|███████▏  | 18/25 [00:08<00:03,  2.14it/s]\u001b[A"
          ],
          "name": "stderr"
        },
        {
          "output_type": "display_data",
          "data": {
            "text/html": [
              "<font color = green>Positive (59%)</font> --> <font color = red>Negative (86%)</font><br>as it turns out , <font color = green>you</font> <font color = green>can</font> go home again .<br>as it turns out , <font color = red>we</font> <font color = red>could</font> go home again ."
            ],
            "text/plain": [
              "<IPython.core.display.HTML object>"
            ]
          },
          "metadata": {
            "tags": []
          }
        },
        {
          "output_type": "stream",
          "text": [
            "\n",
            "[Succeeded / Failed / Total] 12 / 4 / 19:  76%|███████▌  | 19/25 [00:08<00:02,  2.19it/s]\u001b[A"
          ],
          "name": "stderr"
        },
        {
          "output_type": "display_data",
          "data": {
            "text/html": [
              "<font color = green>Positive (92%)</font> --> <font color = red>Negative (80%)</font><br>you've already seen city by the sea under a variety of titles , but it's <font color = green>worth</font> yet another visit .<br>you've already seen city by the sea under a variety of titles , but it's <font color = red>hapworth</font> yet another visit ."
            ],
            "text/plain": [
              "<IPython.core.display.HTML object>"
            ]
          },
          "metadata": {
            "tags": []
          }
        },
        {
          "output_type": "stream",
          "text": [
            "\n",
            "[Succeeded / Failed / Total] 12 / 4 / 19:  80%|████████  | 20/25 [00:09<00:02,  2.21it/s]\u001b[A\n",
            "[Succeeded / Failed / Total] 13 / 4 / 20:  80%|████████  | 20/25 [00:09<00:02,  2.21it/s]\u001b[A"
          ],
          "name": "stderr"
        },
        {
          "output_type": "display_data",
          "data": {
            "text/html": [
              "<font color = green>Positive (96%)</font> --> <font color = red>Negative (54%)</font><br><font color = green>this</font> kind of hands-on storytelling is ultimately what <font color = green>makes</font> shanghai ghetto <font color = green>move</font> beyond a good , dry , reliable textbook and what allows it to rank with its worthy predecessors .<br><font color = red>which</font> kind of hands-on storytelling is ultimately what <font color = red>making</font> shanghai ghetto <font color = red>push</font> beyond a good , dry , reliable textbook and what allows it to rank with its worthy predecessors ."
            ],
            "text/plain": [
              "<IPython.core.display.HTML object>"
            ]
          },
          "metadata": {
            "tags": []
          }
        },
        {
          "output_type": "stream",
          "text": [
            "\n",
            "[Succeeded / Failed / Total] 14 / 4 / 21:  84%|████████▍ | 21/25 [00:09<00:01,  2.16it/s]\u001b[A"
          ],
          "name": "stderr"
        },
        {
          "output_type": "display_data",
          "data": {
            "text/html": [
              "<font color = red>Negative (90%)</font> --> <font color = gray>[SKIPPED]</font><br>making such a tragedy the backdrop to a love story risks trivializing it , though chouraqui no doubt intended the film to affirm love's power to help people endure almost unimaginable horror ."
            ],
            "text/plain": [
              "<IPython.core.display.HTML object>"
            ]
          },
          "metadata": {
            "tags": []
          }
        },
        {
          "output_type": "stream",
          "text": [
            "\n",
            "[Succeeded / Failed / Total] 14 / 4 / 21:  88%|████████▊ | 22/25 [00:09<00:01,  2.25it/s]\u001b[A\n",
            "[Succeeded / Failed / Total] 14 / 4 / 22:  88%|████████▊ | 22/25 [00:09<00:01,  2.25it/s]\u001b[A"
          ],
          "name": "stderr"
        },
        {
          "output_type": "display_data",
          "data": {
            "text/html": [
              "<font color = green>Positive (63%)</font> --> <font color = red>Negative (87%)</font><br>grown-up quibbles are beside the point here . the little girls understand , and mccracken knows that's all that <font color = green>matters</font> .<br>grown-up quibbles are beside the point here . the little girls understand , and mccracken knows that's all that <font color = red>tatters</font> ."
            ],
            "text/plain": [
              "<IPython.core.display.HTML object>"
            ]
          },
          "metadata": {
            "tags": []
          }
        },
        {
          "output_type": "stream",
          "text": [
            "\n",
            "[Succeeded / Failed / Total] 15 / 4 / 23:  92%|█████████▏| 23/25 [00:10<00:00,  2.26it/s]\u001b[A"
          ],
          "name": "stderr"
        },
        {
          "output_type": "display_data",
          "data": {
            "text/html": [
              "<font color = green>Positive (99%)</font> --> <font color = red>[FAILED]</font><br>a powerful , chilling , and affecting study of one man's dying fall ."
            ],
            "text/plain": [
              "<IPython.core.display.HTML object>"
            ]
          },
          "metadata": {
            "tags": []
          }
        },
        {
          "output_type": "stream",
          "text": [
            "\n",
            "[Succeeded / Failed / Total] 15 / 4 / 23:  96%|█████████▌| 24/25 [00:10<00:00,  2.25it/s]\u001b[A\n",
            "[Succeeded / Failed / Total] 15 / 5 / 24:  96%|█████████▌| 24/25 [00:10<00:00,  2.25it/s]\u001b[A"
          ],
          "name": "stderr"
        },
        {
          "output_type": "display_data",
          "data": {
            "text/html": [
              "<font color = green>Positive (90%)</font> --> <font color = red>Negative (73%)</font><br><font color = green>this</font> is <font color = green>a</font> fascinating <font color = green>film</font> <font color = green>because</font> there <font color = green>is</font> no clear-cut hero and no <font color = green>all-out</font> villain .<br><font color = red>which</font> is <font color = red>the</font> fascinating <font color = red>movie</font> <font color = red>although</font> there <font color = red>was</font> no clear-cut hero and no <font color = red>dugout</font> villain ."
            ],
            "text/plain": [
              "<IPython.core.display.HTML object>"
            ]
          },
          "metadata": {
            "tags": []
          }
        },
        {
          "output_type": "stream",
          "text": [
            "\n",
            "[Succeeded / Failed / Total] 16 / 5 / 25: 100%|██████████| 25/25 [00:11<00:00,  2.24it/s]\u001b[A"
          ],
          "name": "stderr"
        },
        {
          "output_type": "display_data",
          "data": {
            "text/html": [
              "<font color = red>Negative (80%)</font> --> <font color = gray>[SKIPPED]</font><br>a dreadful day in irish history is given passionate , if somewhat flawed , treatment ."
            ],
            "text/plain": [
              "<IPython.core.display.HTML object>"
            ]
          },
          "metadata": {
            "tags": []
          }
        },
        {
          "output_type": "stream",
          "text": [
            "\n",
            "[Succeeded / Failed / Total] 16 / 5 / 25: : 26it [00:11,  2.32it/s]                      \u001b[A\n",
            "[Succeeded / Failed / Total] 16 / 5 / 26: : 26it [00:11,  2.32it/s]\u001b[A"
          ],
          "name": "stderr"
        },
        {
          "output_type": "display_data",
          "data": {
            "text/html": [
              "<font color = green>Positive (87%)</font> --> <font color = red>Negative (96%)</font><br>. . . a <font color = green>good</font> film that must have baffled the folks in the marketing department .<br>. . . a <font color = red>bad</font> film that must have baffled the folks in the marketing department ."
            ],
            "text/plain": [
              "<IPython.core.display.HTML object>"
            ]
          },
          "metadata": {
            "tags": []
          }
        },
        {
          "output_type": "stream",
          "text": [
            "\n",
            "[Succeeded / Failed / Total] 17 / 5 / 27: : 27it [00:11,  2.35it/s]\u001b[A"
          ],
          "name": "stderr"
        },
        {
          "output_type": "display_data",
          "data": {
            "text/html": [
              "<font color = green>Positive (98%)</font> --> <font color = red>[FAILED]</font><br>. . . is funny in the way that makes you ache with sadness ( the way chekhov is funny ) , profound without ever being self-important , warm without ever succumbing to sentimentality ."
            ],
            "text/plain": [
              "<IPython.core.display.HTML object>"
            ]
          },
          "metadata": {
            "tags": []
          }
        },
        {
          "output_type": "stream",
          "text": [
            "\n",
            "[Succeeded / Failed / Total] 17 / 5 / 27: : 28it [00:12,  2.23it/s]\u001b[A\n",
            "[Succeeded / Failed / Total] 17 / 6 / 28: : 28it [00:12,  2.23it/s]\u001b[A"
          ],
          "name": "stderr"
        },
        {
          "output_type": "display_data",
          "data": {
            "text/html": [
              "<font color = red>Negative (96%)</font> --> <font color = gray>[SKIPPED]</font><br>devotees of star trek ii : the wrath of khan will feel a nagging sense of deja vu , and the grandeur of the best next generation episodes is lacking ."
            ],
            "text/plain": [
              "<IPython.core.display.HTML object>"
            ]
          },
          "metadata": {
            "tags": []
          }
        },
        {
          "output_type": "stream",
          "text": [
            "\n",
            "[Succeeded / Failed / Total] 17 / 6 / 29: : 29it [00:12,  2.30it/s]\u001b[A"
          ],
          "name": "stderr"
        },
        {
          "output_type": "display_data",
          "data": {
            "text/html": [
              "<font color = green>Positive (99%)</font> --> <font color = red>Negative (65%)</font><br>a soul-stirring <font color = green>documentary</font> <font color = green>about</font> the israeli/palestinian <font color = green>conflict</font> as <font color = green>revealed</font> <font color = green>through</font> the eyes of some children who <font color = green>remain</font> <font color = green>curious</font> about each other against all <font color = green>odds</font> .<br>a soul-stirring <font color = red>mockumentary</font> <font color = red>abound</font> the israeli/palestinian <font color = red>hostilities</font> as <font color = red>reveals</font> <font color = red>across</font> the eyes of some children who <font color = red>demain</font> <font color = red>furious</font> about each other against all <font color = red>bets</font> ."
            ],
            "text/plain": [
              "<IPython.core.display.HTML object>"
            ]
          },
          "metadata": {
            "tags": []
          }
        },
        {
          "output_type": "stream",
          "text": [
            "\n",
            "[Succeeded / Failed / Total] 17 / 6 / 29: : 30it [00:13,  2.22it/s]\u001b[A\n",
            "[Succeeded / Failed / Total] 18 / 6 / 30: : 30it [00:13,  2.22it/s]\u001b[A"
          ],
          "name": "stderr"
        },
        {
          "output_type": "display_data",
          "data": {
            "text/html": [
              "<font color = green>Positive (89%)</font> --> <font color = red>Negative (51%)</font><br>what's so striking about jolie's performance <font color = green>is</font> that <font color = green>she</font> <font color = green>never</font> lets her character <font color = green>become</font> a caricature -- <font color = green>not</font> even with that radioactive hair .<br>what's so striking about jolie's performance <font color = red>was</font> that <font color = red>he</font> <font color = red>ever</font> lets her character <font color = red>becoming</font> a caricature -- <font color = red>never</font> even with that radioactive hair ."
            ],
            "text/plain": [
              "<IPython.core.display.HTML object>"
            ]
          },
          "metadata": {
            "tags": []
          }
        },
        {
          "output_type": "stream",
          "text": [
            "\n",
            "[Succeeded / Failed / Total] 19 / 6 / 31: : 31it [00:14,  2.19it/s]"
          ],
          "name": "stderr"
        },
        {
          "output_type": "stream",
          "text": [
            "+-------------------------------+--------+\n",
            "| Attack Results                |        |\n",
            "+-------------------------------+--------+\n",
            "| Number of successful attacks: | 19     |\n",
            "| Number of failed attacks:     | 6      |\n",
            "| Number of skipped attacks:    | 6      |\n",
            "| Original accuracy:            | 80.65% |\n",
            "| Accuracy under attack:        | 19.35% |\n",
            "| Attack success rate:          | 76.0%  |\n",
            "| Average perturbed word %:     | 18.38% |\n",
            "| Average num. words per input: | 18.74  |\n",
            "| Avg num queries:              | 25.24  |\n",
            "+-------------------------------+--------+"
          ],
          "name": "stdout"
        },
        {
          "output_type": "stream",
          "text": [
            "\n",
            "\u001b[34;1mtextattack\u001b[0m: Attack time: 14.13424801826477s\n"
          ],
          "name": "stderr"
        }
      ]
    },
    {
      "cell_type": "markdown",
      "metadata": {
        "id": "BIlCdyXet2mk"
      },
      "source": [
        "### Word2Vec, GreedyWordSwapWIR, PartsofSpeech"
      ]
    },
    {
      "cell_type": "code",
      "metadata": {
        "id": "YX8hOBEXsRu2",
        "colab": {
          "base_uri": "https://localhost:8080/"
        },
        "outputId": "ac6f646c-9c68-485c-e3d9-d4015883fac7"
      },
      "source": [
        "# We're going to use our word swap class as the attack transformation.\n",
        "transformation = Swapper_()\n",
        "\n",
        "constraints = [PartOfSpeech()]\n",
        "\n",
        "search_method = GreedyWordSwapWIR()\n",
        "\n",
        "goal_function = UntargetedClassification(model_wrapper)\n",
        "\n",
        "# Now, let's make the attack from the 4 components:\n",
        "attack = Attack(goal_function, constraints, transformation, search_method)"
      ],
      "execution_count": 48,
      "outputs": [
        {
          "output_type": "stream",
          "text": [
            "\u001b[34;1mtextattack\u001b[0m: Unknown if model of class <class 'transformers.models.albert.modeling_albert.AlbertForSequenceClassification'> compatible with goal function <class 'textattack.goal_functions.classification.untargeted_classification.UntargetedClassification'>.\n"
          ],
          "name": "stderr"
        }
      ]
    },
    {
      "cell_type": "code",
      "metadata": {
        "id": "z3sSVm0q1F8F",
        "colab": {
          "base_uri": "https://localhost:8080/"
        },
        "outputId": "8561e613-70d1-41d2-c861-f858b0bb8540"
      },
      "source": [
        "print(attack)"
      ],
      "execution_count": 49,
      "outputs": [
        {
          "output_type": "stream",
          "text": [
            "Attack(\n",
            "  (search_method): GreedyWordSwapWIR(\n",
            "    (wir_method):  unk\n",
            "  )\n",
            "  (goal_function):  UntargetedClassification\n",
            "  (transformation):  Swapper_\n",
            "  (constraints): \n",
            "    (0): PartOfSpeech(\n",
            "        (tagger_type):  nltk\n",
            "        (tagset):  universal\n",
            "        (allow_verb_noun_swap):  True\n",
            "        (compare_against_original):  True\n",
            "      )\n",
            "  (is_black_box):  True\n",
            ")\n"
          ],
          "name": "stdout"
        }
      ]
    },
    {
      "cell_type": "code",
      "metadata": {
        "id": "78FFw18K1Hkb",
        "colab": {
          "base_uri": "https://localhost:8080/",
          "height": 1000
        },
        "outputId": "31c66c57-6ef0-45d6-dd98-f96372447983"
      },
      "source": [
        "attack_stats(attack, dataset, 25)"
      ],
      "execution_count": 50,
      "outputs": [
        {
          "output_type": "stream",
          "text": [
            "\n",
            "  0%|          | 0/25 [00:00<?, ?it/s]\u001b[A"
          ],
          "name": "stderr"
        },
        {
          "output_type": "stream",
          "text": [
            "Attack(\n",
            "  (search_method): GreedyWordSwapWIR(\n",
            "    (wir_method):  unk\n",
            "  )\n",
            "  (goal_function):  UntargetedClassification\n",
            "  (transformation):  Swapper_\n",
            "  (constraints): \n",
            "    (0): PartOfSpeech(\n",
            "        (tagger_type):  nltk\n",
            "        (tagset):  universal\n",
            "        (allow_verb_noun_swap):  True\n",
            "        (compare_against_original):  True\n",
            "      )\n",
            "  (is_black_box):  True\n",
            ")\n"
          ],
          "name": "stdout"
        },
        {
          "output_type": "display_data",
          "data": {
            "text/html": [
              "<font color = green>Positive (93%)</font> --> <font color = red>[FAILED]</font><br>lovingly photographed in the manner of a golden book sprung to life , stuart little 2 manages sweetness largely without stickiness ."
            ],
            "text/plain": [
              "<IPython.core.display.HTML object>"
            ]
          },
          "metadata": {
            "tags": []
          }
        },
        {
          "output_type": "stream",
          "text": [
            "\n",
            "  4%|▍         | 1/25 [00:00<00:17,  1.36it/s]\u001b[A\n",
            "[Succeeded / Failed / Total] 0 / 1 / 1:   4%|▍         | 1/25 [00:00<00:17,  1.34it/s]\u001b[A"
          ],
          "name": "stderr"
        },
        {
          "output_type": "display_data",
          "data": {
            "text/html": [
              "<font color = green>Positive (99%)</font> --> <font color = red>[FAILED]</font><br>consistently clever and suspenseful ."
            ],
            "text/plain": [
              "<IPython.core.display.HTML object>"
            ]
          },
          "metadata": {
            "tags": []
          }
        },
        {
          "output_type": "stream",
          "text": [
            "\n",
            "[Succeeded / Failed / Total] 0 / 1 / 1:   8%|▊         | 2/25 [00:00<00:10,  2.17it/s]\u001b[A\n",
            "[Succeeded / Failed / Total] 0 / 2 / 2:   8%|▊         | 2/25 [00:00<00:10,  2.15it/s]\u001b[A"
          ],
          "name": "stderr"
        },
        {
          "output_type": "display_data",
          "data": {
            "text/html": [
              "<font color = red>Negative (92%)</font> --> <font color = gray>[SKIPPED]</font><br>it's like a \" big chill \" reunion of the baader-meinhof gang , only these guys are more harmless pranksters than political activists ."
            ],
            "text/plain": [
              "<IPython.core.display.HTML object>"
            ]
          },
          "metadata": {
            "tags": []
          }
        },
        {
          "output_type": "stream",
          "text": [
            "\n",
            "[Succeeded / Failed / Total] 0 / 2 / 3:  12%|█▏        | 3/25 [00:00<00:07,  3.11it/s]\u001b[A"
          ],
          "name": "stderr"
        },
        {
          "output_type": "display_data",
          "data": {
            "text/html": [
              "<font color = green>Positive (99%)</font> --> <font color = red>Negative (96%)</font><br>the story <font color = green>gives</font> <font color = green>ample</font> <font color = green>opportunity</font> for large-scale action and <font color = green>suspense</font> , which <font color = green>director</font> shekhar kapur <font color = green>supplies</font> with <font color = green>tremendous</font> <font color = green>skill</font> .<br>the story <font color = red>gave</font> <font color = red>insufficient</font> <font color = red>incentive</font> for large-scale action and <font color = red>thrillers</font> , which <font color = red>producer</font> shekhar kapur <font color = red>supply</font> with <font color = red>considerable</font> <font color = red>abilities</font> ."
            ],
            "text/plain": [
              "<IPython.core.display.HTML object>"
            ]
          },
          "metadata": {
            "tags": []
          }
        },
        {
          "output_type": "stream",
          "text": [
            "\n",
            "[Succeeded / Failed / Total] 0 / 2 / 3:  16%|█▌        | 4/25 [00:01<00:08,  2.60it/s]\u001b[A\n",
            "[Succeeded / Failed / Total] 1 / 2 / 4:  16%|█▌        | 4/25 [00:01<00:08,  2.58it/s]\u001b[A"
          ],
          "name": "stderr"
        },
        {
          "output_type": "display_data",
          "data": {
            "text/html": [
              "<font color = green>Positive (80%)</font> --> <font color = red>Negative (95%)</font><br>red dragon \" <font color = green>never</font> cuts corners .<br>red dragon \" <font color = red>already</font> cuts corners ."
            ],
            "text/plain": [
              "<IPython.core.display.HTML object>"
            ]
          },
          "metadata": {
            "tags": []
          }
        },
        {
          "output_type": "stream",
          "text": [
            "\n",
            "[Succeeded / Failed / Total] 2 / 2 / 5:  20%|██        | 5/25 [00:01<00:06,  2.96it/s]\u001b[A"
          ],
          "name": "stderr"
        },
        {
          "output_type": "display_data",
          "data": {
            "text/html": [
              "<font color = green>Positive (94%)</font> --> <font color = red>Negative (94%)</font><br>fresnadillo has <font color = green>something</font> serious to say about the ways in which extravagant chance can distort our perspective and throw us off the path of good sense .<br>fresnadillo has <font color = red>anything</font> serious to say about the ways in which extravagant chance can distort our perspective and throw us off the path of good sense ."
            ],
            "text/plain": [
              "<IPython.core.display.HTML object>"
            ]
          },
          "metadata": {
            "tags": []
          }
        },
        {
          "output_type": "stream",
          "text": [
            "\n",
            "[Succeeded / Failed / Total] 2 / 2 / 5:  24%|██▍       | 6/25 [00:02<00:06,  2.73it/s]\u001b[A\n",
            "[Succeeded / Failed / Total] 3 / 2 / 6:  24%|██▍       | 6/25 [00:02<00:06,  2.72it/s]\u001b[A"
          ],
          "name": "stderr"
        },
        {
          "output_type": "display_data",
          "data": {
            "text/html": [
              "<font color = green>Positive (97%)</font> --> <font color = red>[FAILED]</font><br>throws in enough clever and unexpected twists to make the formula feel fresh ."
            ],
            "text/plain": [
              "<IPython.core.display.HTML object>"
            ]
          },
          "metadata": {
            "tags": []
          }
        },
        {
          "output_type": "stream",
          "text": [
            "\n",
            "[Succeeded / Failed / Total] 3 / 3 / 7:  28%|██▊       | 7/25 [00:02<00:06,  2.58it/s]\u001b[A"
          ],
          "name": "stderr"
        },
        {
          "output_type": "display_data",
          "data": {
            "text/html": [
              "<font color = green>Positive (74%)</font> --> <font color = red>Negative (60%)</font><br>weighty and ponderous but every bit as <font color = green>filling</font> as the treat of the title .<br>weighty and ponderous but every bit as <font color = red>knitted</font> as the treat of the title ."
            ],
            "text/plain": [
              "<IPython.core.display.HTML object>"
            ]
          },
          "metadata": {
            "tags": []
          }
        },
        {
          "output_type": "stream",
          "text": [
            "\n",
            "[Succeeded / Failed / Total] 3 / 3 / 7:  32%|███▏      | 8/25 [00:03<00:06,  2.65it/s]\u001b[A\n",
            "[Succeeded / Failed / Total] 4 / 3 / 8:  32%|███▏      | 8/25 [00:03<00:06,  2.64it/s]\u001b[A"
          ],
          "name": "stderr"
        },
        {
          "output_type": "display_data",
          "data": {
            "text/html": [
              "<font color = green>Positive (98%)</font> --> <font color = red>Negative (86%)</font><br>a <font color = green>real</font> audience-pleaser that <font color = green>will</font> strike a <font color = green>chord</font> with anyone who's ever waited in a doctor's office , emergency room , hospital bed or insurance company office .<br>a <font color = red>nonnegative</font> audience-pleaser that <font color = red>would</font> strike a <font color = red>subdominant</font> with anyone who's ever waited in a doctor's office , emergency room , hospital bed or insurance company office ."
            ],
            "text/plain": [
              "<IPython.core.display.HTML object>"
            ]
          },
          "metadata": {
            "tags": []
          }
        },
        {
          "output_type": "stream",
          "text": [
            "\n",
            "[Succeeded / Failed / Total] 5 / 3 / 9:  36%|███▌      | 9/25 [00:03<00:06,  2.51it/s]\u001b[A"
          ],
          "name": "stderr"
        },
        {
          "output_type": "display_data",
          "data": {
            "text/html": [
              "<font color = green>Positive (99%)</font> --> <font color = red>[FAILED]</font><br>generates an enormous feeling of empathy for its characters ."
            ],
            "text/plain": [
              "<IPython.core.display.HTML object>"
            ]
          },
          "metadata": {
            "tags": []
          }
        },
        {
          "output_type": "stream",
          "text": [
            "\n",
            "[Succeeded / Failed / Total] 5 / 3 / 9:  40%|████      | 10/25 [00:03<00:05,  2.53it/s]\u001b[A\n",
            "[Succeeded / Failed / Total] 5 / 4 / 10:  40%|████      | 10/25 [00:03<00:05,  2.52it/s]\u001b[A"
          ],
          "name": "stderr"
        },
        {
          "output_type": "display_data",
          "data": {
            "text/html": [
              "<font color = green>Positive (97%)</font> --> <font color = red>[FAILED]</font><br>exposing the ways we fool ourselves is one hour photo's real strength ."
            ],
            "text/plain": [
              "<IPython.core.display.HTML object>"
            ]
          },
          "metadata": {
            "tags": []
          }
        },
        {
          "output_type": "stream",
          "text": [
            "\n",
            "[Succeeded / Failed / Total] 5 / 5 / 11:  44%|████▍     | 11/25 [00:04<00:05,  2.46it/s]\u001b[A"
          ],
          "name": "stderr"
        },
        {
          "output_type": "display_data",
          "data": {
            "text/html": [
              "<font color = red>Negative (57%)</font> --> <font color = gray>[SKIPPED]</font><br>it's up to you to decide whether to admire these people's dedication to their cause or be repelled by their dogmatism , manipulativeness and narrow , fearful view of american life ."
            ],
            "text/plain": [
              "<IPython.core.display.HTML object>"
            ]
          },
          "metadata": {
            "tags": []
          }
        },
        {
          "output_type": "stream",
          "text": [
            "\n",
            "[Succeeded / Failed / Total] 5 / 5 / 11:  48%|████▊     | 12/25 [00:04<00:04,  2.67it/s]\u001b[A\n",
            "[Succeeded / Failed / Total] 5 / 5 / 12:  48%|████▊     | 12/25 [00:04<00:04,  2.66it/s]\u001b[A"
          ],
          "name": "stderr"
        },
        {
          "output_type": "display_data",
          "data": {
            "text/html": [
              "<font color = green>Positive (67%)</font> --> <font color = red>Negative (62%)</font><br>mostly , [goldbacher] just lets her complicated characters be unruly , confusing and , <font color = green>through</font> it all , human .<br>mostly , [goldbacher] just lets her complicated characters be unruly , confusing and , <font color = red>across</font> it all , human ."
            ],
            "text/plain": [
              "<IPython.core.display.HTML object>"
            ]
          },
          "metadata": {
            "tags": []
          }
        },
        {
          "output_type": "stream",
          "text": [
            "\n",
            "[Succeeded / Failed / Total] 6 / 5 / 13:  52%|█████▏    | 13/25 [00:04<00:04,  2.67it/s]\u001b[A"
          ],
          "name": "stderr"
        },
        {
          "output_type": "display_data",
          "data": {
            "text/html": [
              "<font color = green>Positive (98%)</font> --> <font color = red>Negative (96%)</font><br>. . . quite <font color = green>good</font> at providing some good old fashioned spooks .<br>. . . quite <font color = red>bad</font> at providing some good old fashioned spooks ."
            ],
            "text/plain": [
              "<IPython.core.display.HTML object>"
            ]
          },
          "metadata": {
            "tags": []
          }
        },
        {
          "output_type": "stream",
          "text": [
            "\n",
            "[Succeeded / Failed / Total] 6 / 5 / 13:  56%|█████▌    | 14/25 [00:05<00:04,  2.75it/s]\u001b[A\n",
            "[Succeeded / Failed / Total] 7 / 5 / 14:  56%|█████▌    | 14/25 [00:05<00:04,  2.74it/s]\u001b[A"
          ],
          "name": "stderr"
        },
        {
          "output_type": "display_data",
          "data": {
            "text/html": [
              "<font color = red>Negative (92%)</font> --> <font color = gray>[SKIPPED]</font><br>at its worst , the movie is pretty diverting ; the pity is that it rarely achieves its best ."
            ],
            "text/plain": [
              "<IPython.core.display.HTML object>"
            ]
          },
          "metadata": {
            "tags": []
          }
        },
        {
          "output_type": "stream",
          "text": [
            "\n",
            "[Succeeded / Failed / Total] 7 / 5 / 15:  60%|██████    | 15/25 [00:05<00:03,  2.92it/s]\u001b[A"
          ],
          "name": "stderr"
        },
        {
          "output_type": "display_data",
          "data": {
            "text/html": [
              "<font color = green>Positive (99%)</font> --> <font color = red>[FAILED]</font><br>scherfig's light-hearted profile of emotional desperation is achingly honest and delightfully cheeky ."
            ],
            "text/plain": [
              "<IPython.core.display.HTML object>"
            ]
          },
          "metadata": {
            "tags": []
          }
        },
        {
          "output_type": "stream",
          "text": [
            "\n",
            "[Succeeded / Failed / Total] 7 / 5 / 15:  64%|██████▍   | 16/25 [00:05<00:03,  2.88it/s]\u001b[A\n",
            "[Succeeded / Failed / Total] 7 / 6 / 16:  64%|██████▍   | 16/25 [00:05<00:03,  2.88it/s]\u001b[A"
          ],
          "name": "stderr"
        },
        {
          "output_type": "display_data",
          "data": {
            "text/html": [
              "<font color = green>Positive (99%)</font> --> <font color = red>[FAILED]</font><br>a journey spanning nearly three decades of bittersweet camaraderie and history , in which we feel that we truly know what makes holly and marina tick , and our hearts go out to them as both continue to negotiate their imperfect , love-hate relationship ."
            ],
            "text/plain": [
              "<IPython.core.display.HTML object>"
            ]
          },
          "metadata": {
            "tags": []
          }
        },
        {
          "output_type": "stream",
          "text": [
            "\n",
            "[Succeeded / Failed / Total] 7 / 7 / 17:  68%|██████▊   | 17/25 [00:07<00:03,  2.39it/s]\u001b[A"
          ],
          "name": "stderr"
        },
        {
          "output_type": "display_data",
          "data": {
            "text/html": [
              "<font color = green>Positive (95%)</font> --> <font color = red>[FAILED]</font><br>the wonderfully lush morvern callar is pure punk existentialism , and ms . ramsay and her co-writer , liana dognini , have dramatized the alan warner novel , which itself felt like an answer to irvine welsh's book trainspotting ."
            ],
            "text/plain": [
              "<IPython.core.display.HTML object>"
            ]
          },
          "metadata": {
            "tags": []
          }
        },
        {
          "output_type": "stream",
          "text": [
            "\n",
            "[Succeeded / Failed / Total] 7 / 7 / 17:  72%|███████▏  | 18/25 [00:08<00:03,  2.17it/s]\u001b[A\n",
            "[Succeeded / Failed / Total] 7 / 8 / 18:  72%|███████▏  | 18/25 [00:08<00:03,  2.16it/s]\u001b[A"
          ],
          "name": "stderr"
        },
        {
          "output_type": "display_data",
          "data": {
            "text/html": [
              "<font color = green>Positive (59%)</font> --> <font color = red>Negative (91%)</font><br>as it turns out , you <font color = green>can</font> go home again .<br>as it turns out , you <font color = red>must</font> go home again ."
            ],
            "text/plain": [
              "<IPython.core.display.HTML object>"
            ]
          },
          "metadata": {
            "tags": []
          }
        },
        {
          "output_type": "stream",
          "text": [
            "\n",
            "[Succeeded / Failed / Total] 8 / 8 / 19:  76%|███████▌  | 19/25 [00:08<00:02,  2.22it/s]\u001b[A"
          ],
          "name": "stderr"
        },
        {
          "output_type": "display_data",
          "data": {
            "text/html": [
              "<font color = green>Positive (92%)</font> --> <font color = red>Negative (82%)</font><br>you've already seen city by the sea under a variety of titles , but it's <font color = green>worth</font> yet another visit .<br>you've already seen city by the sea under a variety of titles , but it's <font color = red>noting</font> yet another visit ."
            ],
            "text/plain": [
              "<IPython.core.display.HTML object>"
            ]
          },
          "metadata": {
            "tags": []
          }
        },
        {
          "output_type": "stream",
          "text": [
            "\n",
            "[Succeeded / Failed / Total] 8 / 8 / 19:  80%|████████  | 20/25 [00:08<00:02,  2.24it/s]\u001b[A\n",
            "[Succeeded / Failed / Total] 9 / 8 / 20:  80%|████████  | 20/25 [00:08<00:02,  2.24it/s]\u001b[A"
          ],
          "name": "stderr"
        },
        {
          "output_type": "display_data",
          "data": {
            "text/html": [
              "<font color = green>Positive (96%)</font> --> <font color = red>Negative (54%)</font><br><font color = green>this</font> kind of hands-on <font color = green>storytelling</font> <font color = green>is</font> ultimately what <font color = green>makes</font> shanghai ghetto <font color = green>move</font> beyond a good , dry , reliable textbook and what allows it to rank with <font color = green>its</font> worthy predecessors .<br><font color = red>which</font> kind of hands-on <font color = red>showcasing</font> <font color = red>was</font> ultimately what <font color = red>making</font> shanghai ghetto <font color = red>moving</font> beyond a good , dry , reliable textbook and what allows it to rank with <font color = red>their</font> worthy predecessors ."
            ],
            "text/plain": [
              "<IPython.core.display.HTML object>"
            ]
          },
          "metadata": {
            "tags": []
          }
        },
        {
          "output_type": "stream",
          "text": [
            "\n",
            "[Succeeded / Failed / Total] 10 / 8 / 21:  84%|████████▍ | 21/25 [00:09<00:01,  2.17it/s]\u001b[A"
          ],
          "name": "stderr"
        },
        {
          "output_type": "display_data",
          "data": {
            "text/html": [
              "<font color = red>Negative (90%)</font> --> <font color = gray>[SKIPPED]</font><br>making such a tragedy the backdrop to a love story risks trivializing it , though chouraqui no doubt intended the film to affirm love's power to help people endure almost unimaginable horror ."
            ],
            "text/plain": [
              "<IPython.core.display.HTML object>"
            ]
          },
          "metadata": {
            "tags": []
          }
        },
        {
          "output_type": "stream",
          "text": [
            "\n",
            "[Succeeded / Failed / Total] 10 / 8 / 21:  88%|████████▊ | 22/25 [00:09<00:01,  2.26it/s]\u001b[A\n",
            "[Succeeded / Failed / Total] 10 / 8 / 22:  88%|████████▊ | 22/25 [00:09<00:01,  2.26it/s]\u001b[A"
          ],
          "name": "stderr"
        },
        {
          "output_type": "display_data",
          "data": {
            "text/html": [
              "<font color = green>Positive (63%)</font> --> <font color = red>Negative (66%)</font><br>grown-up quibbles are beside the point here . the little girls understand , and mccracken knows that's all that <font color = green>matters</font> .<br>grown-up quibbles are beside the point here . the little girls understand , and mccracken knows that's all that <font color = red>issues</font> ."
            ],
            "text/plain": [
              "<IPython.core.display.HTML object>"
            ]
          },
          "metadata": {
            "tags": []
          }
        },
        {
          "output_type": "stream",
          "text": [
            "\n",
            "[Succeeded / Failed / Total] 11 / 8 / 23:  92%|█████████▏| 23/25 [00:10<00:00,  2.28it/s]\u001b[A"
          ],
          "name": "stderr"
        },
        {
          "output_type": "display_data",
          "data": {
            "text/html": [
              "<font color = green>Positive (99%)</font> --> <font color = red>[FAILED]</font><br>a powerful , chilling , and affecting study of one man's dying fall ."
            ],
            "text/plain": [
              "<IPython.core.display.HTML object>"
            ]
          },
          "metadata": {
            "tags": []
          }
        },
        {
          "output_type": "stream",
          "text": [
            "\n",
            "[Succeeded / Failed / Total] 11 / 8 / 23:  96%|█████████▌| 24/25 [00:10<00:00,  2.28it/s]\u001b[A\n",
            "[Succeeded / Failed / Total] 11 / 9 / 24:  96%|█████████▌| 24/25 [00:10<00:00,  2.27it/s]\u001b[A"
          ],
          "name": "stderr"
        },
        {
          "output_type": "display_data",
          "data": {
            "text/html": [
              "<font color = green>Positive (90%)</font> --> <font color = red>[FAILED]</font><br>this is a fascinating film because there is no clear-cut hero and no all-out villain ."
            ],
            "text/plain": [
              "<IPython.core.display.HTML object>"
            ]
          },
          "metadata": {
            "tags": []
          }
        },
        {
          "output_type": "stream",
          "text": [
            "\n",
            "[Succeeded / Failed / Total] 11 / 10 / 25: 100%|██████████| 25/25 [00:11<00:00,  2.25it/s]\u001b[A"
          ],
          "name": "stderr"
        },
        {
          "output_type": "display_data",
          "data": {
            "text/html": [
              "<font color = red>Negative (80%)</font> --> <font color = gray>[SKIPPED]</font><br>a dreadful day in irish history is given passionate , if somewhat flawed , treatment ."
            ],
            "text/plain": [
              "<IPython.core.display.HTML object>"
            ]
          },
          "metadata": {
            "tags": []
          }
        },
        {
          "output_type": "stream",
          "text": [
            "\n",
            "[Succeeded / Failed / Total] 11 / 10 / 25: : 26it [00:11,  2.33it/s]                      \u001b[A\n",
            "[Succeeded / Failed / Total] 11 / 10 / 26: : 26it [00:11,  2.33it/s]\u001b[A"
          ],
          "name": "stderr"
        },
        {
          "output_type": "display_data",
          "data": {
            "text/html": [
              "<font color = green>Positive (87%)</font> --> <font color = red>Negative (96%)</font><br>. . . a <font color = green>good</font> film that must have baffled the folks in the marketing department .<br>. . . a <font color = red>bad</font> film that must have baffled the folks in the marketing department ."
            ],
            "text/plain": [
              "<IPython.core.display.HTML object>"
            ]
          },
          "metadata": {
            "tags": []
          }
        },
        {
          "output_type": "stream",
          "text": [
            "\n",
            "[Succeeded / Failed / Total] 12 / 10 / 27: : 27it [00:11,  2.36it/s]\u001b[A"
          ],
          "name": "stderr"
        },
        {
          "output_type": "display_data",
          "data": {
            "text/html": [
              "<font color = green>Positive (98%)</font> --> <font color = red>[FAILED]</font><br>. . . is funny in the way that makes you ache with sadness ( the way chekhov is funny ) , profound without ever being self-important , warm without ever succumbing to sentimentality ."
            ],
            "text/plain": [
              "<IPython.core.display.HTML object>"
            ]
          },
          "metadata": {
            "tags": []
          }
        },
        {
          "output_type": "stream",
          "text": [
            "\n",
            "[Succeeded / Failed / Total] 12 / 10 / 27: : 28it [00:12,  2.25it/s]\u001b[A\n",
            "[Succeeded / Failed / Total] 12 / 11 / 28: : 28it [00:12,  2.25it/s]\u001b[A"
          ],
          "name": "stderr"
        },
        {
          "output_type": "display_data",
          "data": {
            "text/html": [
              "<font color = red>Negative (96%)</font> --> <font color = gray>[SKIPPED]</font><br>devotees of star trek ii : the wrath of khan will feel a nagging sense of deja vu , and the grandeur of the best next generation episodes is lacking ."
            ],
            "text/plain": [
              "<IPython.core.display.HTML object>"
            ]
          },
          "metadata": {
            "tags": []
          }
        },
        {
          "output_type": "stream",
          "text": [
            "\n",
            "[Succeeded / Failed / Total] 12 / 11 / 29: : 29it [00:12,  2.32it/s]\u001b[A"
          ],
          "name": "stderr"
        },
        {
          "output_type": "display_data",
          "data": {
            "text/html": [
              "<font color = green>Positive (99%)</font> --> <font color = red>[FAILED]</font><br>a soul-stirring documentary about the israeli/palestinian conflict as revealed through the eyes of some children who remain curious about each other against all odds ."
            ],
            "text/plain": [
              "<IPython.core.display.HTML object>"
            ]
          },
          "metadata": {
            "tags": []
          }
        },
        {
          "output_type": "stream",
          "text": [
            "\n",
            "[Succeeded / Failed / Total] 12 / 11 / 29: : 30it [00:13,  2.24it/s]\u001b[A\n",
            "[Succeeded / Failed / Total] 12 / 12 / 30: : 30it [00:13,  2.24it/s]\u001b[A"
          ],
          "name": "stderr"
        },
        {
          "output_type": "display_data",
          "data": {
            "text/html": [
              "<font color = green>Positive (89%)</font> --> <font color = red>Negative (53%)</font><br>what's so striking about jolie's performance is that she <font color = green>never</font> lets her character become a caricature -- not even with that radioactive hair .<br>what's so striking about jolie's performance is that she <font color = red>already</font> lets her character become a caricature -- not even with that radioactive hair ."
            ],
            "text/plain": [
              "<IPython.core.display.HTML object>"
            ]
          },
          "metadata": {
            "tags": []
          }
        },
        {
          "output_type": "stream",
          "text": [
            "\n",
            "[Succeeded / Failed / Total] 13 / 12 / 31: : 31it [00:13,  2.24it/s]"
          ],
          "name": "stderr"
        },
        {
          "output_type": "stream",
          "text": [
            "+-------------------------------+--------+\n",
            "| Attack Results                |        |\n",
            "+-------------------------------+--------+\n",
            "| Number of successful attacks: | 13     |\n",
            "| Number of failed attacks:     | 12     |\n",
            "| Number of skipped attacks:    | 6      |\n",
            "| Original accuracy:            | 80.65% |\n",
            "| Accuracy under attack:        | 38.71% |\n",
            "| Attack success rate:          | 52.0%  |\n",
            "| Average perturbed word %:     | 12.39% |\n",
            "| Average num. words per input: | 18.74  |\n",
            "| Avg num queries:              | 24.92  |\n",
            "+-------------------------------+--------+"
          ],
          "name": "stdout"
        },
        {
          "output_type": "stream",
          "text": [
            "\n",
            "\u001b[34;1mtextattack\u001b[0m: Attack time: 13.847508668899536s\n"
          ],
          "name": "stderr"
        }
      ]
    },
    {
      "cell_type": "markdown",
      "metadata": {
        "id": "ZEuoCcfXt7pK"
      },
      "source": [
        "### Glove, GreedyWordSwapWIR, PartsofSpeech"
      ]
    },
    {
      "cell_type": "code",
      "metadata": {
        "id": "qDpOZWJXPe_o",
        "colab": {
          "base_uri": "https://localhost:8080/"
        },
        "outputId": "df71890d-a01c-4305-cb8d-a825250a5460"
      },
      "source": [
        "# We're going to use our word swap class as the attack transformation.\n",
        "transformation = Swapper__()\n",
        "\n",
        "constraints = [PartOfSpeech()]\n",
        "\n",
        "search_method = GreedyWordSwapWIR()\n",
        "\n",
        "goal_function = UntargetedClassification(model_wrapper)\n",
        "\n",
        "# Now, let's make the attack from the 4 components:\n",
        "attack = Attack(goal_function, constraints, transformation, search_method)"
      ],
      "execution_count": 51,
      "outputs": [
        {
          "output_type": "stream",
          "text": [
            "\u001b[34;1mtextattack\u001b[0m: Unknown if model of class <class 'transformers.models.albert.modeling_albert.AlbertForSequenceClassification'> compatible with goal function <class 'textattack.goal_functions.classification.untargeted_classification.UntargetedClassification'>.\n"
          ],
          "name": "stderr"
        }
      ]
    },
    {
      "cell_type": "code",
      "metadata": {
        "id": "ir08WYOBQmjK",
        "colab": {
          "base_uri": "https://localhost:8080/"
        },
        "outputId": "7d27833f-d3ab-40ee-f8be-94c11fd04eb7"
      },
      "source": [
        "print(attack)"
      ],
      "execution_count": 52,
      "outputs": [
        {
          "output_type": "stream",
          "text": [
            "Attack(\n",
            "  (search_method): GreedyWordSwapWIR(\n",
            "    (wir_method):  unk\n",
            "  )\n",
            "  (goal_function):  UntargetedClassification\n",
            "  (transformation):  Swapper__\n",
            "  (constraints): \n",
            "    (0): PartOfSpeech(\n",
            "        (tagger_type):  nltk\n",
            "        (tagset):  universal\n",
            "        (allow_verb_noun_swap):  True\n",
            "        (compare_against_original):  True\n",
            "      )\n",
            "  (is_black_box):  True\n",
            ")\n"
          ],
          "name": "stdout"
        }
      ]
    },
    {
      "cell_type": "code",
      "metadata": {
        "id": "R4Pio6_BQoS6",
        "colab": {
          "base_uri": "https://localhost:8080/",
          "height": 1000
        },
        "outputId": "e1e9d630-e18c-41a5-f8ac-ceb1b16aa3ec"
      },
      "source": [
        "attack_stats(attack, dataset, 25)"
      ],
      "execution_count": 53,
      "outputs": [
        {
          "output_type": "stream",
          "text": [
            "\n",
            "  0%|          | 0/25 [00:00<?, ?it/s]\u001b[A"
          ],
          "name": "stderr"
        },
        {
          "output_type": "stream",
          "text": [
            "Attack(\n",
            "  (search_method): GreedyWordSwapWIR(\n",
            "    (wir_method):  unk\n",
            "  )\n",
            "  (goal_function):  UntargetedClassification\n",
            "  (transformation):  Swapper__\n",
            "  (constraints): \n",
            "    (0): PartOfSpeech(\n",
            "        (tagger_type):  nltk\n",
            "        (tagset):  universal\n",
            "        (allow_verb_noun_swap):  True\n",
            "        (compare_against_original):  True\n",
            "      )\n",
            "  (is_black_box):  True\n",
            ")\n"
          ],
          "name": "stdout"
        },
        {
          "output_type": "display_data",
          "data": {
            "text/html": [
              "<font color = green>Positive (93%)</font> --> <font color = red>Negative (72%)</font><br><font color = green>lovingly</font> photographed in the manner of a golden book sprung to life , stuart little 2 manages sweetness largely without stickiness .<br><font color = red>retroactively</font> photographed in the manner of a golden book sprung to life , stuart little 2 manages sweetness largely without stickiness ."
            ],
            "text/plain": [
              "<IPython.core.display.HTML object>"
            ]
          },
          "metadata": {
            "tags": []
          }
        },
        {
          "output_type": "stream",
          "text": [
            "\n",
            "  4%|▍         | 1/25 [00:00<00:09,  2.41it/s]\u001b[A\n",
            "[Succeeded / Failed / Total] 1 / 0 / 1:   4%|▍         | 1/25 [00:00<00:10,  2.35it/s]\u001b[A"
          ],
          "name": "stderr"
        },
        {
          "output_type": "display_data",
          "data": {
            "text/html": [
              "<font color = green>Positive (99%)</font> --> <font color = red>[FAILED]</font><br>consistently clever and suspenseful ."
            ],
            "text/plain": [
              "<IPython.core.display.HTML object>"
            ]
          },
          "metadata": {
            "tags": []
          }
        },
        {
          "output_type": "stream",
          "text": [
            "\n",
            "[Succeeded / Failed / Total] 1 / 0 / 1:   8%|▊         | 2/25 [00:00<00:07,  3.09it/s]\u001b[A\n",
            "[Succeeded / Failed / Total] 1 / 1 / 2:   8%|▊         | 2/25 [00:00<00:07,  3.06it/s]\u001b[A"
          ],
          "name": "stderr"
        },
        {
          "output_type": "display_data",
          "data": {
            "text/html": [
              "<font color = red>Negative (92%)</font> --> <font color = gray>[SKIPPED]</font><br>it's like a \" big chill \" reunion of the baader-meinhof gang , only these guys are more harmless pranksters than political activists ."
            ],
            "text/plain": [
              "<IPython.core.display.HTML object>"
            ]
          },
          "metadata": {
            "tags": []
          }
        },
        {
          "output_type": "stream",
          "text": [
            "\n",
            "[Succeeded / Failed / Total] 1 / 1 / 3:  12%|█▏        | 3/25 [00:00<00:04,  4.42it/s]\u001b[A"
          ],
          "name": "stderr"
        },
        {
          "output_type": "display_data",
          "data": {
            "text/html": [
              "<font color = green>Positive (99%)</font> --> <font color = red>[FAILED]</font><br>the story gives ample opportunity for large-scale action and suspense , which director shekhar kapur supplies with tremendous skill ."
            ],
            "text/plain": [
              "<IPython.core.display.HTML object>"
            ]
          },
          "metadata": {
            "tags": []
          }
        },
        {
          "output_type": "stream",
          "text": [
            "\n",
            "[Succeeded / Failed / Total] 1 / 1 / 3:  16%|█▌        | 4/25 [00:01<00:08,  2.38it/s]\u001b[A\n",
            "[Succeeded / Failed / Total] 1 / 2 / 4:  16%|█▌        | 4/25 [00:01<00:08,  2.37it/s]\u001b[A"
          ],
          "name": "stderr"
        },
        {
          "output_type": "display_data",
          "data": {
            "text/html": [
              "<font color = green>Positive (80%)</font> --> <font color = red>Negative (94%)</font><br>red dragon \" <font color = green>never</font> cuts corners .<br>red dragon \" <font color = red>actually</font> cuts corners ."
            ],
            "text/plain": [
              "<IPython.core.display.HTML object>"
            ]
          },
          "metadata": {
            "tags": []
          }
        },
        {
          "output_type": "stream",
          "text": [
            "\n",
            "[Succeeded / Failed / Total] 2 / 2 / 5:  20%|██        | 5/25 [00:01<00:07,  2.71it/s]\u001b[A"
          ],
          "name": "stderr"
        },
        {
          "output_type": "display_data",
          "data": {
            "text/html": [
              "<font color = green>Positive (94%)</font> --> <font color = red>Negative (94%)</font><br>fresnadillo has <font color = green>something</font> serious to say about the ways in which extravagant chance can distort our perspective and throw us off the path of good sense .<br>fresnadillo has <font color = red>anything</font> serious to say about the ways in which extravagant chance can distort our perspective and throw us off the path of good sense ."
            ],
            "text/plain": [
              "<IPython.core.display.HTML object>"
            ]
          },
          "metadata": {
            "tags": []
          }
        },
        {
          "output_type": "stream",
          "text": [
            "\n",
            "[Succeeded / Failed / Total] 2 / 2 / 5:  24%|██▍       | 6/25 [00:02<00:07,  2.54it/s]\u001b[A\n",
            "[Succeeded / Failed / Total] 3 / 2 / 6:  24%|██▍       | 6/25 [00:02<00:07,  2.53it/s]\u001b[A"
          ],
          "name": "stderr"
        },
        {
          "output_type": "display_data",
          "data": {
            "text/html": [
              "<font color = green>Positive (97%)</font> --> <font color = red>Negative (60%)</font><br>throws in enough clever and <font color = green>unexpected</font> <font color = green>twists</font> to <font color = green>make</font> the formula feel fresh .<br>throws in enough clever and <font color = red>repeated</font> <font color = red>dumfries</font> to <font color = red>making</font> the formula feel fresh ."
            ],
            "text/plain": [
              "<IPython.core.display.HTML object>"
            ]
          },
          "metadata": {
            "tags": []
          }
        },
        {
          "output_type": "stream",
          "text": [
            "\n",
            "[Succeeded / Failed / Total] 4 / 2 / 7:  28%|██▊       | 7/25 [00:02<00:07,  2.41it/s]\u001b[A"
          ],
          "name": "stderr"
        },
        {
          "output_type": "display_data",
          "data": {
            "text/html": [
              "<font color = green>Positive (74%)</font> --> <font color = red>Negative (50%)</font><br>weighty and ponderous but every bit as <font color = green>filling</font> as the <font color = green>treat</font> of the title .<br>weighty and ponderous but every bit as <font color = red>communicating</font> as the <font color = red>depict</font> of the title ."
            ],
            "text/plain": [
              "<IPython.core.display.HTML object>"
            ]
          },
          "metadata": {
            "tags": []
          }
        },
        {
          "output_type": "stream",
          "text": [
            "\n",
            "[Succeeded / Failed / Total] 4 / 2 / 7:  32%|███▏      | 8/25 [00:03<00:06,  2.43it/s]\u001b[A\n",
            "[Succeeded / Failed / Total] 5 / 2 / 8:  32%|███▏      | 8/25 [00:03<00:07,  2.42it/s]\u001b[A"
          ],
          "name": "stderr"
        },
        {
          "output_type": "display_data",
          "data": {
            "text/html": [
              "<font color = green>Positive (98%)</font> --> <font color = red>Negative (51%)</font><br>a real audience-pleaser that <font color = green>will</font> <font color = green>strike</font> a <font color = green>chord</font> with anyone who's <font color = green>ever</font> <font color = green>waited</font> in a doctor's office , emergency room , hospital bed or insurance <font color = green>company</font> <font color = green>office</font> .<br>a real audience-pleaser that <font color = red>would</font> <font color = red>counter</font> a <font color = red>stool</font> with anyone who's <font color = red>once</font> <font color = red>prayed</font> in a doctor's office , emergency room , hospital bed or insurance <font color = red>corporation</font> <font color = red>nemzetbiztons</font> ."
            ],
            "text/plain": [
              "<IPython.core.display.HTML object>"
            ]
          },
          "metadata": {
            "tags": []
          }
        },
        {
          "output_type": "stream",
          "text": [
            "\n",
            "[Succeeded / Failed / Total] 6 / 2 / 9:  36%|███▌      | 9/25 [00:04<00:08,  2.00it/s]\u001b[A"
          ],
          "name": "stderr"
        },
        {
          "output_type": "display_data",
          "data": {
            "text/html": [
              "<font color = green>Positive (99%)</font> --> <font color = red>Negative (63%)</font><br>generates an enormous <font color = green>feeling</font> of <font color = green>empathy</font> for its characters .<br>generates an enormous <font color = red>fear</font> of <font color = red>decompression</font> for its characters ."
            ],
            "text/plain": [
              "<IPython.core.display.HTML object>"
            ]
          },
          "metadata": {
            "tags": []
          }
        },
        {
          "output_type": "stream",
          "text": [
            "\n",
            "[Succeeded / Failed / Total] 6 / 2 / 9:  40%|████      | 10/25 [00:04<00:07,  2.07it/s]\u001b[A\n",
            "[Succeeded / Failed / Total] 7 / 2 / 10:  40%|████      | 10/25 [00:04<00:07,  2.07it/s]\u001b[A"
          ],
          "name": "stderr"
        },
        {
          "output_type": "display_data",
          "data": {
            "text/html": [
              "<font color = green>Positive (97%)</font> --> <font color = red>Negative (60%)</font><br><font color = green>exposing</font> the ways we fool ourselves is one hour photo's real <font color = green>strength</font> .<br><font color = red>issuing</font> the ways we fool ourselves is one hour photo's real <font color = red>tensile</font> ."
            ],
            "text/plain": [
              "<IPython.core.display.HTML object>"
            ]
          },
          "metadata": {
            "tags": []
          }
        },
        {
          "output_type": "stream",
          "text": [
            "\n",
            "[Succeeded / Failed / Total] 8 / 2 / 11:  44%|████▍     | 11/25 [00:05<00:06,  2.12it/s]\u001b[A"
          ],
          "name": "stderr"
        },
        {
          "output_type": "display_data",
          "data": {
            "text/html": [
              "<font color = red>Negative (57%)</font> --> <font color = gray>[SKIPPED]</font><br>it's up to you to decide whether to admire these people's dedication to their cause or be repelled by their dogmatism , manipulativeness and narrow , fearful view of american life ."
            ],
            "text/plain": [
              "<IPython.core.display.HTML object>"
            ]
          },
          "metadata": {
            "tags": []
          }
        },
        {
          "output_type": "stream",
          "text": [
            "\n",
            "[Succeeded / Failed / Total] 8 / 2 / 11:  48%|████▊     | 12/25 [00:05<00:05,  2.30it/s]\u001b[A\n",
            "[Succeeded / Failed / Total] 8 / 2 / 12:  48%|████▊     | 12/25 [00:05<00:05,  2.30it/s]\u001b[A"
          ],
          "name": "stderr"
        },
        {
          "output_type": "display_data",
          "data": {
            "text/html": [
              "<font color = green>Positive (67%)</font> --> <font color = red>Negative (65%)</font><br>mostly , [goldbacher] just lets her complicated characters <font color = green>be</font> unruly , <font color = green>confusing</font> and , through it all , human .<br>mostly , [goldbacher] just lets her complicated characters <font color = red>trilema</font> unruly , <font color = red>problematic</font> and , through it all , human ."
            ],
            "text/plain": [
              "<IPython.core.display.HTML object>"
            ]
          },
          "metadata": {
            "tags": []
          }
        },
        {
          "output_type": "stream",
          "text": [
            "\n",
            "[Succeeded / Failed / Total] 9 / 2 / 13:  52%|█████▏    | 13/25 [00:05<00:05,  2.24it/s]\u001b[A"
          ],
          "name": "stderr"
        },
        {
          "output_type": "display_data",
          "data": {
            "text/html": [
              "<font color = green>Positive (98%)</font> --> <font color = red>[FAILED]</font><br>. . . quite good at providing some good old fashioned spooks ."
            ],
            "text/plain": [
              "<IPython.core.display.HTML object>"
            ]
          },
          "metadata": {
            "tags": []
          }
        },
        {
          "output_type": "stream",
          "text": [
            "\n",
            "[Succeeded / Failed / Total] 9 / 2 / 13:  56%|█████▌    | 14/25 [00:06<00:04,  2.24it/s]\u001b[A\n",
            "[Succeeded / Failed / Total] 9 / 3 / 14:  56%|█████▌    | 14/25 [00:06<00:04,  2.24it/s]\u001b[A"
          ],
          "name": "stderr"
        },
        {
          "output_type": "display_data",
          "data": {
            "text/html": [
              "<font color = red>Negative (92%)</font> --> <font color = gray>[SKIPPED]</font><br>at its worst , the movie is pretty diverting ; the pity is that it rarely achieves its best ."
            ],
            "text/plain": [
              "<IPython.core.display.HTML object>"
            ]
          },
          "metadata": {
            "tags": []
          }
        },
        {
          "output_type": "stream",
          "text": [
            "\n",
            "[Succeeded / Failed / Total] 9 / 3 / 15:  60%|██████    | 15/25 [00:06<00:04,  2.39it/s]\u001b[A"
          ],
          "name": "stderr"
        },
        {
          "output_type": "display_data",
          "data": {
            "text/html": [
              "<font color = green>Positive (99%)</font> --> <font color = red>[FAILED]</font><br>scherfig's light-hearted profile of emotional desperation is achingly honest and delightfully cheeky ."
            ],
            "text/plain": [
              "<IPython.core.display.HTML object>"
            ]
          },
          "metadata": {
            "tags": []
          }
        },
        {
          "output_type": "stream",
          "text": [
            "\n",
            "[Succeeded / Failed / Total] 9 / 3 / 15:  64%|██████▍   | 16/25 [00:06<00:03,  2.33it/s]\u001b[A\n",
            "[Succeeded / Failed / Total] 9 / 4 / 16:  64%|██████▍   | 16/25 [00:06<00:03,  2.33it/s]\u001b[A"
          ],
          "name": "stderr"
        },
        {
          "output_type": "display_data",
          "data": {
            "text/html": [
              "<font color = green>Positive (99%)</font> --> <font color = red>[FAILED]</font><br>a journey spanning nearly three decades of bittersweet camaraderie and history , in which we feel that we truly know what makes holly and marina tick , and our hearts go out to them as both continue to negotiate their imperfect , love-hate relationship ."
            ],
            "text/plain": [
              "<IPython.core.display.HTML object>"
            ]
          },
          "metadata": {
            "tags": []
          }
        },
        {
          "output_type": "stream",
          "text": [
            "\n",
            "[Succeeded / Failed / Total] 9 / 5 / 17:  68%|██████▊   | 17/25 [00:08<00:04,  1.90it/s]\u001b[A"
          ],
          "name": "stderr"
        },
        {
          "output_type": "display_data",
          "data": {
            "text/html": [
              "<font color = green>Positive (95%)</font> --> <font color = red>Negative (51%)</font><br>the wonderfully <font color = green>lush</font> morvern callar is <font color = green>pure</font> punk <font color = green>existentialism</font> , and <font color = green>ms</font> . ramsay and her co-writer , <font color = green>liana</font> dognini , have dramatized the alan warner novel , which itself felt like an answer to irvine welsh's book trainspotting .<br>the wonderfully <font color = red>resonator</font> morvern callar is <font color = red>crystalline</font> punk <font color = red>scientology</font> , and <font color = red>dos</font> . ramsay and her co-writer , <font color = red>paraffin</font> dognini , have dramatized the alan warner novel , which itself felt like an answer to irvine welsh's book trainspotting ."
            ],
            "text/plain": [
              "<IPython.core.display.HTML object>"
            ]
          },
          "metadata": {
            "tags": []
          }
        },
        {
          "output_type": "stream",
          "text": [
            "\n",
            "[Succeeded / Failed / Total] 9 / 5 / 17:  72%|███████▏  | 18/25 [00:10<00:03,  1.79it/s]\u001b[A\n",
            "[Succeeded / Failed / Total] 10 / 5 / 18:  72%|███████▏  | 18/25 [00:10<00:03,  1.79it/s]\u001b[A"
          ],
          "name": "stderr"
        },
        {
          "output_type": "display_data",
          "data": {
            "text/html": [
              "<font color = green>Positive (59%)</font> --> <font color = red>Negative (89%)</font><br>as it turns out , you can go <font color = green>home</font> again .<br>as it turns out , you can go <font color = red>phoneline</font> again ."
            ],
            "text/plain": [
              "<IPython.core.display.HTML object>"
            ]
          },
          "metadata": {
            "tags": []
          }
        },
        {
          "output_type": "stream",
          "text": [
            "\n",
            "[Succeeded / Failed / Total] 11 / 5 / 19:  76%|███████▌  | 19/25 [00:10<00:03,  1.84it/s]\u001b[A"
          ],
          "name": "stderr"
        },
        {
          "output_type": "display_data",
          "data": {
            "text/html": [
              "<font color = green>Positive (92%)</font> --> <font color = red>Negative (82%)</font><br>you've already seen city by the sea under a variety of titles , but it's <font color = green>worth</font> yet another visit .<br>you've already seen city by the sea under a variety of titles , but it's <font color = red>noting</font> yet another visit ."
            ],
            "text/plain": [
              "<IPython.core.display.HTML object>"
            ]
          },
          "metadata": {
            "tags": []
          }
        },
        {
          "output_type": "stream",
          "text": [
            "\n",
            "[Succeeded / Failed / Total] 11 / 5 / 19:  80%|████████  | 20/25 [00:10<00:02,  1.87it/s]\u001b[A\n",
            "[Succeeded / Failed / Total] 12 / 5 / 20:  80%|████████  | 20/25 [00:10<00:02,  1.87it/s]\u001b[A"
          ],
          "name": "stderr"
        },
        {
          "output_type": "display_data",
          "data": {
            "text/html": [
              "<font color = green>Positive (96%)</font> --> <font color = red>Negative (66%)</font><br>this kind of hands-on <font color = green>storytelling</font> is ultimately what <font color = green>makes</font> shanghai ghetto <font color = green>move</font> beyond a good , dry , reliable textbook and what allows it to rank with its worthy predecessors .<br>this kind of hands-on <font color = red>devotional</font> is ultimately what <font color = red>make</font> shanghai ghetto <font color = red>would</font> beyond a good , dry , reliable textbook and what allows it to rank with its worthy predecessors ."
            ],
            "text/plain": [
              "<IPython.core.display.HTML object>"
            ]
          },
          "metadata": {
            "tags": []
          }
        },
        {
          "output_type": "stream",
          "text": [
            "\n",
            "[Succeeded / Failed / Total] 13 / 5 / 21:  84%|████████▍ | 21/25 [00:11<00:02,  1.85it/s]\u001b[A"
          ],
          "name": "stderr"
        },
        {
          "output_type": "display_data",
          "data": {
            "text/html": [
              "<font color = red>Negative (90%)</font> --> <font color = gray>[SKIPPED]</font><br>making such a tragedy the backdrop to a love story risks trivializing it , though chouraqui no doubt intended the film to affirm love's power to help people endure almost unimaginable horror ."
            ],
            "text/plain": [
              "<IPython.core.display.HTML object>"
            ]
          },
          "metadata": {
            "tags": []
          }
        },
        {
          "output_type": "stream",
          "text": [
            "\n",
            "[Succeeded / Failed / Total] 13 / 5 / 21:  88%|████████▊ | 22/25 [00:11<00:01,  1.93it/s]\u001b[A\n",
            "[Succeeded / Failed / Total] 13 / 5 / 22:  88%|████████▊ | 22/25 [00:11<00:01,  1.93it/s]\u001b[A"
          ],
          "name": "stderr"
        },
        {
          "output_type": "display_data",
          "data": {
            "text/html": [
              "<font color = green>Positive (63%)</font> --> <font color = red>Negative (68%)</font><br>grown-up quibbles are beside the point here . the little girls <font color = green>understand</font> , and mccracken knows that's all that matters .<br>grown-up quibbles are beside the point here . the little girls <font color = red>know</font> , and mccracken knows that's all that matters ."
            ],
            "text/plain": [
              "<IPython.core.display.HTML object>"
            ]
          },
          "metadata": {
            "tags": []
          }
        },
        {
          "output_type": "stream",
          "text": [
            "\n",
            "[Succeeded / Failed / Total] 14 / 5 / 23:  92%|█████████▏| 23/25 [00:11<00:01,  1.94it/s]\u001b[A"
          ],
          "name": "stderr"
        },
        {
          "output_type": "display_data",
          "data": {
            "text/html": [
              "<font color = green>Positive (99%)</font> --> <font color = red>[FAILED]</font><br>a powerful , chilling , and affecting study of one man's dying fall ."
            ],
            "text/plain": [
              "<IPython.core.display.HTML object>"
            ]
          },
          "metadata": {
            "tags": []
          }
        },
        {
          "output_type": "stream",
          "text": [
            "\n",
            "[Succeeded / Failed / Total] 14 / 5 / 23:  96%|█████████▌| 24/25 [00:12<00:00,  1.93it/s]\u001b[A\n",
            "[Succeeded / Failed / Total] 14 / 6 / 24:  96%|█████████▌| 24/25 [00:12<00:00,  1.93it/s]\u001b[A"
          ],
          "name": "stderr"
        },
        {
          "output_type": "display_data",
          "data": {
            "text/html": [
              "<font color = green>Positive (90%)</font> --> <font color = red>Negative (96%)</font><br>this is a <font color = green>fascinating</font> film because there is no clear-cut hero and no all-out villain .<br>this is a <font color = red>horrible</font> film because there is no clear-cut hero and no all-out villain ."
            ],
            "text/plain": [
              "<IPython.core.display.HTML object>"
            ]
          },
          "metadata": {
            "tags": []
          }
        },
        {
          "output_type": "stream",
          "text": [
            "\n",
            "[Succeeded / Failed / Total] 15 / 6 / 25: 100%|██████████| 25/25 [00:12<00:00,  1.96it/s]\u001b[A"
          ],
          "name": "stderr"
        },
        {
          "output_type": "display_data",
          "data": {
            "text/html": [
              "<font color = red>Negative (80%)</font> --> <font color = gray>[SKIPPED]</font><br>a dreadful day in irish history is given passionate , if somewhat flawed , treatment ."
            ],
            "text/plain": [
              "<IPython.core.display.HTML object>"
            ]
          },
          "metadata": {
            "tags": []
          }
        },
        {
          "output_type": "stream",
          "text": [
            "\n",
            "[Succeeded / Failed / Total] 15 / 6 / 25: : 26it [00:12,  2.03it/s]                      \u001b[A\n",
            "[Succeeded / Failed / Total] 15 / 6 / 26: : 26it [00:12,  2.03it/s]\u001b[A"
          ],
          "name": "stderr"
        },
        {
          "output_type": "display_data",
          "data": {
            "text/html": [
              "<font color = green>Positive (87%)</font> --> <font color = red>[FAILED]</font><br>. . . a good film that must have baffled the folks in the marketing department ."
            ],
            "text/plain": [
              "<IPython.core.display.HTML object>"
            ]
          },
          "metadata": {
            "tags": []
          }
        },
        {
          "output_type": "stream",
          "text": [
            "\n",
            "[Succeeded / Failed / Total] 15 / 7 / 27: : 27it [00:13,  1.99it/s]\u001b[A"
          ],
          "name": "stderr"
        },
        {
          "output_type": "display_data",
          "data": {
            "text/html": [
              "<font color = green>Positive (98%)</font> --> <font color = red>Negative (83%)</font><br>. . . <font color = green>is</font> <font color = green>funny</font> <font color = green>in</font> the way that makes you ache with sadness ( the way chekhov is funny ) , <font color = green>profound</font> without <font color = green>ever</font> being self-important , <font color = green>warm</font> without ever <font color = green>succumbing</font> to sentimentality .<br>. . . <font color = red>polylogarithm</font> <font color = red>lucky</font> <font color = red>ierusalem</font> the way that makes you ache with sadness ( the way chekhov is funny ) , <font color = red>impact</font> without <font color = red>once</font> being self-important , <font color = red>dry</font> without ever <font color = red>authorise</font> to sentimentality ."
            ],
            "text/plain": [
              "<IPython.core.display.HTML object>"
            ]
          },
          "metadata": {
            "tags": []
          }
        },
        {
          "output_type": "stream",
          "text": [
            "\n",
            "[Succeeded / Failed / Total] 15 / 7 / 27: : 28it [00:14,  1.93it/s]\u001b[A\n",
            "[Succeeded / Failed / Total] 16 / 7 / 28: : 28it [00:14,  1.93it/s]\u001b[A"
          ],
          "name": "stderr"
        },
        {
          "output_type": "display_data",
          "data": {
            "text/html": [
              "<font color = red>Negative (96%)</font> --> <font color = gray>[SKIPPED]</font><br>devotees of star trek ii : the wrath of khan will feel a nagging sense of deja vu , and the grandeur of the best next generation episodes is lacking ."
            ],
            "text/plain": [
              "<IPython.core.display.HTML object>"
            ]
          },
          "metadata": {
            "tags": []
          }
        },
        {
          "output_type": "stream",
          "text": [
            "\n",
            "[Succeeded / Failed / Total] 16 / 7 / 29: : 29it [00:14,  1.99it/s]\u001b[A"
          ],
          "name": "stderr"
        },
        {
          "output_type": "display_data",
          "data": {
            "text/html": [
              "<font color = green>Positive (99%)</font> --> <font color = red>[FAILED]</font><br>a soul-stirring documentary about the israeli/palestinian conflict as revealed through the eyes of some children who remain curious about each other against all odds ."
            ],
            "text/plain": [
              "<IPython.core.display.HTML object>"
            ]
          },
          "metadata": {
            "tags": []
          }
        },
        {
          "output_type": "stream",
          "text": [
            "\n",
            "[Succeeded / Failed / Total] 16 / 7 / 29: : 30it [00:15,  1.89it/s]\u001b[A\n",
            "[Succeeded / Failed / Total] 16 / 8 / 30: : 30it [00:15,  1.89it/s]\u001b[A"
          ],
          "name": "stderr"
        },
        {
          "output_type": "display_data",
          "data": {
            "text/html": [
              "<font color = green>Positive (89%)</font> --> <font color = red>Negative (92%)</font><br>what's so <font color = green>striking</font> about jolie's performance is that she <font color = green>never</font> lets her character become a caricature -- not even with that radioactive hair .<br>what's so <font color = red>shots</font> about jolie's performance is that she <font color = red>actually</font> lets her character become a caricature -- not even with that radioactive hair ."
            ],
            "text/plain": [
              "<IPython.core.display.HTML object>"
            ]
          },
          "metadata": {
            "tags": []
          }
        },
        {
          "output_type": "stream",
          "text": [
            "\n",
            "[Succeeded / Failed / Total] 17 / 8 / 31: : 31it [00:16,  1.90it/s]"
          ],
          "name": "stderr"
        },
        {
          "output_type": "stream",
          "text": [
            "+-------------------------------+--------+\n",
            "| Attack Results                |        |\n",
            "+-------------------------------+--------+\n",
            "| Number of successful attacks: | 17     |\n",
            "| Number of failed attacks:     | 8      |\n",
            "| Number of skipped attacks:    | 6      |\n",
            "| Original accuracy:            | 80.65% |\n",
            "| Accuracy under attack:        | 25.81% |\n",
            "| Attack success rate:          | 68.0%  |\n",
            "| Average perturbed word %:     | 13.87% |\n",
            "| Average num. words per input: | 18.74  |\n",
            "| Avg num queries:              | 23.04  |\n",
            "+-------------------------------+--------+"
          ],
          "name": "stdout"
        },
        {
          "output_type": "stream",
          "text": [
            "\n",
            "\u001b[34;1mtextattack\u001b[0m: Attack time: 16.341960668563843s\n"
          ],
          "name": "stderr"
        }
      ]
    },
    {
      "cell_type": "markdown",
      "metadata": {
        "id": "qKxnejySt_p8"
      },
      "source": [
        "### FastText, ParticleSwarmOptimization, PartsofSpeech"
      ]
    },
    {
      "cell_type": "code",
      "metadata": {
        "id": "wr5Yq7uz1Kq9",
        "colab": {
          "base_uri": "https://localhost:8080/"
        },
        "outputId": "44e3c145-74d3-4181-f5c1-883ba84ed454"
      },
      "source": [
        "from textattack.constraints.grammaticality import PartOfSpeech\n",
        "# We're going to use our word swap class as the attack transformation.\n",
        "transformation = Swapper()\n",
        "\n",
        "constraints = [PartOfSpeech()]\n",
        "\n",
        "search_method = ParticleSwarmOptimization(pop_size=10,max_iters=5)\n",
        "\n",
        "goal_function = UntargetedClassification(model_wrapper)\n",
        "\n",
        "# Now, let's make the attack from the 4 components:\n",
        "attack = Attack(goal_function, constraints, transformation, search_method)"
      ],
      "execution_count": 54,
      "outputs": [
        {
          "output_type": "stream",
          "text": [
            "\u001b[34;1mtextattack\u001b[0m: Unknown if model of class <class 'transformers.models.albert.modeling_albert.AlbertForSequenceClassification'> compatible with goal function <class 'textattack.goal_functions.classification.untargeted_classification.UntargetedClassification'>.\n"
          ],
          "name": "stderr"
        }
      ]
    },
    {
      "cell_type": "code",
      "metadata": {
        "id": "XpkxiVj02xk-",
        "colab": {
          "base_uri": "https://localhost:8080/"
        },
        "outputId": "a596b96d-c322-4c51-99dc-eaeff4b91750"
      },
      "source": [
        "print(attack)"
      ],
      "execution_count": 55,
      "outputs": [
        {
          "output_type": "stream",
          "text": [
            "Attack(\n",
            "  (search_method): ParticleSwarmOptimization(\n",
            "    (pop_size):  10\n",
            "    (max_iters):  5\n",
            "    (post_turn_check):  True\n",
            "    (max_turn_retries):  20\n",
            "  )\n",
            "  (goal_function):  UntargetedClassification\n",
            "  (transformation):  Swapper\n",
            "  (constraints): \n",
            "    (0): PartOfSpeech(\n",
            "        (tagger_type):  nltk\n",
            "        (tagset):  universal\n",
            "        (allow_verb_noun_swap):  True\n",
            "        (compare_against_original):  True\n",
            "      )\n",
            "  (is_black_box):  True\n",
            ")\n"
          ],
          "name": "stdout"
        }
      ]
    },
    {
      "cell_type": "code",
      "metadata": {
        "id": "LGbTuwOQ24BO",
        "colab": {
          "base_uri": "https://localhost:8080/",
          "height": 1000
        },
        "outputId": "f232682c-1e40-499d-d20b-6d59490208d5"
      },
      "source": [
        "attack_stats(attack, dataset, 25)"
      ],
      "execution_count": 56,
      "outputs": [
        {
          "output_type": "stream",
          "text": [
            "\n",
            "  0%|          | 0/25 [00:00<?, ?it/s]\u001b[A"
          ],
          "name": "stderr"
        },
        {
          "output_type": "stream",
          "text": [
            "Attack(\n",
            "  (search_method): ParticleSwarmOptimization(\n",
            "    (pop_size):  10\n",
            "    (max_iters):  5\n",
            "    (post_turn_check):  True\n",
            "    (max_turn_retries):  20\n",
            "  )\n",
            "  (goal_function):  UntargetedClassification\n",
            "  (transformation):  Swapper\n",
            "  (constraints): \n",
            "    (0): PartOfSpeech(\n",
            "        (tagger_type):  nltk\n",
            "        (tagset):  universal\n",
            "        (allow_verb_noun_swap):  True\n",
            "        (compare_against_original):  True\n",
            "      )\n",
            "  (is_black_box):  True\n",
            ")\n"
          ],
          "name": "stdout"
        },
        {
          "output_type": "display_data",
          "data": {
            "text/html": [
              "<font color = green>Positive (93%)</font> --> <font color = red>Negative (84%)</font><br><font color = green>lovingly</font> photographed in the manner of a <font color = green>golden</font> <font color = green>book</font> sprung to <font color = green>life</font> , <font color = green>stuart</font> little 2 <font color = green>manages</font> <font color = green>sweetness</font> largely without stickiness .<br><font color = red>kingly</font> photographed in the manner of a <font color = red>olden</font> <font color = red>memoir</font> sprung to <font color = red>lives</font> , <font color = red>westley</font> little 2 <font color = red>manage</font> <font color = red>softness</font> largely without stickiness ."
            ],
            "text/plain": [
              "<IPython.core.display.HTML object>"
            ]
          },
          "metadata": {
            "tags": []
          }
        },
        {
          "output_type": "stream",
          "text": [
            "\n",
            "  4%|▍         | 1/25 [00:06<02:26,  6.10s/it]\u001b[A\n",
            "[Succeeded / Failed / Total] 1 / 0 / 1:   4%|▍         | 1/25 [00:06<02:26,  6.11s/it]\u001b[A"
          ],
          "name": "stderr"
        },
        {
          "output_type": "display_data",
          "data": {
            "text/html": [
              "<font color = green>Positive (99%)</font> --> <font color = red>[FAILED]</font><br>consistently clever and suspenseful ."
            ],
            "text/plain": [
              "<IPython.core.display.HTML object>"
            ]
          },
          "metadata": {
            "tags": []
          }
        },
        {
          "output_type": "stream",
          "text": [
            "\n",
            "[Succeeded / Failed / Total] 1 / 0 / 1:   8%|▊         | 2/25 [00:06<01:14,  3.23s/it]\u001b[A\n",
            "[Succeeded / Failed / Total] 1 / 1 / 2:   8%|▊         | 2/25 [00:06<01:14,  3.23s/it]\u001b[A"
          ],
          "name": "stderr"
        },
        {
          "output_type": "display_data",
          "data": {
            "text/html": [
              "<font color = red>Negative (92%)</font> --> <font color = gray>[SKIPPED]</font><br>it's like a \" big chill \" reunion of the baader-meinhof gang , only these guys are more harmless pranksters than political activists ."
            ],
            "text/plain": [
              "<IPython.core.display.HTML object>"
            ]
          },
          "metadata": {
            "tags": []
          }
        },
        {
          "output_type": "stream",
          "text": [
            "\n",
            "[Succeeded / Failed / Total] 1 / 1 / 3:  12%|█▏        | 3/25 [00:06<00:47,  2.16s/it]\u001b[A"
          ],
          "name": "stderr"
        },
        {
          "output_type": "display_data",
          "data": {
            "text/html": [
              "<font color = green>Positive (99%)</font> --> <font color = red>Negative (52%)</font><br>the story gives ample opportunity for large-scale <font color = green>action</font> and <font color = green>suspense</font> , which director shekhar kapur supplies with <font color = green>tremendous</font> skill .<br>the story gives ample opportunity for large-scale <font color = red>cessation</font> and <font color = red>suspension</font> , which director shekhar kapur supplies with <font color = red>stupendous</font> skill ."
            ],
            "text/plain": [
              "<IPython.core.display.HTML object>"
            ]
          },
          "metadata": {
            "tags": []
          }
        },
        {
          "output_type": "stream",
          "text": [
            "\n",
            "[Succeeded / Failed / Total] 1 / 1 / 3:  16%|█▌        | 4/25 [00:09<00:48,  2.31s/it]\u001b[A\n",
            "[Succeeded / Failed / Total] 2 / 1 / 4:  16%|█▌        | 4/25 [00:09<00:48,  2.31s/it]\u001b[A"
          ],
          "name": "stderr"
        },
        {
          "output_type": "display_data",
          "data": {
            "text/html": [
              "<font color = green>Positive (80%)</font> --> <font color = red>Negative (90%)</font><br>red dragon \" <font color = green>never</font> cuts corners .<br>red dragon \" <font color = red>ever</font> cuts corners ."
            ],
            "text/plain": [
              "<IPython.core.display.HTML object>"
            ]
          },
          "metadata": {
            "tags": []
          }
        },
        {
          "output_type": "stream",
          "text": [
            "\n",
            "[Succeeded / Failed / Total] 3 / 1 / 5:  20%|██        | 5/25 [00:09<00:37,  1.88s/it]\u001b[A"
          ],
          "name": "stderr"
        },
        {
          "output_type": "display_data",
          "data": {
            "text/html": [
              "<font color = green>Positive (94%)</font> --> <font color = red>Negative (64%)</font><br><font color = green>fresnadillo</font> <font color = green>has</font> <font color = green>something</font> serious to <font color = green>say</font> about the ways in which extravagant <font color = green>chance</font> can distort our perspective and throw us off the path of good sense .<br><font color = red>fresno</font> <font color = red>had</font> <font color = red>seething</font> serious to <font color = red>think</font> about the ways in which extravagant <font color = red>guess</font> can distort our perspective and throw us off the path of good sense ."
            ],
            "text/plain": [
              "<IPython.core.display.HTML object>"
            ]
          },
          "metadata": {
            "tags": []
          }
        },
        {
          "output_type": "stream",
          "text": [
            "\n",
            "[Succeeded / Failed / Total] 3 / 1 / 5:  24%|██▍       | 6/25 [00:20<01:06,  3.49s/it]\u001b[A\n",
            "[Succeeded / Failed / Total] 4 / 1 / 6:  24%|██▍       | 6/25 [00:20<01:06,  3.49s/it]\u001b[A"
          ],
          "name": "stderr"
        },
        {
          "output_type": "display_data",
          "data": {
            "text/html": [
              "<font color = green>Positive (97%)</font> --> <font color = red>Negative (96%)</font><br>throws in enough <font color = green>clever</font> and <font color = green>unexpected</font> <font color = green>twists</font> to make the formula feel <font color = green>fresh</font> .<br>throws in enough <font color = red>cleve</font> and <font color = red>unexposed</font> <font color = red>hoists</font> to make the formula feel <font color = red>vegetable</font> ."
            ],
            "text/plain": [
              "<IPython.core.display.HTML object>"
            ]
          },
          "metadata": {
            "tags": []
          }
        },
        {
          "output_type": "stream",
          "text": [
            "\n",
            "[Succeeded / Failed / Total] 4 / 1 / 6:  28%|██▊       | 7/25 [00:23<00:59,  3.29s/it]\u001b[A\n",
            "[Succeeded / Failed / Total] 5 / 1 / 7:  28%|██▊       | 7/25 [00:23<00:59,  3.29s/it]\u001b[A"
          ],
          "name": "stderr"
        },
        {
          "output_type": "display_data",
          "data": {
            "text/html": [
              "<font color = green>Positive (74%)</font> --> <font color = red>Negative (80%)</font><br>weighty and <font color = green>ponderous</font> but every bit as filling <font color = green>as</font> the <font color = green>treat</font> of the title .<br>weighty and <font color = red>lecherous</font> but every bit as filling <font color = red>well</font> the <font color = red>prescribe</font> of the title ."
            ],
            "text/plain": [
              "<IPython.core.display.HTML object>"
            ]
          },
          "metadata": {
            "tags": []
          }
        },
        {
          "output_type": "stream",
          "text": [
            "\n",
            "[Succeeded / Failed / Total] 5 / 1 / 7:  32%|███▏      | 8/25 [00:24<00:51,  3.06s/it]\u001b[A\n",
            "[Succeeded / Failed / Total] 6 / 1 / 8:  32%|███▏      | 8/25 [00:24<00:51,  3.06s/it]\u001b[A"
          ],
          "name": "stderr"
        },
        {
          "output_type": "display_data",
          "data": {
            "text/html": [
              "<font color = green>Positive (98%)</font> --> <font color = red>Negative (55%)</font><br><font color = green>a</font> <font color = green>real</font> audience-pleaser that <font color = green>will</font> strike <font color = green>a</font> chord with anyone who's <font color = green>ever</font> waited in a doctor's office , emergency room , hospital bed or insurance company office .<br><font color = red>the</font> <font color = red>imaginary</font> audience-pleaser that <font color = red>would</font> strike <font color = red>the</font> chord with anyone who's <font color = red>sadly</font> waited in a doctor's office , emergency room , hospital bed or insurance company office ."
            ],
            "text/plain": [
              "<IPython.core.display.HTML object>"
            ]
          },
          "metadata": {
            "tags": []
          }
        },
        {
          "output_type": "stream",
          "text": [
            "\n",
            "[Succeeded / Failed / Total] 6 / 1 / 8:  36%|███▌      | 9/25 [00:39<01:10,  4.43s/it]\u001b[A\n",
            "[Succeeded / Failed / Total] 7 / 1 / 9:  36%|███▌      | 9/25 [00:39<01:10,  4.43s/it]\u001b[A"
          ],
          "name": "stderr"
        },
        {
          "output_type": "display_data",
          "data": {
            "text/html": [
              "<font color = green>Positive (99%)</font> --> <font color = red>Negative (88%)</font><br>generates an enormous feeling of <font color = green>empathy</font> for its characters .<br>generates an enormous feeling of <font color = red>apathy</font> for its characters ."
            ],
            "text/plain": [
              "<IPython.core.display.HTML object>"
            ]
          },
          "metadata": {
            "tags": []
          }
        },
        {
          "output_type": "stream",
          "text": [
            "\n",
            "[Succeeded / Failed / Total] 7 / 1 / 9:  40%|████      | 10/25 [00:40<01:00,  4.01s/it]\u001b[A\n",
            "[Succeeded / Failed / Total] 8 / 1 / 10:  40%|████      | 10/25 [00:40<01:00,  4.01s/it]\u001b[A"
          ],
          "name": "stderr"
        },
        {
          "output_type": "display_data",
          "data": {
            "text/html": [
              "<font color = green>Positive (97%)</font> --> <font color = red>Negative (75%)</font><br>exposing the ways we fool ourselves <font color = green>is</font> one hour photo's <font color = green>real</font> <font color = green>strength</font> .<br>exposing the ways we fool ourselves <font color = red>was</font> one hour photo's <font color = red>unimaginable</font> <font color = red>toughness</font> ."
            ],
            "text/plain": [
              "<IPython.core.display.HTML object>"
            ]
          },
          "metadata": {
            "tags": []
          }
        },
        {
          "output_type": "stream",
          "text": [
            "\n",
            "[Succeeded / Failed / Total] 8 / 1 / 10:  44%|████▍     | 11/25 [00:41<00:52,  3.79s/it]\u001b[A\n",
            "[Succeeded / Failed / Total] 9 / 1 / 11:  44%|████▍     | 11/25 [00:41<00:53,  3.79s/it]\u001b[A"
          ],
          "name": "stderr"
        },
        {
          "output_type": "display_data",
          "data": {
            "text/html": [
              "<font color = red>Negative (57%)</font> --> <font color = gray>[SKIPPED]</font><br>it's up to you to decide whether to admire these people's dedication to their cause or be repelled by their dogmatism , manipulativeness and narrow , fearful view of american life ."
            ],
            "text/plain": [
              "<IPython.core.display.HTML object>"
            ]
          },
          "metadata": {
            "tags": []
          }
        },
        {
          "output_type": "stream",
          "text": [
            "\n",
            "[Succeeded / Failed / Total] 9 / 1 / 12:  48%|████▊     | 12/25 [00:41<00:45,  3.47s/it]\u001b[A"
          ],
          "name": "stderr"
        },
        {
          "output_type": "display_data",
          "data": {
            "text/html": [
              "<font color = green>Positive (67%)</font> --> <font color = red>Negative (80%)</font><br>mostly , [goldbacher] just lets her <font color = green>complicated</font> characters be unruly , confusing and , through it all , human .<br>mostly , [goldbacher] just lets her <font color = red>complicates</font> characters be unruly , confusing and , through it all , human ."
            ],
            "text/plain": [
              "<IPython.core.display.HTML object>"
            ]
          },
          "metadata": {
            "tags": []
          }
        },
        {
          "output_type": "stream",
          "text": [
            "\n",
            "[Succeeded / Failed / Total] 9 / 1 / 12:  52%|█████▏    | 13/25 [00:41<00:38,  3.23s/it]\u001b[A\n",
            "[Succeeded / Failed / Total] 10 / 1 / 13:  52%|█████▏    | 13/25 [00:42<00:38,  3.23s/it]\u001b[A"
          ],
          "name": "stderr"
        },
        {
          "output_type": "display_data",
          "data": {
            "text/html": [
              "<font color = green>Positive (98%)</font> --> <font color = red>Negative (96%)</font><br>. . . quite <font color = green>good</font> at providing some good old fashioned spooks .<br>. . . quite <font color = red>bad</font> at providing some good old fashioned spooks ."
            ],
            "text/plain": [
              "<IPython.core.display.HTML object>"
            ]
          },
          "metadata": {
            "tags": []
          }
        },
        {
          "output_type": "stream",
          "text": [
            "\n",
            "[Succeeded / Failed / Total] 11 / 1 / 14:  56%|█████▌    | 14/25 [00:42<00:33,  3.02s/it]\u001b[A"
          ],
          "name": "stderr"
        },
        {
          "output_type": "display_data",
          "data": {
            "text/html": [
              "<font color = red>Negative (92%)</font> --> <font color = gray>[SKIPPED]</font><br>at its worst , the movie is pretty diverting ; the pity is that it rarely achieves its best ."
            ],
            "text/plain": [
              "<IPython.core.display.HTML object>"
            ]
          },
          "metadata": {
            "tags": []
          }
        },
        {
          "output_type": "stream",
          "text": [
            "\n",
            "[Succeeded / Failed / Total] 11 / 1 / 14:  60%|██████    | 15/25 [00:42<00:28,  2.82s/it]\u001b[A\n",
            "[Succeeded / Failed / Total] 11 / 1 / 15:  60%|██████    | 15/25 [00:42<00:28,  2.82s/it]\u001b[A"
          ],
          "name": "stderr"
        },
        {
          "output_type": "display_data",
          "data": {
            "text/html": [
              "<font color = green>Positive (99%)</font> --> <font color = red>[FAILED]</font><br>scherfig's light-hearted profile of emotional desperation is achingly honest and delightfully cheeky ."
            ],
            "text/plain": [
              "<IPython.core.display.HTML object>"
            ]
          },
          "metadata": {
            "tags": []
          }
        },
        {
          "output_type": "stream",
          "text": [
            "\n",
            "[Succeeded / Failed / Total] 11 / 2 / 16:  64%|██████▍   | 16/25 [00:48<00:27,  3.04s/it]\u001b[A\n",
            "[Succeeded / Failed / Total] 11 / 2 / 16:  64%|██████▍   | 16/25 [00:53<00:30,  3.37s/it]\u001b[A"
          ],
          "name": "stderr"
        },
        {
          "output_type": "display_data",
          "data": {
            "text/html": [
              "<font color = green>Positive (99%)</font> --> <font color = red>[FAILED]</font><br>a journey spanning nearly three decades of bittersweet camaraderie and history , in which we feel that we truly know what makes holly and marina tick , and our hearts go out to them as both continue to negotiate their imperfect , love-hate relationship ."
            ],
            "text/plain": [
              "<IPython.core.display.HTML object>"
            ]
          },
          "metadata": {
            "tags": []
          }
        },
        {
          "output_type": "stream",
          "text": [
            "\n",
            "[Succeeded / Failed / Total] 11 / 2 / 16:  68%|██████▊   | 17/25 [01:29<00:42,  5.27s/it]\u001b[A\n",
            "[Succeeded / Failed / Total] 11 / 3 / 17:  68%|██████▊   | 17/25 [01:29<00:42,  5.27s/it]\u001b[A"
          ],
          "name": "stderr"
        },
        {
          "output_type": "display_data",
          "data": {
            "text/html": [
              "<font color = green>Positive (95%)</font> --> <font color = red>Negative (56%)</font><br>the wonderfully <font color = green>lush</font> <font color = green>morvern</font> callar <font color = green>is</font> <font color = green>pure</font> punk existentialism , and ms . ramsay and <font color = green>her</font> co-writer , liana dognini , have dramatized the alan warner novel , which itself felt like an answer to irvine welsh's book trainspotting .<br>the wonderfully <font color = red>raincoat</font> <font color = red>vern</font> callar <font color = red>was</font> <font color = red>mixture</font> punk existentialism , and ms . ramsay and <font color = red>his</font> co-writer , liana dognini , have dramatized the alan warner novel , which itself felt like an answer to irvine welsh's book trainspotting ."
            ],
            "text/plain": [
              "<IPython.core.display.HTML object>"
            ]
          },
          "metadata": {
            "tags": []
          }
        },
        {
          "output_type": "stream",
          "text": [
            "\n",
            "[Succeeded / Failed / Total] 11 / 3 / 17:  72%|███████▏  | 18/25 [01:37<00:38,  5.44s/it]\u001b[A\n",
            "[Succeeded / Failed / Total] 12 / 3 / 18:  72%|███████▏  | 18/25 [01:37<00:38,  5.44s/it]\u001b[A"
          ],
          "name": "stderr"
        },
        {
          "output_type": "display_data",
          "data": {
            "text/html": [
              "<font color = green>Positive (59%)</font> --> <font color = red>Negative (62%)</font><br>as it <font color = green>turns</font> out , you can go home again .<br>as it <font color = red>urns</font> out , you can go home again ."
            ],
            "text/plain": [
              "<IPython.core.display.HTML object>"
            ]
          },
          "metadata": {
            "tags": []
          }
        },
        {
          "output_type": "stream",
          "text": [
            "\n",
            "[Succeeded / Failed / Total] 12 / 3 / 18:  76%|███████▌  | 19/25 [01:38<00:30,  5.16s/it]\u001b[A\n",
            "[Succeeded / Failed / Total] 13 / 3 / 19:  76%|███████▌  | 19/25 [01:38<00:30,  5.17s/it]\u001b[A"
          ],
          "name": "stderr"
        },
        {
          "output_type": "display_data",
          "data": {
            "text/html": [
              "<font color = green>Positive (92%)</font> --> <font color = red>Negative (80%)</font><br>you've already seen city by the sea under a variety of titles , but it's <font color = green>worth</font> yet another visit .<br>you've already seen city by the sea under a variety of titles , but it's <font color = red>hapworth</font> yet another visit ."
            ],
            "text/plain": [
              "<IPython.core.display.HTML object>"
            ]
          },
          "metadata": {
            "tags": []
          }
        },
        {
          "output_type": "stream",
          "text": [
            "\n",
            "[Succeeded / Failed / Total] 13 / 3 / 19:  80%|████████  | 20/25 [01:38<00:24,  4.93s/it]\u001b[A\n",
            "[Succeeded / Failed / Total] 14 / 3 / 20:  80%|████████  | 20/25 [01:38<00:24,  4.93s/it]\u001b[A"
          ],
          "name": "stderr"
        },
        {
          "output_type": "display_data",
          "data": {
            "text/html": [
              "<font color = green>Positive (96%)</font> --> <font color = red>Negative (60%)</font><br><font color = green>this</font> kind of hands-on storytelling is ultimately what <font color = green>makes</font> shanghai ghetto move beyond a good , dry , reliable textbook and what allows it to rank with its worthy predecessors .<br><font color = red>which</font> kind of hands-on storytelling is ultimately what <font color = red>faking</font> shanghai ghetto move beyond a good , dry , reliable textbook and what allows it to rank with its worthy predecessors ."
            ],
            "text/plain": [
              "<IPython.core.display.HTML object>"
            ]
          },
          "metadata": {
            "tags": []
          }
        },
        {
          "output_type": "stream",
          "text": [
            "\n",
            "[Succeeded / Failed / Total] 14 / 3 / 20:  84%|████████▍ | 21/25 [01:47<00:20,  5.12s/it]\u001b[A\n",
            "[Succeeded / Failed / Total] 15 / 3 / 21:  84%|████████▍ | 21/25 [01:47<00:20,  5.12s/it]\u001b[A"
          ],
          "name": "stderr"
        },
        {
          "output_type": "display_data",
          "data": {
            "text/html": [
              "<font color = red>Negative (90%)</font> --> <font color = gray>[SKIPPED]</font><br>making such a tragedy the backdrop to a love story risks trivializing it , though chouraqui no doubt intended the film to affirm love's power to help people endure almost unimaginable horror ."
            ],
            "text/plain": [
              "<IPython.core.display.HTML object>"
            ]
          },
          "metadata": {
            "tags": []
          }
        },
        {
          "output_type": "stream",
          "text": [
            "\n",
            "[Succeeded / Failed / Total] 15 / 3 / 22:  88%|████████▊ | 22/25 [01:47<00:14,  4.89s/it]\u001b[A"
          ],
          "name": "stderr"
        },
        {
          "output_type": "display_data",
          "data": {
            "text/html": [
              "<font color = green>Positive (63%)</font> --> <font color = red>Negative (87%)</font><br>grown-up quibbles are beside the point here . the little girls understand , and mccracken knows that's all that <font color = green>matters</font> .<br>grown-up quibbles are beside the point here . the little girls understand , and mccracken knows that's all that <font color = red>tatters</font> ."
            ],
            "text/plain": [
              "<IPython.core.display.HTML object>"
            ]
          },
          "metadata": {
            "tags": []
          }
        },
        {
          "output_type": "stream",
          "text": [
            "\n",
            "[Succeeded / Failed / Total] 15 / 3 / 22:  92%|█████████▏| 23/25 [01:47<00:09,  4.69s/it]\u001b[A\n",
            "[Succeeded / Failed / Total] 16 / 3 / 23:  92%|█████████▏| 23/25 [01:47<00:09,  4.69s/it]\u001b[A"
          ],
          "name": "stderr"
        },
        {
          "output_type": "display_data",
          "data": {
            "text/html": [
              "<font color = green>Positive (99%)</font> --> <font color = red>Negative (54%)</font><br><font color = green>a</font> <font color = green>powerful</font> , <font color = green>chilling</font> , and affecting <font color = green>study</font> of <font color = green>one</font> man's <font color = green>dying</font> <font color = green>fall</font> .<br><font color = red>the</font> <font color = red>sophisticated</font> , <font color = red>billing</font> , and affecting <font color = red>systematics</font> of <font color = red>nine</font> man's <font color = red>crying</font> <font color = red>fell</font> ."
            ],
            "text/plain": [
              "<IPython.core.display.HTML object>"
            ]
          },
          "metadata": {
            "tags": []
          }
        },
        {
          "output_type": "stream",
          "text": [
            "\n",
            "[Succeeded / Failed / Total] 17 / 3 / 24:  96%|█████████▌| 24/25 [01:55<00:04,  4.80s/it]\u001b[A"
          ],
          "name": "stderr"
        },
        {
          "output_type": "display_data",
          "data": {
            "text/html": [
              "<font color = green>Positive (90%)</font> --> <font color = red>Negative (64%)</font><br><font color = green>this</font> is a fascinating film because there is no clear-cut hero and no <font color = green>all-out</font> villain .<br><font color = red>which</font> is a fascinating film because there is no clear-cut hero and no <font color = red>dugout</font> villain ."
            ],
            "text/plain": [
              "<IPython.core.display.HTML object>"
            ]
          },
          "metadata": {
            "tags": []
          }
        },
        {
          "output_type": "stream",
          "text": [
            "\n",
            "[Succeeded / Failed / Total] 17 / 3 / 24: 100%|██████████| 25/25 [01:55<00:00,  4.63s/it]\u001b[A\n",
            "[Succeeded / Failed / Total] 18 / 3 / 25: 100%|██████████| 25/25 [01:55<00:00,  4.63s/it]\u001b[A"
          ],
          "name": "stderr"
        },
        {
          "output_type": "display_data",
          "data": {
            "text/html": [
              "<font color = red>Negative (80%)</font> --> <font color = gray>[SKIPPED]</font><br>a dreadful day in irish history is given passionate , if somewhat flawed , treatment ."
            ],
            "text/plain": [
              "<IPython.core.display.HTML object>"
            ]
          },
          "metadata": {
            "tags": []
          }
        },
        {
          "output_type": "stream",
          "text": [
            "\n",
            "[Succeeded / Failed / Total] 18 / 3 / 26: : 26it [01:55,  4.45s/it]                      \u001b[A"
          ],
          "name": "stderr"
        },
        {
          "output_type": "display_data",
          "data": {
            "text/html": [
              "<font color = green>Positive (87%)</font> --> <font color = red>Negative (96%)</font><br>. . . a <font color = green>good</font> film that must have baffled the folks in the marketing department .<br>. . . a <font color = red>bad</font> film that must have baffled the folks in the marketing department ."
            ],
            "text/plain": [
              "<IPython.core.display.HTML object>"
            ]
          },
          "metadata": {
            "tags": []
          }
        },
        {
          "output_type": "stream",
          "text": [
            "\n",
            "[Succeeded / Failed / Total] 18 / 3 / 26: : 27it [01:56,  4.30s/it]\u001b[A\n",
            "[Succeeded / Failed / Total] 19 / 3 / 27: : 27it [01:56,  4.30s/it]\u001b[A\n",
            "[Succeeded / Failed / Total] 19 / 3 / 27: : 27it [02:13,  4.96s/it]\u001b[A"
          ],
          "name": "stderr"
        },
        {
          "output_type": "display_data",
          "data": {
            "text/html": [
              "<font color = green>Positive (98%)</font> --> <font color = red>Negative (55%)</font><br>. . . <font color = green>is</font> funny <font color = green>in</font> the <font color = green>way</font> <font color = green>that</font> <font color = green>makes</font> you <font color = green>ache</font> with sadness ( the way <font color = green>chekhov</font> <font color = green>is</font> <font color = green>funny</font> ) , profound without ever being <font color = green>self-important</font> , warm without <font color = green>ever</font> <font color = green>succumbing</font> to sentimentality .<br>. . . <font color = red>was</font> funny <font color = red>of</font> the <font color = red>thing</font> <font color = red>which</font> <font color = red>faking</font> you <font color = red>ach</font> with sadness ( the way <font color = red>dostoyevsky</font> <font color = red>was</font> <font color = red>bunny</font> ) , profound without ever being <font color = red>important</font> , warm without <font color = red>hardly</font> <font color = red>succulent</font> to sentimentality ."
            ],
            "text/plain": [
              "<IPython.core.display.HTML object>"
            ]
          },
          "metadata": {
            "tags": []
          }
        },
        {
          "output_type": "stream",
          "text": [
            "\n",
            "[Succeeded / Failed / Total] 19 / 3 / 27: : 28it [02:15,  4.83s/it]\u001b[A\n",
            "[Succeeded / Failed / Total] 20 / 3 / 28: : 28it [02:15,  4.83s/it]\u001b[A"
          ],
          "name": "stderr"
        },
        {
          "output_type": "display_data",
          "data": {
            "text/html": [
              "<font color = red>Negative (96%)</font> --> <font color = gray>[SKIPPED]</font><br>devotees of star trek ii : the wrath of khan will feel a nagging sense of deja vu , and the grandeur of the best next generation episodes is lacking ."
            ],
            "text/plain": [
              "<IPython.core.display.HTML object>"
            ]
          },
          "metadata": {
            "tags": []
          }
        },
        {
          "output_type": "stream",
          "text": [
            "\n",
            "[Succeeded / Failed / Total] 20 / 3 / 29: : 29it [02:15,  4.67s/it]\u001b[A"
          ],
          "name": "stderr"
        },
        {
          "output_type": "display_data",
          "data": {
            "text/html": [
              "<font color = green>Positive (99%)</font> --> <font color = red>Negative (53%)</font><br><font color = green>a</font> soul-stirring <font color = green>documentary</font> about the israeli/palestinian <font color = green>conflict</font> as revealed through the <font color = green>eyes</font> of some children who <font color = green>remain</font> <font color = green>curious</font> about <font color = green>each</font> other against all odds .<br><font color = red>the</font> soul-stirring <font color = red>mockumentary</font> about the israeli/palestinian <font color = red>hostilities</font> as revealed through the <font color = red>eye</font> of some children who <font color = red>demain</font> <font color = red>furious</font> about <font color = red>every</font> other against all odds ."
            ],
            "text/plain": [
              "<IPython.core.display.HTML object>"
            ]
          },
          "metadata": {
            "tags": []
          }
        },
        {
          "output_type": "stream",
          "text": [
            "\n",
            "[Succeeded / Failed / Total] 20 / 3 / 29: : 30it [02:22,  4.75s/it]\u001b[A\n",
            "[Succeeded / Failed / Total] 21 / 3 / 30: : 30it [02:22,  4.75s/it]\u001b[A"
          ],
          "name": "stderr"
        },
        {
          "output_type": "display_data",
          "data": {
            "text/html": [
              "<font color = green>Positive (89%)</font> --> <font color = red>Negative (55%)</font><br>what's so striking about jolie's <font color = green>performance</font> is that she <font color = green>never</font> lets <font color = green>her</font> character become a <font color = green>caricature</font> -- not even with that radioactive hair .<br>what's so striking about jolie's <font color = red>performace</font> is that she <font color = red>ever</font> lets <font color = red>his</font> character become a <font color = red>caricaturist</font> -- not even with that radioactive hair ."
            ],
            "text/plain": [
              "<IPython.core.display.HTML object>"
            ]
          },
          "metadata": {
            "tags": []
          }
        },
        {
          "output_type": "stream",
          "text": [
            "\n",
            "[Succeeded / Failed / Total] 22 / 3 / 31: : 31it [02:29,  4.82s/it]"
          ],
          "name": "stderr"
        },
        {
          "output_type": "stream",
          "text": [
            "+-------------------------------+--------+\n",
            "| Attack Results                |        |\n",
            "+-------------------------------+--------+\n",
            "| Number of successful attacks: | 22     |\n",
            "| Number of failed attacks:     | 3      |\n",
            "| Number of skipped attacks:    | 6      |\n",
            "| Original accuracy:            | 80.65% |\n",
            "| Accuracy under attack:        | 9.68%  |\n",
            "| Attack success rate:          | 88.0%  |\n",
            "| Average perturbed word %:     | 19.83% |\n",
            "| Average num. words per input: | 18.74  |\n",
            "| Avg num queries:              | 252.0  |\n",
            "+-------------------------------+--------+"
          ],
          "name": "stdout"
        },
        {
          "output_type": "stream",
          "text": [
            "\n",
            "\u001b[34;1mtextattack\u001b[0m: Attack time: 149.52280974388123s\n"
          ],
          "name": "stderr"
        }
      ]
    },
    {
      "cell_type": "markdown",
      "metadata": {
        "id": "Ms2AfPa9uIL4"
      },
      "source": [
        "### Word2Vec, ParticleSwarmOptimization, PartsofSpeech"
      ]
    },
    {
      "cell_type": "code",
      "metadata": {
        "id": "HRcvfqDK27ON",
        "colab": {
          "base_uri": "https://localhost:8080/"
        },
        "outputId": "ce6cad28-79df-4260-eec4-6f97e45f34eb"
      },
      "source": [
        "# We're going to use our word swap class as the attack transformation.\n",
        "transformation = Swapper_()\n",
        "\n",
        "constraints = [PartOfSpeech()]\n",
        "\n",
        "search_method = ParticleSwarmOptimization(pop_size=10,max_iters=5)\n",
        "\n",
        "goal_function = UntargetedClassification(model_wrapper)\n",
        "\n",
        "# Now, let's make the attack from the 4 components:\n",
        "attack = Attack(goal_function, constraints, transformation, search_method)"
      ],
      "execution_count": 57,
      "outputs": [
        {
          "output_type": "stream",
          "text": [
            "\u001b[34;1mtextattack\u001b[0m: Unknown if model of class <class 'transformers.models.albert.modeling_albert.AlbertForSequenceClassification'> compatible with goal function <class 'textattack.goal_functions.classification.untargeted_classification.UntargetedClassification'>.\n"
          ],
          "name": "stderr"
        }
      ]
    },
    {
      "cell_type": "code",
      "metadata": {
        "id": "BjK9n6ac5NqI",
        "colab": {
          "base_uri": "https://localhost:8080/"
        },
        "outputId": "68fe25da-843c-4b1a-8e7e-fe76b37ed174"
      },
      "source": [
        "print(attack)"
      ],
      "execution_count": 58,
      "outputs": [
        {
          "output_type": "stream",
          "text": [
            "Attack(\n",
            "  (search_method): ParticleSwarmOptimization(\n",
            "    (pop_size):  10\n",
            "    (max_iters):  5\n",
            "    (post_turn_check):  True\n",
            "    (max_turn_retries):  20\n",
            "  )\n",
            "  (goal_function):  UntargetedClassification\n",
            "  (transformation):  Swapper_\n",
            "  (constraints): \n",
            "    (0): PartOfSpeech(\n",
            "        (tagger_type):  nltk\n",
            "        (tagset):  universal\n",
            "        (allow_verb_noun_swap):  True\n",
            "        (compare_against_original):  True\n",
            "      )\n",
            "  (is_black_box):  True\n",
            ")\n"
          ],
          "name": "stdout"
        }
      ]
    },
    {
      "cell_type": "code",
      "metadata": {
        "id": "heD59UeC5Pgs",
        "colab": {
          "base_uri": "https://localhost:8080/",
          "height": 1000
        },
        "outputId": "2646b983-c509-482e-edf6-c1820ccb4830"
      },
      "source": [
        "attack_stats(attack, dataset, 25)"
      ],
      "execution_count": 59,
      "outputs": [
        {
          "output_type": "stream",
          "text": [
            "\n",
            "  0%|          | 0/25 [00:00<?, ?it/s]\u001b[A"
          ],
          "name": "stderr"
        },
        {
          "output_type": "stream",
          "text": [
            "Attack(\n",
            "  (search_method): ParticleSwarmOptimization(\n",
            "    (pop_size):  10\n",
            "    (max_iters):  5\n",
            "    (post_turn_check):  True\n",
            "    (max_turn_retries):  20\n",
            "  )\n",
            "  (goal_function):  UntargetedClassification\n",
            "  (transformation):  Swapper_\n",
            "  (constraints): \n",
            "    (0): PartOfSpeech(\n",
            "        (tagger_type):  nltk\n",
            "        (tagset):  universal\n",
            "        (allow_verb_noun_swap):  True\n",
            "        (compare_against_original):  True\n",
            "      )\n",
            "  (is_black_box):  True\n",
            ")\n"
          ],
          "name": "stdout"
        },
        {
          "output_type": "display_data",
          "data": {
            "text/html": [
              "<font color = green>Positive (93%)</font> --> <font color = red>Negative (84%)</font><br>lovingly photographed in the manner of a <font color = green>golden</font> book sprung to life , <font color = green>stuart</font> little 2 <font color = green>manages</font> <font color = green>sweetness</font> largely without stickiness .<br>lovingly photographed in the manner of a <font color = red>fleece</font> book sprung to life , <font color = red>pym</font> little 2 <font color = red>wants</font> <font color = red>ripening</font> largely without stickiness ."
            ],
            "text/plain": [
              "<IPython.core.display.HTML object>"
            ]
          },
          "metadata": {
            "tags": []
          }
        },
        {
          "output_type": "stream",
          "text": [
            "\n",
            "  4%|▍         | 1/25 [00:04<01:50,  4.59s/it]\u001b[A\n",
            "[Succeeded / Failed / Total] 1 / 0 / 1:   4%|▍         | 1/25 [00:04<01:50,  4.60s/it]\u001b[A"
          ],
          "name": "stderr"
        },
        {
          "output_type": "display_data",
          "data": {
            "text/html": [
              "<font color = green>Positive (99%)</font> --> <font color = red>[FAILED]</font><br>consistently clever and suspenseful ."
            ],
            "text/plain": [
              "<IPython.core.display.HTML object>"
            ]
          },
          "metadata": {
            "tags": []
          }
        },
        {
          "output_type": "stream",
          "text": [
            "\n",
            "[Succeeded / Failed / Total] 1 / 0 / 1:   8%|▊         | 2/25 [00:04<00:55,  2.39s/it]\u001b[A\n",
            "[Succeeded / Failed / Total] 1 / 1 / 2:   8%|▊         | 2/25 [00:04<00:55,  2.40s/it]\u001b[A"
          ],
          "name": "stderr"
        },
        {
          "output_type": "display_data",
          "data": {
            "text/html": [
              "<font color = red>Negative (92%)</font> --> <font color = gray>[SKIPPED]</font><br>it's like a \" big chill \" reunion of the baader-meinhof gang , only these guys are more harmless pranksters than political activists ."
            ],
            "text/plain": [
              "<IPython.core.display.HTML object>"
            ]
          },
          "metadata": {
            "tags": []
          }
        },
        {
          "output_type": "stream",
          "text": [
            "\n",
            "[Succeeded / Failed / Total] 1 / 1 / 3:  12%|█▏        | 3/25 [00:04<00:35,  1.61s/it]\u001b[A"
          ],
          "name": "stderr"
        },
        {
          "output_type": "display_data",
          "data": {
            "text/html": [
              "<font color = green>Positive (99%)</font> --> <font color = red>Negative (93%)</font><br>the story <font color = green>gives</font> <font color = green>ample</font> opportunity for large-scale action and suspense , which <font color = green>director</font> shekhar kapur supplies with tremendous <font color = green>skill</font> .<br>the story <font color = red>gave</font> <font color = red>insufficient</font> opportunity for large-scale action and suspense , which <font color = red>producer</font> shekhar kapur supplies with tremendous <font color = red>abilities</font> ."
            ],
            "text/plain": [
              "<IPython.core.display.HTML object>"
            ]
          },
          "metadata": {
            "tags": []
          }
        },
        {
          "output_type": "stream",
          "text": [
            "\n",
            "[Succeeded / Failed / Total] 1 / 1 / 3:  16%|█▌        | 4/25 [00:06<00:31,  1.50s/it]\u001b[A\n",
            "[Succeeded / Failed / Total] 2 / 1 / 4:  16%|█▌        | 4/25 [00:06<00:31,  1.51s/it]\u001b[A"
          ],
          "name": "stderr"
        },
        {
          "output_type": "display_data",
          "data": {
            "text/html": [
              "<font color = green>Positive (80%)</font> --> <font color = red>Negative (95%)</font><br>red dragon \" <font color = green>never</font> cuts corners .<br>red dragon \" <font color = red>already</font> cuts corners ."
            ],
            "text/plain": [
              "<IPython.core.display.HTML object>"
            ]
          },
          "metadata": {
            "tags": []
          }
        },
        {
          "output_type": "stream",
          "text": [
            "\n",
            "[Succeeded / Failed / Total] 3 / 1 / 5:  20%|██        | 5/25 [00:06<00:24,  1.24s/it]\u001b[A"
          ],
          "name": "stderr"
        },
        {
          "output_type": "display_data",
          "data": {
            "text/html": [
              "<font color = green>Positive (94%)</font> --> <font color = red>Negative (94%)</font><br>fresnadillo has <font color = green>something</font> serious to say about the ways in which extravagant chance can distort our perspective and throw us off the path of good sense .<br>fresnadillo has <font color = red>anything</font> serious to say about the ways in which extravagant chance can distort our perspective and throw us off the path of good sense ."
            ],
            "text/plain": [
              "<IPython.core.display.HTML object>"
            ]
          },
          "metadata": {
            "tags": []
          }
        },
        {
          "output_type": "stream",
          "text": [
            "\n",
            "[Succeeded / Failed / Total] 3 / 1 / 5:  24%|██▍       | 6/25 [00:06<00:21,  1.13s/it]\u001b[A\n",
            "[Succeeded / Failed / Total] 4 / 1 / 6:  24%|██▍       | 6/25 [00:06<00:21,  1.14s/it]\u001b[A"
          ],
          "name": "stderr"
        },
        {
          "output_type": "display_data",
          "data": {
            "text/html": [
              "<font color = green>Positive (97%)</font> --> <font color = red>[FAILED]</font><br>throws in enough clever and unexpected twists to make the formula feel fresh ."
            ],
            "text/plain": [
              "<IPython.core.display.HTML object>"
            ]
          },
          "metadata": {
            "tags": []
          }
        },
        {
          "output_type": "stream",
          "text": [
            "\n",
            "[Succeeded / Failed / Total] 4 / 2 / 7:  28%|██▊       | 7/25 [00:11<00:29,  1.63s/it]\u001b[A"
          ],
          "name": "stderr"
        },
        {
          "output_type": "display_data",
          "data": {
            "text/html": [
              "<font color = green>Positive (74%)</font> --> <font color = red>Negative (60%)</font><br>weighty and ponderous but every bit as <font color = green>filling</font> as the treat of the title .<br>weighty and ponderous but every bit as <font color = red>knitted</font> as the treat of the title ."
            ],
            "text/plain": [
              "<IPython.core.display.HTML object>"
            ]
          },
          "metadata": {
            "tags": []
          }
        },
        {
          "output_type": "stream",
          "text": [
            "\n",
            "[Succeeded / Failed / Total] 4 / 2 / 7:  32%|███▏      | 8/25 [00:11<00:24,  1.46s/it]\u001b[A\n",
            "[Succeeded / Failed / Total] 5 / 2 / 8:  32%|███▏      | 8/25 [00:11<00:24,  1.46s/it]\u001b[A"
          ],
          "name": "stderr"
        },
        {
          "output_type": "display_data",
          "data": {
            "text/html": [
              "<font color = green>Positive (98%)</font> --> <font color = red>Negative (73%)</font><br>a <font color = green>real</font> audience-pleaser that will <font color = green>strike</font> a <font color = green>chord</font> with anyone who's ever waited in a doctor's office , emergency room , hospital bed or insurance company office .<br>a <font color = red>nonnegative</font> audience-pleaser that will <font color = red>downed</font> a <font color = red>subdominant</font> with anyone who's ever waited in a doctor's office , emergency room , hospital bed or insurance company office ."
            ],
            "text/plain": [
              "<IPython.core.display.HTML object>"
            ]
          },
          "metadata": {
            "tags": []
          }
        },
        {
          "output_type": "stream",
          "text": [
            "\n",
            "[Succeeded / Failed / Total] 6 / 2 / 9:  36%|███▌      | 9/25 [00:14<00:26,  1.66s/it]\u001b[A"
          ],
          "name": "stderr"
        },
        {
          "output_type": "display_data",
          "data": {
            "text/html": [
              "<font color = green>Positive (99%)</font> --> <font color = red>Negative (54%)</font><br>generates an enormous <font color = green>feeling</font> of empathy for its characters .<br>generates an enormous <font color = red>unhappiness</font> of empathy for its characters ."
            ],
            "text/plain": [
              "<IPython.core.display.HTML object>"
            ]
          },
          "metadata": {
            "tags": []
          }
        },
        {
          "output_type": "stream",
          "text": [
            "\n",
            "[Succeeded / Failed / Total] 6 / 2 / 9:  40%|████      | 10/25 [00:15<00:23,  1.58s/it]\u001b[A\n",
            "[Succeeded / Failed / Total] 7 / 2 / 10:  40%|████      | 10/25 [00:15<00:23,  1.58s/it]\u001b[A"
          ],
          "name": "stderr"
        },
        {
          "output_type": "display_data",
          "data": {
            "text/html": [
              "<font color = green>Positive (97%)</font> --> <font color = red>Negative (73%)</font><br>exposing the ways we fool ourselves is one hour photo's <font color = green>real</font> <font color = green>strength</font> .<br>exposing the ways we fool ourselves is one hour photo's <font color = red>nonnegative</font> <font color = red>maneuverability</font> ."
            ],
            "text/plain": [
              "<IPython.core.display.HTML object>"
            ]
          },
          "metadata": {
            "tags": []
          }
        },
        {
          "output_type": "stream",
          "text": [
            "\n",
            "[Succeeded / Failed / Total] 8 / 2 / 11:  44%|████▍     | 11/25 [00:17<00:21,  1.55s/it]\u001b[A"
          ],
          "name": "stderr"
        },
        {
          "output_type": "display_data",
          "data": {
            "text/html": [
              "<font color = red>Negative (57%)</font> --> <font color = gray>[SKIPPED]</font><br>it's up to you to decide whether to admire these people's dedication to their cause or be repelled by their dogmatism , manipulativeness and narrow , fearful view of american life ."
            ],
            "text/plain": [
              "<IPython.core.display.HTML object>"
            ]
          },
          "metadata": {
            "tags": []
          }
        },
        {
          "output_type": "stream",
          "text": [
            "\n",
            "[Succeeded / Failed / Total] 8 / 2 / 11:  48%|████▊     | 12/25 [00:17<00:18,  1.42s/it]\u001b[A\n",
            "[Succeeded / Failed / Total] 8 / 2 / 12:  48%|████▊     | 12/25 [00:17<00:18,  1.42s/it]\u001b[A"
          ],
          "name": "stderr"
        },
        {
          "output_type": "display_data",
          "data": {
            "text/html": [
              "<font color = green>Positive (67%)</font> --> <font color = red>Negative (62%)</font><br>mostly , [goldbacher] just lets her complicated characters be unruly , confusing and , <font color = green>through</font> it all , human .<br>mostly , [goldbacher] just lets her complicated characters be unruly , confusing and , <font color = red>across</font> it all , human ."
            ],
            "text/plain": [
              "<IPython.core.display.HTML object>"
            ]
          },
          "metadata": {
            "tags": []
          }
        },
        {
          "output_type": "stream",
          "text": [
            "\n",
            "[Succeeded / Failed / Total] 9 / 2 / 13:  52%|█████▏    | 13/25 [00:17<00:16,  1.34s/it]\u001b[A"
          ],
          "name": "stderr"
        },
        {
          "output_type": "display_data",
          "data": {
            "text/html": [
              "<font color = green>Positive (98%)</font> --> <font color = red>Negative (96%)</font><br>. . . quite <font color = green>good</font> at providing some good old fashioned spooks .<br>. . . quite <font color = red>bad</font> at providing some good old fashioned spooks ."
            ],
            "text/plain": [
              "<IPython.core.display.HTML object>"
            ]
          },
          "metadata": {
            "tags": []
          }
        },
        {
          "output_type": "stream",
          "text": [
            "\n",
            "[Succeeded / Failed / Total] 9 / 2 / 13:  56%|█████▌    | 14/25 [00:17<00:13,  1.26s/it]\u001b[A\n",
            "[Succeeded / Failed / Total] 10 / 2 / 14:  56%|█████▌    | 14/25 [00:17<00:13,  1.26s/it]\u001b[A"
          ],
          "name": "stderr"
        },
        {
          "output_type": "display_data",
          "data": {
            "text/html": [
              "<font color = red>Negative (92%)</font> --> <font color = gray>[SKIPPED]</font><br>at its worst , the movie is pretty diverting ; the pity is that it rarely achieves its best ."
            ],
            "text/plain": [
              "<IPython.core.display.HTML object>"
            ]
          },
          "metadata": {
            "tags": []
          }
        },
        {
          "output_type": "stream",
          "text": [
            "\n",
            "[Succeeded / Failed / Total] 10 / 2 / 15:  60%|██████    | 15/25 [00:17<00:11,  1.18s/it]\u001b[A"
          ],
          "name": "stderr"
        },
        {
          "output_type": "display_data",
          "data": {
            "text/html": [
              "<font color = green>Positive (99%)</font> --> <font color = red>[FAILED]</font><br>scherfig's light-hearted profile of emotional desperation is achingly honest and delightfully cheeky ."
            ],
            "text/plain": [
              "<IPython.core.display.HTML object>"
            ]
          },
          "metadata": {
            "tags": []
          }
        },
        {
          "output_type": "stream",
          "text": [
            "\n",
            "[Succeeded / Failed / Total] 10 / 2 / 15:  64%|██████▍   | 16/25 [00:21<00:12,  1.36s/it]\u001b[A\n",
            "[Succeeded / Failed / Total] 10 / 3 / 16:  64%|██████▍   | 16/25 [00:21<00:12,  1.36s/it]\u001b[A\n",
            "[Succeeded / Failed / Total] 10 / 3 / 16:  64%|██████▍   | 16/25 [00:34<00:19,  2.15s/it]\u001b[A"
          ],
          "name": "stderr"
        },
        {
          "output_type": "display_data",
          "data": {
            "text/html": [
              "<font color = green>Positive (99%)</font> --> <font color = red>[FAILED]</font><br>a journey spanning nearly three decades of bittersweet camaraderie and history , in which we feel that we truly know what makes holly and marina tick , and our hearts go out to them as both continue to negotiate their imperfect , love-hate relationship ."
            ],
            "text/plain": [
              "<IPython.core.display.HTML object>"
            ]
          },
          "metadata": {
            "tags": []
          }
        },
        {
          "output_type": "stream",
          "text": [
            "\n",
            "[Succeeded / Failed / Total] 10 / 3 / 16:  68%|██████▊   | 17/25 [00:48<00:22,  2.84s/it]\u001b[A\n",
            "[Succeeded / Failed / Total] 10 / 4 / 17:  68%|██████▊   | 17/25 [00:48<00:22,  2.85s/it]\u001b[A"
          ],
          "name": "stderr"
        },
        {
          "output_type": "display_data",
          "data": {
            "text/html": [
              "<font color = green>Positive (95%)</font> --> <font color = red>Negative (56%)</font><br>the wonderfully lush morvern callar <font color = green>is</font> pure punk existentialism , and <font color = green>ms</font> . ramsay and her co-writer , liana dognini , have dramatized the alan warner novel , which itself <font color = green>felt</font> like an <font color = green>answer</font> to irvine welsh's book trainspotting .<br>the wonderfully lush morvern callar <font color = red>was</font> pure punk existentialism , and <font color = red>xemacs</font> . ramsay and her co-writer , liana dognini , have dramatized the alan warner novel , which itself <font color = red>feared</font> like an <font color = red>preclear</font> to irvine welsh's book trainspotting ."
            ],
            "text/plain": [
              "<IPython.core.display.HTML object>"
            ]
          },
          "metadata": {
            "tags": []
          }
        },
        {
          "output_type": "stream",
          "text": [
            "\n",
            "[Succeeded / Failed / Total] 10 / 4 / 17:  72%|███████▏  | 18/25 [00:57<00:22,  3.19s/it]\u001b[A\n",
            "[Succeeded / Failed / Total] 11 / 4 / 18:  72%|███████▏  | 18/25 [00:57<00:22,  3.19s/it]\u001b[A"
          ],
          "name": "stderr"
        },
        {
          "output_type": "display_data",
          "data": {
            "text/html": [
              "<font color = green>Positive (59%)</font> --> <font color = red>Negative (91%)</font><br>as it turns out , you <font color = green>can</font> go home again .<br>as it turns out , you <font color = red>must</font> go home again ."
            ],
            "text/plain": [
              "<IPython.core.display.HTML object>"
            ]
          },
          "metadata": {
            "tags": []
          }
        },
        {
          "output_type": "stream",
          "text": [
            "\n",
            "[Succeeded / Failed / Total] 11 / 4 / 18:  76%|███████▌  | 19/25 [00:57<00:18,  3.03s/it]\u001b[A\n",
            "[Succeeded / Failed / Total] 12 / 4 / 19:  76%|███████▌  | 19/25 [00:57<00:18,  3.03s/it]\u001b[A"
          ],
          "name": "stderr"
        },
        {
          "output_type": "display_data",
          "data": {
            "text/html": [
              "<font color = green>Positive (92%)</font> --> <font color = red>Negative (82%)</font><br>you've already seen city by the sea under a variety of titles , but it's <font color = green>worth</font> yet another visit .<br>you've already seen city by the sea under a variety of titles , but it's <font color = red>noting</font> yet another visit ."
            ],
            "text/plain": [
              "<IPython.core.display.HTML object>"
            ]
          },
          "metadata": {
            "tags": []
          }
        },
        {
          "output_type": "stream",
          "text": [
            "\n",
            "[Succeeded / Failed / Total] 12 / 4 / 19:  80%|████████  | 20/25 [00:57<00:14,  2.90s/it]\u001b[A\n",
            "[Succeeded / Failed / Total] 13 / 4 / 20:  80%|████████  | 20/25 [00:57<00:14,  2.90s/it]\u001b[A"
          ],
          "name": "stderr"
        },
        {
          "output_type": "display_data",
          "data": {
            "text/html": [
              "<font color = green>Positive (96%)</font> --> <font color = red>Negative (75%)</font><br><font color = green>this</font> kind of hands-on storytelling is ultimately what <font color = green>makes</font> <font color = green>shanghai</font> ghetto move <font color = green>beyond</font> a <font color = green>good</font> , dry , reliable textbook and what allows it to rank with its worthy predecessors .<br><font color = red>which</font> kind of hands-on storytelling is ultimately what <font color = red>making</font> <font color = red>guangzhou</font> ghetto move <font color = red>through</font> a <font color = red>bad</font> , dry , reliable textbook and what allows it to rank with its worthy predecessors ."
            ],
            "text/plain": [
              "<IPython.core.display.HTML object>"
            ]
          },
          "metadata": {
            "tags": []
          }
        },
        {
          "output_type": "stream",
          "text": [
            "\n",
            "[Succeeded / Failed / Total] 13 / 4 / 20:  84%|████████▍ | 21/25 [01:04<00:12,  3.08s/it]\u001b[A\n",
            "[Succeeded / Failed / Total] 14 / 4 / 21:  84%|████████▍ | 21/25 [01:04<00:12,  3.08s/it]\u001b[A"
          ],
          "name": "stderr"
        },
        {
          "output_type": "display_data",
          "data": {
            "text/html": [
              "<font color = red>Negative (90%)</font> --> <font color = gray>[SKIPPED]</font><br>making such a tragedy the backdrop to a love story risks trivializing it , though chouraqui no doubt intended the film to affirm love's power to help people endure almost unimaginable horror ."
            ],
            "text/plain": [
              "<IPython.core.display.HTML object>"
            ]
          },
          "metadata": {
            "tags": []
          }
        },
        {
          "output_type": "stream",
          "text": [
            "\n",
            "[Succeeded / Failed / Total] 14 / 4 / 22:  88%|████████▊ | 22/25 [01:04<00:08,  2.94s/it]\u001b[A"
          ],
          "name": "stderr"
        },
        {
          "output_type": "display_data",
          "data": {
            "text/html": [
              "<font color = green>Positive (63%)</font> --> <font color = red>Negative (91%)</font><br>grown-up quibbles are beside the point here . the little girls understand , and mccracken <font color = green>knows</font> that's all that matters .<br>grown-up quibbles are beside the point here . the little girls understand , and mccracken <font color = red>thinks</font> that's all that matters ."
            ],
            "text/plain": [
              "<IPython.core.display.HTML object>"
            ]
          },
          "metadata": {
            "tags": []
          }
        },
        {
          "output_type": "stream",
          "text": [
            "\n",
            "[Succeeded / Failed / Total] 14 / 4 / 22:  92%|█████████▏| 23/25 [01:05<00:05,  2.83s/it]\u001b[A\n",
            "[Succeeded / Failed / Total] 15 / 4 / 23:  92%|█████████▏| 23/25 [01:05<00:05,  2.83s/it]\u001b[A"
          ],
          "name": "stderr"
        },
        {
          "output_type": "display_data",
          "data": {
            "text/html": [
              "<font color = green>Positive (99%)</font> --> <font color = red>Negative (51%)</font><br>a <font color = green>powerful</font> , <font color = green>chilling</font> , and <font color = green>affecting</font> <font color = green>study</font> of <font color = green>one</font> man's <font color = green>dying</font> <font color = green>fall</font> .<br>a <font color = red>sophisticated</font> , <font color = red>hallucinatory</font> , and <font color = red>wasting</font> <font color = red>neurobiology</font> of <font color = red>six</font> man's <font color = red>menopause</font> <font color = red>collapse</font> ."
            ],
            "text/plain": [
              "<IPython.core.display.HTML object>"
            ]
          },
          "metadata": {
            "tags": []
          }
        },
        {
          "output_type": "stream",
          "text": [
            "\n",
            "[Succeeded / Failed / Total] 16 / 4 / 24:  96%|█████████▌| 24/25 [01:08<00:02,  2.86s/it]\u001b[A"
          ],
          "name": "stderr"
        },
        {
          "output_type": "display_data",
          "data": {
            "text/html": [
              "<font color = green>Positive (90%)</font> --> <font color = red>Negative (69%)</font><br><font color = green>this</font> is a fascinating <font color = green>film</font> <font color = green>because</font> there <font color = green>is</font> no clear-cut <font color = green>hero</font> and no all-out <font color = green>villain</font> .<br><font color = red>which</font> is a fascinating <font color = red>movie</font> <font color = red>though</font> there <font color = red>was</font> no clear-cut <font color = red>robo</font> and no all-out <font color = red>narrator</font> ."
            ],
            "text/plain": [
              "<IPython.core.display.HTML object>"
            ]
          },
          "metadata": {
            "tags": []
          }
        },
        {
          "output_type": "stream",
          "text": [
            "\n",
            "[Succeeded / Failed / Total] 16 / 4 / 24: 100%|██████████| 25/25 [01:11<00:00,  2.87s/it]\u001b[A\n",
            "[Succeeded / Failed / Total] 17 / 4 / 25: 100%|██████████| 25/25 [01:11<00:00,  2.87s/it]\u001b[A"
          ],
          "name": "stderr"
        },
        {
          "output_type": "display_data",
          "data": {
            "text/html": [
              "<font color = red>Negative (80%)</font> --> <font color = gray>[SKIPPED]</font><br>a dreadful day in irish history is given passionate , if somewhat flawed , treatment ."
            ],
            "text/plain": [
              "<IPython.core.display.HTML object>"
            ]
          },
          "metadata": {
            "tags": []
          }
        },
        {
          "output_type": "stream",
          "text": [
            "\n",
            "[Succeeded / Failed / Total] 17 / 4 / 26: : 26it [01:11,  2.76s/it]                      \u001b[A"
          ],
          "name": "stderr"
        },
        {
          "output_type": "display_data",
          "data": {
            "text/html": [
              "<font color = green>Positive (87%)</font> --> <font color = red>Negative (96%)</font><br>. . . a <font color = green>good</font> film that must have baffled the folks in the marketing department .<br>. . . a <font color = red>bad</font> film that must have baffled the folks in the marketing department ."
            ],
            "text/plain": [
              "<IPython.core.display.HTML object>"
            ]
          },
          "metadata": {
            "tags": []
          }
        },
        {
          "output_type": "stream",
          "text": [
            "\n",
            "[Succeeded / Failed / Total] 17 / 4 / 26: : 27it [01:12,  2.67s/it]\u001b[A\n",
            "[Succeeded / Failed / Total] 18 / 4 / 27: : 27it [01:12,  2.67s/it]\u001b[A\n",
            "[Succeeded / Failed / Total] 18 / 4 / 27: : 27it [01:24,  3.13s/it]\u001b[A"
          ],
          "name": "stderr"
        },
        {
          "output_type": "display_data",
          "data": {
            "text/html": [
              "<font color = green>Positive (98%)</font> --> <font color = red>Negative (66%)</font><br>. . . <font color = green>is</font> funny in the <font color = green>way</font> that <font color = green>makes</font> you ache with sadness ( the <font color = green>way</font> chekhov <font color = green>is</font> funny ) , <font color = green>profound</font> without ever being self-important , warm without <font color = green>ever</font> <font color = green>succumbing</font> to sentimentality .<br>. . . <font color = red>was</font> funny in the <font color = red>damn</font> that <font color = red>making</font> you ache with sadness ( the <font color = red>thing</font> chekhov <font color = red>was</font> funny ) , <font color = red>catastrophism</font> without ever being self-important , warm without <font color = red>hardly</font> <font color = red>feigned</font> to sentimentality ."
            ],
            "text/plain": [
              "<IPython.core.display.HTML object>"
            ]
          },
          "metadata": {
            "tags": []
          }
        },
        {
          "output_type": "stream",
          "text": [
            "\n",
            "[Succeeded / Failed / Total] 18 / 4 / 27: : 28it [01:26,  3.11s/it]\u001b[A\n",
            "[Succeeded / Failed / Total] 19 / 4 / 28: : 28it [01:26,  3.11s/it]\u001b[A"
          ],
          "name": "stderr"
        },
        {
          "output_type": "display_data",
          "data": {
            "text/html": [
              "<font color = red>Negative (96%)</font> --> <font color = gray>[SKIPPED]</font><br>devotees of star trek ii : the wrath of khan will feel a nagging sense of deja vu , and the grandeur of the best next generation episodes is lacking ."
            ],
            "text/plain": [
              "<IPython.core.display.HTML object>"
            ]
          },
          "metadata": {
            "tags": []
          }
        },
        {
          "output_type": "stream",
          "text": [
            "\n",
            "[Succeeded / Failed / Total] 19 / 4 / 29: : 29it [01:26,  3.00s/it]\u001b[A"
          ],
          "name": "stderr"
        },
        {
          "output_type": "display_data",
          "data": {
            "text/html": [
              "<font color = green>Positive (99%)</font> --> <font color = red>Negative (61%)</font><br>a soul-stirring <font color = green>documentary</font> about the israeli/palestinian <font color = green>conflict</font> as <font color = green>revealed</font> <font color = green>through</font> the <font color = green>eyes</font> of some <font color = green>children</font> who <font color = green>remain</font> curious about <font color = green>each</font> other against all <font color = green>odds</font> .<br>a soul-stirring <font color = red>movie</font> about the israeli/palestinian <font color = red>internecine</font> as <font color = red>validated</font> <font color = red>around</font> the <font color = red>teeth</font> of some <font color = red>child</font> who <font color = red>acquire</font> curious about <font color = red>every</font> other against all <font color = red>bets</font> ."
            ],
            "text/plain": [
              "<IPython.core.display.HTML object>"
            ]
          },
          "metadata": {
            "tags": []
          }
        },
        {
          "output_type": "stream",
          "text": [
            "\n",
            "[Succeeded / Failed / Total] 19 / 4 / 29: : 30it [01:43,  3.44s/it]\u001b[A\n",
            "[Succeeded / Failed / Total] 20 / 4 / 30: : 30it [01:43,  3.44s/it]\u001b[A"
          ],
          "name": "stderr"
        },
        {
          "output_type": "display_data",
          "data": {
            "text/html": [
              "<font color = green>Positive (89%)</font> --> <font color = red>Negative (53%)</font><br>what's so striking about jolie's performance is that she <font color = green>never</font> lets her character become a caricature -- not even with that radioactive hair .<br>what's so striking about jolie's performance is that she <font color = red>already</font> lets her character become a caricature -- not even with that radioactive hair ."
            ],
            "text/plain": [
              "<IPython.core.display.HTML object>"
            ]
          },
          "metadata": {
            "tags": []
          }
        },
        {
          "output_type": "stream",
          "text": [
            "\n",
            "[Succeeded / Failed / Total] 20 / 4 / 30: : 31it [01:43,  3.34s/it]\u001b[A\n",
            "[Succeeded / Failed / Total] 21 / 4 / 31: : 31it [01:43,  3.34s/it]"
          ],
          "name": "stderr"
        },
        {
          "output_type": "stream",
          "text": [
            "+-------------------------------+--------+\n",
            "| Attack Results                |        |\n",
            "+-------------------------------+--------+\n",
            "| Number of successful attacks: | 21     |\n",
            "| Number of failed attacks:     | 4      |\n",
            "| Number of skipped attacks:    | 6      |\n",
            "| Original accuracy:            | 80.65% |\n",
            "| Accuracy under attack:        | 12.9%  |\n",
            "| Attack success rate:          | 84.0%  |\n",
            "| Average perturbed word %:     | 17.34% |\n",
            "| Average num. words per input: | 18.74  |\n",
            "| Avg num queries:              | 193.6  |\n",
            "+-------------------------------+--------+"
          ],
          "name": "stdout"
        },
        {
          "output_type": "stream",
          "text": [
            "\n",
            "\u001b[34;1mtextattack\u001b[0m: Attack time: 103.6505913734436s\n"
          ],
          "name": "stderr"
        }
      ]
    },
    {
      "cell_type": "markdown",
      "metadata": {
        "id": "SViaJK80uMrl"
      },
      "source": [
        "### Glove, ParticleSwarmOptimization, PartsofSpeech"
      ]
    },
    {
      "cell_type": "code",
      "metadata": {
        "id": "O7zg-_zFQwyV",
        "colab": {
          "base_uri": "https://localhost:8080/"
        },
        "outputId": "0ddb4804-3071-4fdf-d3fb-eddc47fa8f1c"
      },
      "source": [
        "# We're going to use our word swap class as the attack transformation.\n",
        "transformation = Swapper__()\n",
        "\n",
        "constraints = [PartOfSpeech()]\n",
        "\n",
        "search_method = ParticleSwarmOptimization(pop_size=10,max_iters=5)\n",
        "\n",
        "goal_function = UntargetedClassification(model_wrapper)\n",
        "\n",
        "# Now, let's make the attack from the 4 components:\n",
        "attack = Attack(goal_function, constraints, transformation, search_method)"
      ],
      "execution_count": 60,
      "outputs": [
        {
          "output_type": "stream",
          "text": [
            "\u001b[34;1mtextattack\u001b[0m: Unknown if model of class <class 'transformers.models.albert.modeling_albert.AlbertForSequenceClassification'> compatible with goal function <class 'textattack.goal_functions.classification.untargeted_classification.UntargetedClassification'>.\n"
          ],
          "name": "stderr"
        }
      ]
    },
    {
      "cell_type": "code",
      "metadata": {
        "id": "PKAKnXjcQzEL",
        "colab": {
          "base_uri": "https://localhost:8080/"
        },
        "outputId": "5645d8ed-7339-4f00-e8ed-ad79ef062a7c"
      },
      "source": [
        "print(attack)"
      ],
      "execution_count": 61,
      "outputs": [
        {
          "output_type": "stream",
          "text": [
            "Attack(\n",
            "  (search_method): ParticleSwarmOptimization(\n",
            "    (pop_size):  10\n",
            "    (max_iters):  5\n",
            "    (post_turn_check):  True\n",
            "    (max_turn_retries):  20\n",
            "  )\n",
            "  (goal_function):  UntargetedClassification\n",
            "  (transformation):  Swapper__\n",
            "  (constraints): \n",
            "    (0): PartOfSpeech(\n",
            "        (tagger_type):  nltk\n",
            "        (tagset):  universal\n",
            "        (allow_verb_noun_swap):  True\n",
            "        (compare_against_original):  True\n",
            "      )\n",
            "  (is_black_box):  True\n",
            ")\n"
          ],
          "name": "stdout"
        }
      ]
    },
    {
      "cell_type": "code",
      "metadata": {
        "id": "1ORBY3voQ1TT",
        "colab": {
          "base_uri": "https://localhost:8080/",
          "height": 1000
        },
        "outputId": "2ebd6c0b-ada9-4be0-aea6-e5be9da4159b"
      },
      "source": [
        "attack_stats(attack, dataset, 25)"
      ],
      "execution_count": 62,
      "outputs": [
        {
          "output_type": "stream",
          "text": [
            "\n",
            "  0%|          | 0/25 [00:00<?, ?it/s]\u001b[A"
          ],
          "name": "stderr"
        },
        {
          "output_type": "stream",
          "text": [
            "Attack(\n",
            "  (search_method): ParticleSwarmOptimization(\n",
            "    (pop_size):  10\n",
            "    (max_iters):  5\n",
            "    (post_turn_check):  True\n",
            "    (max_turn_retries):  20\n",
            "  )\n",
            "  (goal_function):  UntargetedClassification\n",
            "  (transformation):  Swapper__\n",
            "  (constraints): \n",
            "    (0): PartOfSpeech(\n",
            "        (tagger_type):  nltk\n",
            "        (tagset):  universal\n",
            "        (allow_verb_noun_swap):  True\n",
            "        (compare_against_original):  True\n",
            "      )\n",
            "  (is_black_box):  True\n",
            ")\n"
          ],
          "name": "stdout"
        },
        {
          "output_type": "display_data",
          "data": {
            "text/html": [
              "<font color = green>Positive (93%)</font> --> <font color = red>Negative (72%)</font><br><font color = green>lovingly</font> photographed in the manner of a golden book sprung to life , stuart little 2 manages sweetness largely without stickiness .<br><font color = red>retroactively</font> photographed in the manner of a golden book sprung to life , stuart little 2 manages sweetness largely without stickiness ."
            ],
            "text/plain": [
              "<IPython.core.display.HTML object>"
            ]
          },
          "metadata": {
            "tags": []
          }
        },
        {
          "output_type": "stream",
          "text": [
            "\n",
            "  4%|▍         | 1/25 [00:00<00:18,  1.27it/s]\u001b[A\n",
            "[Succeeded / Failed / Total] 1 / 0 / 1:   4%|▍         | 1/25 [00:00<00:19,  1.25it/s]\u001b[A"
          ],
          "name": "stderr"
        },
        {
          "output_type": "display_data",
          "data": {
            "text/html": [
              "<font color = green>Positive (99%)</font> --> <font color = red>[FAILED]</font><br>consistently clever and suspenseful ."
            ],
            "text/plain": [
              "<IPython.core.display.HTML object>"
            ]
          },
          "metadata": {
            "tags": []
          }
        },
        {
          "output_type": "stream",
          "text": [
            "\n",
            "[Succeeded / Failed / Total] 1 / 0 / 1:   8%|▊         | 2/25 [00:01<00:17,  1.28it/s]\u001b[A\n",
            "[Succeeded / Failed / Total] 1 / 1 / 2:   8%|▊         | 2/25 [00:01<00:17,  1.28it/s]\u001b[A"
          ],
          "name": "stderr"
        },
        {
          "output_type": "display_data",
          "data": {
            "text/html": [
              "<font color = red>Negative (92%)</font> --> <font color = gray>[SKIPPED]</font><br>it's like a \" big chill \" reunion of the baader-meinhof gang , only these guys are more harmless pranksters than political activists ."
            ],
            "text/plain": [
              "<IPython.core.display.HTML object>"
            ]
          },
          "metadata": {
            "tags": []
          }
        },
        {
          "output_type": "stream",
          "text": [
            "\n",
            "[Succeeded / Failed / Total] 1 / 1 / 3:  12%|█▏        | 3/25 [00:01<00:11,  1.88it/s]\u001b[A"
          ],
          "name": "stderr"
        },
        {
          "output_type": "display_data",
          "data": {
            "text/html": [
              "<font color = green>Positive (99%)</font> --> <font color = red>[FAILED]</font><br>the story gives ample opportunity for large-scale action and suspense , which director shekhar kapur supplies with tremendous skill ."
            ],
            "text/plain": [
              "<IPython.core.display.HTML object>"
            ]
          },
          "metadata": {
            "tags": []
          }
        },
        {
          "output_type": "stream",
          "text": [
            "\n",
            "[Succeeded / Failed / Total] 1 / 1 / 3:  16%|█▌        | 4/25 [00:23<02:02,  5.82s/it]\u001b[A\n",
            "[Succeeded / Failed / Total] 1 / 2 / 4:  16%|█▌        | 4/25 [00:23<02:02,  5.82s/it]\u001b[A"
          ],
          "name": "stderr"
        },
        {
          "output_type": "display_data",
          "data": {
            "text/html": [
              "<font color = green>Positive (80%)</font> --> <font color = red>Negative (94%)</font><br>red dragon \" <font color = green>never</font> cuts corners .<br>red dragon \" <font color = red>actually</font> cuts corners ."
            ],
            "text/plain": [
              "<IPython.core.display.HTML object>"
            ]
          },
          "metadata": {
            "tags": []
          }
        },
        {
          "output_type": "stream",
          "text": [
            "\n",
            "[Succeeded / Failed / Total] 1 / 2 / 4:  20%|██        | 5/25 [00:23<01:34,  4.70s/it]\u001b[A\n",
            "[Succeeded / Failed / Total] 2 / 2 / 5:  20%|██        | 5/25 [00:23<01:34,  4.71s/it]\u001b[A"
          ],
          "name": "stderr"
        },
        {
          "output_type": "display_data",
          "data": {
            "text/html": [
              "<font color = green>Positive (94%)</font> --> <font color = red>Negative (94%)</font><br>fresnadillo has <font color = green>something</font> serious to say about the ways in which extravagant chance can distort our perspective and throw us off the path of good sense .<br>fresnadillo has <font color = red>anything</font> serious to say about the ways in which extravagant chance can distort our perspective and throw us off the path of good sense ."
            ],
            "text/plain": [
              "<IPython.core.display.HTML object>"
            ]
          },
          "metadata": {
            "tags": []
          }
        },
        {
          "output_type": "stream",
          "text": [
            "\n",
            "[Succeeded / Failed / Total] 2 / 2 / 5:  24%|██▍       | 6/25 [00:24<01:17,  4.07s/it]\u001b[A\n",
            "[Succeeded / Failed / Total] 3 / 2 / 6:  24%|██▍       | 6/25 [00:24<01:17,  4.07s/it]\u001b[A"
          ],
          "name": "stderr"
        },
        {
          "output_type": "display_data",
          "data": {
            "text/html": [
              "<font color = green>Positive (97%)</font> --> <font color = red>Negative (96%)</font><br>throws in enough clever and <font color = green>unexpected</font> <font color = green>twists</font> to <font color = green>make</font> the formula <font color = green>feel</font> fresh .<br>throws in enough clever and <font color = red>repeated</font> <font color = red>pantagruel</font> to <font color = red>making</font> the formula <font color = red>know</font> fresh ."
            ],
            "text/plain": [
              "<IPython.core.display.HTML object>"
            ]
          },
          "metadata": {
            "tags": []
          }
        },
        {
          "output_type": "stream",
          "text": [
            "\n",
            "[Succeeded / Failed / Total] 3 / 2 / 6:  28%|██▊       | 7/25 [00:28<01:12,  4.02s/it]\u001b[A\n",
            "[Succeeded / Failed / Total] 4 / 2 / 7:  28%|██▊       | 7/25 [00:28<01:12,  4.02s/it]\u001b[A"
          ],
          "name": "stderr"
        },
        {
          "output_type": "display_data",
          "data": {
            "text/html": [
              "<font color = green>Positive (74%)</font> --> <font color = red>Negative (50%)</font><br>weighty and ponderous but every bit as <font color = green>filling</font> as the <font color = green>treat</font> of the title .<br>weighty and ponderous but every bit as <font color = red>communicating</font> as the <font color = red>depict</font> of the title ."
            ],
            "text/plain": [
              "<IPython.core.display.HTML object>"
            ]
          },
          "metadata": {
            "tags": []
          }
        },
        {
          "output_type": "stream",
          "text": [
            "\n",
            "[Succeeded / Failed / Total] 4 / 2 / 7:  32%|███▏      | 8/25 [00:30<01:04,  3.79s/it]\u001b[A\n",
            "[Succeeded / Failed / Total] 5 / 2 / 8:  32%|███▏      | 8/25 [00:30<01:04,  3.79s/it]\u001b[A"
          ],
          "name": "stderr"
        },
        {
          "output_type": "display_data",
          "data": {
            "text/html": [
              "<font color = green>Positive (98%)</font> --> <font color = red>Negative (56%)</font><br>a real audience-pleaser that <font color = green>will</font> <font color = green>strike</font> a <font color = green>chord</font> with <font color = green>anyone</font> who's <font color = green>ever</font> <font color = green>waited</font> in a doctor's office , emergency room , hospital bed or insurance <font color = green>company</font> <font color = green>office</font> .<br>a real audience-pleaser that <font color = red>would</font> <font color = red>counter</font> a <font color = red>stool</font> with <font color = red>anybody</font> who's <font color = red>once</font> <font color = red>thanked</font> in a doctor's office , emergency room , hospital bed or insurance <font color = red>corporation</font> <font color = red>nemzetbiztons</font> ."
            ],
            "text/plain": [
              "<IPython.core.display.HTML object>"
            ]
          },
          "metadata": {
            "tags": []
          }
        },
        {
          "output_type": "stream",
          "text": [
            "\n",
            "[Succeeded / Failed / Total] 5 / 2 / 8:  36%|███▌      | 9/25 [00:51<01:32,  5.75s/it]\u001b[A\n",
            "[Succeeded / Failed / Total] 6 / 2 / 9:  36%|███▌      | 9/25 [00:51<01:32,  5.76s/it]\u001b[A"
          ],
          "name": "stderr"
        },
        {
          "output_type": "display_data",
          "data": {
            "text/html": [
              "<font color = green>Positive (99%)</font> --> <font color = red>Negative (90%)</font><br>generates an enormous <font color = green>feeling</font> of <font color = green>empathy</font> for its <font color = green>characters</font> .<br>generates an enormous <font color = red>fear</font> of <font color = red>morbidity</font> for its <font color = red>character</font> ."
            ],
            "text/plain": [
              "<IPython.core.display.HTML object>"
            ]
          },
          "metadata": {
            "tags": []
          }
        },
        {
          "output_type": "stream",
          "text": [
            "\n",
            "[Succeeded / Failed / Total] 6 / 2 / 9:  40%|████      | 10/25 [00:53<01:20,  5.35s/it]\u001b[A\n",
            "[Succeeded / Failed / Total] 7 / 2 / 10:  40%|████      | 10/25 [00:53<01:20,  5.35s/it]\u001b[A"
          ],
          "name": "stderr"
        },
        {
          "output_type": "display_data",
          "data": {
            "text/html": [
              "<font color = green>Positive (97%)</font> --> <font color = red>Negative (94%)</font><br><font color = green>exposing</font> the ways we fool ourselves <font color = green>is</font> one hour photo's real <font color = green>strength</font> .<br><font color = red>issuing</font> the ways we fool ourselves <font color = red>polylogarithm</font> one hour photo's real <font color = red>compressive</font> ."
            ],
            "text/plain": [
              "<IPython.core.display.HTML object>"
            ]
          },
          "metadata": {
            "tags": []
          }
        },
        {
          "output_type": "stream",
          "text": [
            "\n",
            "[Succeeded / Failed / Total] 7 / 2 / 10:  44%|████▍     | 11/25 [00:55<01:10,  5.05s/it]\u001b[A\n",
            "[Succeeded / Failed / Total] 8 / 2 / 11:  44%|████▍     | 11/25 [00:55<01:10,  5.05s/it]\u001b[A"
          ],
          "name": "stderr"
        },
        {
          "output_type": "display_data",
          "data": {
            "text/html": [
              "<font color = red>Negative (57%)</font> --> <font color = gray>[SKIPPED]</font><br>it's up to you to decide whether to admire these people's dedication to their cause or be repelled by their dogmatism , manipulativeness and narrow , fearful view of american life ."
            ],
            "text/plain": [
              "<IPython.core.display.HTML object>"
            ]
          },
          "metadata": {
            "tags": []
          }
        },
        {
          "output_type": "stream",
          "text": [
            "\n",
            "[Succeeded / Failed / Total] 8 / 2 / 12:  48%|████▊     | 12/25 [00:55<01:00,  4.63s/it]\u001b[A"
          ],
          "name": "stderr"
        },
        {
          "output_type": "display_data",
          "data": {
            "text/html": [
              "<font color = green>Positive (67%)</font> --> <font color = red>Negative (65%)</font><br>mostly , [goldbacher] just lets her complicated characters <font color = green>be</font> unruly , <font color = green>confusing</font> and , through it all , human .<br>mostly , [goldbacher] just lets her complicated characters <font color = red>trilema</font> unruly , <font color = red>problematic</font> and , through it all , human ."
            ],
            "text/plain": [
              "<IPython.core.display.HTML object>"
            ]
          },
          "metadata": {
            "tags": []
          }
        },
        {
          "output_type": "stream",
          "text": [
            "\n",
            "[Succeeded / Failed / Total] 8 / 2 / 12:  52%|█████▏    | 13/25 [00:57<00:53,  4.45s/it]\u001b[A\n",
            "[Succeeded / Failed / Total] 9 / 2 / 13:  52%|█████▏    | 13/25 [00:57<00:53,  4.45s/it]\u001b[A"
          ],
          "name": "stderr"
        },
        {
          "output_type": "display_data",
          "data": {
            "text/html": [
              "<font color = green>Positive (98%)</font> --> <font color = red>[FAILED]</font><br>. . . quite good at providing some good old fashioned spooks ."
            ],
            "text/plain": [
              "<IPython.core.display.HTML object>"
            ]
          },
          "metadata": {
            "tags": []
          }
        },
        {
          "output_type": "stream",
          "text": [
            "\n",
            "[Succeeded / Failed / Total] 9 / 3 / 14:  56%|█████▌    | 14/25 [01:01<00:48,  4.41s/it]\u001b[A"
          ],
          "name": "stderr"
        },
        {
          "output_type": "display_data",
          "data": {
            "text/html": [
              "<font color = red>Negative (92%)</font> --> <font color = gray>[SKIPPED]</font><br>at its worst , the movie is pretty diverting ; the pity is that it rarely achieves its best ."
            ],
            "text/plain": [
              "<IPython.core.display.HTML object>"
            ]
          },
          "metadata": {
            "tags": []
          }
        },
        {
          "output_type": "stream",
          "text": [
            "\n",
            "[Succeeded / Failed / Total] 9 / 3 / 14:  60%|██████    | 15/25 [01:01<00:41,  4.12s/it]\u001b[A\n",
            "[Succeeded / Failed / Total] 9 / 3 / 15:  60%|██████    | 15/25 [01:01<00:41,  4.12s/it]\u001b[A"
          ],
          "name": "stderr"
        },
        {
          "output_type": "display_data",
          "data": {
            "text/html": [
              "<font color = green>Positive (99%)</font> --> <font color = red>Negative (84%)</font><br>scherfig's light-hearted <font color = green>profile</font> of <font color = green>emotional</font> <font color = green>desperation</font> is achingly <font color = green>honest</font> and delightfully <font color = green>cheeky</font> .<br>scherfig's light-hearted <font color = red>bbc</font> of <font color = red>behavioural</font> <font color = red>reviewing</font> is achingly <font color = red>unfortunate</font> and delightfully <font color = red>sordid</font> ."
            ],
            "text/plain": [
              "<IPython.core.display.HTML object>"
            ]
          },
          "metadata": {
            "tags": []
          }
        },
        {
          "output_type": "stream",
          "text": [
            "\n",
            "[Succeeded / Failed / Total] 10 / 3 / 16:  64%|██████▍   | 16/25 [01:09<00:39,  4.34s/it]\u001b[A\n",
            "[Succeeded / Failed / Total] 10 / 3 / 16:  64%|██████▍   | 16/25 [01:20<00:45,  5.04s/it]\u001b[A"
          ],
          "name": "stderr"
        },
        {
          "output_type": "display_data",
          "data": {
            "text/html": [
              "<font color = green>Positive (99%)</font> --> <font color = red>[FAILED]</font><br>a journey spanning nearly three decades of bittersweet camaraderie and history , in which we feel that we truly know what makes holly and marina tick , and our hearts go out to them as both continue to negotiate their imperfect , love-hate relationship ."
            ],
            "text/plain": [
              "<IPython.core.display.HTML object>"
            ]
          },
          "metadata": {
            "tags": []
          }
        },
        {
          "output_type": "stream",
          "text": [
            "\n",
            "[Succeeded / Failed / Total] 10 / 3 / 16:  68%|██████▊   | 17/25 [01:59<00:56,  7.03s/it]\u001b[A\n",
            "[Succeeded / Failed / Total] 10 / 4 / 17:  68%|██████▊   | 17/25 [01:59<00:56,  7.03s/it]\u001b[A"
          ],
          "name": "stderr"
        },
        {
          "output_type": "display_data",
          "data": {
            "text/html": [
              "<font color = green>Positive (95%)</font> --> <font color = red>Negative (56%)</font><br>the wonderfully <font color = green>lush</font> morvern callar is pure punk <font color = green>existentialism</font> , and <font color = green>ms</font> . <font color = green>ramsay</font> and her co-writer , liana dognini , have dramatized the alan warner novel , which itself felt like an answer to irvine welsh's book trainspotting .<br>the wonderfully <font color = red>resonator</font> morvern callar is pure punk <font color = red>scientology</font> , and <font color = red>dos</font> . <font color = red>brunner</font> and her co-writer , liana dognini , have dramatized the alan warner novel , which itself felt like an answer to irvine welsh's book trainspotting ."
            ],
            "text/plain": [
              "<IPython.core.display.HTML object>"
            ]
          },
          "metadata": {
            "tags": []
          }
        },
        {
          "output_type": "stream",
          "text": [
            "\n",
            "[Succeeded / Failed / Total] 10 / 4 / 17:  72%|███████▏  | 18/25 [02:12<00:51,  7.39s/it]\u001b[A\n",
            "[Succeeded / Failed / Total] 11 / 4 / 18:  72%|███████▏  | 18/25 [02:12<00:51,  7.39s/it]\u001b[A"
          ],
          "name": "stderr"
        },
        {
          "output_type": "display_data",
          "data": {
            "text/html": [
              "<font color = green>Positive (59%)</font> --> <font color = red>Negative (89%)</font><br>as it turns out , you can go <font color = green>home</font> again .<br>as it turns out , you can go <font color = red>phoneline</font> again ."
            ],
            "text/plain": [
              "<IPython.core.display.HTML object>"
            ]
          },
          "metadata": {
            "tags": []
          }
        },
        {
          "output_type": "stream",
          "text": [
            "\n",
            "[Succeeded / Failed / Total] 11 / 4 / 18:  76%|███████▌  | 19/25 [02:13<00:42,  7.02s/it]\u001b[A\n",
            "[Succeeded / Failed / Total] 12 / 4 / 19:  76%|███████▌  | 19/25 [02:13<00:42,  7.02s/it]\u001b[A"
          ],
          "name": "stderr"
        },
        {
          "output_type": "display_data",
          "data": {
            "text/html": [
              "<font color = green>Positive (92%)</font> --> <font color = red>Negative (82%)</font><br>you've already seen city by the sea under a variety of titles , but it's <font color = green>worth</font> yet another visit .<br>you've already seen city by the sea under a variety of titles , but it's <font color = red>noting</font> yet another visit ."
            ],
            "text/plain": [
              "<IPython.core.display.HTML object>"
            ]
          },
          "metadata": {
            "tags": []
          }
        },
        {
          "output_type": "stream",
          "text": [
            "\n",
            "[Succeeded / Failed / Total] 12 / 4 / 19:  80%|████████  | 20/25 [02:13<00:33,  6.70s/it]\u001b[A\n",
            "[Succeeded / Failed / Total] 13 / 4 / 20:  80%|████████  | 20/25 [02:13<00:33,  6.70s/it]\u001b[A"
          ],
          "name": "stderr"
        },
        {
          "output_type": "display_data",
          "data": {
            "text/html": [
              "<font color = green>Positive (96%)</font> --> <font color = red>Negative (94%)</font><br>this kind of hands-on storytelling is ultimately what makes shanghai ghetto <font color = green>move</font> beyond a good , dry , reliable textbook and what <font color = green>allows</font> it to rank with its <font color = green>worthy</font> predecessors .<br>this kind of hands-on storytelling is ultimately what makes shanghai ghetto <font color = red>would</font> beyond a good , dry , reliable textbook and what <font color = red>allow</font> it to rank with its <font color = red>incapable</font> predecessors ."
            ],
            "text/plain": [
              "<IPython.core.display.HTML object>"
            ]
          },
          "metadata": {
            "tags": []
          }
        },
        {
          "output_type": "stream",
          "text": [
            "\n",
            "[Succeeded / Failed / Total] 13 / 4 / 20:  84%|████████▍ | 21/25 [02:20<00:26,  6.68s/it]\u001b[A\n",
            "[Succeeded / Failed / Total] 14 / 4 / 21:  84%|████████▍ | 21/25 [02:20<00:26,  6.68s/it]\u001b[A"
          ],
          "name": "stderr"
        },
        {
          "output_type": "display_data",
          "data": {
            "text/html": [
              "<font color = red>Negative (90%)</font> --> <font color = gray>[SKIPPED]</font><br>making such a tragedy the backdrop to a love story risks trivializing it , though chouraqui no doubt intended the film to affirm love's power to help people endure almost unimaginable horror ."
            ],
            "text/plain": [
              "<IPython.core.display.HTML object>"
            ]
          },
          "metadata": {
            "tags": []
          }
        },
        {
          "output_type": "stream",
          "text": [
            "\n",
            "[Succeeded / Failed / Total] 14 / 4 / 22:  88%|████████▊ | 22/25 [02:20<00:19,  6.38s/it]\u001b[A"
          ],
          "name": "stderr"
        },
        {
          "output_type": "display_data",
          "data": {
            "text/html": [
              "<font color = green>Positive (63%)</font> --> <font color = red>Negative (68%)</font><br>grown-up quibbles are beside the point here . the little girls <font color = green>understand</font> , and mccracken knows that's all that matters .<br>grown-up quibbles are beside the point here . the little girls <font color = red>know</font> , and mccracken knows that's all that matters ."
            ],
            "text/plain": [
              "<IPython.core.display.HTML object>"
            ]
          },
          "metadata": {
            "tags": []
          }
        },
        {
          "output_type": "stream",
          "text": [
            "\n",
            "[Succeeded / Failed / Total] 14 / 4 / 22:  92%|█████████▏| 23/25 [02:20<00:12,  6.12s/it]\u001b[A\n",
            "[Succeeded / Failed / Total] 15 / 4 / 23:  92%|█████████▏| 23/25 [02:20<00:12,  6.12s/it]\u001b[A"
          ],
          "name": "stderr"
        },
        {
          "output_type": "display_data",
          "data": {
            "text/html": [
              "<font color = green>Positive (99%)</font> --> <font color = red>[FAILED]</font><br>a powerful , chilling , and affecting study of one man's dying fall ."
            ],
            "text/plain": [
              "<IPython.core.display.HTML object>"
            ]
          },
          "metadata": {
            "tags": []
          }
        },
        {
          "output_type": "stream",
          "text": [
            "\n",
            "[Succeeded / Failed / Total] 15 / 5 / 24:  96%|█████████▌| 24/25 [02:28<00:06,  6.17s/it]\u001b[A"
          ],
          "name": "stderr"
        },
        {
          "output_type": "display_data",
          "data": {
            "text/html": [
              "<font color = green>Positive (90%)</font> --> <font color = red>Negative (96%)</font><br>this is a <font color = green>fascinating</font> film because there is no clear-cut hero and no all-out villain .<br>this is a <font color = red>horrible</font> film because there is no clear-cut hero and no all-out villain ."
            ],
            "text/plain": [
              "<IPython.core.display.HTML object>"
            ]
          },
          "metadata": {
            "tags": []
          }
        },
        {
          "output_type": "stream",
          "text": [
            "\n",
            "[Succeeded / Failed / Total] 15 / 5 / 24: 100%|██████████| 25/25 [02:28<00:00,  5.94s/it]\u001b[A\n",
            "[Succeeded / Failed / Total] 16 / 5 / 25: 100%|██████████| 25/25 [02:28<00:00,  5.94s/it]\u001b[A"
          ],
          "name": "stderr"
        },
        {
          "output_type": "display_data",
          "data": {
            "text/html": [
              "<font color = red>Negative (80%)</font> --> <font color = gray>[SKIPPED]</font><br>a dreadful day in irish history is given passionate , if somewhat flawed , treatment ."
            ],
            "text/plain": [
              "<IPython.core.display.HTML object>"
            ]
          },
          "metadata": {
            "tags": []
          }
        },
        {
          "output_type": "stream",
          "text": [
            "\n",
            "[Succeeded / Failed / Total] 16 / 5 / 26: : 26it [02:28,  5.72s/it]                      \u001b[A"
          ],
          "name": "stderr"
        },
        {
          "output_type": "display_data",
          "data": {
            "text/html": [
              "<font color = green>Positive (87%)</font> --> <font color = red>Negative (81%)</font><br>. . . a good film that <font color = green>must</font> have <font color = green>baffled</font> the folks in the marketing <font color = green>department</font> .<br>. . . a good film that <font color = red>should</font> have <font color = red>interrogated</font> the folks in the marketing <font color = red>treasury</font> ."
            ],
            "text/plain": [
              "<IPython.core.display.HTML object>"
            ]
          },
          "metadata": {
            "tags": []
          }
        },
        {
          "output_type": "stream",
          "text": [
            "\n",
            "[Succeeded / Failed / Total] 16 / 5 / 26: : 27it [02:35,  5.75s/it]\u001b[A\n",
            "[Succeeded / Failed / Total] 17 / 5 / 27: : 27it [02:35,  5.75s/it]\u001b[A"
          ],
          "name": "stderr"
        },
        {
          "output_type": "display_data",
          "data": {
            "text/html": [
              "<font color = green>Positive (98%)</font> --> <font color = red>Negative (67%)</font><br>. . . <font color = green>is</font> <font color = green>funny</font> in the way that makes you ache with sadness ( the way chekhov is funny ) , <font color = green>profound</font> without ever being self-important , warm without ever <font color = green>succumbing</font> to sentimentality .<br>. . . <font color = red>polylogarithm</font> <font color = red>lucky</font> in the way that makes you ache with sadness ( the way chekhov is funny ) , <font color = red>impact</font> without ever being self-important , warm without ever <font color = red>authorise</font> to sentimentality ."
            ],
            "text/plain": [
              "<IPython.core.display.HTML object>"
            ]
          },
          "metadata": {
            "tags": []
          }
        },
        {
          "output_type": "stream",
          "text": [
            "\n",
            "[Succeeded / Failed / Total] 18 / 5 / 28: : 28it [02:50,  6.08s/it]\u001b[A"
          ],
          "name": "stderr"
        },
        {
          "output_type": "display_data",
          "data": {
            "text/html": [
              "<font color = red>Negative (96%)</font> --> <font color = gray>[SKIPPED]</font><br>devotees of star trek ii : the wrath of khan will feel a nagging sense of deja vu , and the grandeur of the best next generation episodes is lacking ."
            ],
            "text/plain": [
              "<IPython.core.display.HTML object>"
            ]
          },
          "metadata": {
            "tags": []
          }
        },
        {
          "output_type": "stream",
          "text": [
            "\n",
            "[Succeeded / Failed / Total] 18 / 5 / 28: : 29it [02:50,  5.87s/it]\u001b[A\n",
            "[Succeeded / Failed / Total] 18 / 5 / 29: : 29it [02:50,  5.87s/it]\u001b[A"
          ],
          "name": "stderr"
        },
        {
          "output_type": "display_data",
          "data": {
            "text/html": [
              "<font color = green>Positive (99%)</font> --> <font color = red>Negative (90%)</font><br>a soul-stirring <font color = green>documentary</font> about the israeli/palestinian conflict as <font color = green>revealed</font> through the <font color = green>eyes</font> of some <font color = green>children</font> who remain <font color = green>curious</font> about each other against all <font color = green>odds</font> .<br>a soul-stirring <font color = red>simpsons</font> about the israeli/palestinian conflict as <font color = red>postulated</font> through the <font color = red>ears</font> of some <font color = red>pushy</font> who remain <font color = red>gruesome</font> about each other against all <font color = red>bets</font> ."
            ],
            "text/plain": [
              "<IPython.core.display.HTML object>"
            ]
          },
          "metadata": {
            "tags": []
          }
        },
        {
          "output_type": "stream",
          "text": [
            "\n",
            "[Succeeded / Failed / Total] 18 / 5 / 29: : 30it [03:09,  6.31s/it]\u001b[A\n",
            "[Succeeded / Failed / Total] 19 / 5 / 30: : 30it [03:09,  6.31s/it]\u001b[A"
          ],
          "name": "stderr"
        },
        {
          "output_type": "display_data",
          "data": {
            "text/html": [
              "<font color = green>Positive (89%)</font> --> <font color = red>Negative (66%)</font><br>what's so striking about jolie's performance is that she <font color = green>never</font> lets her character become a caricature -- not even with that radioactive hair .<br>what's so striking about jolie's performance is that she <font color = red>actually</font> lets her character become a caricature -- not even with that radioactive hair ."
            ],
            "text/plain": [
              "<IPython.core.display.HTML object>"
            ]
          },
          "metadata": {
            "tags": []
          }
        },
        {
          "output_type": "stream",
          "text": [
            "\n",
            "[Succeeded / Failed / Total] 19 / 5 / 30: : 31it [03:10,  6.13s/it]\u001b[A\n",
            "[Succeeded / Failed / Total] 20 / 5 / 31: : 31it [03:10,  6.13s/it]"
          ],
          "name": "stderr"
        },
        {
          "output_type": "stream",
          "text": [
            "+-------------------------------+--------+\n",
            "| Attack Results                |        |\n",
            "+-------------------------------+--------+\n",
            "| Number of successful attacks: | 20     |\n",
            "| Number of failed attacks:     | 5      |\n",
            "| Number of skipped attacks:    | 6      |\n",
            "| Original accuracy:            | 80.65% |\n",
            "| Accuracy under attack:        | 16.13% |\n",
            "| Attack success rate:          | 80.0%  |\n",
            "| Average perturbed word %:     | 16.85% |\n",
            "| Average num. words per input: | 18.74  |\n",
            "| Avg num queries:              | 171.48 |\n",
            "+-------------------------------+--------+"
          ],
          "name": "stdout"
        },
        {
          "output_type": "stream",
          "text": [
            "\n",
            "\u001b[34;1mtextattack\u001b[0m: Attack time: 190.15324568748474s\n"
          ],
          "name": "stderr"
        }
      ]
    },
    {
      "cell_type": "code",
      "metadata": {
        "id": "PDxxIItFhgBB"
      },
      "source": [
        ""
      ],
      "execution_count": 62,
      "outputs": []
    }
  ]
}